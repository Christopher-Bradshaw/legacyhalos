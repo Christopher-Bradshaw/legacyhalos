{
 "cells": [
  {
   "cell_type": "markdown",
   "metadata": {},
   "source": [
    "# LegacyHalos SersicFitting\n",
    "\n",
    "This notebook demonstrates how we fit the 1D surface brightness profiles using various parametric (e.g., Sersic) models, using one galaxy as a toy example."
   ]
  },
  {
   "cell_type": "markdown",
   "metadata": {},
   "source": [
    "### Imports, paths, and other preliminaries."
   ]
  },
  {
   "cell_type": "code",
   "execution_count": 1,
   "metadata": {},
   "outputs": [],
   "source": [
    "import os \n",
    "import numpy as np\n",
    "import matplotlib.pyplot as plt"
   ]
  },
  {
   "cell_type": "code",
   "execution_count": 2,
   "metadata": {},
   "outputs": [],
   "source": [
    "from legacyhalos import io\n",
    "from legacyhalos.util import ellipse_sbprofile\n",
    "from legacyhalos.qa import display_ellipse_sbprofile"
   ]
  },
  {
   "cell_type": "code",
   "execution_count": 3,
   "metadata": {},
   "outputs": [],
   "source": [
    "plt.style.use('seaborn-talk')\n",
    "%matplotlib inline"
   ]
  },
  {
   "cell_type": "code",
   "execution_count": 4,
   "metadata": {},
   "outputs": [],
   "source": [
    "pixscale = 0.262\n",
    "band = ('g', 'r', 'z')\n",
    "refband = 'r'"
   ]
  },
  {
   "cell_type": "markdown",
   "metadata": {},
   "source": [
    "### Read the sample"
   ]
  },
  {
   "cell_type": "code",
   "execution_count": 5,
   "metadata": {},
   "outputs": [
    {
     "name": "stdout",
     "output_type": "stream",
     "text": [
      "Read 1 galaxies\n"
     ]
    }
   ],
   "source": [
    "sample = io.read_sample(istart=0, iend=1)"
   ]
  },
  {
   "cell_type": "code",
   "execution_count": 6,
   "metadata": {},
   "outputs": [],
   "source": [
    "objid, objdir = io.get_objid(sample)\n",
    "ellipsefit = io.read_ellipsefit(objid, objdir)\n",
    "redshift = sample.z"
   ]
  },
  {
   "cell_type": "markdown",
   "metadata": {},
   "source": [
    "### Read the measured surface brightness profile"
   ]
  },
  {
   "cell_type": "code",
   "execution_count": 7,
   "metadata": {},
   "outputs": [
    {
     "ename": "ModuleNotFoundError",
     "evalue": "No module named 'speclite'",
     "output_type": "error",
     "traceback": [
      "\u001b[0;31m---------------------------------------------------------------------------\u001b[0m",
      "\u001b[0;31mModuleNotFoundError\u001b[0m                       Traceback (most recent call last)",
      "\u001b[0;32m<ipython-input-7-978180688cea>\u001b[0m in \u001b[0;36m<module>\u001b[0;34m()\u001b[0m\n\u001b[1;32m      1\u001b[0m sbprofile = ellipse_sbprofile(ellipsefit, band=band, refband=refband, \n\u001b[0;32m----> 2\u001b[0;31m                               redshift=redshift, pixscale=pixscale)\n\u001b[0m",
      "\u001b[0;32m~/repos/legacyhalos/legacyhalos/util.py\u001b[0m in \u001b[0;36mellipse_sbprofile\u001b[0;34m(ellipsefit, band, refband, minerr, redshift, pixscale)\u001b[0m\n\u001b[1;32m    122\u001b[0m     \u001b[0;31m# Add the effective wavelength of each bandpass, although this needs to take\u001b[0m\u001b[0;34m\u001b[0m\u001b[0;34m\u001b[0m\u001b[0m\n\u001b[1;32m    123\u001b[0m     \u001b[0;31m# into account the DECaLS vs BASS/MzLS filter curves.\u001b[0m\u001b[0;34m\u001b[0m\u001b[0;34m\u001b[0m\u001b[0m\n\u001b[0;32m--> 124\u001b[0;31m     \u001b[0;32mfrom\u001b[0m \u001b[0mspeclite\u001b[0m \u001b[0;32mimport\u001b[0m \u001b[0mfilters\u001b[0m\u001b[0;34m\u001b[0m\u001b[0m\n\u001b[0m\u001b[1;32m    125\u001b[0m     \u001b[0mnames\u001b[0m \u001b[0;34m=\u001b[0m \u001b[0;34m(\u001b[0m\u001b[0;34m'decam2014-g'\u001b[0m\u001b[0;34m,\u001b[0m \u001b[0;34m'decam2014-r'\u001b[0m\u001b[0;34m,\u001b[0m \u001b[0;34m'decam2014-z'\u001b[0m\u001b[0;34m,\u001b[0m \u001b[0;34m'wise2010-W1'\u001b[0m\u001b[0;34m,\u001b[0m \u001b[0;34m'wise2010-W2'\u001b[0m\u001b[0;34m)\u001b[0m\u001b[0;34m\u001b[0m\u001b[0m\n\u001b[1;32m    126\u001b[0m     \u001b[0mfilt\u001b[0m \u001b[0;34m=\u001b[0m \u001b[0mfilters\u001b[0m\u001b[0;34m.\u001b[0m\u001b[0mload_filters\u001b[0m\u001b[0;34m(\u001b[0m\u001b[0mnames\u001b[0m\u001b[0;34m)\u001b[0m\u001b[0;34m\u001b[0m\u001b[0m\n",
      "\u001b[0;31mModuleNotFoundError\u001b[0m: No module named 'speclite'"
     ]
    }
   ],
   "source": [
    "sbprofile = ellipse_sbprofile(ellipsefit, band=band, refband=refband, \n",
    "                              redshift=redshift, pixscale=pixscale)"
   ]
  },
  {
   "cell_type": "code",
   "execution_count": null,
   "metadata": {},
   "outputs": [],
   "source": [
    "display_ellipse_sbprofile(ellipsefit, band=band, refband=refband, \n",
    "                          redshift=redshift, pixscale=pixscale,\n",
    "                          sersicfit=None)"
   ]
  },
  {
   "cell_type": "markdown",
   "metadata": {},
   "source": [
    "### Fit a Sersic model"
   ]
  },
  {
   "cell_type": "code",
   "execution_count": null,
   "metadata": {},
   "outputs": [],
   "source": [
    "def sb2flux(sb):\n",
    "    \"\"\"Convert surface brightness to linear flux.\"\"\"\n",
    "    return np.array([10**(-0.4 * _sb) for _sb in np.atleast_1d(sb)])"
   ]
  },
  {
   "cell_type": "code",
   "execution_count": null,
   "metadata": {},
   "outputs": [],
   "source": [
    "def fit_sersic_oneband(sbprofile, init_reff=10.0, init_n=2.0):\n",
    "    \"\"\"Fit a simple Sersic model to the galaxy surface brightness \n",
    "    profile in each bandpass independently.\n",
    "    \n",
    "    \"\"\"\n",
    "    from scipy.optimize import least_squares\n",
    "    from astropy.modeling import models, fitting\n",
    "    \n",
    "    fixed = {'n': True}\n",
    "    bounds = {}\n",
    "    \n",
    "    fit = fitting.LevMarLSQFitter()\n",
    "    radius = sbprofile['sma'] # see sbprofile['smaunit'] but typically kpc\n",
    "    \n",
    "    sersicfit = dict()\n",
    "    for filt in band:\n",
    "        mu = sb2flux(sbprofile['mu_{}'.format(filt)])\n",
    "        mu_err = sb2flux(sbprofile['mu_{}_err'.format(filt)])\n",
    "    \n",
    "        init = models.Sersic1D(amplitude=sb2flux(mu.min()), \n",
    "                               r_eff=init_reff, n=init_n,\n",
    "                               fixed=fixed, bounds=bounds)\n",
    "        sersicfit[filt] = fit(init, radius, mu, weights=1/mu_err)\n",
    "        print(sersicfit[filt])\n",
    "\n",
    "    return sersicfit"
   ]
  },
  {
   "cell_type": "code",
   "execution_count": null,
   "metadata": {},
   "outputs": [],
   "source": [
    "from astropy.modeling.models import Sersic1D\n",
    "help(Sersic1D)"
   ]
  },
  {
   "cell_type": "code",
   "execution_count": null,
   "metadata": {},
   "outputs": [],
   "source": [
    "from astropy.modeling.core import FittableModel\n",
    "help(FittableModel)"
   ]
  },
  {
   "cell_type": "code",
   "execution_count": null,
   "metadata": {},
   "outputs": [],
   "source": [
    "def sersic_allbands_model(sbwave, sbdata, params):\n",
    "    \"\"\"Evaluate a model in which the Sersic index and \n",
    "    half-light radius vary as a power-law function of wavelength.\n",
    "    \n",
    "    \"\"\"\n",
    "    from astropy.modeling.models import Sersic1D\n",
    "    refwave, n_ref, re_ref, alpha, beta \n",
    "    \n",
    "    sbmodel = np.zeros_like(sbprofile)\n",
    "    for uwave in set(wave):\n",
    "        these = np.where(uwave == wave)[0]\n",
    "        \n",
    "        \n",
    "        \n",
    "        sb[these] = \n",
    "        \n",
    "        mu = sb2flux(sbprofile['mu_{}'.format(filt)])\n",
    "        mu_err = sb2flux(sbprofile['mu_{}_err'.format(filt)])\n",
    "    \n",
    "        init = models.Sersic1D(amplitude=sb2flux(mu.min()), \n",
    "                               r_eff=init_reff, n=init_n,\n",
    "                               fixed=fixed, bounds=bounds)\n",
    "        \n",
    "    \n",
    "    \n",
    "    return sb"
   ]
  },
  {
   "cell_type": "markdown",
   "metadata": {},
   "source": [
    "#### Merge the multiband surface brightness profiles"
   ]
  },
  {
   "cell_type": "code",
   "execution_count": null,
   "metadata": {},
   "outputs": [],
   "source": [
    "sbwave, sbdata = [], []\n",
    "for filt in band:\n",
    "    mu = sb2flux(sbprofile['mu_{}'.format(filt)])\n",
    "    sbdata.append(mu)\n",
    "    sbwave.append(np.repeat(sbprofile['{}_wave_eff'.format(filt)], len(mu)))\n",
    "    "
   ]
  },
  {
   "cell_type": "code",
   "execution_count": null,
   "metadata": {},
   "outputs": [],
   "source": [
    "stop"
   ]
  },
  {
   "cell_type": "code",
   "execution_count": null,
   "metadata": {},
   "outputs": [],
   "source": [
    "def fit_sersic(sbprofile, init_reff=10.0, init_n=2.0):\n",
    "    \"\"\"Fit a single Sersic model to all the bands simultaneously by allowing \n",
    "    the half-light radius and Sersic n parameter to vary as a power-law \n",
    "    function of wavelength, while allowing the surface brightness at r_e \n",
    "    in each band to be free.\n",
    "\n",
    "    \"\"\"\n",
    "    from scipy.optimize import least_squares\n",
    "    from astropy.modeling import models, fitting\n",
    "    \n",
    "    fixed = {\n",
    "        'refwave': True,\n",
    "        'n_ref': False,\n",
    "        're_ref': False,\n",
    "        'alpha': True, # n = n_ref(wave/refwave)**alpha\n",
    "        'beta': True   # r_e = r_e,ref(wave/refwave)**beta\n",
    "    }\n",
    "    bounds = {\n",
    "        'refwave': (5500, 5500),\n",
    "        'n_ref': (0.1, 8),\n",
    "        're_ref': (0.1, 100),\n",
    "        'alpha', (-1, 1),\n",
    "        'beta': (-1, 1)\n",
    "    }\n",
    "    for filt in band:\n",
    "        # surface brightness at re_ref\n",
    "        fixed.append({'sbe_{}'.format(filt): False}) \n",
    "        bounds.append({'sbe_{}'.format(filt): (10, 35)})\n",
    "             \n",
    "             \n",
    "    fit = fitting.LevMarLSQFitter()\n",
    "    radius = sbprofile['sma'] # see sbprofile['smaunit'] but typically kpc\n",
    "    \n",
    "    sersicfit = dict()\n",
    "    for filt in band:\n",
    "        mu = sb2flux(sbprofile['mu_{}'.format(filt)])\n",
    "        mu_err = sb2flux(sbprofile['mu_{}_err'.format(filt)])\n",
    "    \n",
    "        init = models.Sersic1D(amplitude=sb2flux(mu.min()), \n",
    "                               r_eff=init_reff, n=init_n,\n",
    "                               fixed=fixed, bounds=bounds)\n",
    "        sersicfit[filt] = fit(init, radius, mu, weights=1/mu_err)\n",
    "        print(sersicfit[filt])\n",
    "\n",
    "    return sersicfit"
   ]
  },
  {
   "cell_type": "code",
   "execution_count": null,
   "metadata": {},
   "outputs": [],
   "source": [
    "def lnprobfn(theta, residuals=False):\n",
    "    \"\"\"For now, just compute a vector of chi values, for use\n",
    "    with non-linear least-squares algorithms.\n",
    "    \n",
    "    \"\"\"\n",
    "    from astropy.modeling import models\n",
    "    if residuals:\n",
    "        init = models.Sersic1D(amplitude=sb2flux(mu.min()), \n",
    "                               r_eff=init_reff, n=init_n,\n",
    "                               fixed=fixed, bounds=bounds)"
   ]
  },
  {
   "cell_type": "code",
   "execution_count": null,
   "metadata": {},
   "outputs": [],
   "source": [
    "def chivecfn(theta):\n",
    "    \"\"\"Return the residuals instead of the posterior probability or negative\n",
    "    chisq, for use with least-squares optimization methods.\n",
    "    \"\"\"\n",
    "    return lnprobfn(theta, residuals=True)"
   ]
  },
  {
   "cell_type": "code",
   "execution_count": null,
   "metadata": {},
   "outputs": [],
   "source": [
    "def minimizer_ball(guess, nmin=5, seed=None):\n",
    "    \"\"\"Draw initial values from the (1d, separable, independent) priors for\n",
    "    each parameter.  Requires that priors have the `sample` method available.\n",
    "    If priors are old-style, draw randomly between min and max.\n",
    "\n",
    "    \"\"\"\n",
    "    rand = np.random.RandomState(seed)\n",
    "\n",
    "    npars = len(guess)\n",
    "    ballguess = np.zeros((nmin, npars))\n",
    "    for ii in range(npars):\n",
    "        bounds = guess[ii]['bounds']\n",
    "        ballguess[:, ii] = rand.uniform(bounds[0], bounds[1], nmin)\n",
    "        \n",
    "    return ballguess"
   ]
  },
  {
   "cell_type": "code",
   "execution_count": null,
   "metadata": {},
   "outputs": [],
   "source": [
    "def initialize_guess():\n",
    "    \"\"\"Initialize the parameters with starting values.\"\"\"\n",
    "    I0 = dict(name= 'I0', init=sb2flux(18), units='maggies', \n",
    "              bounds=sb2flux((14, 26)), fixed=False)\n",
    "    reff = dict(name='reff', init=10.0, units='kpc', \n",
    "                bounds=(5.0, 50.0), fixed=False)\n",
    "    n = dict(name='n', init=2.0, units='', bounds=(1, 6), fixed=False)\n",
    "    return list((I0, reff, n))"
   ]
  },
  {
   "cell_type": "code",
   "execution_count": null,
   "metadata": {},
   "outputs": [],
   "source": [
    "guess = initialize_guess()\n",
    "print(guess)"
   ]
  },
  {
   "cell_type": "code",
   "execution_count": null,
   "metadata": {},
   "outputs": [],
   "source": [
    "sersicfit = fit_sersic(sbprofile)"
   ]
  },
  {
   "cell_type": "code",
   "execution_count": null,
   "metadata": {},
   "outputs": [],
   "source": [
    "display_ellipse_sbprofile(ellipsefit, band=band, refband=refband, \n",
    "                          redshift=redshift, pixscale=pixscale,\n",
    "                          sersicfit=sersicfit)"
   ]
  },
  {
   "cell_type": "markdown",
   "metadata": {},
   "source": [
    "#### Build a \"ball\" of initial guesses."
   ]
  },
  {
   "cell_type": "code",
   "execution_count": null,
   "metadata": {},
   "outputs": [],
   "source": [
    "ballguess = minimizer_ball(guess, nmin=10)\n",
    "print(ballguess)"
   ]
  },
  {
   "cell_type": "code",
   "execution_count": null,
   "metadata": {},
   "outputs": [],
   "source": [
    "        guesses = []\n",
    "        for i, pinit in enumerate(pinitial):\n",
    "            res = least_squares(chivecfn, pinit, method='lm', x_scale='jac',\n",
    "                                xtol=1e-18, ftol=1e-18)\n",
    "            guesses.append(res)\n",
    "\n",
    "        chisq = [np.sum(r.fun**2) for r in guesses]\n",
    "        best = np.argmin(chisq)\n",
    "        initial_center = fitting.reinitialize(guesses[best].x, model,\n",
    "                                              edge_trunc=rp.get('edge_trunc', 0.1))\n",
    "        initial_prob = None\n",
    "        pdur = time.time() - ts\n",
    "        if rp['verbose']:\n",
    "            print('done L-M in {0}s'.format(pdur))\n",
    "            print('best L-M guess:{0}'.format(initial_center))\n"
   ]
  },
  {
   "cell_type": "code",
   "execution_count": null,
   "metadata": {},
   "outputs": [],
   "source": [
    "sersicfit['r'].fit_info"
   ]
  },
  {
   "cell_type": "code",
   "execution_count": null,
   "metadata": {},
   "outputs": [],
   "source": [
    "display_ellipse_sbprofile(ellipsefit, band=band, refband=refband, \n",
    "                          redshift=redshift, pixscale=pixscale,\n",
    "                          sersicfit=None)"
   ]
  },
  {
   "cell_type": "markdown",
   "metadata": {},
   "source": [
    "### Playing around below here"
   ]
  },
  {
   "cell_type": "code",
   "execution_count": null,
   "metadata": {},
   "outputs": [],
   "source": [
    "stop"
   ]
  },
  {
   "cell_type": "code",
   "execution_count": null,
   "metadata": {},
   "outputs": [],
   "source": [
    "stop"
   ]
  },
  {
   "cell_type": "code",
   "execution_count": null,
   "metadata": {},
   "outputs": [],
   "source": [
    "from matplotlib.ticker import FormatStrFormatter, ScalarFormatter\n",
    "smascale = 1\n",
    "filt = 'r'\n",
    "good = (ellipsefit[filt].stop_code < 4)\n",
    "bad = ~good\n",
    "fig, ax1 = plt.subplots()\n",
    "ax1.fill_between(ellipsefit[filt].sma[good] * smascale, \n",
    "                 ellipsefit[filt].eps[good]-ellipsefit[filt].ellip_err[good],\n",
    "                 ellipsefit[filt].eps[good]+ellipsefit[filt].ellip_err[good],\n",
    "                 edgecolor='k', lw=2)\n",
    "\n",
    "#ax1.errorbar(ellipsefit[filt].sma[good] * smascale,\n",
    "#             ellipsefit[filt].eps[good],\n",
    "#             ellipsefit[filt].ellip_err[good], marker='s', linestyle='none',\n",
    "#             capsize=10, capthick=2, \n",
    "#             markersize=10)#, color=color[filt])\n",
    "ax1.scatter(ellipsefit[filt].sma[bad] * smascale,\n",
    "             ellipsefit[filt].eps[bad], marker='s', s=40, edgecolor='k', lw=2, alpha=0.75)\n",
    "ax1.set_xscale('log')\n",
    "ax1.xaxis.set_major_formatter(ScalarFormatter())"
   ]
  }
 ],
 "metadata": {
  "kernelspec": {
   "display_name": "Python 3",
   "language": "python",
   "name": "python3"
  },
  "language_info": {
   "codemirror_mode": {
    "name": "ipython",
    "version": 3
   },
   "file_extension": ".py",
   "mimetype": "text/x-python",
   "name": "python",
   "nbconvert_exporter": "python",
   "pygments_lexer": "ipython3",
   "version": "3.6.4"
  }
 },
 "nbformat": 4,
 "nbformat_minor": 2
}
