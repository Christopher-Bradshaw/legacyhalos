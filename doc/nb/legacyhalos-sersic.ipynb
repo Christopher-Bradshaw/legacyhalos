{
 "cells": [
  {
   "cell_type": "markdown",
   "metadata": {},
   "source": [
    "# LegacyHalos SersicFitting\n",
    "\n",
    "This notebook demonstrates how we fit the 1D surface brightness profiles using various parametric (e.g., Sersic) models, using one galaxy as a toy example."
   ]
  },
  {
   "cell_type": "markdown",
   "metadata": {},
   "source": [
    "### Imports, paths, and other preliminaries."
   ]
  },
  {
   "cell_type": "code",
   "execution_count": 3,
   "metadata": {},
   "outputs": [],
   "source": [
    "import os, pdb\n",
    "import numpy as np\n",
    "import matplotlib.pyplot as plt"
   ]
  },
  {
   "cell_type": "code",
   "execution_count": 4,
   "metadata": {},
   "outputs": [],
   "source": [
    "from legacyhalos import io\n",
    "from legacyhalos.util import ellipse_sbprofile\n",
    "from legacyhalos.qa import display_ellipse_sbprofile"
   ]
  },
  {
   "cell_type": "code",
   "execution_count": 5,
   "metadata": {},
   "outputs": [],
   "source": [
    "plt.style.use('seaborn-talk')\n",
    "%matplotlib inline"
   ]
  },
  {
   "cell_type": "code",
   "execution_count": 6,
   "metadata": {},
   "outputs": [],
   "source": [
    "pixscale = 0.262\n",
    "band = ('g', 'r', 'z')\n",
    "refband = 'r'"
   ]
  },
  {
   "cell_type": "markdown",
   "metadata": {},
   "source": [
    "### Define a wavelength-dependent Sersic model"
   ]
  },
  {
   "cell_type": "code",
   "execution_count": 10,
   "metadata": {},
   "outputs": [],
   "source": [
    "from astropy.modeling import Fittable2DModel"
   ]
  },
  {
   "cell_type": "code",
   "execution_count": 26,
   "metadata": {},
   "outputs": [],
   "source": [
    "def sb2flux(sb):\n",
    "    \"\"\"Convert surface brightness to linear flux.\"\"\"\n",
    "    return np.array([10**(-0.4 * _sb) for _sb in np.atleast_1d(sb)])"
   ]
  },
  {
   "cell_type": "code",
   "execution_count": 129,
   "metadata": {},
   "outputs": [],
   "source": [
    "class SersicWaveModel(Fittable2DModel):\n",
    "    \"\"\"\n",
    "    Define a surface brightness profile model which is the sum of three Sersic\n",
    "    models connected by a Sersic index and half-light radius which varies\n",
    "    as a power-law function of wavelength.\n",
    "    \n",
    "    See http://docs.astropy.org/en/stable/modeling/new.html#a-full-example-of-a-linemodel\n",
    "    for a comparable example.\n",
    "    \n",
    "    ToDo: convolve the model with the PSF.\n",
    "\n",
    "    \"\"\"\n",
    "    from astropy.modeling import Parameter\n",
    "    \n",
    "    nref = Parameter(default=4, min=0.1, max=8)\n",
    "    r50ref = Parameter(default=10, min=1e-3) # [kpc]\n",
    "    alpha = Parameter(default=0.0, min=-1, max=1)\n",
    "    beta = Parameter(default=0.0, min=-1, max=1)\n",
    "    mu50_g = Parameter(default=0.5) # [flux units]\n",
    "    mu50_r = Parameter(default=1)\n",
    "    mu50_z = Parameter(default=1.5)\n",
    "\n",
    "    linear = False\n",
    "    \n",
    "    def __init__(self, nref=nref.default, r50ref=r50ref.default, \n",
    "                 alpha=alpha.default, beta=beta.default, mu50_g=mu50_g.default, \n",
    "                 mu50_r=mu50_r.default, mu50_z=mu50_z.default, lambda_ref=6470, \n",
    "                 lambda_g=4890, lambda_r=6470, lambda_z=9196, **kwargs):\n",
    "\n",
    "        self.lambda_ref = lambda_ref\n",
    "        self.lambda_g = lambda_g\n",
    "        self.lambda_r = lambda_r\n",
    "        self.lambda_z = lambda_z\n",
    "\n",
    "        super(SersicWaveModel, self).__init__(nref=nref, r50ref=r50ref, alpha=alpha, \n",
    "                                              beta=beta, mu50_g=mu50_g, mu50_r=mu50_r, \n",
    "                                              mu50_z=mu50_z, **kwargs)\n",
    "    \n",
    "    def evaluate(self, r, w, nref, r50ref, alpha, beta, mu50_g, mu50_r, mu50_z):\n",
    "        \"\"\"Evaluate the wavelength-dependent Sersic model.\n",
    "        \n",
    "        Args:\n",
    "          r : radius [kpc]\n",
    "          w : wavelength [Angstrom]\n",
    "          nref : Sersic index at the reference wavelength lambda_ref\n",
    "          r50ref : half-light radius at lambda_ref\n",
    "          alpha : power-law slope for the Sersic index\n",
    "          beta : power-law slope for the half-light radius\n",
    "          mu50_g : g-band surface brignthess at r=r50_g\n",
    "          mu50_r : r-band surface brignthess at r=r50_r\n",
    "          mu50_z : z-band surface brignthess at r=r50_z\n",
    "        \n",
    "        \"\"\"\n",
    "        \n",
    "        from scipy.special import gammaincinv\n",
    "\n",
    "        mu = np.zeros_like(r)\n",
    "        \n",
    "        # Build the surface brightness profile at each wavelength.\n",
    "        for lam, mu50 in zip( (self.lambda_g, self.lambda_r, self.lambda_z), (mu50_g, mu50_r, mu50_z) ):\n",
    "            \n",
    "            n = nref * (lam / self.lambda_ref)**alpha\n",
    "            r50 = r50ref * (lam / self.lambda_ref)**beta\n",
    "        \n",
    "            mu += mu50 * ( np.exp(-gammaincinv(2 * n, 0.5) * ((r / r50) ** (1 / n) - 1)) * (w == lam) )\n",
    "        \n",
    "        return mu"
   ]
  },
  {
   "cell_type": "markdown",
   "metadata": {},
   "source": [
    "#### Simulate a data set\n",
    "\n",
    "Create a \"galaxy\" with a g-, r-, and z-band surface brightness profile measured over different radii.  Choose the Sersic index to vary with wavelength as $\\beta=0.1$ with $n_{ref}=2.8$, and the half-light radius to vary as $\\alpha=-0.2$ with $r_{ref}=8$ kpc."
   ]
  },
  {
   "cell_type": "code",
   "execution_count": 130,
   "metadata": {},
   "outputs": [],
   "source": [
    "def plot_sbwave(radius, wave, sbwave, model=None):\n",
    "    \"\"\"Plot a wavelength-dependent surface brightness profile.\n",
    "\n",
    "    nradii_per_band is the number of radius/SB measurements per bandpass, assumed\n",
    "      to be sorted from (g, r, z).\n",
    "    \"\"\"\n",
    "\n",
    "    if model:\n",
    "        filtlambda = (model.lambda_g, model.lambda_r, model.lambda_z)\n",
    "    else:\n",
    "        filtlambda = np.sort(np.unique(wave))\n",
    "    \n",
    "    fig, ax = plt.subplots()\n",
    "    for band, lam in zip( ('g', 'r', 'z'), filtlambda ):\n",
    "\n",
    "        good = lam == wave\n",
    "        rad = radius[good]\n",
    "        sb = sbwave[good]\n",
    "\n",
    "        srt = np.argsort(rad)\n",
    "        rad, sb = rad[srt], sb[srt]\n",
    "        ax.plot(rad, 22.5-2.5*np.log10(sb), label=band)\n",
    "        \n",
    "        # overplot the model\n",
    "        if model:\n",
    "            sb_model = model(rad, wave[good][srt])\n",
    "            ax.plot(rad, 22.5-2.5*np.log10(sb_model), color='k', ls='--', alpha=0.5)\n",
    "            \n",
    "        ax.invert_yaxis()\n",
    "\n",
    "    #ax.set_yscale('log')\n",
    "    ax.legend(loc='upper right')"
   ]
  },
  {
   "cell_type": "code",
   "execution_count": 145,
   "metadata": {},
   "outputs": [
    {
     "name": "stdout",
     "output_type": "stream",
     "text": [
      "Model: SersicWaveModel\n",
      "Inputs: ('x', 'y')\n",
      "Outputs: ('z',)\n",
      "Model set size: 1\n",
      "Parameters:\n",
      "    nref r50ref alpha beta mu50_g mu50_r mu50_z\n",
      "    ---- ------ ----- ---- ------ ------ ------\n",
      "     2.8    8.0  -0.2  0.1    0.5    1.0    1.5\n"
     ]
    },
    {
     "data": {
      "image/png": "[encoded data removed]",
      "text/plain": [
       "<Figure size 432x288 with 1 Axes>"
      ]
     },
     "metadata": {},
     "output_type": "display_data"
    }
   ],
   "source": [
    "model = SersicWaveModel(beta=0.1, alpha=-0.2, r50ref=8, nref=2.8)\n",
    "print(model)\n",
    "\n",
    "seed = 1\n",
    "rand = np.random.RandomState(seed)\n",
    "\n",
    "minradius = 0.02\n",
    "maxradius = 15.0\n",
    "nrad = (25, 18, 33) # number of measurements per bandpass g, r, z\n",
    "\n",
    "radius = []\n",
    "wave = []\n",
    "for lam, nn in zip( (model.lambda_g, model.lambda_r, model.lambda_z), nrad ):\n",
    "    rad = rand.uniform(minradius, maxradius, nn)\n",
    "    #rad = np.linspace(0, maxradius, nn)\n",
    "    radius.append(rad)\n",
    "    wave.append(np.repeat(lam, nn))\n",
    "radius = np.hstack(radius)\n",
    "wave = np.hstack(wave)\n",
    "sb = model(radius, wave) # evaluate the model \n",
    "sberr = rand.normal(loc=0, scale=sb*0.2)\n",
    "sb += sberr\n",
    "\n",
    "# plot it!\n",
    "plot_sbwave(radius, wave, sb, model=model)\n",
    "#plt.axvline(x=8)\n",
    "#plt.axhline(y=1)"
   ]
  },
  {
   "cell_type": "code",
   "execution_count": 153,
   "metadata": {},
   "outputs": [
    {
     "name": "stdout",
     "output_type": "stream",
     "text": [
      "Model: SersicWaveModel\n",
      "Inputs: ('x', 'y')\n",
      "Outputs: ('z',)\n",
      "Model set size: 1\n",
      "Parameters:\n",
      "    nref r50ref alpha beta mu50_g mu50_r mu50_z\n",
      "    ---- ------ ----- ---- ------ ------ ------\n",
      "     4.0   10.0   0.0  0.0    0.5    1.0    1.5\n",
      "Model: SersicWaveModel\n",
      "Inputs: ('x', 'y')\n",
      "Outputs: ('z',)\n",
      "Model set size: 1\n",
      "Parameters:\n",
      "         nref        r50ref        alpha      ...     mu50_r        mu50_z   \n",
      "    ------------- ------------ -------------- ... ------------- -------------\n",
      "    2.80974667751 8.0085624503 -0.21881315472 ... 1.01310644581 1.52587659728\n"
     ]
    },
    {
     "data": {
      "text/plain": [
       "{'alpha': 0.12437106668215761,\n",
       " 'beta': 0.1192009849171325,\n",
       " 'mu50_g': 0.046716573754272926,\n",
       " 'mu50_r': 0.062011373700041429,\n",
       " 'mu50_z': 0.15063687104111073,\n",
       " 'nref': 0.091310597295755982,\n",
       " 'r50ref': 0.24039164687915629}"
      ]
     },
     "execution_count": 153,
     "metadata": {},
     "output_type": "execute_result"
    },
    {
     "data": {
      "image/png": "[encoded data removed]",
      "text/plain": [
       "<Figure size 432x288 with 1 Axes>"
      ]
     },
     "metadata": {},
     "output_type": "display_data"
    }
   ],
   "source": [
    "from astropy.modeling import fitting\n",
    "#fixed = {'beta': True, 'alpha': True}\n",
    "fixed = {}\n",
    "\n",
    "sersicwave_init = SersicWaveModel() # beta=0.1, alpha=-0.2, r50ref=8, nref=2.8, fixed=fixed)\n",
    "\n",
    "sersicwave_fit = fitting.LevMarLSQFitter()\n",
    "sersicwave_best = sersicwave_fit(sersicwave_init, radius, wave, sb, weights=1/sberr)\n",
    "\n",
    "print(sersicwave_init)\n",
    "print(sersicwave_best)\n",
    "\n",
    "plot_sbwave(radius, wave, sb, model=sersicwave_best)\n",
    "\n",
    "# print(sersicwave_fit.fit_info['message'] )\n",
    "sersicwave_best\n",
    "cov = sersicwave_fit.fit_info['param_cov']\n",
    "dict(zip(sersicwave_best.param_names, np.diag(cov)**0.5))"
   ]
  },
  {
   "cell_type": "markdown",
   "metadata": {},
   "source": [
    "### Read the sample"
   ]
  },
  {
   "cell_type": "code",
   "execution_count": null,
   "metadata": {},
   "outputs": [],
   "source": [
    "sample = io.read_sample(first=0, last=0)"
   ]
  },
  {
   "cell_type": "code",
   "execution_count": null,
   "metadata": {},
   "outputs": [],
   "source": [
    "objid, objdir = io.get_objid(sample)\n",
    "ellipsefit = io.read_ellipsefit(objid, objdir)\n",
    "ellipsefit.keys()"
   ]
  },
  {
   "cell_type": "markdown",
   "metadata": {},
   "source": [
    "### Read the measured surface brightness profile"
   ]
  },
  {
   "cell_type": "code",
   "execution_count": null,
   "metadata": {},
   "outputs": [],
   "source": [
    "from speclite import filters\n",
    "filt = filters.load_filters('decam2014-g', 'decam2014-r', 'decam2014-z')\n",
    "filt.effective_wavelengths.value"
   ]
  },
  {
   "cell_type": "code",
   "execution_count": null,
   "metadata": {},
   "outputs": [],
   "source": [
    "sbprofile = ellipse_sbprofile(ellipsefit, band=band, refband=refband, \n",
    "                              pixscale=pixscale)\n",
    "print(sbprofile.keys())"
   ]
  },
  {
   "cell_type": "code",
   "execution_count": null,
   "metadata": {},
   "outputs": [],
   "source": [
    "display_ellipse_sbprofile(ellipsefit, band=band, refband=refband, \n",
    "                          pixscale=pixscale, sersicfit=None)"
   ]
  },
  {
   "cell_type": "markdown",
   "metadata": {},
   "source": [
    "### Fit a Sersic model"
   ]
  },
  {
   "cell_type": "code",
   "execution_count": null,
   "metadata": {},
   "outputs": [],
   "source": [
    "def sersic_allbands_model(sbwave, sbdata, params):\n",
    "    \"\"\"Evaluate a model in which the Sersic index and \n",
    "    half-light radius vary as a power-law function of wavelength.\n",
    "    \n",
    "    \"\"\"\n",
    "    from scipy.special import gammaincinv\n",
    "    from astropy.modeling.fitting import LevMarLSQFitter\n",
    "    from astropy.modeling import Fittable1DModel, Parameter\n",
    "    \n",
    "    refwave, n_ref, re_ref, alpha, beta \n",
    "    \n",
    "    \n",
    "class LineModel(Fittable1DModel):\n",
    "    slope = Parameter()\n",
    "    intercept = Parameter()\n",
    "    linear = True\n",
    "\n",
    "    @staticmethod\n",
    "    def evaluate(x, slope, intercept):\n",
    "        return slope * x + intercept\n",
    "\n",
    "    @staticmethod\n",
    "    def fit_deriv(x, slope, intercept):\n",
    "        d_slope = x\n",
    "        d_intercept = np.ones_like(x)\n",
    "        return [d_slope, d_intercept]\n",
    "\n",
    "    @property\n",
    "    def inverse(self):\n",
    "        new_slope = self.slope ** -1\n",
    "        new_intercept = -self.intercept / self.slope\n",
    "        return LineModel(slope=new_slope, intercept=new_intercept)\n",
    "    \n",
    "    sbmodel = np.zeros_like(sbprofile)\n",
    "    for uwave in set(wave):\n",
    "        these = np.where(uwave == wave)[0]\n",
    "        \n",
    "        \n",
    "        \n",
    "        sb[these] = \n",
    "        \n",
    "        mu = sb2flux(sbprofile['mu_{}'.format(filt)])\n",
    "        mu_err = sb2flux(sbprofile['mu_{}_err'.format(filt)])\n",
    "    \n",
    "        init = models.Sersic1D(amplitude=sb2flux(mu.min()), \n",
    "                               r_eff=init_reff, n=init_n,\n",
    "                               fixed=fixed, bounds=bounds)\n",
    "        \n",
    "    \n",
    "    \n",
    "    return sb"
   ]
  },
  {
   "cell_type": "markdown",
   "metadata": {},
   "source": [
    "#### Merge the multiband surface brightness profiles"
   ]
  },
  {
   "cell_type": "code",
   "execution_count": null,
   "metadata": {},
   "outputs": [],
   "source": [
    "def merge_sbprofiles(sbprofile):\n",
    "    sb = dict(sbwave=[], sbflux=[])\n",
    "    for filt in band:\n",
    "        mu = sb2flux(sbprofile['mu_{}'.format(filt)])\n",
    "        sb['sbflux'].append(mu)\n",
    "        sb['sbwave'].append(np.repeat(sbprofile['{}_wave_eff'.format(filt)], len(mu)))\n",
    "    #np.hstack(sb['sbflux'])\n",
    "    #np.hstack(sb['sbwave'])\n",
    "    sb['sbflux'] = np.hstack(sb['sbflux'])\n",
    "    sb['sbwave'] = np.hstack(sb['sbwave'])\n",
    "    return sb"
   ]
  },
  {
   "cell_type": "code",
   "execution_count": null,
   "metadata": {},
   "outputs": [],
   "source": [
    "sbmerge = merge_sbprofiles(sbprofile)\n",
    "sbmerge"
   ]
  },
  {
   "cell_type": "code",
   "execution_count": null,
   "metadata": {},
   "outputs": [],
   "source": [
    "def fit_sersic_oneband(sbprofile, init_reff=10.0, init_n=2.0):\n",
    "    \"\"\"Fit a simple Sersic model to the galaxy surface brightness \n",
    "    profile in each bandpass independently.\n",
    "    \n",
    "    \"\"\"\n",
    "    from scipy.optimize import least_squares\n",
    "    from astropy.modeling import models, fitting\n",
    "    \n",
    "    fixed = {'n': True}\n",
    "    bounds = {}\n",
    "    \n",
    "    fit = fitting.LevMarLSQFitter()\n",
    "    radius = sbprofile['sma'] # see sbprofile['smaunit'] but typically kpc\n",
    "    \n",
    "    sersicfit = dict()\n",
    "    for filt in band:\n",
    "        mu = sb2flux(sbprofile['mu_{}'.format(filt)])\n",
    "        mu_err = sb2flux(sbprofile['mu_{}_err'.format(filt)])\n",
    "    \n",
    "        init = models.Sersic1D(amplitude=sb2flux(mu.min()), \n",
    "                               r_eff=init_reff, n=init_n,\n",
    "                               fixed=fixed, bounds=bounds)\n",
    "        sersicfit[filt] = fit(init, radius, mu, weights=1/mu_err)\n",
    "        print(sersicfit[filt])\n",
    "\n",
    "    return sersicfit"
   ]
  },
  {
   "cell_type": "code",
   "execution_count": null,
   "metadata": {},
   "outputs": [],
   "source": [
    "from astropy.modeling.models import Sersic1D\n",
    "help(Sersic1D)"
   ]
  },
  {
   "cell_type": "code",
   "execution_count": null,
   "metadata": {},
   "outputs": [],
   "source": [
    "from astropy.modeling.core import FittableModel\n",
    "help(FittableModel)"
   ]
  },
  {
   "cell_type": "code",
   "execution_count": null,
   "metadata": {},
   "outputs": [],
   "source": [
    "stop"
   ]
  },
  {
   "cell_type": "code",
   "execution_count": null,
   "metadata": {},
   "outputs": [],
   "source": [
    "def fit_sersic(sbprofile, init_reff=10.0, init_n=2.0):\n",
    "    \"\"\"Fit a single Sersic model to all the bands simultaneously by allowing \n",
    "    the half-light radius and Sersic n parameter to vary as a power-law \n",
    "    function of wavelength, while allowing the surface brightness at r_e \n",
    "    in each band to be free.\n",
    "\n",
    "    \"\"\"\n",
    "    from scipy.optimize import least_squares\n",
    "    from astropy.modeling import models, fitting\n",
    "    \n",
    "    fixed = {\n",
    "        'refwave': True,\n",
    "        'n_ref': False,\n",
    "        're_ref': False,\n",
    "        'alpha': True, # n = n_ref(wave/refwave)**alpha\n",
    "        'beta': True   # r_e = r_e,ref(wave/refwave)**beta\n",
    "    }\n",
    "    bounds = {\n",
    "        'refwave': (5500, 5500),\n",
    "        'n_ref': (0.1, 8),\n",
    "        're_ref': (0.1, 100),\n",
    "        'alpha', (-1, 1),\n",
    "        'beta': (-1, 1)\n",
    "    }\n",
    "    for filt in band:\n",
    "        # surface brightness at re_ref\n",
    "        fixed.append({'sbe_{}'.format(filt): False}) \n",
    "        bounds.append({'sbe_{}'.format(filt): (10, 35)})\n",
    "             \n",
    "             \n",
    "    fit = fitting.LevMarLSQFitter()\n",
    "    radius = sbprofile['sma'] # see sbprofile['smaunit'] but typically kpc\n",
    "    \n",
    "    sersicfit = dict()\n",
    "    for filt in band:\n",
    "        mu = sb2flux(sbprofile['mu_{}'.format(filt)])\n",
    "        mu_err = sb2flux(sbprofile['mu_{}_err'.format(filt)])\n",
    "    \n",
    "        init = models.Sersic1D(amplitude=sb2flux(mu.min()), \n",
    "                               r_eff=init_reff, n=init_n,\n",
    "                               fixed=fixed, bounds=bounds)\n",
    "        sersicfit[filt] = fit(init, radius, mu, weights=1/mu_err)\n",
    "        print(sersicfit[filt])\n",
    "\n",
    "    return sersicfit"
   ]
  },
  {
   "cell_type": "code",
   "execution_count": null,
   "metadata": {},
   "outputs": [],
   "source": [
    "def lnprobfn(theta, residuals=False):\n",
    "    \"\"\"For now, just compute a vector of chi values, for use\n",
    "    with non-linear least-squares algorithms.\n",
    "    \n",
    "    \"\"\"\n",
    "    from astropy.modeling import models\n",
    "    if residuals:\n",
    "        init = models.Sersic1D(amplitude=sb2flux(mu.min()), \n",
    "                               r_eff=init_reff, n=init_n,\n",
    "                               fixed=fixed, bounds=bounds)"
   ]
  },
  {
   "cell_type": "code",
   "execution_count": null,
   "metadata": {},
   "outputs": [],
   "source": [
    "def chivecfn(theta):\n",
    "    \"\"\"Return the residuals instead of the posterior probability or negative\n",
    "    chisq, for use with least-squares optimization methods.\n",
    "    \"\"\"\n",
    "    return lnprobfn(theta, residuals=True)"
   ]
  },
  {
   "cell_type": "code",
   "execution_count": null,
   "metadata": {},
   "outputs": [],
   "source": [
    "def minimizer_ball(guess, nmin=5, seed=None):\n",
    "    \"\"\"Draw initial values from the (1d, separable, independent) priors for\n",
    "    each parameter.  Requires that priors have the `sample` method available.\n",
    "    If priors are old-style, draw randomly between min and max.\n",
    "\n",
    "    \"\"\"\n",
    "    rand = np.random.RandomState(seed)\n",
    "\n",
    "    npars = len(guess)\n",
    "    ballguess = np.zeros((nmin, npars))\n",
    "    for ii in range(npars):\n",
    "        bounds = guess[ii]['bounds']\n",
    "        ballguess[:, ii] = rand.uniform(bounds[0], bounds[1], nmin)\n",
    "        \n",
    "    return ballguess"
   ]
  },
  {
   "cell_type": "code",
   "execution_count": null,
   "metadata": {},
   "outputs": [],
   "source": [
    "def initialize_guess():\n",
    "    \"\"\"Initialize the parameters with starting values.\"\"\"\n",
    "    I0 = dict(name= 'I0', init=sb2flux(18), units='maggies', \n",
    "              bounds=sb2flux((14, 26)), fixed=False)\n",
    "    reff = dict(name='reff', init=10.0, units='kpc', \n",
    "                bounds=(5.0, 50.0), fixed=False)\n",
    "    n = dict(name='n', init=2.0, units='', bounds=(1, 6), fixed=False)\n",
    "    return list((I0, reff, n))"
   ]
  },
  {
   "cell_type": "code",
   "execution_count": null,
   "metadata": {},
   "outputs": [],
   "source": [
    "guess = initialize_guess()\n",
    "print(guess)"
   ]
  },
  {
   "cell_type": "code",
   "execution_count": null,
   "metadata": {},
   "outputs": [],
   "source": [
    "sersicfit = fit_sersic(sbprofile)"
   ]
  },
  {
   "cell_type": "code",
   "execution_count": null,
   "metadata": {},
   "outputs": [],
   "source": [
    "display_ellipse_sbprofile(ellipsefit, band=band, refband=refband, \n",
    "                          redshift=redshift, pixscale=pixscale,\n",
    "                          sersicfit=sersicfit)"
   ]
  },
  {
   "cell_type": "markdown",
   "metadata": {},
   "source": [
    "#### Build a \"ball\" of initial guesses."
   ]
  },
  {
   "cell_type": "code",
   "execution_count": null,
   "metadata": {},
   "outputs": [],
   "source": [
    "ballguess = minimizer_ball(guess, nmin=10)\n",
    "print(ballguess)"
   ]
  },
  {
   "cell_type": "code",
   "execution_count": null,
   "metadata": {},
   "outputs": [],
   "source": [
    "        guesses = []\n",
    "        for i, pinit in enumerate(pinitial):\n",
    "            res = least_squares(chivecfn, pinit, method='lm', x_scale='jac',\n",
    "                                xtol=1e-18, ftol=1e-18)\n",
    "            guesses.append(res)\n",
    "\n",
    "        chisq = [np.sum(r.fun**2) for r in guesses]\n",
    "        best = np.argmin(chisq)\n",
    "        initial_center = fitting.reinitialize(guesses[best].x, model,\n",
    "                                              edge_trunc=rp.get('edge_trunc', 0.1))\n",
    "        initial_prob = None\n",
    "        pdur = time.time() - ts\n",
    "        if rp['verbose']:\n",
    "            print('done L-M in {0}s'.format(pdur))\n",
    "            print('best L-M guess:{0}'.format(initial_center))\n"
   ]
  },
  {
   "cell_type": "code",
   "execution_count": null,
   "metadata": {},
   "outputs": [],
   "source": [
    "sersicfit['r'].fit_info"
   ]
  },
  {
   "cell_type": "code",
   "execution_count": null,
   "metadata": {},
   "outputs": [],
   "source": [
    "display_ellipse_sbprofile(ellipsefit, band=band, refband=refband, \n",
    "                          redshift=redshift, pixscale=pixscale,\n",
    "                          sersicfit=None)"
   ]
  },
  {
   "cell_type": "markdown",
   "metadata": {},
   "source": [
    "### Playing around below here"
   ]
  },
  {
   "cell_type": "code",
   "execution_count": null,
   "metadata": {},
   "outputs": [],
   "source": [
    "stop"
   ]
  },
  {
   "cell_type": "code",
   "execution_count": null,
   "metadata": {},
   "outputs": [],
   "source": [
    "stop"
   ]
  },
  {
   "cell_type": "code",
   "execution_count": null,
   "metadata": {},
   "outputs": [],
   "source": [
    "from matplotlib.ticker import FormatStrFormatter, ScalarFormatter\n",
    "smascale = 1\n",
    "filt = 'r'\n",
    "good = (ellipsefit[filt].stop_code < 4)\n",
    "bad = ~good\n",
    "fig, ax1 = plt.subplots()\n",
    "ax1.fill_between(ellipsefit[filt].sma[good] * smascale, \n",
    "                 ellipsefit[filt].eps[good]-ellipsefit[filt].ellip_err[good],\n",
    "                 ellipsefit[filt].eps[good]+ellipsefit[filt].ellip_err[good],\n",
    "                 edgecolor='k', lw=2)\n",
    "\n",
    "#ax1.errorbar(ellipsefit[filt].sma[good] * smascale,\n",
    "#             ellipsefit[filt].eps[good],\n",
    "#             ellipsefit[filt].ellip_err[good], marker='s', linestyle='none',\n",
    "#             capsize=10, capthick=2, \n",
    "#             markersize=10)#, color=color[filt])\n",
    "ax1.scatter(ellipsefit[filt].sma[bad] * smascale,\n",
    "             ellipsefit[filt].eps[bad], marker='s', s=40, edgecolor='k', lw=2, alpha=0.75)\n",
    "ax1.set_xscale('log')\n",
    "ax1.xaxis.set_major_formatter(ScalarFormatter())"
   ]
  }
 ],
 "metadata": {
  "kernelspec": {
   "display_name": "Python 3",
   "language": "python",
   "name": "python3"
  },
  "language_info": {
   "codemirror_mode": {
    "name": "ipython",
    "version": 3
   },
   "file_extension": ".py",
   "mimetype": "text/x-python",
   "name": "python",
   "nbconvert_exporter": "python",
   "pygments_lexer": "ipython3",
   "version": "3.6.4"
  }
 },
 "nbformat": 4,
 "nbformat_minor": 2
}
