{
 "cells": [
  {
   "cell_type": "markdown",
   "metadata": {},
   "source": [
    "# LegacyHalos SersicFitting\n",
    "\n",
    "This notebook demonstrates how we fit the 1D surface brightness profiles using various parametric (e.g., Sersic) models, using one galaxy as a toy example."
   ]
  },
  {
   "cell_type": "markdown",
   "metadata": {},
   "source": [
    "### Imports, paths, and other preliminaries."
   ]
  },
  {
   "cell_type": "code",
   "execution_count": 1,
   "metadata": {},
   "outputs": [],
   "source": [
    "import os \n",
    "import numpy as np\n",
    "import matplotlib.pyplot as plt"
   ]
  },
  {
   "cell_type": "code",
   "execution_count": 2,
   "metadata": {},
   "outputs": [],
   "source": [
    "from legacyhalos import io\n",
    "from legacyhalos.util import ellipse_sbprofile\n",
    "from legacyhalos.qa import display_ellipse_sbprofile"
   ]
  },
  {
   "cell_type": "code",
   "execution_count": 3,
   "metadata": {},
   "outputs": [],
   "source": [
    "plt.style.use('seaborn-talk')\n",
    "%matplotlib inline"
   ]
  },
  {
   "cell_type": "code",
   "execution_count": 4,
   "metadata": {},
   "outputs": [],
   "source": [
    "pixscale = 0.262\n",
    "band = ('g', 'r', 'z')\n",
    "refband = 'r'"
   ]
  },
  {
   "cell_type": "markdown",
   "metadata": {},
   "source": [
    "### Read the sample"
   ]
  },
  {
   "cell_type": "code",
   "execution_count": 5,
   "metadata": {},
   "outputs": [
    {
     "name": "stdout",
     "output_type": "stream",
     "text": [
      "Read 1 galaxies\n"
     ]
    }
   ],
   "source": [
    "sample = io.read_sample(istart=0, iend=1)"
   ]
  },
  {
   "cell_type": "code",
   "execution_count": 6,
   "metadata": {},
   "outputs": [],
   "source": [
    "objid, objdir = io.get_objid(sample)\n",
    "ellipsefit = io.read_ellipsefit(objid, objdir)\n",
    "redshift = sample.z"
   ]
  },
  {
   "cell_type": "markdown",
   "metadata": {},
   "source": [
    "### Surface brightness profile"
   ]
  },
  {
   "cell_type": "code",
   "execution_count": 7,
   "metadata": {},
   "outputs": [],
   "source": [
    "sbprofile = ellipse_sbprofile(ellipsefit, band=band, refband=refband, \n",
    "                              redshift=redshift, pixscale=pixscale)"
   ]
  },
  {
   "cell_type": "code",
   "execution_count": 56,
   "metadata": {},
   "outputs": [],
   "source": [
    "def sb2flux(sb):\n",
    "    \"\"\"Convert surface brightness to linear flux.\"\"\"\n",
    "    return [10**(-0.4 * _sb) for _sb in np.atleast_1d(sb)]"
   ]
  },
  {
   "cell_type": "code",
   "execution_count": 52,
   "metadata": {},
   "outputs": [],
   "source": [
    "def fit_sersic(sbprofile, init_reff=10.0, init_n=2.0):\n",
    "    from scipy.optimize import least_squares\n",
    "    from astropy.modeling import models, fitting\n",
    "    \n",
    "    fixed = {'n': True}\n",
    "    bounds = {}\n",
    "    \n",
    "    fit = fitting.LevMarLSQFitter()\n",
    "    \n",
    "    radius = sbprofile['sma']\n",
    "    \n",
    "    sersicfit = dict()\n",
    "    for filt in band:\n",
    "        mu = sb2flux(sbprofile['mu_{}'.format(filt)])\n",
    "        mu_err = sb2flux(sbprofile['mu_{}_err'.format(filt)])\n",
    "    \n",
    "        init = models.Sersic1D(amplitude=sb2flux(mu.min()), \n",
    "                               r_eff=init_reff, n=init_n,\n",
    "                               fixed=fixed, bounds=bounds)\n",
    "        sersicfit[filt] = fit(init, radius, mu, weights=1/mu_err)\n",
    "        import pdb ; pdb.set_trace()\n",
    "        print(sersicfit[filt])\n",
    "\n",
    "    return sersicfit"
   ]
  },
  {
   "cell_type": "code",
   "execution_count": 70,
   "metadata": {},
   "outputs": [
    {
     "ename": "SyntaxError",
     "evalue": "unexpected EOF while parsing (<ipython-input-70-dce55afdbded>, line 8)",
     "output_type": "error",
     "traceback": [
      "\u001b[0;36m  File \u001b[0;32m\"<ipython-input-70-dce55afdbded>\"\u001b[0;36m, line \u001b[0;32m8\u001b[0m\n\u001b[0;31m    \u001b[0m\n\u001b[0m    ^\u001b[0m\n\u001b[0;31mSyntaxError\u001b[0m\u001b[0;31m:\u001b[0m unexpected EOF while parsing\n"
     ]
    }
   ],
   "source": [
    "def lnprobfn(theta, residuals=False):\n",
    "    \"\"\"For now, just compute a vector of chi values, for use\n",
    "    with non-linear least-squares algorithms.\n",
    "    \n",
    "    \"\"\"\n",
    "    from astropy.modeling import models\n",
    "    if residuals:\n",
    "        init = models.Sersic1D(amplitude=sb2flux(mu.min()), \n",
    "                               r_eff=init_reff, n=init_n,\n",
    "                               fixed=fixed, bounds=bounds)\n",
    "        \n",
    "        "
   ]
  },
  {
   "cell_type": "code",
   "execution_count": null,
   "metadata": {},
   "outputs": [],
   "source": [
    "def chivecfn(theta):\n",
    "    \"\"\"Return the residuals instead of the posterior probability or negative\n",
    "    chisq, for use with least-squares optimization methods.\n",
    "    \"\"\"\n",
    "    return lnprobfn(theta, residuals=True)"
   ]
  },
  {
   "cell_type": "code",
   "execution_count": 64,
   "metadata": {},
   "outputs": [],
   "source": [
    "def minimizer_ball(guess, nmin=5, seed=None):\n",
    "    \"\"\"Draw initial values from the (1d, separable, independent) priors for\n",
    "    each parameter.  Requires that priors have the `sample` method available.\n",
    "    If priors are old-style, draw randomly between min and max.\n",
    "\n",
    "    \"\"\"\n",
    "    rand = np.random.RandomState(seed)\n",
    "\n",
    "    npars = len(guess)\n",
    "    ballguess = np.zeros((nmin, npars))\n",
    "    for ii in range(npars):\n",
    "        bounds = guess[ii]['bounds']\n",
    "        ballguess[:, ii] = rand.uniform(bounds[0], bounds[1], nmin)\n",
    "        \n",
    "    return ballguess"
   ]
  },
  {
   "cell_type": "code",
   "execution_count": 62,
   "metadata": {},
   "outputs": [],
   "source": [
    "def initialize_guess():\n",
    "    \"\"\"Initialize the parameters with starting values.\"\"\"\n",
    "    I0 = dict(name= 'I0', init=sb2flux(18), units='maggies', \n",
    "              bounds=sb2flux((14, 26)), fixed=False)\n",
    "    reff = dict(name='reff', init=10.0, units='kpc', \n",
    "                bounds=(5.0, 50.0), fixed=False)\n",
    "    n = dict(name='n', init=2.0, units='', bounds=(1, 6), fixed=False)\n",
    "    return list((I0, reff, n))"
   ]
  },
  {
   "cell_type": "code",
   "execution_count": 69,
   "metadata": {},
   "outputs": [],
   "source": [
    "guess = initialize_guess()\n",
    "ballguess = minimizer_ball(guess, nmin=10)"
   ]
  },
  {
   "cell_type": "code",
   "execution_count": null,
   "metadata": {},
   "outputs": [],
   "source": [
    "        guesses = []\n",
    "        for i, pinit in enumerate(pinitial):\n",
    "            res = least_squares(chivecfn, pinit, method='lm', x_scale='jac',\n",
    "                                xtol=1e-18, ftol=1e-18)\n",
    "            guesses.append(res)\n",
    "\n",
    "        chisq = [np.sum(r.fun**2) for r in guesses]\n",
    "        best = np.argmin(chisq)\n",
    "        initial_center = fitting.reinitialize(guesses[best].x, model,\n",
    "                                              edge_trunc=rp.get('edge_trunc', 0.1))\n",
    "        initial_prob = None\n",
    "        pdur = time.time() - ts\n",
    "        if rp['verbose']:\n",
    "            print('done L-M in {0}s'.format(pdur))\n",
    "            print('best L-M guess:{0}'.format(initial_center))\n"
   ]
  },
  {
   "cell_type": "code",
   "execution_count": 30,
   "metadata": {},
   "outputs": [
    {
     "name": "stdout",
     "output_type": "stream",
     "text": [
      "> <ipython-input-29-a67527a4abf6>(21)fit_sersic()\n",
      "-> print(sersicfit[filt])\n",
      "(Pdb) fit.fit_info\n",
      "{'nfev': 28, 'fvec': array([  2.50328062e-10,   1.69547255e-10,   9.50955992e-11,\n",
      "         1.51271422e-11,  -3.91176853e-11,  -9.21183167e-11,\n",
      "        -1.31930522e-10,  -1.51746337e-10,  -1.72924782e-10,\n",
      "        -1.45438313e-10,  -1.35102564e-10,  -1.05523878e-10,\n",
      "        -7.69435456e-11,  -3.61983988e-11,  -1.06086351e-11,\n",
      "         2.49404289e-11,   5.75184209e-11,   8.46983117e-11,\n",
      "         8.95648103e-11,   8.59483077e-11,   7.70850043e-11,\n",
      "         7.27243711e-11,   5.84055445e-11,   5.03922320e-11,\n",
      "         4.06972023e-11,   4.06943161e-11,   5.14774693e-11,\n",
      "         4.05595484e-11,   3.90115840e-11,   3.30947770e-11,\n",
      "         3.58770366e-11,   3.87909796e-11,   2.98042947e-11,\n",
      "         2.17768492e-11,   2.02210324e-11,   1.76777663e-11,\n",
      "         1.00791285e-11,   1.67007615e-11,   9.76337747e-12,\n",
      "         6.91576434e-12,   4.60051328e-12,   6.46927243e-12,\n",
      "         3.92966551e-12]), 'fjac': array([[ -4.65190778e+01,   3.25132520e-01,   3.10401098e-01,\n",
      "          2.95520598e-01,   2.80789719e-01,   2.66055495e-01,\n",
      "          2.51426230e-01,   2.36934645e-01,   2.22676574e-01,\n",
      "          2.08875156e-01,   1.94976120e-01,   1.81648605e-01,\n",
      "          1.68263525e-01,   1.55589429e-01,   1.43252104e-01,\n",
      "          1.31462658e-01,   1.20021297e-01,   1.09145551e-01,\n",
      "          9.88070228e-02,   8.90554858e-02,   7.98713186e-02,\n",
      "          7.13075152e-02,   6.33407329e-02,   5.59273209e-02,\n",
      "          4.90101503e-02,   4.26326274e-02,   3.68071447e-02,\n",
      "          3.14885112e-02,   2.67723907e-02,   2.26196247e-02,\n",
      "          1.89708306e-02,   1.57418790e-02,   1.30251425e-02,\n",
      "          1.06416472e-02,   8.60188851e-03,   6.87081397e-03,\n",
      "          5.42352666e-03,   4.32191565e-03,   3.36589349e-03,\n",
      "          2.55686410e-03,   1.93755983e-03,   1.52292785e-03,\n",
      "          1.14209210e-03],\n",
      "       [ -3.02705546e-10,   9.47917365e-11,   1.36650500e-01,\n",
      "          9.36717465e-02,   5.27010282e-02,   1.38600581e-02,\n",
      "         -2.26580379e-02,  -5.66919321e-02,  -8.81147887e-02,\n",
      "         -1.16923840e-01,  -1.42694932e-01,  -1.65724966e-01,\n",
      "         -1.85363776e-01,  -2.02290732e-01,  -2.16078298e-01,\n",
      "         -2.27004789e-01,  -2.34738555e-01,  -2.39687267e-01,\n",
      "         -2.41878186e-01,  -2.41539618e-01,  -2.38766413e-01,\n",
      "         -2.33893593e-01,  -2.27072727e-01,  -2.18379046e-01,\n",
      "         -2.07805803e-01,  -1.95760115e-01,  -1.82589075e-01,\n",
      "         -1.68388324e-01,  -1.54032679e-01,  -1.39767340e-01,\n",
      "         -1.25689783e-01,  -1.11666746e-01,  -9.87911928e-02,\n",
      "         -8.61938401e-02,  -7.43188762e-02,  -6.32552314e-02,\n",
      "         -5.31536019e-02,  -4.50506371e-02,  -3.72853461e-02,\n",
      "         -3.00762564e-02,  -2.41845587e-02,  -2.01576193e-02,\n",
      "         -1.60201803e-02]]), 'ipvt': array([1, 2], dtype=int32), 'qtf': array([ -1.51820290e-18,   1.02154793e-15]), 'message': 'Both actual and predicted relative reductions in the sum of squares\\n  are at most 0.000000', 'ierr': 1, 'param_jac': None, 'param_cov': array([[  3.76491332e-23,  -5.26912966e-12],\n",
      "       [ -5.26912966e-12,   8.09747478e-01]]), 'cov_x': array([[  5.17445267e-03,  -7.24182996e+08],\n",
      "       [ -7.24182996e+08,   1.11290743e+20]])}\n",
      "(Pdb) fit(init, radius, mu, weights=1/mu_err)\n",
      "<Sersic1D(amplitude=1.7819501406673886e-10, r_eff=17.374162953680845, n=2.0)>\n",
      "(Pdb) dir(fit(init, radius, mu, weights=1/mu_err))\n",
      "['__abstractmethods__', '__add__', '__and__', '__call__', '__class__', '__delattr__', '__dict__', '__dir__', '__doc__', '__eq__', '__format__', '__ge__', '__getattribute__', '__gt__', '__hash__', '__init__', '__init_subclass__', '__le__', '__len__', '__lt__', '__module__', '__mul__', '__ne__', '__new__', '__or__', '__pow__', '__reduce__', '__reduce_ex__', '__repr__', '__setattr__', '__sizeof__', '__slotnames__', '__str__', '__sub__', '__subclasshook__', '__truediv__', '__weakref__', '_abc_cache', '_abc_negative_cache', '_abc_negative_cache_version', '_abc_registry', '_bounding_box', '_check_param_broadcast', '_constraints', '_format_repr', '_format_str', '_from_existing', '_gammaincinv', '_has_units', '_initialize_constraints', '_initialize_parameter_values', '_initialize_parameters', '_initialize_unit_support', '_input_units_allow_dimensionless', '_input_units_strict', '_inverse', '_is_dynamic', '_model_set_axis', '_n_models', '_name', '_param_metrics', '_param_sets', '_parameter_units_for_data_units', '_parameters', '_parameters_', '_process_output_units', '_separable', '_supports_unit_fitting', '_user_bounding_box', '_user_inverse', '_validate_input_units', 'amplitude', 'bounding_box', 'bounds', 'col_fit_deriv', 'copy', 'deepcopy', 'eqcons', 'evaluate', 'fit_deriv', 'fittable', 'fixed', 'has_user_bounding_box', 'has_user_inverse', 'ineqcons', 'input_units', 'input_units_allow_dimensionless', 'input_units_equivalencies', 'input_units_strict', 'inputs', 'inverse', 'linear', 'meta', 'model_constraints', 'model_set_axis', 'n', 'n_inputs', 'n_outputs', 'n_submodels', 'name', 'outputs', 'param_names', 'param_sets', 'parameter_constraints', 'parameters', 'prepare_inputs', 'prepare_outputs', 'r_eff', 'rename', 'render', 'return_units', 'separable', 'standard_broadcasting', 'sum_of_implicit_terms', 'tied', 'with_units_from_data', 'without_units_for_data']\n",
      "(Pdb) fit.fit_info.cov\n",
      "*** AttributeError: 'dict' object has no attribute 'cov'\n",
      "(Pdb) fit.fit_info['cov']\n",
      "*** KeyError: 'cov'\n",
      "(Pdb) fit.fit_info['param_cov']\n",
      "array([[  3.76491332e-23,  -5.26912966e-12],\n",
      "       [ -5.26912966e-12,   8.09747478e-01]])\n",
      "(Pdb) q\n"
     ]
    },
    {
     "ename": "BdbQuit",
     "evalue": "",
     "output_type": "error",
     "traceback": [
      "\u001b[0;31m---------------------------------------------------------------------------\u001b[0m",
      "\u001b[0;31mBdbQuit\u001b[0m                                   Traceback (most recent call last)",
      "\u001b[0;32m<ipython-input-30-19a19da6a2dc>\u001b[0m in \u001b[0;36m<module>\u001b[0;34m()\u001b[0m\n\u001b[0;32m----> 1\u001b[0;31m \u001b[0msersicfit\u001b[0m \u001b[0;34m=\u001b[0m \u001b[0mfit_sersic\u001b[0m\u001b[0;34m(\u001b[0m\u001b[0msbprofile\u001b[0m\u001b[0;34m)\u001b[0m\u001b[0;34m\u001b[0m\u001b[0m\n\u001b[0m",
      "\u001b[0;32m<ipython-input-29-a67527a4abf6>\u001b[0m in \u001b[0;36mfit_sersic\u001b[0;34m(sbprofile, init_reff, init_n)\u001b[0m\n\u001b[1;32m     19\u001b[0m         \u001b[0msersicfit\u001b[0m\u001b[0;34m[\u001b[0m\u001b[0mfilt\u001b[0m\u001b[0;34m]\u001b[0m \u001b[0;34m=\u001b[0m \u001b[0mfit\u001b[0m\u001b[0;34m(\u001b[0m\u001b[0minit\u001b[0m\u001b[0;34m,\u001b[0m \u001b[0mradius\u001b[0m\u001b[0;34m,\u001b[0m \u001b[0mmu\u001b[0m\u001b[0;34m,\u001b[0m \u001b[0mweights\u001b[0m\u001b[0;34m=\u001b[0m\u001b[0;36m1\u001b[0m\u001b[0;34m/\u001b[0m\u001b[0mmu_err\u001b[0m\u001b[0;34m)\u001b[0m\u001b[0;34m\u001b[0m\u001b[0m\n\u001b[1;32m     20\u001b[0m         \u001b[0;32mimport\u001b[0m \u001b[0mpdb\u001b[0m \u001b[0;34m;\u001b[0m \u001b[0mpdb\u001b[0m\u001b[0;34m.\u001b[0m\u001b[0mset_trace\u001b[0m\u001b[0;34m(\u001b[0m\u001b[0;34m)\u001b[0m\u001b[0;34m\u001b[0m\u001b[0m\n\u001b[0;32m---> 21\u001b[0;31m         \u001b[0mprint\u001b[0m\u001b[0;34m(\u001b[0m\u001b[0msersicfit\u001b[0m\u001b[0;34m[\u001b[0m\u001b[0mfilt\u001b[0m\u001b[0;34m]\u001b[0m\u001b[0;34m)\u001b[0m\u001b[0;34m\u001b[0m\u001b[0m\n\u001b[0m\u001b[1;32m     22\u001b[0m \u001b[0;34m\u001b[0m\u001b[0m\n\u001b[1;32m     23\u001b[0m     \u001b[0;32mreturn\u001b[0m \u001b[0msersicfit\u001b[0m\u001b[0;34m\u001b[0m\u001b[0m\n",
      "\u001b[0;32m<ipython-input-29-a67527a4abf6>\u001b[0m in \u001b[0;36mfit_sersic\u001b[0;34m(sbprofile, init_reff, init_n)\u001b[0m\n\u001b[1;32m     19\u001b[0m         \u001b[0msersicfit\u001b[0m\u001b[0;34m[\u001b[0m\u001b[0mfilt\u001b[0m\u001b[0;34m]\u001b[0m \u001b[0;34m=\u001b[0m \u001b[0mfit\u001b[0m\u001b[0;34m(\u001b[0m\u001b[0minit\u001b[0m\u001b[0;34m,\u001b[0m \u001b[0mradius\u001b[0m\u001b[0;34m,\u001b[0m \u001b[0mmu\u001b[0m\u001b[0;34m,\u001b[0m \u001b[0mweights\u001b[0m\u001b[0;34m=\u001b[0m\u001b[0;36m1\u001b[0m\u001b[0;34m/\u001b[0m\u001b[0mmu_err\u001b[0m\u001b[0;34m)\u001b[0m\u001b[0;34m\u001b[0m\u001b[0m\n\u001b[1;32m     20\u001b[0m         \u001b[0;32mimport\u001b[0m \u001b[0mpdb\u001b[0m \u001b[0;34m;\u001b[0m \u001b[0mpdb\u001b[0m\u001b[0;34m.\u001b[0m\u001b[0mset_trace\u001b[0m\u001b[0;34m(\u001b[0m\u001b[0;34m)\u001b[0m\u001b[0;34m\u001b[0m\u001b[0m\n\u001b[0;32m---> 21\u001b[0;31m         \u001b[0mprint\u001b[0m\u001b[0;34m(\u001b[0m\u001b[0msersicfit\u001b[0m\u001b[0;34m[\u001b[0m\u001b[0mfilt\u001b[0m\u001b[0;34m]\u001b[0m\u001b[0;34m)\u001b[0m\u001b[0;34m\u001b[0m\u001b[0m\n\u001b[0m\u001b[1;32m     22\u001b[0m \u001b[0;34m\u001b[0m\u001b[0m\n\u001b[1;32m     23\u001b[0m     \u001b[0;32mreturn\u001b[0m \u001b[0msersicfit\u001b[0m\u001b[0;34m\u001b[0m\u001b[0m\n",
      "\u001b[0;32m/usr/local/anaconda3/envs/legacyhalos/lib/python3.6/bdb.py\u001b[0m in \u001b[0;36mtrace_dispatch\u001b[0;34m(self, frame, event, arg)\u001b[0m\n\u001b[1;32m     46\u001b[0m             \u001b[0;32mreturn\u001b[0m \u001b[0;31m# None\u001b[0m\u001b[0;34m\u001b[0m\u001b[0m\n\u001b[1;32m     47\u001b[0m         \u001b[0;32mif\u001b[0m \u001b[0mevent\u001b[0m \u001b[0;34m==\u001b[0m \u001b[0;34m'line'\u001b[0m\u001b[0;34m:\u001b[0m\u001b[0;34m\u001b[0m\u001b[0m\n\u001b[0;32m---> 48\u001b[0;31m             \u001b[0;32mreturn\u001b[0m \u001b[0mself\u001b[0m\u001b[0;34m.\u001b[0m\u001b[0mdispatch_line\u001b[0m\u001b[0;34m(\u001b[0m\u001b[0mframe\u001b[0m\u001b[0;34m)\u001b[0m\u001b[0;34m\u001b[0m\u001b[0m\n\u001b[0m\u001b[1;32m     49\u001b[0m         \u001b[0;32mif\u001b[0m \u001b[0mevent\u001b[0m \u001b[0;34m==\u001b[0m \u001b[0;34m'call'\u001b[0m\u001b[0;34m:\u001b[0m\u001b[0;34m\u001b[0m\u001b[0m\n\u001b[1;32m     50\u001b[0m             \u001b[0;32mreturn\u001b[0m \u001b[0mself\u001b[0m\u001b[0;34m.\u001b[0m\u001b[0mdispatch_call\u001b[0m\u001b[0;34m(\u001b[0m\u001b[0mframe\u001b[0m\u001b[0;34m,\u001b[0m \u001b[0marg\u001b[0m\u001b[0;34m)\u001b[0m\u001b[0;34m\u001b[0m\u001b[0m\n",
      "\u001b[0;32m/usr/local/anaconda3/envs/legacyhalos/lib/python3.6/bdb.py\u001b[0m in \u001b[0;36mdispatch_line\u001b[0;34m(self, frame)\u001b[0m\n\u001b[1;32m     65\u001b[0m         \u001b[0;32mif\u001b[0m \u001b[0mself\u001b[0m\u001b[0;34m.\u001b[0m\u001b[0mstop_here\u001b[0m\u001b[0;34m(\u001b[0m\u001b[0mframe\u001b[0m\u001b[0;34m)\u001b[0m \u001b[0;32mor\u001b[0m \u001b[0mself\u001b[0m\u001b[0;34m.\u001b[0m\u001b[0mbreak_here\u001b[0m\u001b[0;34m(\u001b[0m\u001b[0mframe\u001b[0m\u001b[0;34m)\u001b[0m\u001b[0;34m:\u001b[0m\u001b[0;34m\u001b[0m\u001b[0m\n\u001b[1;32m     66\u001b[0m             \u001b[0mself\u001b[0m\u001b[0;34m.\u001b[0m\u001b[0muser_line\u001b[0m\u001b[0;34m(\u001b[0m\u001b[0mframe\u001b[0m\u001b[0;34m)\u001b[0m\u001b[0;34m\u001b[0m\u001b[0m\n\u001b[0;32m---> 67\u001b[0;31m             \u001b[0;32mif\u001b[0m \u001b[0mself\u001b[0m\u001b[0;34m.\u001b[0m\u001b[0mquitting\u001b[0m\u001b[0;34m:\u001b[0m \u001b[0;32mraise\u001b[0m \u001b[0mBdbQuit\u001b[0m\u001b[0;34m\u001b[0m\u001b[0m\n\u001b[0m\u001b[1;32m     68\u001b[0m         \u001b[0;32mreturn\u001b[0m \u001b[0mself\u001b[0m\u001b[0;34m.\u001b[0m\u001b[0mtrace_dispatch\u001b[0m\u001b[0;34m\u001b[0m\u001b[0m\n\u001b[1;32m     69\u001b[0m \u001b[0;34m\u001b[0m\u001b[0m\n",
      "\u001b[0;31mBdbQuit\u001b[0m: "
     ]
    }
   ],
   "source": [
    "sersicfit = fit_sersic(sbprofile)"
   ]
  },
  {
   "cell_type": "code",
   "execution_count": 13,
   "metadata": {},
   "outputs": [
    {
     "data": {
      "text/plain": [
       "['__abstractmethods__',\n",
       " '__add__',\n",
       " '__and__',\n",
       " '__call__',\n",
       " '__class__',\n",
       " '__delattr__',\n",
       " '__dict__',\n",
       " '__dir__',\n",
       " '__doc__',\n",
       " '__eq__',\n",
       " '__format__',\n",
       " '__ge__',\n",
       " '__getattribute__',\n",
       " '__gt__',\n",
       " '__hash__',\n",
       " '__init__',\n",
       " '__init_subclass__',\n",
       " '__le__',\n",
       " '__len__',\n",
       " '__lt__',\n",
       " '__module__',\n",
       " '__mul__',\n",
       " '__ne__',\n",
       " '__new__',\n",
       " '__or__',\n",
       " '__pow__',\n",
       " '__reduce__',\n",
       " '__reduce_ex__',\n",
       " '__repr__',\n",
       " '__setattr__',\n",
       " '__sizeof__',\n",
       " '__slotnames__',\n",
       " '__str__',\n",
       " '__sub__',\n",
       " '__subclasshook__',\n",
       " '__truediv__',\n",
       " '__weakref__',\n",
       " '_abc_cache',\n",
       " '_abc_negative_cache',\n",
       " '_abc_negative_cache_version',\n",
       " '_abc_registry',\n",
       " '_bounding_box',\n",
       " '_check_param_broadcast',\n",
       " '_constraints',\n",
       " '_format_repr',\n",
       " '_format_str',\n",
       " '_from_existing',\n",
       " '_gammaincinv',\n",
       " '_has_units',\n",
       " '_initialize_constraints',\n",
       " '_initialize_parameter_values',\n",
       " '_initialize_parameters',\n",
       " '_initialize_unit_support',\n",
       " '_input_units_allow_dimensionless',\n",
       " '_input_units_strict',\n",
       " '_inverse',\n",
       " '_is_dynamic',\n",
       " '_model_set_axis',\n",
       " '_n_models',\n",
       " '_name',\n",
       " '_param_metrics',\n",
       " '_param_sets',\n",
       " '_parameter_units_for_data_units',\n",
       " '_parameters',\n",
       " '_parameters_',\n",
       " '_process_output_units',\n",
       " '_separable',\n",
       " '_supports_unit_fitting',\n",
       " '_user_bounding_box',\n",
       " '_user_inverse',\n",
       " '_validate_input_units',\n",
       " 'amplitude',\n",
       " 'bounding_box',\n",
       " 'bounds',\n",
       " 'col_fit_deriv',\n",
       " 'copy',\n",
       " 'deepcopy',\n",
       " 'eqcons',\n",
       " 'evaluate',\n",
       " 'fit_deriv',\n",
       " 'fittable',\n",
       " 'fixed',\n",
       " 'has_user_bounding_box',\n",
       " 'has_user_inverse',\n",
       " 'ineqcons',\n",
       " 'input_units',\n",
       " 'input_units_allow_dimensionless',\n",
       " 'input_units_equivalencies',\n",
       " 'input_units_strict',\n",
       " 'inputs',\n",
       " 'inverse',\n",
       " 'linear',\n",
       " 'meta',\n",
       " 'model_constraints',\n",
       " 'model_set_axis',\n",
       " 'n',\n",
       " 'n_inputs',\n",
       " 'n_outputs',\n",
       " 'n_submodels',\n",
       " 'name',\n",
       " 'outputs',\n",
       " 'param_names',\n",
       " 'param_sets',\n",
       " 'parameter_constraints',\n",
       " 'parameters',\n",
       " 'prepare_inputs',\n",
       " 'prepare_outputs',\n",
       " 'r_eff',\n",
       " 'rename',\n",
       " 'render',\n",
       " 'return_units',\n",
       " 'separable',\n",
       " 'standard_broadcasting',\n",
       " 'sum_of_implicit_terms',\n",
       " 'tied',\n",
       " 'with_units_from_data',\n",
       " 'without_units_for_data']"
      ]
     },
     "execution_count": 13,
     "metadata": {},
     "output_type": "execute_result"
    }
   ],
   "source": [
    "dir(sersicfit['r'])"
   ]
  },
  {
   "cell_type": "code",
   "execution_count": 23,
   "metadata": {},
   "outputs": [
    {
     "ename": "AttributeError",
     "evalue": "'Sersic1D' object has no attribute 'fit_info'",
     "output_type": "error",
     "traceback": [
      "\u001b[0;31m---------------------------------------------------------------------------\u001b[0m",
      "\u001b[0;31mAttributeError\u001b[0m                            Traceback (most recent call last)",
      "\u001b[0;32m<ipython-input-23-3e734164cfdd>\u001b[0m in \u001b[0;36m<module>\u001b[0;34m()\u001b[0m\n\u001b[0;32m----> 1\u001b[0;31m \u001b[0msersicfit\u001b[0m\u001b[0;34m[\u001b[0m\u001b[0;34m'r'\u001b[0m\u001b[0;34m]\u001b[0m\u001b[0;34m.\u001b[0m\u001b[0mfit_info\u001b[0m\u001b[0;34m\u001b[0m\u001b[0m\n\u001b[0m",
      "\u001b[0;31mAttributeError\u001b[0m: 'Sersic1D' object has no attribute 'fit_info'"
     ]
    }
   ],
   "source": [
    "sersicfit['r'].fit_info"
   ]
  },
  {
   "cell_type": "code",
   "execution_count": 28,
   "metadata": {},
   "outputs": [
    {
     "data": {
      "image/png": "[encoded data removed]",
      "text/plain": [
       "<Figure size 720x576 with 2 Axes>"
      ]
     },
     "metadata": {},
     "output_type": "display_data"
    }
   ],
   "source": [
    "display_ellipse_sbprofile(ellipsefit, band=band, refband=refband, \n",
    "                          redshift=redshift, pixscale=pixscale,\n",
    "                          sersicfit=sersicfit)"
   ]
  },
  {
   "cell_type": "markdown",
   "metadata": {},
   "source": [
    "### Playing around below here"
   ]
  },
  {
   "cell_type": "code",
   "execution_count": 12,
   "metadata": {},
   "outputs": [
    {
     "ename": "NameError",
     "evalue": "name 'stop' is not defined",
     "output_type": "error",
     "traceback": [
      "\u001b[0;31m---------------------------------------------------------------------------\u001b[0m",
      "\u001b[0;31mNameError\u001b[0m                                 Traceback (most recent call last)",
      "\u001b[0;32m<ipython-input-12-4f76a9dad686>\u001b[0m in \u001b[0;36m<module>\u001b[0;34m()\u001b[0m\n\u001b[0;32m----> 1\u001b[0;31m \u001b[0mstop\u001b[0m\u001b[0;34m\u001b[0m\u001b[0m\n\u001b[0m",
      "\u001b[0;31mNameError\u001b[0m: name 'stop' is not defined"
     ]
    }
   ],
   "source": [
    "stop"
   ]
  },
  {
   "cell_type": "code",
   "execution_count": null,
   "metadata": {},
   "outputs": [],
   "source": [
    "stop"
   ]
  },
  {
   "cell_type": "code",
   "execution_count": null,
   "metadata": {},
   "outputs": [],
   "source": [
    "from matplotlib.ticker import FormatStrFormatter, ScalarFormatter\n",
    "smascale = 1\n",
    "filt = 'r'\n",
    "good = (ellipsefit[filt].stop_code < 4)\n",
    "bad = ~good\n",
    "fig, ax1 = plt.subplots()\n",
    "ax1.fill_between(ellipsefit[filt].sma[good] * smascale, \n",
    "                 ellipsefit[filt].eps[good]-ellipsefit[filt].ellip_err[good],\n",
    "                 ellipsefit[filt].eps[good]+ellipsefit[filt].ellip_err[good],\n",
    "                 edgecolor='k', lw=2)\n",
    "\n",
    "#ax1.errorbar(ellipsefit[filt].sma[good] * smascale,\n",
    "#             ellipsefit[filt].eps[good],\n",
    "#             ellipsefit[filt].ellip_err[good], marker='s', linestyle='none',\n",
    "#             capsize=10, capthick=2, \n",
    "#             markersize=10)#, color=color[filt])\n",
    "ax1.scatter(ellipsefit[filt].sma[bad] * smascale,\n",
    "             ellipsefit[filt].eps[bad], marker='s', s=40, edgecolor='k', lw=2, alpha=0.75)\n",
    "ax1.set_xscale('log')\n",
    "ax1.xaxis.set_major_formatter(ScalarFormatter())"
   ]
  }
 ],
 "metadata": {
  "kernelspec": {
   "display_name": "Python 3",
   "language": "python",
   "name": "python3"
  },
  "language_info": {
   "codemirror_mode": {
    "name": "ipython",
    "version": 3
   },
   "file_extension": ".py",
   "mimetype": "text/x-python",
   "name": "python",
   "nbconvert_exporter": "python",
   "pygments_lexer": "ipython3",
   "version": "3.6.4"
  }
 },
 "nbformat": 4,
 "nbformat_minor": 2
}
