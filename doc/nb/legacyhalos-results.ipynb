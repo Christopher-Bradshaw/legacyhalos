{
 "cells": [
  {
   "cell_type": "code",
   "execution_count": 1,
   "metadata": {},
   "outputs": [],
   "source": [
    "import os\n",
    "import numpy as np\n",
    "\n",
    "import fitsio\n",
    "from astropy.table import Table\n",
    "import matplotlib.pyplot as plt"
   ]
  },
  {
   "cell_type": "code",
   "execution_count": 2,
   "metadata": {},
   "outputs": [],
   "source": [
    "import legacyhalos.io\n",
    "from legacyhalos.misc import lambda2mhalo, statsinbins, legacyhalos_plot_style"
   ]
  },
  {
   "cell_type": "code",
   "execution_count": 3,
   "metadata": {},
   "outputs": [],
   "source": [
    "sns = legacyhalos_plot_style()\n",
    "%matplotlib inline"
   ]
  },
  {
   "cell_type": "code",
   "execution_count": null,
   "metadata": {},
   "outputs": [],
   "source": [
    "lsphot = legacyhalos.io.read_results(extname='LHPHOT', verbose=True)\n",
    "lsphot[:2]"
   ]
  },
  {
   "cell_type": "code",
   "execution_count": null,
   "metadata": {},
   "outputs": [],
   "source": [
    "parent = legacyhalos.io.read_parent(extname='LSPHOT', upenn=True, verbose=True)\n",
    "parent[:2]"
   ]
  },
  {
   "cell_type": "code",
   "execution_count": null,
   "metadata": {},
   "outputs": [],
   "source": [
    "def getmag(flux):\n",
    "    mag = 22.5 - 2.5 * np.log10( flux )\n",
    "    return mag"
   ]
  },
  {
   "cell_type": "code",
   "execution_count": null,
   "metadata": {},
   "outputs": [],
   "source": [
    "lsmag = getmag(parent['flux_r'])\n",
    "lhmag = getmag(lsphot['flux_r'])\n",
    "good = np.isfinite(lsmag) * np.isfinite(lhmag)\n",
    "lsmag = lsmag[good]\n",
    "lhmag = lhmag[good]\n",
    "dmag = lsmag - lhmag\n",
    "stats = statsinbins(lhmag, dmag, binsize=0.3, minpts=10)\n",
    "stats['xbin']"
   ]
  },
  {
   "cell_type": "code",
   "execution_count": null,
   "metadata": {},
   "outputs": [],
   "source": [
    "fig, ax = plt.subplots(figsize=(8, 6))\n",
    "#ax.hexbin(lsmag, dmag, gridsize=100, mincnt=1, bins='log', \n",
    "#          cmap='viridis', extent=(15, 18.5, -0.5, 0.5))\n",
    "ax.scatter(lhmag, dmag, marker='s', edgecolor='k', alpha=0.75, s=10)\n",
    "ax.plot(stats['xbin'], stats['median'], lw=2, ls='-', color='k')\n",
    "ax.plot(stats['xbin'], stats['q75'], lw=2, ls='--', color='k')\n",
    "ax.plot(stats['xbin'], stats['q25'], lw=2, ls='--', color='k')\n",
    "\n",
    "ax.set_xlim(13.5, 18.5)\n",
    "ax.set_ylim(-0.5, 0.5)\n",
    "ax.axhline(y=0, ls='--', color='gray')\n",
    "ax.set_xlabel(r'$r_{Total}$ (AB mag)')\n",
    "ax.set_ylabel(r'$r_{LegacySurvey}\\ -\\ r_{Total}$')"
   ]
  },
  {
   "cell_type": "code",
   "execution_count": null,
   "metadata": {},
   "outputs": [],
   "source": [
    "stop"
   ]
  },
  {
   "cell_type": "code",
   "execution_count": null,
   "metadata": {},
   "outputs": [],
   "source": [
    "ls = Table(fits.getdata(parentfile, extname='LSPHOT-ISEDFIT'))\n",
    "ls"
   ]
  },
  {
   "cell_type": "code",
   "execution_count": null,
   "metadata": {},
   "outputs": [],
   "source": [
    "mhalo = np.log10(lambda2mhalo(cat.lambda_chisq, redshift=cat.z))\n",
    "mhalo"
   ]
  },
  {
   "cell_type": "code",
   "execution_count": null,
   "metadata": {},
   "outputs": [],
   "source": [
    "mstar_med, bin_edges, _ = binned_statistic(mhalo, cat.mstar_avg, statistic='median', bins=bins)\n",
    "bin_width = (bin_edges[1] - bin_edges[0])\n",
    "mhalo_med = bin_edges[1:] - bin_width/2\n",
    "print(bin_width)"
   ]
  },
  {
   "cell_type": "code",
   "execution_count": null,
   "metadata": {},
   "outputs": [],
   "source": [
    "fig, ax = plt.subplots(figsize=(8, 6))\n",
    "\n",
    "colors = iter(sns.color_palette())\n",
    "\n",
    "rich = cat.lambda_chisq > 100\n",
    "ax.plot(mhalo_med, mstar_med, color='k', ls='-', lw=3, alpha=0.5)\n",
    "ax.plot(mhalo_med, mstar_p75, color='k', ls='--', lw=3, alpha=0.5)\n",
    "ax.plot(mhalo_med, mstar_p25, color='k', ls='--', lw=3, alpha=0.5)\n",
    "\n",
    "g = ax.errorbar(gonz['m500'], gonz['mbcg'], yerr=gonz['mbcg_err'], color=next(colors),\n",
    "                fmt='o', label='Gonzalez+13', markersize=10)\n",
    "k = ax.errorbar(krav['m500'], krav['mbcg'], yerr=krav['mbcg_err'], color=next(colors),\n",
    "                fmt='s', label='Kravtsov+14', markersize=10)\n",
    "r = ax.scatter(mhalo[rich], cat.mstar_avg[rich], alpha=0.9, color=next(colors),\n",
    "               edgecolor='k', marker='D', s=50, label=r'redMaPPer ($\\lambda>100$)')\n",
    "\n",
    "ax.text(0.12, 0.16, 'redMaPPer\\n$0.1<z<0.3$', multialignment='center',\n",
    "        transform=ax.transAxes, fontsize=14)\n",
    "m500 = np.linspace(13.55, 15.25, 50)\n",
    "ff = ax.plot(m500, np.polyval([0.33, 12.24], m500-14.5), ls='-', \n",
    "            color='k', label=r'$M_{*}\\propto M_{500}^{0.33}$')\n",
    "ax.text(0.12, 0.9, r'$M_{*}\\propto M_{500}^{0.33}$', multialignment='center',\n",
    "        transform=ax.transAxes, fontsize=16)\n",
    "ax.plot([13.55, 13.68], [12.8, 12.8], ls='-', color='k') # hack!!!\n",
    "\n",
    "#ax.xaxis.set_major_formatter(FormatStrFormatter('%.1f'))\n",
    "ax.xaxis.set_major_locator(MultipleLocator(0.5))\n",
    "\n",
    "hh = [g, k, r]\n",
    "ax.legend(hh, [H.get_label() for H in hh], loc='lower right',\n",
    "          frameon=True, fontsize=16)\n",
    "#ax.legend(ff, ff.get_label(), loc='upper left',\n",
    "#          frameon=True, fontsize=16)\n",
    "#ax.legend(loc='upper left', frameon=True, fontsize=16)\n",
    "\n",
    "ax.set_ylim(10.5, 13)\n",
    "ax.set_xlim(13.5, 15.3)\n",
    "ax.set_xlabel(r'$\\log_{10}\\, (M_{500}\\ /\\ M_{\\odot})$')\n",
    "ax.set_ylabel(r'$\\log_{10}\\, (M_{*}\\ /\\ M_{\\odot})$')"
   ]
  },
  {
   "cell_type": "code",
   "execution_count": null,
   "metadata": {},
   "outputs": [],
   "source": [
    "sns.jointplot(ls['MSTAR_AVG'], sdss['MSTAR_AVG'] - ls['MSTAR_AVG'], \n",
    "              kind=\"kde\", color=\"#4CB391\", xlim=(10, 13), ylim=(-0.5, 0.5))\n",
    "sns.kdeplot(ls['MSTAR_AVG'], sdss['MSTAR_AVG'] - ls['MSTAR_AVG'], \n",
    "            cmap=\"Blues\", shade=True, shade_lowest=True, cbar=True,\n",
    "            cut=0,\n",
    "           )"
   ]
  }
 ],
 "metadata": {
  "kernelspec": {
   "display_name": "Python 3",
   "language": "python",
   "name": "python3"
  },
  "language_info": {
   "codemirror_mode": {
    "name": "ipython",
    "version": 3
   },
   "file_extension": ".py",
   "mimetype": "text/x-python",
   "name": "python",
   "nbconvert_exporter": "python",
   "pygments_lexer": "ipython3",
   "version": "3.6.4"
  }
 },
 "nbformat": 4,
 "nbformat_minor": 2
}
