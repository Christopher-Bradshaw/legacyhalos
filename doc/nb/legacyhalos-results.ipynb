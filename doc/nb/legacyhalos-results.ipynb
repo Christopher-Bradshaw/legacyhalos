{
 "cells": [
  {
   "cell_type": "code",
   "execution_count": 5,
   "metadata": {},
   "outputs": [],
   "source": [
    "import os\n",
    "import numpy as np\n",
    "import fitsio\n",
    "from astropy.table import Table\n",
    "import matplotlib.pyplot as plt"
   ]
  },
  {
   "cell_type": "code",
   "execution_count": 7,
   "metadata": {},
   "outputs": [],
   "source": [
    "import legacyhalos.io"
   ]
  },
  {
   "cell_type": "code",
   "execution_count": 6,
   "metadata": {},
   "outputs": [],
   "source": [
    "%matplotlib inline"
   ]
  },
  {
   "cell_type": "code",
   "execution_count": 8,
   "metadata": {},
   "outputs": [
    {
     "ename": "AttributeError",
     "evalue": "module 'legacyhalos.io' has no attribute 'read_results'",
     "output_type": "error",
     "traceback": [
      "\u001b[0;31m---------------------------------------------------------------------------\u001b[0m",
      "\u001b[0;31mAttributeError\u001b[0m                            Traceback (most recent call last)",
      "\u001b[0;32m<ipython-input-8-eb509674128f>\u001b[0m in \u001b[0;36m<module>\u001b[0;34m()\u001b[0m\n\u001b[0;32m----> 1\u001b[0;31m \u001b[0mrr\u001b[0m \u001b[0;34m=\u001b[0m \u001b[0mlegacyhalos\u001b[0m\u001b[0;34m.\u001b[0m\u001b[0mio\u001b[0m\u001b[0;34m.\u001b[0m\u001b[0mread_results\u001b[0m\u001b[0;34m(\u001b[0m\u001b[0;34m)\u001b[0m\u001b[0;34m\u001b[0m\u001b[0m\n\u001b[0m\u001b[1;32m      2\u001b[0m \u001b[0mrr\u001b[0m\u001b[0;34m\u001b[0m\u001b[0m\n",
      "\u001b[0;31mAttributeError\u001b[0m: module 'legacyhalos.io' has no attribute 'read_results'"
     ]
    }
   ],
   "source": [
    "results = legacyhalos.io.read_results()\n",
    "results"
   ]
  },
  {
   "cell_type": "code",
   "execution_count": 9,
   "metadata": {},
   "outputs": [
    {
     "name": "stdout",
     "output_type": "stream",
     "text": [
      "Read 1562 objects from /Users/ioannis/research/projects/legacyhalos/legacyhalos-parent-upenn.fits [LSPHOT]\n",
      "Read 1562 objects from /Users/ioannis/research/projects/legacyhalos/legacyhalos-parent-upenn.fits [REDMAPPER]\n",
      "Read 1562 objects from /Users/ioannis/research/projects/legacyhalos/legacyhalos-parent-upenn.fits [SDSSPHOT]\n",
      "Renaming column objid-->sdss_objid in [SDSSPHOT] extension.\n",
      "Sample contains 1562 objects with first, last indices 0, 1561\n"
     ]
    },
    {
     "data": {
      "text/html": [
       "<i>Table length=1562</i>\n",
       "<table id=\"table4391827776\" class=\"table-striped table-bordered table-condensed\">\n",
       "<thead><tr><th>brickname</th><th>objid</th><th>type</th><th>ra</th><th>dec</th><th>bx</th><th>by</th><th>psfsize_g</th><th>psfsize_r</th><th>psfsize_z</th><th>fracdev</th><th>shapeexp_r</th><th>shapeexp_e1</th><th>shapeexp_e2</th><th>shapedev_r</th><th>shapedev_e1</th><th>shapedev_e2</th><th>mem_match_id</th><th>z</th><th>lambda_chisq</th><th>r_lambda</th><th>p_cen [5]</th><th>sdss_objid</th></tr></thead>\n",
       "<thead><tr><th>bytes8</th><th>int32</th><th>bytes4</th><th>float64</th><th>float64</th><th>float32</th><th>float32</th><th>float32</th><th>float32</th><th>float32</th><th>float32</th><th>float32</th><th>float32</th><th>float32</th><th>float32</th><th>float32</th><th>float32</th><th>int32</th><th>float32</th><th>float32</th><th>float32</th><th>float32</th><th>int64</th></tr></thead>\n",
       "<tr><td>2407p032</td><td>4026</td><td>DEV</td><td>240.829131417</td><td>3.27905301114</td><td>155.908</td><td>2198.8</td><td>1.29934</td><td>1.32822</td><td>1.194</td><td>1.0</td><td>0.0</td><td>0.0</td><td>0.0</td><td>5.66572</td><td>-0.0250546</td><td>-0.03513</td><td>45</td><td>0.233519</td><td>132.082</td><td>1.05723</td><td>0.721982 .. 4.28665e-06</td><td>1237662266469188216</td></tr>\n",
       "<tr><td>2278p057</td><td>5532</td><td>DEV</td><td>227.750301518</td><td>5.78279954588</td><td>2810.66</td><td>2250.25</td><td>1.21801</td><td>1.48109</td><td>1.19341</td><td>1.0</td><td>0.0</td><td>0.0</td><td>0.0</td><td>4.15034</td><td>-0.0906107</td><td>0.141555</td><td>52</td><td>0.0814936</td><td>91.8697</td><td>0.983183</td><td>0.963504 .. 0.000389366</td><td>1237658780557836303</td></tr>\n",
       "<tr><td>1811p040</td><td>1493</td><td>DEV</td><td>181.146400429</td><td>3.95642309687</td><td>1527.6</td><td>1200.74</td><td>1.66867</td><td>1.32549</td><td>1.51112</td><td>1.0</td><td>0.0</td><td>0.0</td><td>0.0</td><td>8.73008</td><td>0.150446</td><td>0.118002</td><td>449</td><td>0.174112</td><td>68.5601</td><td>0.927287</td><td>0.979776 .. 1.40008e-06</td><td>1237654604261163234</td></tr>\n",
       "<tr><td>1848m032</td><td>1156</td><td>DEV</td><td>184.905019178</td><td>-3.30952737636</td><td>1480.72</td><td>981.563</td><td>1.66089</td><td>1.25444</td><td>1.13624</td><td>1.0</td><td>0.0</td><td>0.0</td><td>0.0</td><td>10.2956</td><td>0.202149</td><td>0.139961</td><td>455</td><td>0.2945</td><td>87.7813</td><td>0.974272</td><td>0.97535 .. 5.53822e-07</td><td>1237650760782053596</td></tr>\n",
       "<tr><td>1536m007</td><td>48</td><td>DEV</td><td>153.60705694</td><td>-0.871878830482</td><td>2046.02</td><td>124.826</td><td>1.3151</td><td>1.1278</td><td>1.55669</td><td>1.0</td><td>0.0</td><td>0.0</td><td>0.0</td><td>10.9577</td><td>-0.0940546</td><td>0.139843</td><td>486</td><td>0.0565488</td><td>44.6555</td><td>0.851089</td><td>0.717347 .. 2.24481e-05</td><td>1237648720145416348</td></tr>\n",
       "<tr><td>0058m002</td><td>4896</td><td>COMP</td><td>5.7522698121</td><td>-0.155016071056</td><td>3485.87</td><td>3104.62</td><td>1.81964</td><td>1.24011</td><td>1.11016</td><td>0.832693</td><td>3.20906</td><td>0.321933</td><td>-0.335917</td><td>76.7896</td><td>-0.158196</td><td>-0.0093311</td><td>510</td><td>0.16755</td><td>5.34345</td><td>0.556627</td><td>0.918813 .. 0.000639038</td><td>1237657190907707631</td></tr>\n",
       "<tr><td>3361p002</td><td>4916</td><td>DEV</td><td>336.040890529</td><td>0.325978489435</td><td>2955.19</td><td>2843.48</td><td>1.69342</td><td>0.985808</td><td>1.03759</td><td>1.0</td><td>0.0</td><td>0.0</td><td>0.0</td><td>3.64498</td><td>0.116586</td><td>-0.0209163</td><td>559</td><td>0.166685</td><td>57.4544</td><td>0.895086</td><td>0.997986 .. 5.30439e-06</td><td>1237663543685480733</td></tr>\n",
       "<tr><td>2217p085</td><td>3528</td><td>COMP</td><td>221.858404472</td><td>8.473641992</td><td>750.339</td><td>1437.43</td><td>1.28426</td><td>1.48077</td><td>1.41077</td><td>0.577277</td><td>2.02883</td><td>-0.353304</td><td>0.0125229</td><td>11.2629</td><td>-0.321095</td><td>0.120413</td><td>600</td><td>0.370229</td><td>104.486</td><td>1.00881</td><td>1.0 .. 1.82226e-09</td><td>1237662264319738193</td></tr>\n",
       "<tr><td>3423m007</td><td>5605</td><td>COMP</td><td>342.494229777</td><td>-0.670639845398</td><td>161.337</td><td>2889.93</td><td>1.60047</td><td>1.13031</td><td>1.0067</td><td>0.754817</td><td>1.91111</td><td>0.178109</td><td>0.176372</td><td>41.6011</td><td>-0.269233</td><td>0.0633686</td><td>729</td><td>0.363049</td><td>64.609</td><td>0.916344</td><td>0.999959 .. 1.39626e-07</td><td>1237660025032933633</td></tr>\n",
       "<tr><td>2029p050</td><td>245</td><td>DEV</td><td>202.921910367</td><td>4.887657593</td><td>2029.61</td><td>255.865</td><td>1.45974</td><td>1.53991</td><td>1.30163</td><td>1.0</td><td>0.0</td><td>0.0</td><td>0.0</td><td>9.34861</td><td>0.0480804</td><td>-0.120118</td><td>859</td><td>0.177558</td><td>56.4324</td><td>0.891878</td><td>0.995969 .. 1.59502e-08</td><td>1237671956443496579</td></tr>\n",
       "<tr><td>...</td><td>...</td><td>...</td><td>...</td><td>...</td><td>...</td><td>...</td><td>...</td><td>...</td><td>...</td><td>...</td><td>...</td><td>...</td><td>...</td><td>...</td><td>...</td><td>...</td><td>...</td><td>...</td><td>...</td><td>...</td><td>...</td><td>...</td></tr>\n",
       "<tr><td>2188m007</td><td>4682</td><td>DEV</td><td>218.894963427</td><td>-0.709373047083</td><td>1525.21</td><td>2357.73</td><td>1.48418</td><td>1.27076</td><td>1.04247</td><td>1.0</td><td>0.0</td><td>0.0</td><td>0.0</td><td>2.51559</td><td>0.0163196</td><td>-0.108794</td><td>558266</td><td>0.261277</td><td>6.12146</td><td>0.571967</td><td>0.595463 .. 2.24892e-07</td><td>1237648703518867757</td></tr>\n",
       "<tr><td>1397p265</td><td>2427</td><td>COMP</td><td>139.61523966</td><td>26.5425264039</td><td>3294.27</td><td>2384.54</td><td>1.62796</td><td>1.78996</td><td>1.47456</td><td>0.712525</td><td>0.854471</td><td>-0.0712739</td><td>0.337222</td><td>9.44965</td><td>0.1297</td><td>0.24375</td><td>569076</td><td>0.198251</td><td>5.3282</td><td>0.556309</td><td>0.780748 .. 8.44617e-06</td><td>1237665098462331122</td></tr>\n",
       "<tr><td>2262p097</td><td>3840</td><td>COMP</td><td>226.300072206</td><td>9.83460437663</td><td>1359.95</td><td>2962.02</td><td>1.73675</td><td>1.45963</td><td>1.77649</td><td>0.417343</td><td>9.9613</td><td>0.47032</td><td>0.600432</td><td>4.26579</td><td>0.126403</td><td>0.20848</td><td>596259</td><td>0.0756975</td><td>5.496</td><td>0.55977</td><td>0.993237 .. 7.43685e-08</td><td>1237661950272340033</td></tr>\n",
       "<tr><td>2003p015</td><td>3159</td><td>COMP</td><td>200.281080677</td><td>1.53706438439</td><td>3089.53</td><td>2308.81</td><td>1.32646</td><td>1.44482</td><td>1.32116</td><td>0.159796</td><td>2.86798</td><td>-0.196176</td><td>-0.0838766</td><td>0.224502</td><td>0.137694</td><td>0.0428747</td><td>604106</td><td>0.248947</td><td>5.16039</td><td>0.55276</td><td>0.988864 .. 1.97844e-09</td><td>1237651735228973335</td></tr>\n",
       "<tr><td>2145p120</td><td>4975</td><td>DEV</td><td>214.579455172</td><td>12.082782529</td><td>2018.37</td><td>2936.98</td><td>1.60509</td><td>1.58972</td><td>1.16042</td><td>1.0</td><td>0.0</td><td>0.0</td><td>0.0</td><td>2.13614</td><td>-0.0141724</td><td>0.0101377</td><td>609346</td><td>0.197532</td><td>5.28243</td><td>0.55535</td><td>0.997945 .. 1.14687e-07</td><td>1237662635827527838</td></tr>\n",
       "<tr><td>1723p052</td><td>535</td><td>DEV</td><td>172.256449051</td><td>5.15534988054</td><td>3131.2</td><td>499.064</td><td>1.39068</td><td>1.64243</td><td>1.29756</td><td>1.0</td><td>0.0</td><td>0.0</td><td>0.0</td><td>2.22756</td><td>-0.0689169</td><td>-0.0771592</td><td>644295</td><td>0.214288</td><td>5.23667</td><td>0.554384</td><td>0.807443 .. 1.81045e-06</td><td>1237654605867909271</td></tr>\n",
       "<tr><td>1468p010</td><td>434</td><td>DEV</td><td>146.902077081</td><td>0.89975035033</td><td>1427.49</td><td>422.024</td><td>1.27974</td><td>1.11783</td><td>1.42131</td><td>1.0</td><td>0.0</td><td>0.0</td><td>0.0</td><td>1.83894</td><td>0.172556</td><td>0.0429589</td><td>648986</td><td>0.25478</td><td>5.31294</td><td>0.55599</td><td>0.996705 .. 3.77665e-09</td><td>1237651752385249517</td></tr>\n",
       "<tr><td>1852p135</td><td>320</td><td>DEV</td><td>185.153816381</td><td>13.3944448881</td><td>3271.07</td><td>349.45</td><td>1.37073</td><td>1.34136</td><td>1.26296</td><td>1.0</td><td>0.0</td><td>0.0</td><td>0.0</td><td>7.83861</td><td>-0.0404123</td><td>0.264033</td><td>687689</td><td>0.0640215</td><td>5.12988</td><td>0.552105</td><td>0.99997 .. 4.67617e-11</td><td>1237661813885567057</td></tr>\n",
       "<tr><td>2073p010</td><td>1045</td><td>DEV</td><td>207.384600563</td><td>0.92897188101</td><td>1667.6</td><td>823.541</td><td>1.30431</td><td>1.24712</td><td>1.25775</td><td>1.0</td><td>0.0</td><td>0.0</td><td>0.0</td><td>2.55537</td><td>-0.0645966</td><td>0.125834</td><td>687936</td><td>0.267175</td><td>5.67906</td><td>0.56345</td><td>0.999997 .. 5.56408e-10</td><td>1237648705661305075</td></tr>\n",
       "<tr><td>1699p122</td><td>2953</td><td>DEV</td><td>169.887057302</td><td>12.2332606804</td><td>1980.93</td><td>1569.5</td><td>1.29972</td><td>1.15464</td><td>1.31039</td><td>1.0</td><td>0.0</td><td>0.0</td><td>0.0</td><td>1.65145</td><td>0.0528411</td><td>-0.0815445</td><td>695620</td><td>0.231967</td><td>5.61804</td><td>0.562234</td><td>0.64034 .. 4.17529e-06</td><td>1237661812805271646</td></tr>\n",
       "</table>"
      ],
      "text/plain": [
       "<Table length=1562>\n",
       "brickname objid  type  ... r_lambda        p_cen [5]             sdss_objid    \n",
       "  bytes8  int32 bytes4 ... float32          float32                int64       \n",
       "--------- ----- ------ ... -------- ----------------------- -------------------\n",
       " 2407p032  4026    DEV ...  1.05723 0.721982 .. 4.28665e-06 1237662266469188216\n",
       " 2278p057  5532    DEV ... 0.983183 0.963504 .. 0.000389366 1237658780557836303\n",
       " 1811p040  1493    DEV ... 0.927287 0.979776 .. 1.40008e-06 1237654604261163234\n",
       " 1848m032  1156    DEV ... 0.974272  0.97535 .. 5.53822e-07 1237650760782053596\n",
       " 1536m007    48    DEV ... 0.851089 0.717347 .. 2.24481e-05 1237648720145416348\n",
       " 0058m002  4896   COMP ... 0.556627 0.918813 .. 0.000639038 1237657190907707631\n",
       " 3361p002  4916    DEV ... 0.895086 0.997986 .. 5.30439e-06 1237663543685480733\n",
       " 2217p085  3528   COMP ...  1.00881      1.0 .. 1.82226e-09 1237662264319738193\n",
       " 3423m007  5605   COMP ... 0.916344 0.999959 .. 1.39626e-07 1237660025032933633\n",
       " 2029p050   245    DEV ... 0.891878 0.995969 .. 1.59502e-08 1237671956443496579\n",
       "      ...   ...    ... ...      ...                     ...                 ...\n",
       " 2188m007  4682    DEV ... 0.571967 0.595463 .. 2.24892e-07 1237648703518867757\n",
       " 1397p265  2427   COMP ... 0.556309 0.780748 .. 8.44617e-06 1237665098462331122\n",
       " 2262p097  3840   COMP ...  0.55977 0.993237 .. 7.43685e-08 1237661950272340033\n",
       " 2003p015  3159   COMP ...  0.55276 0.988864 .. 1.97844e-09 1237651735228973335\n",
       " 2145p120  4975    DEV ...  0.55535 0.997945 .. 1.14687e-07 1237662635827527838\n",
       " 1723p052   535    DEV ... 0.554384 0.807443 .. 1.81045e-06 1237654605867909271\n",
       " 1468p010   434    DEV ...  0.55599 0.996705 .. 3.77665e-09 1237651752385249517\n",
       " 1852p135   320    DEV ... 0.552105  0.99997 .. 4.67617e-11 1237661813885567057\n",
       " 2073p010  1045    DEV ...  0.56345 0.999997 .. 5.56408e-10 1237648705661305075\n",
       " 1699p122  2953    DEV ... 0.562234  0.64034 .. 4.17529e-06 1237661812805271646"
      ]
     },
     "execution_count": 9,
     "metadata": {},
     "output_type": "execute_result"
    }
   ],
   "source": [
    "sample = legacyhalos.io.read_sample()\n",
    "sample"
   ]
  },
  {
   "cell_type": "code",
   "execution_count": null,
   "metadata": {},
   "outputs": [],
   "source": []
  }
 ],
 "metadata": {
  "kernelspec": {
   "display_name": "Python 3",
   "language": "python",
   "name": "python3"
  },
  "language_info": {
   "codemirror_mode": {
    "name": "ipython",
    "version": 3
   },
   "file_extension": ".py",
   "mimetype": "text/x-python",
   "name": "python",
   "nbconvert_exporter": "python",
   "pygments_lexer": "ipython3",
   "version": "3.6.4"
  }
 },
 "nbformat": 4,
 "nbformat_minor": 2
}
