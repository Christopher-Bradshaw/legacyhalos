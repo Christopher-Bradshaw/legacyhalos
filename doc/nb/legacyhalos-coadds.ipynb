{
 "cells": [
  {
   "cell_type": "markdown",
   "metadata": {},
   "source": [
    "# LegacyHalos Coadds\n",
    "\n",
    "The goal of this notebook is to generate LegacySurvey (*grzW1W2*) coadds of all the central galaxies (and their surrounding groups and clusters) in the legacyhalos parent sample (*legacyhalos-upenn-parent.fits*).\n",
    "\n",
    "Please note:\n",
    "* This notebook must be run from the jupyter-dev.nersc.gov notebook server in order to access the LegacySurvey data.\n",
    "* We assume that the \\$LEGACYHALOS_DIR directory exists (in $CSCRATCH) with all the latest parent catalogs.\n",
    "* We do not yet build unWISE coadds.\n",
    "* We assume the DECam pixel scale (since we use just DR5 data).\n",
    "* The code will not handle clusters that span one or more bricks -- a ToDo would be to define custom bricks and generate custom Tractor catalogs."
   ]
  },
  {
   "cell_type": "markdown",
   "metadata": {},
   "source": [
    "### Imports"
   ]
  },
  {
   "cell_type": "code",
   "execution_count": 1,
   "metadata": {},
   "outputs": [],
   "source": [
    "import os, sys, subprocess"
   ]
  },
  {
   "cell_type": "code",
   "execution_count": 4,
   "metadata": {
    "collapsed": true
   },
   "outputs": [],
   "source": [
    "from astropy.io import fits\n",
    "from astropy.cosmology import WMAP9 as cosmo"
   ]
  },
  {
   "cell_type": "code",
   "execution_count": 5,
   "metadata": {
    "collapsed": true
   },
   "outputs": [],
   "source": [
    "from legacypipe.survey import LegacySurveyData\n",
    "from astrometry.util.fits import fits_table"
   ]
  },
  {
   "cell_type": "code",
   "execution_count": 6,
   "metadata": {
    "collapsed": true
   },
   "outputs": [],
   "source": [
    "from astrometry.util.multiproc import multiproc\n",
    "mp = multiproc()"
   ]
  },
  {
   "cell_type": "code",
   "execution_count": 7,
   "metadata": {
    "collapsed": true
   },
   "outputs": [],
   "source": [
    "source /project/projectdirs/desi/software/desi_environment.sh {}"
   ]
  },
  {
   "cell_type": "code",
   "execution_count": 2,
   "metadata": {},
   "outputs": [],
   "source": [
    "nodes = 15"
   ]
  },
  {
   "cell_type": "code",
   "execution_count": null,
   "metadata": {},
   "outputs": [],
   "source": [
    "logfilename = os.path.join(reduxdir, 'run', 'logs', 'redrock.log')\n",
    "print('Running redrock batch job')\n",
    "print('Should take ~30 minutes; starting at {}'.format(time.asctime()))\n",
    "print('Logging to {}'.format(logfilename))\n",
    "with open(logfilename, 'w') as logfile:\n",
    "    cmd = 'srun -A desi -N {nodes} -n {nodes} -c 64 -t 1:00:00 -C haswell --qos interactive --cpu_bind=cores'\n",
    "    cmd += ' {minitestdir}/wrap-redrock --mpi --ncpu 32'\n",
    "    cmd = cmd.format(nodes=nodes, minitestdir=minitestdir)\n",
    "    err = subprocess.call(cmd.split(), stdout=logfile, stderr=logfile)\n",
    "    if err != 0:\n",
    "        print('redrock returned error {}; see {}'.format(err, logfilename))\n",
    "    else:\n",
    "        print('done')"
   ]
  },
  {
   "cell_type": "markdown",
   "metadata": {},
   "source": [
    "### Paths, filenames, and other preliminaries."
   ]
  },
  {
   "cell_type": "code",
   "execution_count": 8,
   "metadata": {},
   "outputs": [],
   "source": [
    "legacyhalos_dir = os.path.join( os.getenv('SCRATCH'), 'legacyhalos' )\n",
    "dr5_dir = os.path.join(os.sep, 'project', 'projectdirs', 'cosmo', 'data', 'legacysurvey', 'dr5')\n",
    "parentfile = os.path.join(legacyhalos_dir, 'legacyhalos-upenn-parent.fits')"
   ]
  },
  {
   "cell_type": "code",
   "execution_count": 9,
   "metadata": {
    "collapsed": true
   },
   "outputs": [],
   "source": [
    "coaddsdir = os.path.join(legacyhalos_dir, 'coadds')\n",
    "if not os.path.exists(coaddsdir):\n",
    "    os.makedirs(coaddsdir)"
   ]
  },
  {
   "cell_type": "code",
   "execution_count": 10,
   "metadata": {
    "collapsed": true
   },
   "outputs": [],
   "source": [
    "bands = ['g', 'r', 'z']"
   ]
  },
  {
   "cell_type": "code",
   "execution_count": 11,
   "metadata": {
    "collapsed": true
   },
   "outputs": [],
   "source": [
    "survey = LegacySurveyData(cache_dir=dr5_dir)"
   ]
  },
  {
   "cell_type": "markdown",
   "metadata": {},
   "source": [
    "### Read the Tractor photometry from the parent catalog."
   ]
  },
  {
   "cell_type": "code",
   "execution_count": 12,
   "metadata": {},
   "outputs": [
    {
     "name": "stdout",
     "output_type": "stream",
     "text": [
      "Converted brickname from |S8 to <U8\n",
      "Converted type from |S4 to <U4\n",
      "Converted wise_coadd_id from |S8 to <U8\n",
      "Read 1562 galaxies from /global/cscratch1/sd/ioannis/legacyhalos/legacyhalos-upenn-parent.fits\n"
     ]
    }
   ],
   "source": [
    "bcgphot = fits_table(parentfile, ext='LSPHOT')\n",
    "redcat = fits_table(parentfile, ext='REDMAPPER')\n",
    "print('Read {} galaxies from {}'.format(len(bcgphot), parentfile))"
   ]
  },
  {
   "cell_type": "markdown",
   "metadata": {},
   "source": [
    "### Get the desired radius of the cutout for each central.\n",
    "\n",
    "To get a sensible radius we use the quantity R_LAMBDA from the redmapper cluster catalog, which quantifies the \"richness radius\" in h^-1 Mpc and convert it to pixels using a standard cosmology, times a fudge factor (currently 1.5).  \n",
    "\n",
    "Note that we assume the DECam pixel scale of 0.262 arcsec/pix!\n",
    "\n",
    "Finally, we bound the radius to the interval [50, 500] pixels."
   ]
  },
  {
   "cell_type": "code",
   "execution_count": null,
   "metadata": {
    "collapsed": true
   },
   "outputs": [],
   "source": [
    "def coadds_radius(redcat, pixscale=0.262, factor=1.5, rmin=50, rmax=500):\n",
    "    \"\"\"Get the desired radius of each cluster in pixels \n",
    "    using the R_LAMBDA, which is the richness radius in \n",
    "    h^-1 Mpc.\n",
    "    \n",
    "    \"\"\"\n",
    "    print('NB: Assuming DECam data with pixel scale = {:.3f} arcsec/pix'.format(pixscale))\n",
    "    radius = redcat.r_lambda * 1e3 * cosmo.h # cluster radius in kpc\n",
    "    rad_arcsec = [factor * pixscale * rad * cosmo.arcsec_per_kpc_proper(cat.z).value for \n",
    "                  rad, cat in zip(radius, redcat)]\n",
    "    rad = np.array(rad_arcsec).astype('int16')\n",
    "    \n",
    "    rad[rad < rmin] = rmin\n",
    "    rad[rad > rmax] = rmax\n",
    "\n",
    "    return rad"
   ]
  },
  {
   "cell_type": "code",
   "execution_count": null,
   "metadata": {},
   "outputs": [],
   "source": [
    "radius = coadds_radius(redcat)"
   ]
  },
  {
   "cell_type": "code",
   "execution_count": null,
   "metadata": {},
   "outputs": [],
   "source": [
    "fig, ax = plt.subplots()\n",
    "ax.scatter(redcat.z, radius, s=15, alpha=0.7)\n",
    "ax.set_xlabel('Redshift')\n",
    "ax.set_ylabel('Radius (pixels)')\n",
    "ax.axhline(y=50, ls='--', color='k')"
   ]
  },
  {
   "cell_type": "markdown",
   "metadata": {},
   "source": [
    "###  Generate image coadds centered on each central galaxy."
   ]
  },
  {
   "cell_type": "code",
   "execution_count": null,
   "metadata": {
    "collapsed": true
   },
   "outputs": [],
   "source": [
    "def coadds_stage_tims(bcg, radius=100):\n",
    "    \"\"\"Initialize the first step of the pipeline, returning\n",
    "    a dictionary with the following keys:\n",
    "    \n",
    "    ['brickid', 'target_extent', 'version_header', \n",
    "     'targetrd', 'brickname', 'pixscale', 'bands', \n",
    "     'survey', 'brick', 'ps', 'H', 'ccds', 'W', \n",
    "     'targetwcs', 'tims']\n",
    "\n",
    "    \"\"\"\n",
    "    from legacypipe.runbrick import stage_tims\n",
    "    \n",
    "    bbox = [bcg.bx-radius, bcg.bx+radius, bcg.by-radius, bcg.by+radius]\n",
    "    P = stage_tims(brickname=bcg.brickname, survey=survey, target_extent=bbox,\n",
    "                   pixPsf=True, hybridPsf=True, depth_cut=False, mp=mp)\n",
    "    return P"
   ]
  },
  {
   "cell_type": "code",
   "execution_count": null,
   "metadata": {
    "collapsed": true
   },
   "outputs": [],
   "source": [
    "def read_tractor(bcg, targetwcs, verbose=True):\n",
    "    \"\"\"Read the full Tractor catalog for a given brick \n",
    "    and remove the BCG.\n",
    "    \n",
    "    \"\"\"\n",
    "    H, W = targetwcs.shape\n",
    "\n",
    "    # Read the full Tractor catalog.\n",
    "    fn = survey.find_file('tractor', brick=bcg.brickname)\n",
    "    cat = fits_table(fn)\n",
    "    if verbose:\n",
    "        print('Read {} sources from {}'.format(len(cat), fn))\n",
    "    \n",
    "    # Restrict to just the sources in our little box. \n",
    "    ok, xx, yy = targetwcs.radec2pixelxy(cat.ra, cat.dec)\n",
    "    cat.cut(np.flatnonzero((xx > 0) * (xx < W) * (yy > 0) * (yy < H)))\n",
    "    if verbose:\n",
    "        print('Cut to {} sources within our box.'.format(len(cat)))\n",
    "    \n",
    "    # Remove the central galaxy.\n",
    "    cat.cut(np.flatnonzero(cat.objid != bcg.objid))\n",
    "    if verbose:\n",
    "        print('Removed central galaxy with objid = {}'.format(bcg.objid))\n",
    "        \n",
    "    return cat"
   ]
  },
  {
   "cell_type": "code",
   "execution_count": null,
   "metadata": {
    "collapsed": true
   },
   "outputs": [],
   "source": [
    "def build_model_image(cat, tims, verbose=True):\n",
    "    \"\"\"Generate a model image by rendering each source.\n",
    "    \n",
    "    \"\"\"\n",
    "    from legacypipe.catalog import read_fits_catalog\n",
    "    from legacypipe.runbrick import _get_mod\n",
    "    \n",
    "    if verbose:\n",
    "        print('Creating tractor sources...')\n",
    "    srcs = read_fits_catalog(cat, fluxPrefix='')\n",
    "    \n",
    "    if False:\n",
    "        print('Sources:')\n",
    "        [print(' ', src) for src in srcs]\n",
    "\n",
    "    if verbose:\n",
    "        print('Rendering model images...')\n",
    "    mods = [_get_mod((tim, srcs)) for tim in tims]\n",
    "\n",
    "    return mods"
   ]
  },
  {
   "cell_type": "code",
   "execution_count": null,
   "metadata": {},
   "outputs": [],
   "source": [
    "def build_coadds(bcg, targetwcs, tims, mods, version_header, verbose=True):\n",
    "    \"\"\"Generate individual-band FITS and color coadds for each central.\n",
    "    \n",
    "    \"\"\"\n",
    "    from legacypipe.coadds import make_coadds, write_coadd_images\n",
    "    from legacypipe.runbrick import rgbkwargs, rgbkwargs_resid\n",
    "    from legacypipe.survey import get_rgb, imsave_jpeg\n",
    "    \n",
    "    if verbose:\n",
    "        print('Producing coadds...')\n",
    "    C = make_coadds(tims, bands, targetwcs, mods=mods, mp=mp,\n",
    "                    callback=write_coadd_images,\n",
    "                    callback_args=(survey, bcg.brickname, version_header, \n",
    "                                   tims, targetwcs)\n",
    "                    )\n",
    "    \n",
    "    # Move (rename) the coadds into the desired output directory.\n",
    "    for suffix in ('chi2', 'image', 'invvar', 'model'):\n",
    "        for band in bands:\n",
    "            oldfile = os.path.join(survey.output_dir, 'coadd', bcg.brickname[:3], \n",
    "                                   bcg.brickname, 'legacysurvey-{}-{}-{}.fits.fz'.format(\n",
    "                    bcg.brickname, suffix, band))\n",
    "            newfile = os.path.join(survey.output_dir, '{:05d}-{}-{}.fits.fz'.format(bcg.objid, suffix, band))\n",
    "            shutil.move(oldfile, newfile)\n",
    "    shutil.rmtree(os.path.join(survey.output_dir, 'coadd'))\n",
    "    \n",
    "    # Build png postage stamps of the coadds.\n",
    "    coadd_list = [('image', C.coimgs,   rgbkwargs),\n",
    "                  ('model', C.comods,   rgbkwargs),\n",
    "                  ('resid', C.coresids, rgbkwargs_resid)]\n",
    "\n",
    "    for name, ims, rgbkw in coadd_list:\n",
    "        rgb = get_rgb(ims, bands, **rgbkw)\n",
    "        kwa = {}\n",
    "        outfn = os.path.join(survey.output_dir, '{:05d}-{}.jpg'.format(bcg.objid, name))\n",
    "        if verbose:\n",
    "            print('Writing {}'.format(outfn))\n",
    "        imsave_jpeg(outfn, rgb, origin='lower', **kwa)\n",
    "        del rgb"
   ]
  },
  {
   "cell_type": "code",
   "execution_count": null,
   "metadata": {
    "collapsed": true
   },
   "outputs": [],
   "source": [
    "#for ii in range(bcgphot):\n",
    "for ii in range(2):\n",
    "    survey.output_dir = os.path.join(coaddsdir, '{:05d}'.format(bcgphot[ii].objid))\n",
    "\n",
    "    # Step 1 - Set up the first stage of the pipeline.\n",
    "    P = coadds_stage_tims(bcgphot[ii], radius=radius[ii])\n",
    "    \n",
    "    # Step 2 - Read the Tractor catalog for this brick and remove the central.\n",
    "    cat = read_tractor(bcgphot[ii], P['targetwcs'])\n",
    "           \n",
    "    # Step 3 - Render the model images without the central.\n",
    "    mods = build_model_image(cat, tims=P['tims'])\n",
    "\n",
    "    # Step 4 - Generate and write out the coadds.\n",
    "    build_coadds(bcgphot[ii], P['targetwcs'], P['tims'], mods, P['version_header'])"
   ]
  },
  {
   "cell_type": "code",
   "execution_count": null,
   "metadata": {
    "collapsed": true
   },
   "outputs": [],
   "source": []
  }
 ],
 "metadata": {
  "anaconda-cloud": {},
  "kernelspec": {
   "display_name": "Python [default]",
   "language": "python",
   "name": "python3"
  },
  "language_info": {
   "codemirror_mode": {
    "name": "ipython",
    "version": 3
   },
   "file_extension": ".py",
   "mimetype": "text/x-python",
   "name": "python",
   "nbconvert_exporter": "python",
   "pygments_lexer": "ipython3",
   "version": "3.6.1"
  }
 },
 "nbformat": 4,
 "nbformat_minor": 1
}
