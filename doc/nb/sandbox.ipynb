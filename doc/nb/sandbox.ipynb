{
 "cells": [
  {
   "cell_type": "code",
   "execution_count": 104,
   "metadata": {
    "collapsed": true
   },
   "outputs": [],
   "source": [
    "import os\n",
    "import numpy as np\n",
    "from scipy.stats import kde, binned_statistic\n",
    "from matplotlib.ticker import FormatStrFormatter, MultipleLocator\n",
    "import matplotlib.pyplot as plt"
   ]
  },
  {
   "cell_type": "code",
   "execution_count": 2,
   "metadata": {
    "collapsed": true
   },
   "outputs": [],
   "source": [
    "from astropy.io import fits\n",
    "from astropy.table import Table"
   ]
  },
  {
   "cell_type": "code",
   "execution_count": 91,
   "metadata": {},
   "outputs": [],
   "source": [
    "import seaborn as sns\n",
    "sns.set(context='talk', style='ticks', font_scale=1.3)#, palette='Set1')"
   ]
  },
  {
   "cell_type": "code",
   "execution_count": 4,
   "metadata": {
    "collapsed": true
   },
   "outputs": [],
   "source": [
    "import legacyhalos.io"
   ]
  },
  {
   "cell_type": "code",
   "execution_count": 5,
   "metadata": {
    "collapsed": true
   },
   "outputs": [],
   "source": [
    "%matplotlib inline"
   ]
  },
  {
   "cell_type": "code",
   "execution_count": 6,
   "metadata": {
    "collapsed": true
   },
   "outputs": [],
   "source": [
    "def lambda2mhalo(richness, redshift=0.3, Saro=False):\n",
    "    \"\"\"\n",
    "    Convert cluster richness, lambda, to halo mass, given various \n",
    "    calibrations.\n",
    "    \n",
    "      * Saro et al. 2015: Equation (7) and Table 2 gives M(500).\n",
    "      * Melchior et al. 2017: Equation (51) and Table 4 gives M(200).\n",
    "      * Simet et al. 2017: \n",
    "    \n",
    "    Other SDSS-based calibrations: Li et al. 2016; Miyatake et al. 2016; \n",
    "    Farahi et al. 2016; Baxter et al. 2016.\n",
    "\n",
    "    TODO: Return the variance!\n",
    "\n",
    "    \"\"\"\n",
    "    if Saro:\n",
    "        pass\n",
    "    \n",
    "    # Melchior et al. 2017 (default)\n",
    "    logM0, Flam, Gz, lam0, z0 = 14.371, 1.12, 0.18, 30.0, 0.5\n",
    "    Mhalo = 10**logM0 * (richness / lam0)**Flam * ( (1 + redshift) / (1 + z0) )**Gz\n",
    "    \n",
    "    return Mhalo"
   ]
  },
  {
   "cell_type": "code",
   "execution_count": 11,
   "metadata": {},
   "outputs": [
    {
     "data": {
      "text/plain": [
       "<tabledata object with 53441 rows and 4 columns: mstar_avg, sfr100_avg, z, lambda_chisq>"
      ]
     },
     "execution_count": 11,
     "metadata": {},
     "output_type": "execute_result"
    }
   ],
   "source": [
    "cat = legacyhalos.io.read_catalog(extname='LSPHOT-ISEDFIT', upenn=False, \n",
    "                                   isedfit=True, columns=('mstar_avg', 'sfr100_avg'))\n",
    "cat1 = legacyhalos.io.read_catalog(extname='REDMAPPER', upenn=False, \n",
    "                                   isedfit=False, columns=('Z', 'LAMBDA_CHISQ'))\n",
    "cat.add_columns_from(cat1)\n",
    "cat"
   ]
  },
  {
   "cell_type": "code",
   "execution_count": 15,
   "metadata": {},
   "outputs": [
    {
     "data": {
      "text/plain": [
       "array([ 15.18095684,  15.2603302 ,  14.94951439, ...,  13.64984703,\n",
       "        13.81003761,  13.82654667], dtype=float32)"
      ]
     },
     "execution_count": 15,
     "metadata": {},
     "output_type": "execute_result"
    }
   ],
   "source": [
    "mhalo = np.log10(lambda2mhalo(cat.lambda_chisq, redshift=cat.z))\n",
    "mhalo"
   ]
  },
  {
   "cell_type": "code",
   "execution_count": 24,
   "metadata": {
    "collapsed": true
   },
   "outputs": [],
   "source": [
    "bins = 35"
   ]
  },
  {
   "cell_type": "code",
   "execution_count": 25,
   "metadata": {},
   "outputs": [
    {
     "name": "stdout",
     "output_type": "stream",
     "text": [
      "0.0509601593018\n"
     ]
    }
   ],
   "source": [
    "mstar_med, bin_edges, _ = binned_statistic(mhalo, cat.mstar_avg, statistic='median', bins=bins)\n",
    "bin_width = (bin_edges[1] - bin_edges[0])\n",
    "mhalo_med = bin_edges[1:] - bin_width/2\n",
    "print(bin_width)"
   ]
  },
  {
   "cell_type": "code",
   "execution_count": 26,
   "metadata": {
    "collapsed": true
   },
   "outputs": [],
   "source": [
    "def p75(x):\n",
    "    return np.percentile(x, 75)\n",
    "def p25(x):\n",
    "    return np.percentile(x, 25)"
   ]
  },
  {
   "cell_type": "code",
   "execution_count": 29,
   "metadata": {
    "collapsed": true
   },
   "outputs": [],
   "source": [
    "mstar_p25, _, _ = binned_statistic(mhalo, cat.mstar_avg, statistic=p25, bins=bins)\n",
    "mstar_p75, _, _ = binned_statistic(mhalo, cat.mstar_avg, statistic=p75, bins=bins)"
   ]
  },
  {
   "cell_type": "code",
   "execution_count": 58,
   "metadata": {
    "collapsed": true
   },
   "outputs": [],
   "source": [
    "krav = dict()\n",
    "krav['m500'] = np.log10(np.array([15.6,10.3,7,5.34,2.35,1.86,1.34,0.46,0.47])*1e14)\n",
    "krav['mbcg'] = np.array([3.12,4.14,3.06,1.47,0.79,1.26,1.09,0.91,1.38])*1e12\n",
    "krav['mbcg_err'] = np.array([0.36,0.3,0.3,0.13,0.05,0.11,0.06,0.05,0.14])*1e12\n",
    "krav['mbcg_err'] = krav['mbcg_err'] / krav['mbcg'] / np.log(10)\n",
    "krav['mbcg'] = np.log10(krav['mbcg'])"
   ]
  },
  {
   "cell_type": "code",
   "execution_count": 59,
   "metadata": {
    "collapsed": true
   },
   "outputs": [],
   "source": [
    "gonz = dict()\n",
    "gonz['mbcg'] = np.array([0.84,0.87,0.33,0.57,0.85,0.60,0.86,0.93,0.71,0.81,0.70,0.57])*1e12*2.65\n",
    "gonz['mbcg_err'] = np.array([0.03,0.09,0.01,0.01,0.14,0.03,0.03,0.05,0.07,0.12,0.02,0.01])*1e12*2.65\n",
    "gonz['m500'] = np.array([2.26,5.15,0.95,3.46,3.59,0.99,0.95,3.23,2.26,2.41,2.37,1.45])*1e14\n",
    "gonz['m500_err'] = np.array([0.19,0.42,0.1,0.32,0.28,0.11,0.1,0.19,0.23,0.18,0.24,0.21])*1e14\n",
    "gonz['mbcg_err'] = gonz['mbcg_err'] / gonz['mbcg'] / np.log(10)\n",
    "gonz['mbcg'] = np.log10(gonz['mbcg'])\n",
    "gonz['m500'] = np.log10(gonz['m500'])"
   ]
  },
  {
   "cell_type": "code",
   "execution_count": 123,
   "metadata": {},
   "outputs": [
    {
     "data": {
      "text/plain": [
       "<matplotlib.text.Text at 0x1a1dbc7a58>"
      ]
     },
     "execution_count": 123,
     "metadata": {},
     "output_type": "execute_result"
    },
    {
     "data": {
      "image/png": "[encoded data removed]",
      "text/plain": [
       "<matplotlib.figure.Figure at 0x1a1be72438>"
      ]
     },
     "metadata": {},
     "output_type": "display_data"
    }
   ],
   "source": [
    "fig, ax = plt.subplots(figsize=(8, 6))\n",
    "\n",
    "colors = iter(sns.color_palette())\n",
    "\n",
    "rich = cat.lambda_chisq > 100\n",
    "ax.plot(mhalo_med, mstar_med, color='k', ls='-', lw=3, alpha=0.5)\n",
    "ax.plot(mhalo_med, mstar_p75, color='k', ls='--', lw=3, alpha=0.5)\n",
    "ax.plot(mhalo_med, mstar_p25, color='k', ls='--', lw=3, alpha=0.5)\n",
    "\n",
    "g = ax.errorbar(gonz['m500'], gonz['mbcg'], yerr=gonz['mbcg_err'], color=next(colors),\n",
    "                fmt='o', label='Gonzalez+13', markersize=10)\n",
    "k = ax.errorbar(krav['m500'], krav['mbcg'], yerr=krav['mbcg_err'], color=next(colors),\n",
    "                fmt='s', label='Kravtsov+14', markersize=10)\n",
    "r = ax.scatter(mhalo[rich], cat.mstar_avg[rich], alpha=0.9, color=next(colors),\n",
    "               edgecolor='k', marker='D', s=50, label=r'redMaPPer ($\\lambda>100$)')\n",
    "\n",
    "ax.text(0.12, 0.16, 'redMaPPer\\n$0.1<z<0.3$', multialignment='center',\n",
    "        transform=ax.transAxes, fontsize=14)\n",
    "m500 = np.linspace(13.55, 15.25, 50)\n",
    "ff = ax.plot(m500, np.polyval([0.33, 12.24], m500-14.5), ls='-', \n",
    "            color='k', label=r'$M_{*}\\propto M_{500}^{0.33}$')\n",
    "ax.text(0.12, 0.9, r'$M_{*}\\propto M_{500}^{0.33}$', multialignment='center',\n",
    "        transform=ax.transAxes, fontsize=16)\n",
    "ax.plot([13.55, 13.68], [12.8, 12.8], ls='-', color='k') # hack!!!\n",
    "\n",
    "#ax.xaxis.set_major_formatter(FormatStrFormatter('%.1f'))\n",
    "ax.xaxis.set_major_locator(MultipleLocator(0.5))\n",
    "\n",
    "hh = [g, k, r]\n",
    "ax.legend(hh, [H.get_label() for H in hh], loc='lower right',\n",
    "          frameon=True, fontsize=16)\n",
    "#ax.legend(ff, ff.get_label(), loc='upper left',\n",
    "#          frameon=True, fontsize=16)\n",
    "#ax.legend(loc='upper left', frameon=True, fontsize=16)\n",
    "\n",
    "ax.set_ylim(10.5, 13)\n",
    "ax.set_xlim(13.5, 15.3)\n",
    "ax.set_xlabel(r'$\\log_{10}\\, (M_{500}\\ /\\ M_{\\odot})$')\n",
    "ax.set_ylabel(r'$\\log_{10}\\, (M_{*}\\ /\\ M_{\\odot})$')"
   ]
  },
  {
   "cell_type": "code",
   "execution_count": 116,
   "metadata": {},
   "outputs": [
    {
     "data": {
      "text/plain": [
       "[<matplotlib.lines.Line2D at 0x1a1d32f780>]"
      ]
     },
     "execution_count": 116,
     "metadata": {},
     "output_type": "execute_result"
    }
   ],
   "source": [
    "ff"
   ]
  },
  {
   "cell_type": "code",
   "execution_count": 8,
   "metadata": {},
   "outputs": [
    {
     "ename": "NameError",
     "evalue": "name 'stop' is not defined",
     "output_type": "error",
     "traceback": [
      "\u001b[0;31m---------------------------------------------------------------------------\u001b[0m",
      "\u001b[0;31mNameError\u001b[0m                                 Traceback (most recent call last)",
      "\u001b[0;32m<ipython-input-8-30d9529ff51c>\u001b[0m in \u001b[0;36m<module>\u001b[0;34m()\u001b[0m\n\u001b[0;32m----> 1\u001b[0;31m \u001b[0mstop\u001b[0m\u001b[0;34m\u001b[0m\u001b[0m\n\u001b[0m",
      "\u001b[0;31mNameError\u001b[0m: name 'stop' is not defined"
     ]
    }
   ],
   "source": [
    "stop"
   ]
  },
  {
   "cell_type": "code",
   "execution_count": null,
   "metadata": {},
   "outputs": [],
   "source": [
    "cat"
   ]
  },
  {
   "cell_type": "code",
   "execution_count": null,
   "metadata": {
    "collapsed": true
   },
   "outputs": [],
   "source": [
    "legacyhalos_dir = os.getenv('LEGACYHALOS_DIR')"
   ]
  },
  {
   "cell_type": "code",
   "execution_count": null,
   "metadata": {
    "collapsed": true
   },
   "outputs": [],
   "source": [
    "parentfile = os.path.join(legacyhalos_dir, 'legacyhalos-parent-isedfit.fits')"
   ]
  },
  {
   "cell_type": "code",
   "execution_count": null,
   "metadata": {},
   "outputs": [],
   "source": [
    "ls = Table(fits.getdata(parentfile, extname='LSPHOT-ISEDFIT'))\n",
    "ls"
   ]
  },
  {
   "cell_type": "code",
   "execution_count": null,
   "metadata": {},
   "outputs": [],
   "source": [
    "_ = plt.hist(ls['MSTAR_AVG'], bins=100)"
   ]
  },
  {
   "cell_type": "code",
   "execution_count": null,
   "metadata": {},
   "outputs": [],
   "source": [
    "_ = plt.hist(sdss['MSTAR_AVG'], bins=100)"
   ]
  },
  {
   "cell_type": "code",
   "execution_count": null,
   "metadata": {},
   "outputs": [],
   "source": [
    "_ = plt.hist(sdss['MSTAR_AVG'] - ls['MSTAR_AVG'], bins=200)\n",
    "plt.xlim(-0.5, 0.5)"
   ]
  },
  {
   "cell_type": "code",
   "execution_count": null,
   "metadata": {},
   "outputs": [],
   "source": [
    "sdss = Table(fits.getdata(parentfile, extname='SDSSPHOT-ISEDFIT'))\n",
    "sdss"
   ]
  },
  {
   "cell_type": "code",
   "execution_count": null,
   "metadata": {},
   "outputs": [],
   "source": [
    "data = np.vstack( (ls['MSTAR_AVG'], sdss['MSTAR_AVG'] - ls['MSTAR_AVG']))\n",
    "data.shape"
   ]
  },
  {
   "cell_type": "code",
   "execution_count": null,
   "metadata": {},
   "outputs": [],
   "source": [
    "k = kde.gaussian_kde(data.T)\n",
    "#xi, yi = np.mgrid[x.min():x.max():nbins*1j, y.min():y.max():nbins*1j]\n",
    "#zi = k(np.vstack([xi.flatten(), yi.flatten()]))"
   ]
  },
  {
   "cell_type": "code",
   "execution_count": null,
   "metadata": {},
   "outputs": [],
   "source": [
    "fig, ax = plt.subplots()\n",
    "ax.hexbin(ls['MSTAR_AVG'], sdss['MSTAR_AVG'] - ls['MSTAR_AVG'],\n",
    "          mincnt=1)"
   ]
  },
  {
   "cell_type": "code",
   "execution_count": null,
   "metadata": {},
   "outputs": [],
   "source": [
    "sns.jointplot(ls['MSTAR_AVG'], sdss['MSTAR_AVG'] - ls['MSTAR_AVG'], \n",
    "              kind=\"kde\", color=\"#4CB391\", xlim=(10, 13), ylim=(-0.5, 0.5))"
   ]
  },
  {
   "cell_type": "code",
   "execution_count": null,
   "metadata": {},
   "outputs": [],
   "source": [
    "sns.kdeplot(ls['MSTAR_AVG'], sdss['MSTAR_AVG'] - ls['MSTAR_AVG'], \n",
    "            cmap=\"Blues\", shade=True, shade_lowest=True, cbar=True,\n",
    "            cut=0,\n",
    "           )"
   ]
  },
  {
   "cell_type": "code",
   "execution_count": null,
   "metadata": {},
   "outputs": [],
   "source": [
    "help(sns.kdeplot)"
   ]
  },
  {
   "cell_type": "code",
   "execution_count": null,
   "metadata": {
    "collapsed": true
   },
   "outputs": [],
   "source": []
  }
 ],
 "metadata": {
  "kernelspec": {
   "display_name": "Python 3",
   "language": "python",
   "name": "python3"
  },
  "language_info": {
   "codemirror_mode": {
    "name": "ipython",
    "version": 3
   },
   "file_extension": ".py",
   "mimetype": "text/x-python",
   "name": "python",
   "nbconvert_exporter": "python",
   "pygments_lexer": "ipython3",
   "version": "3.6.3"
  }
 },
 "nbformat": 4,
 "nbformat_minor": 2
}
