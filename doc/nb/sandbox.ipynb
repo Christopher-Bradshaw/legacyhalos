{
 "cells": [
  {
   "cell_type": "code",
   "execution_count": 1,
   "metadata": {},
   "outputs": [],
   "source": [
    "import os\n",
    "import numpy as np\n",
    "from scipy.stats import kde, binned_statistic\n",
    "from matplotlib.ticker import FormatStrFormatter, MultipleLocator\n",
    "import matplotlib.pyplot as plt"
   ]
  },
  {
   "cell_type": "code",
   "execution_count": 2,
   "metadata": {},
   "outputs": [],
   "source": [
    "from astropy.io import fits\n",
    "from astropy.table import Table"
   ]
  },
  {
   "cell_type": "code",
   "execution_count": 3,
   "metadata": {},
   "outputs": [],
   "source": [
    "import seaborn as sns\n",
    "sns.set(context='talk', style='ticks', font_scale=1.3)#, palette='Set1')"
   ]
  },
  {
   "cell_type": "code",
   "execution_count": 4,
   "metadata": {},
   "outputs": [],
   "source": [
    "import legacyhalos.io\n",
    "from legacyhalos.qa import display_sersic_single"
   ]
  },
  {
   "cell_type": "code",
   "execution_count": 5,
   "metadata": {},
   "outputs": [],
   "source": [
    "%matplotlib inline"
   ]
  },
  {
   "cell_type": "code",
   "execution_count": 6,
   "metadata": {},
   "outputs": [
    {
     "name": "stdout",
     "output_type": "stream",
     "text": [
      "Read 1562 objects from /Users/ioannis/research/projects/legacyhalos/legacyhalos-parent-upenn.fits [LSPHOT]\n",
      "Read 1562 objects from /Users/ioannis/research/projects/legacyhalos/legacyhalos-parent-upenn.fits [REDMAPPER]\n",
      "Read 1562 objects from /Users/ioannis/research/projects/legacyhalos/legacyhalos-parent-upenn.fits [SDSSPHOT]\n",
      "Renaming column objid-->sdss_objid in [SDSSPHOT] extension.\n",
      "Sample contains 1 objects with first, last indices 7, 7\n"
     ]
    }
   ],
   "source": [
    "sample = legacyhalos.io.read_sample(first=7, last=7)\n",
    "objid, objdir = legacyhalos.io.get_objid(sample)\n",
    "sersic = legacyhalos.io.read_sersic(objid, objdir, model='single')\n",
    "#sersic"
   ]
  },
  {
   "cell_type": "code",
   "execution_count": 7,
   "metadata": {},
   "outputs": [
    {
     "data": {
      "image/png": "[encoded data removed]",
      "text/plain": [
       "<Figure size 576x360 with 2 Axes>"
      ]
     },
     "metadata": {},
     "output_type": "display_data"
    }
   ],
   "source": [
    "display_sersic_single(sersic)"
   ]
  },
  {
   "cell_type": "code",
   "execution_count": 8,
   "metadata": {},
   "outputs": [
    {
     "ename": "KeyError",
     "evalue": "'phot'",
     "output_type": "error",
     "traceback": [
      "\u001b[0;31m---------------------------------------------------------------------------\u001b[0m",
      "\u001b[0;31mKeyError\u001b[0m                                  Traceback (most recent call last)",
      "\u001b[0;32m<ipython-input-8-39b808b20d24>\u001b[0m in \u001b[0;36m<module>\u001b[0;34m()\u001b[0m\n\u001b[0;32m----> 1\u001b[0;31m \u001b[0msersic\u001b[0m\u001b[0;34m[\u001b[0m\u001b[0;34m'phot'\u001b[0m\u001b[0;34m]\u001b[0m\u001b[0;34m\u001b[0m\u001b[0m\n\u001b[0m",
      "\u001b[0;31mKeyError\u001b[0m: 'phot'"
     ]
    }
   ],
   "source": [
    "sersic['phot']"
   ]
  },
  {
   "cell_type": "code",
   "execution_count": null,
   "metadata": {},
   "outputs": [],
   "source": [
    "stop"
   ]
  },
  {
   "cell_type": "code",
   "execution_count": null,
   "metadata": {},
   "outputs": [],
   "source": [
    "def lambda2mhalo(richness, redshift=0.3, Saro=False):\n",
    "    \"\"\"\n",
    "    Convert cluster richness, lambda, to halo mass, given various \n",
    "    calibrations.\n",
    "    \n",
    "      * Saro et al. 2015: Equation (7) and Table 2 gives M(500).\n",
    "      * Melchior et al. 2017: Equation (51) and Table 4 gives M(200).\n",
    "      * Simet et al. 2017: \n",
    "    \n",
    "    Other SDSS-based calibrations: Li et al. 2016; Miyatake et al. 2016; \n",
    "    Farahi et al. 2016; Baxter et al. 2016.\n",
    "\n",
    "    TODO: Return the variance!\n",
    "\n",
    "    \"\"\"\n",
    "    if Saro:\n",
    "        pass\n",
    "    \n",
    "    # Melchior et al. 2017 (default)\n",
    "    logM0, Flam, Gz, lam0, z0 = 14.371, 1.12, 0.18, 30.0, 0.5\n",
    "    Mhalo = 10**logM0 * (richness / lam0)**Flam * ( (1 + redshift) / (1 + z0) )**Gz\n",
    "    \n",
    "    return Mhalo"
   ]
  },
  {
   "cell_type": "code",
   "execution_count": null,
   "metadata": {},
   "outputs": [],
   "source": [
    "cat = legacyhalos.io.read_catalog(extname='LSPHOT-ISEDFIT', upenn=False, \n",
    "                                   isedfit=True, columns=('mstar_avg', 'sfr100_avg'))\n",
    "cat1 = legacyhalos.io.read_catalog(extname='REDMAPPER', upenn=False, \n",
    "                                   isedfit=False, columns=('Z', 'LAMBDA_CHISQ'))\n",
    "cat.add_columns_from(cat1)\n",
    "cat"
   ]
  },
  {
   "cell_type": "code",
   "execution_count": null,
   "metadata": {},
   "outputs": [],
   "source": [
    "mhalo = np.log10(lambda2mhalo(cat.lambda_chisq, redshift=cat.z))\n",
    "mhalo"
   ]
  },
  {
   "cell_type": "code",
   "execution_count": null,
   "metadata": {},
   "outputs": [],
   "source": [
    "bins = 35"
   ]
  },
  {
   "cell_type": "code",
   "execution_count": null,
   "metadata": {},
   "outputs": [],
   "source": [
    "mstar_med, bin_edges, _ = binned_statistic(mhalo, cat.mstar_avg, statistic='median', bins=bins)\n",
    "bin_width = (bin_edges[1] - bin_edges[0])\n",
    "mhalo_med = bin_edges[1:] - bin_width/2\n",
    "print(bin_width)"
   ]
  },
  {
   "cell_type": "code",
   "execution_count": null,
   "metadata": {},
   "outputs": [],
   "source": [
    "def p75(x):\n",
    "    return np.percentile(x, 75)\n",
    "def p25(x):\n",
    "    return np.percentile(x, 25)"
   ]
  },
  {
   "cell_type": "code",
   "execution_count": null,
   "metadata": {},
   "outputs": [],
   "source": [
    "mstar_p25, _, _ = binned_statistic(mhalo, cat.mstar_avg, statistic=p25, bins=bins)\n",
    "mstar_p75, _, _ = binned_statistic(mhalo, cat.mstar_avg, statistic=p75, bins=bins)"
   ]
  },
  {
   "cell_type": "code",
   "execution_count": null,
   "metadata": {},
   "outputs": [],
   "source": [
    "krav = dict()\n",
    "krav['m500'] = np.log10(np.array([15.6,10.3,7,5.34,2.35,1.86,1.34,0.46,0.47])*1e14)\n",
    "krav['mbcg'] = np.array([3.12,4.14,3.06,1.47,0.79,1.26,1.09,0.91,1.38])*1e12\n",
    "krav['mbcg_err'] = np.array([0.36,0.3,0.3,0.13,0.05,0.11,0.06,0.05,0.14])*1e12\n",
    "krav['mbcg_err'] = krav['mbcg_err'] / krav['mbcg'] / np.log(10)\n",
    "krav['mbcg'] = np.log10(krav['mbcg'])"
   ]
  },
  {
   "cell_type": "code",
   "execution_count": null,
   "metadata": {},
   "outputs": [],
   "source": [
    "gonz = dict()\n",
    "gonz['mbcg'] = np.array([0.84,0.87,0.33,0.57,0.85,0.60,0.86,0.93,0.71,0.81,0.70,0.57])*1e12*2.65\n",
    "gonz['mbcg_err'] = np.array([0.03,0.09,0.01,0.01,0.14,0.03,0.03,0.05,0.07,0.12,0.02,0.01])*1e12*2.65\n",
    "gonz['m500'] = np.array([2.26,5.15,0.95,3.46,3.59,0.99,0.95,3.23,2.26,2.41,2.37,1.45])*1e14\n",
    "gonz['m500_err'] = np.array([0.19,0.42,0.1,0.32,0.28,0.11,0.1,0.19,0.23,0.18,0.24,0.21])*1e14\n",
    "gonz['mbcg_err'] = gonz['mbcg_err'] / gonz['mbcg'] / np.log(10)\n",
    "gonz['mbcg'] = np.log10(gonz['mbcg'])\n",
    "gonz['m500'] = np.log10(gonz['m500'])"
   ]
  },
  {
   "cell_type": "code",
   "execution_count": null,
   "metadata": {},
   "outputs": [],
   "source": [
    "fig, ax = plt.subplots(figsize=(8, 6))\n",
    "\n",
    "colors = iter(sns.color_palette())\n",
    "\n",
    "rich = cat.lambda_chisq > 100\n",
    "ax.plot(mhalo_med, mstar_med, color='k', ls='-', lw=3, alpha=0.5)\n",
    "ax.plot(mhalo_med, mstar_p75, color='k', ls='--', lw=3, alpha=0.5)\n",
    "ax.plot(mhalo_med, mstar_p25, color='k', ls='--', lw=3, alpha=0.5)\n",
    "\n",
    "g = ax.errorbar(gonz['m500'], gonz['mbcg'], yerr=gonz['mbcg_err'], color=next(colors),\n",
    "                fmt='o', label='Gonzalez+13', markersize=10)\n",
    "k = ax.errorbar(krav['m500'], krav['mbcg'], yerr=krav['mbcg_err'], color=next(colors),\n",
    "                fmt='s', label='Kravtsov+14', markersize=10)\n",
    "r = ax.scatter(mhalo[rich], cat.mstar_avg[rich], alpha=0.9, color=next(colors),\n",
    "               edgecolor='k', marker='D', s=50, label=r'redMaPPer ($\\lambda>100$)')\n",
    "\n",
    "ax.text(0.12, 0.16, 'redMaPPer\\n$0.1<z<0.3$', multialignment='center',\n",
    "        transform=ax.transAxes, fontsize=14)\n",
    "m500 = np.linspace(13.55, 15.25, 50)\n",
    "ff = ax.plot(m500, np.polyval([0.33, 12.24], m500-14.5), ls='-', \n",
    "            color='k', label=r'$M_{*}\\propto M_{500}^{0.33}$')\n",
    "ax.text(0.12, 0.9, r'$M_{*}\\propto M_{500}^{0.33}$', multialignment='center',\n",
    "        transform=ax.transAxes, fontsize=16)\n",
    "ax.plot([13.55, 13.68], [12.8, 12.8], ls='-', color='k') # hack!!!\n",
    "\n",
    "#ax.xaxis.set_major_formatter(FormatStrFormatter('%.1f'))\n",
    "ax.xaxis.set_major_locator(MultipleLocator(0.5))\n",
    "\n",
    "hh = [g, k, r]\n",
    "ax.legend(hh, [H.get_label() for H in hh], loc='lower right',\n",
    "          frameon=True, fontsize=16)\n",
    "#ax.legend(ff, ff.get_label(), loc='upper left',\n",
    "#          frameon=True, fontsize=16)\n",
    "#ax.legend(loc='upper left', frameon=True, fontsize=16)\n",
    "\n",
    "ax.set_ylim(10.5, 13)\n",
    "ax.set_xlim(13.5, 15.3)\n",
    "ax.set_xlabel(r'$\\log_{10}\\, (M_{500}\\ /\\ M_{\\odot})$')\n",
    "ax.set_ylabel(r'$\\log_{10}\\, (M_{*}\\ /\\ M_{\\odot})$')"
   ]
  },
  {
   "cell_type": "code",
   "execution_count": null,
   "metadata": {},
   "outputs": [],
   "source": [
    "ff"
   ]
  },
  {
   "cell_type": "code",
   "execution_count": null,
   "metadata": {},
   "outputs": [],
   "source": [
    "stop"
   ]
  },
  {
   "cell_type": "code",
   "execution_count": null,
   "metadata": {},
   "outputs": [],
   "source": [
    "cat"
   ]
  },
  {
   "cell_type": "code",
   "execution_count": null,
   "metadata": {},
   "outputs": [],
   "source": [
    "legacyhalos_dir = os.getenv('LEGACYHALOS_DIR')"
   ]
  },
  {
   "cell_type": "code",
   "execution_count": null,
   "metadata": {},
   "outputs": [],
   "source": [
    "parentfile = os.path.join(legacyhalos_dir, 'legacyhalos-parent-isedfit.fits')"
   ]
  },
  {
   "cell_type": "code",
   "execution_count": null,
   "metadata": {},
   "outputs": [],
   "source": [
    "ls = Table(fits.getdata(parentfile, extname='LSPHOT-ISEDFIT'))\n",
    "ls"
   ]
  },
  {
   "cell_type": "code",
   "execution_count": null,
   "metadata": {},
   "outputs": [],
   "source": [
    "_ = plt.hist(ls['MSTAR_AVG'], bins=100)"
   ]
  },
  {
   "cell_type": "code",
   "execution_count": null,
   "metadata": {},
   "outputs": [],
   "source": [
    "_ = plt.hist(sdss['MSTAR_AVG'], bins=100)"
   ]
  },
  {
   "cell_type": "code",
   "execution_count": null,
   "metadata": {},
   "outputs": [],
   "source": [
    "_ = plt.hist(sdss['MSTAR_AVG'] - ls['MSTAR_AVG'], bins=200)\n",
    "plt.xlim(-0.5, 0.5)"
   ]
  },
  {
   "cell_type": "code",
   "execution_count": null,
   "metadata": {},
   "outputs": [],
   "source": [
    "sdss = Table(fits.getdata(parentfile, extname='SDSSPHOT-ISEDFIT'))\n",
    "sdss"
   ]
  },
  {
   "cell_type": "code",
   "execution_count": null,
   "metadata": {},
   "outputs": [],
   "source": [
    "data = np.vstack( (ls['MSTAR_AVG'], sdss['MSTAR_AVG'] - ls['MSTAR_AVG']))\n",
    "data.shape"
   ]
  },
  {
   "cell_type": "code",
   "execution_count": null,
   "metadata": {},
   "outputs": [],
   "source": [
    "k = kde.gaussian_kde(data.T)\n",
    "#xi, yi = np.mgrid[x.min():x.max():nbins*1j, y.min():y.max():nbins*1j]\n",
    "#zi = k(np.vstack([xi.flatten(), yi.flatten()]))"
   ]
  },
  {
   "cell_type": "code",
   "execution_count": null,
   "metadata": {},
   "outputs": [],
   "source": [
    "fig, ax = plt.subplots()\n",
    "ax.hexbin(ls['MSTAR_AVG'], sdss['MSTAR_AVG'] - ls['MSTAR_AVG'],\n",
    "          mincnt=1)"
   ]
  },
  {
   "cell_type": "code",
   "execution_count": null,
   "metadata": {},
   "outputs": [],
   "source": [
    "sns.jointplot(ls['MSTAR_AVG'], sdss['MSTAR_AVG'] - ls['MSTAR_AVG'], \n",
    "              kind=\"kde\", color=\"#4CB391\", xlim=(10, 13), ylim=(-0.5, 0.5))"
   ]
  },
  {
   "cell_type": "code",
   "execution_count": null,
   "metadata": {},
   "outputs": [],
   "source": [
    "sns.kdeplot(ls['MSTAR_AVG'], sdss['MSTAR_AVG'] - ls['MSTAR_AVG'], \n",
    "            cmap=\"Blues\", shade=True, shade_lowest=True, cbar=True,\n",
    "            cut=0,\n",
    "           )"
   ]
  },
  {
   "cell_type": "code",
   "execution_count": null,
   "metadata": {},
   "outputs": [],
   "source": [
    "help(sns.kdeplot)"
   ]
  },
  {
   "cell_type": "markdown",
   "metadata": {
    "collapsed": true
   },
   "source": [
    "### Playing around with PSF convolution"
   ]
  },
  {
   "cell_type": "code",
   "execution_count": null,
   "metadata": {},
   "outputs": [],
   "source": [
    "class SersicWaveModel(Fittable2DModel):\n",
    "    \"\"\"\n",
    "    Define a surface brightness profile model which is the sum of three Sersic\n",
    "    models connected by a Sersic index and half-light radius which varies\n",
    "    as a power-law function of wavelength.\n",
    "    \n",
    "    See http://docs.astropy.org/en/stable/modeling/new.html#a-step-by-step-definition-of-a-1-d-gaussian-model\n",
    "    for useful info.\n",
    "    \n",
    "    ToDo: convolve the model with the PSF.\n",
    "\n",
    "    \"\"\"\n",
    "    from astropy.modeling import Parameter\n",
    "    \n",
    "    nref = Parameter(default=4, min=0.1, max=8)\n",
    "    r50ref = Parameter(default=10, min=1e-3, max=30) # [arcsec]\n",
    "    alpha = Parameter(default=0.0, min=-1, max=1)\n",
    "    beta = Parameter(default=0.0, min=-1, max=1)\n",
    "    mu50_g = Parameter(default=0.5) # [flux units]\n",
    "    mu50_r = Parameter(default=1)\n",
    "    mu50_z = Parameter(default=1.5)\n",
    "\n",
    "    psfsigma_g = Parameter(default=0.5, fixed=True) # [sigma, arcsec]\n",
    "    psfsigma_r = Parameter(default=0.5, fixed=True)\n",
    "    psfsigma_z = Parameter(default=0.5, fixed=True)\n",
    "\n",
    "    linear = False\n",
    "    \n",
    "    def __init__(self, nref=nref.default, r50ref=r50ref.default, \n",
    "                 alpha=alpha.default, beta=beta.default, mu50_g=mu50_g.default, \n",
    "                 mu50_r=mu50_r.default, mu50_z=mu50_z.default, \n",
    "                 psfsigma_g=psfsigma_g.default, psfsigma_r=psfsigma_r.default, \n",
    "                 psfsigma_z=psfsigma_z.default, lambda_ref=6470, lambda_g=4890, \n",
    "                 lambda_r=6470, lambda_z=9196, **kwargs):\n",
    "\n",
    "        self.lambda_ref = lambda_ref\n",
    "        self.lambda_g = lambda_g\n",
    "        self.lambda_r = lambda_r\n",
    "        self.lambda_z = lambda_z\n",
    "        \n",
    "        super(SersicWaveModel, self).__init__(nref=nref, r50ref=r50ref, alpha=alpha, \n",
    "                                              beta=beta, mu50_g=mu50_g, mu50_r=mu50_r, \n",
    "                                              mu50_z=mu50_z, psfsigma_g=psfsigma_g, \n",
    "                                              psfsigma_r=psfsigma_r, psfsigma_z=psfsigma_z, \n",
    "                                              **kwargs)\n",
    "    \n",
    "    def evaluate(self, r, w, nref, r50ref, alpha, beta, \n",
    "                 mu50_g, mu50_r, mu50_z, \n",
    "                 psfsigma_g, psfsigma_r, psfsigma_z):\n",
    "        \"\"\"Evaluate the wavelength-dependent Sersic model.\n",
    "        \n",
    "        Args:\n",
    "          r : radius [kpc]\n",
    "          w : wavelength [Angstrom]\n",
    "          nref : Sersic index at the reference wavelength lambda_ref\n",
    "          r50ref : half-light radius at lambda_ref\n",
    "          alpha : power-law slope for the Sersic index\n",
    "          beta : power-law slope for the half-light radius\n",
    "          mu50_g : g-band surface brignthess at r=r50_g\n",
    "          mu50_r : r-band surface brignthess at r=r50_r\n",
    "          mu50_z : z-band surface brignthess at r=r50_z\n",
    "        \n",
    "        \"\"\"        \n",
    "        from scipy.special import gammaincinv\n",
    "        from astropy.convolution import Gaussian1DKernel, convolve\n",
    "        \n",
    "        mu = np.zeros_like(r)\n",
    "        \n",
    "        # Build the surface brightness profile at each wavelength.\n",
    "        for lam, mu50, psfsigma in zip( (self.lambda_g, self.lambda_r, self.lambda_z), \n",
    "                                        (mu50_g, mu50_r, mu50_z),\n",
    "                                        (psfsigma_g, psfsigma_r, psfsigma_z) ):\n",
    "            \n",
    "            n = nref * (lam / self.lambda_ref)**alpha\n",
    "            r50 = r50ref * (lam / self.lambda_ref)**beta\n",
    "            indx = w == lam\n",
    "            mu_int = mu50 * np.exp(-gammaincinv(2 * n, 0.5) * ((r[indx] / r50) ** (1 / n) - 1))\n",
    "            \n",
    "            # smooth with the PSF\n",
    "            if psfsigma > 0:\n",
    "                g = Gaussian1DKernel(stddev=psfsigma)#, mode='linear_interp')\n",
    "                mu_smooth = convolve(mu_int, g, normalize_kernel=True, boundary='extend')\n",
    "                fix = (r[indx] > 5 * psfsigma)\n",
    "                mu_smooth[fix] = mu_int[fix] # replace with original values\n",
    "                mu[indx] = mu_smooth\n",
    "            else:\n",
    "                mu[indx] = mu_int\n",
    "        \n",
    "        return mu"
   ]
  },
  {
   "cell_type": "code",
   "execution_count": null,
   "metadata": {},
   "outputs": [],
   "source": [
    "model = SersicWaveModel(beta=0.1, alpha=-0.2, r50ref=8, nref=2.8, \n",
    "                        psfsigma_g=0.3, psfsigma_r=0, psfsigma_z=0)\n",
    "print(model)\n",
    "\n",
    "seed = 1\n",
    "rand = np.random.RandomState(seed)\n",
    "\n",
    "minradius = 0.02\n",
    "maxradius = 15.0\n",
    "nrad = (25, 18, 33) # number of measurements per bandpass g, r, z\n",
    "\n",
    "radius = []\n",
    "wave = []\n",
    "for lam, nn in zip( (model.lambda_g, model.lambda_r, model.lambda_z), nrad ):\n",
    "    #rad = rand.uniform(minradius, maxradius, nn)\n",
    "    rad = np.linspace(minradius, maxradius, nn)\n",
    "    radius.append(rad)\n",
    "    wave.append(np.repeat(lam, nn))\n",
    "radius = np.hstack(radius)\n",
    "wave = np.hstack(wave)\n",
    "\n",
    "sb = model(radius, wave) # evaluate the model \n",
    "sberr = rand.normal(loc=0, scale=sb*0.0)\n",
    "sb += sberr\n",
    "\n",
    "# plot it!\n",
    "plot_sbwave(radius, wave, sb, model=model)\n",
    "#plt.axvline(x=8)\n",
    "#plt.axhline(y=1)"
   ]
  },
  {
   "cell_type": "code",
   "execution_count": null,
   "metadata": {},
   "outputs": [],
   "source": [
    "from astropy.convolution import Gaussian1DKernel, convolve, convolve_fft\n",
    "from scipy.ndimage.filters import gaussian_filter\n",
    "\n",
    "sigma = 1\n",
    "\n",
    "g = Gaussian1DKernel(stddev=sigma)#, mode='linear_interp')\n",
    "rr = radius[:26]\n",
    "ff = sb1[:26]\n",
    "cff = convolve(ff, g, normalize_kernel=True, boundary='fill', fill_value=ff.min())\n",
    "cff[rr > 5*sigma] = ff[rr > 5*sigma] # replace with original values\n",
    "\n",
    "rr2 = np.hstack( (radius[:26], -radius[:26]) )\n",
    "ff2 = np.hstack( (sb1[:26], sb1[:26]) )\n",
    "cff2 = convolve_fft(ff2, g, normalize_kernel=True, boundary='fill', fill_value=10)\n",
    "\n",
    "#cff3 = gaussian_filter(ff, sigma, mode='constant', cval=0.2)\n",
    "\n",
    "plt.plot(rr2, ff2, 'rs', ms=10)\n",
    "plt.plot(rr2, cff2, 'bo', ms=10)\n",
    "#plt.plot(rr, cff3, 'gs', ms=10)\n",
    "plt.plot(rr, cff, 'gs', ms=10)\n",
    "plt.xlim(-2, 2)\n",
    "#plt.ylim(0.1, 1)\n",
    "plt.yscale('log')\n",
    "#print(cff-cff2[:26])"
   ]
  },
  {
   "cell_type": "code",
   "execution_count": null,
   "metadata": {},
   "outputs": [],
   "source": [
    "m1 = SersicWaveModel(beta=0.1, alpha=-0.2, r50ref=8, nref=2.8, \n",
    "                     psfsigma_g=0, psfsigma_r=0, psfsigma_z=0)\n",
    "m2 = SersicWaveModel(beta=0.1, alpha=-0.2, r50ref=8, nref=2.8, \n",
    "                     psfsigma_g=1, psfsigma_r=1.5, psfsigma_z=0.5)\n",
    "print(m2)\n",
    "sb1 = m1(radius, wave)\n",
    "sb2 = m2(radius, wave)\n",
    "\n",
    "plt.plot(radius[:26], 22.5-2.5*np.log10(sb1[:26]), 'rs')\n",
    "plt.plot(radius[:26], 22.5-2.5*np.log10(sb2[:26]), 'bo')\n",
    "#plt.plot(radius[:26], sb1[:26], 'rs')\n",
    "#plt.plot(radius[:26], sb2[:26], 'bo')\n",
    "#plt.ylim(0, 20)"
   ]
  }
 ],
 "metadata": {
  "kernelspec": {
   "display_name": "Python 3",
   "language": "python",
   "name": "python3"
  },
  "language_info": {
   "codemirror_mode": {
    "name": "ipython",
    "version": 3
   },
   "file_extension": ".py",
   "mimetype": "text/x-python",
   "name": "python",
   "nbconvert_exporter": "python",
   "pygments_lexer": "ipython3",
   "version": "3.6.4"
  }
 },
 "nbformat": 4,
 "nbformat_minor": 2
}
