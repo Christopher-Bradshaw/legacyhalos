{
 "cells": [
  {
   "cell_type": "markdown",
   "metadata": {},
   "source": [
    "# Identifying Different Types of Galaxies"
   ]
  },
  {
   "cell_type": "code",
   "execution_count": 202,
   "metadata": {},
   "outputs": [],
   "source": [
    "import numpy as np\n",
    "import pylab as plt\n",
    "import matplotlib\n",
    "from astropy import utils, io\n",
    "from tabulate import tabulate\n",
    "import plotly.graph_objects as go\n",
    "%matplotlib inline\n",
    "from IPython.display import Image\n",
    "from IPython.core.display import HTML"
   ]
  },
  {
   "cell_type": "markdown",
   "metadata": {},
   "source": [
    "\n",
    "### Background to Lesson:\n",
    "\n",
    ">   Galaxies are stellar bodies heald together by gravity, and are made up of stars, gas, and large amounts of dark matter. \n",
    "    Our solar system is part of a larger galaxy called the Milky Way. Before the 20th century, the Milky way was thought to \n",
    "    be the only galaxy, and any galaxies observed were considred to be nebule containing clusters of stars in our galaxy.   \n",
    ">    \n",
    "   >Charles Messier was a 17th century French astronomer, who was the first to keep a log of 110 star clusteres and \"spiral \n",
    "    nebulae.\" For the next 300 years there would be many debates about what the \"spiral nebulae\" actually were. Some people \n",
    "    thought that these bodies were separate from the Milky Way, where otheres argued that they were clusters of stars and gas in \n",
    "    the Milky Way. These arguments continued until the early 20th when astronomer, Edwin Hubble, was able to measure the distance \n",
    "    that we are away from the then called Andromeda Nebula.   \n",
    ">    \n",
    "   >In the 1920s, Hubble was observing a Cepheid variable star in Andromeda. During this observation, he was able to determine\n",
    "    the star's distance from Earth, which then led Hubble to conclude that Andromeda is a galaxy separate from the Milky way. \n",
    "    This conclusion then led astronomers to keep finding more and more galaxies, and give them specific classifications when \n",
    "    compairing them to each other.      \n",
    "    \n",
    ">[Reference](https://lco.global/spacebook/galaxies/history-discovery/)\n",
    "\n",
    "### Purpose and Goals:\n",
    "\n",
    "   **Purpose**\n",
    ">In today's lesson you will learn about different types of galaxies, and ways to classify them. You will recieve 11 sets of \n",
    "coordinates from the Legacy Survey database showing a variety of galaxies to analize.  \n",
    "> Legacy Survey is an organization that has combined the data from three different projects, to map the night sky of the northern hemisphere.\n",
    "\n",
    "    \n",
    "   **Goals**\n",
    "> * Learn what the Legacy Survey database is, and what its used for.\n",
    "* Learn how to pull images from the Legacy Survey database using coordinates.\n",
    "* Observe the different types of galaxies, and try to group/classify them.\n",
    "\n",
    "### Procedure:\n",
    "\n",
    "   >Go to the [Legacy Survey Viewer](http://legacysurvey.org/viewer#IC%202425), and search the following galaxies.   \n",
    "   Make sure that the \"Legacy Surveys DR8 images\" option is selected.\n",
    "   Click on the galaxy to get the RA and Dec values, and log them in the table below. Also, make sure to observe and record the Zoom value.\n",
    "   Also, write down a brief discription of each galaxy you come across in the viewer.\n",
    "   \n",
    "   \n",
    "   "
   ]
  },
  {
   "cell_type": "code",
   "execution_count": 203,
   "metadata": {},
   "outputs": [
    {
     "name": "stdout",
     "output_type": "stream",
     "text": [
      "Galaxy      RA    Dec    Zoom\n",
      "--------  ----  -----  ------\n",
      "NGC 3613     0      0       0\n",
      "NGC 4203     0      0       0\n",
      "NGC 5985     0      0       0\n",
      "NGC 2770     0      0       0\n",
      "NGC 3631     0      0       0\n",
      "NGC 3953     0      0       0\n",
      "NGC 4449     0      0       0\n",
      "NGC 3941     0      0       0\n",
      "NGC 4618     0      0       0\n",
      "ARP 251      0      0       0\n"
     ]
    }
   ],
   "source": [
    "# Results set up as [name,RA,Dec,Zoom]\n",
    "results = ([\"NGC 3613\",0,0,0],\n",
    "           [\"NGC 4203\",0,0,0],\n",
    "           [\"NGC 5985\",0,0,0],\n",
    "           [\"NGC 2770\",0,0,0],\n",
    "           [\"NGC 3631\",0,0,0],\n",
    "           [\"NGC 3953\",0,0,0],\n",
    "           [\"NGC 4449\",0,0,0],\n",
    "           [\"NGC 3941\",0,0,0],\n",
    "           [\"NGC 4618\",0,0,0],\n",
    "           [\"ARP 251\",0,0,0])\n",
    "print(tabulate(results, headers=[\"Galaxy\", \"RA\", \"Dec\",\"Zoom\"]))"
   ]
  },
  {
   "cell_type": "markdown",
   "metadata": {},
   "source": [
    "### Classification:\n",
    "\n",
    "#### **Create Your Own Classification**\n",
    "  > Below come up with classification groups, and print the cutouts of each galaxy in your category.  \n",
    "   You are not limited to any specific number of groups."
   ]
  },
  {
   "cell_type": "code",
   "execution_count": 197,
   "metadata": {},
   "outputs": [
    {
     "ename": "SyntaxError",
     "evalue": "invalid syntax (<ipython-input-197-2ae198073166>, line 6)",
     "output_type": "error",
     "traceback": [
      "\u001b[0;36m  File \u001b[0;32m\"<ipython-input-197-2ae198073166>\"\u001b[0;36m, line \u001b[0;32m6\u001b[0m\n\u001b[0;31m    n = #total number of galaxies in this category\u001b[0m\n\u001b[0m                                                  ^\u001b[0m\n\u001b[0;31mSyntaxError\u001b[0m\u001b[0;31m:\u001b[0m invalid syntax\n"
     ]
    }
   ],
   "source": [
    "# Give your classification a name\n",
    "\n",
    "ra1 = []\n",
    "dec1 = []\n",
    "zoom1 = []\n",
    "n1 = #total number of galaxies in this category\n",
    "\n",
    "for ii in range(n1):\\\n",
    "    img = Image(url = \"http://legacysurvey.org//viewer/cutout.jpg?ra={:.6f}&dec={:.6f}&zoom={}&layer=dr8\".format(\n",
    "        ra1[ii], dec1[ii], zoom1[ii]))\n",
    "    display(img)"
   ]
  },
  {
   "cell_type": "markdown",
   "metadata": {},
   "source": [
    ">When you are finished creating your categories, pair up with a student next to you.\n",
    ">\n",
    ">Compare the categories that you came up with, and see if they share some similarities."
   ]
  },
  {
   "cell_type": "markdown",
   "metadata": {},
   "source": [
    "#### Hubble Classifications\n",
    "\n",
    "![Hubble Tuningfork](TuningFork.jpeg)\n",
    "###### [Image Referance](http://astro.physics.uiowa.edu/ITU/labs/foundational-labs/classifying-galaxies/part-1-hubbles-tuning-fork.html)\n",
    "\n",
    "##### **Hubble Tuning Fork**\n",
    "> After Edwin Hubble was able to truly identify what a galaxy was, he came up with a way to classify them. His two main categories are elliptical galaxies and spiral galaxies. Observing these different galaxies, he was able to come up with the diagram above, now called the Hubble Tuning Fork. Hubble originally thought that this diagram was an evolutionary diagram, going from the ellipitical galaxies on the left to the spiral galaxies on the right. This theory has since been proven wrong due to recent research finding that galaxy evolution is much a much more complicated process.\n",
    "\n",
    "##### **Elliptical Galaxies**\n",
    "> These are the galaxies furthest to the left on the Hubble tuning fork. Elliptical galaxies (E) are identified by their spherical or elliptical shape on a number scale from 0 to 7. When the galaxy is closer to 0 it tends to be close to prefectly spherical, and when the galaxy is closer to 7 it has more of an ellptical shape. Stars in ellptical galaxies are not supported by rotation, instead the stars have random orbits, which then creates the galaxy's shape. They tend to be more red in color, which means that they are populated by older stars.\n",
    "\n",
    "##### **Spiral Galaxies**\n",
    "> These are the galaxies found on the right side of the Hubble tuning fork. Spiral galaxies can be identified by their spiral arms and bright center bulge. Spiral galaxies can also be identified edge on because of the center bulge. Somtimes sprial galaxies seem to have a bright bar running through them, so we identify these as barred spiral galaxies. On the diagram above, the spiral galaxies are split up into types A,B and C,which correspond to how tight the arms are wound. A type A, has very tightly wound arms where a type C has more loosly wound arms.\n",
    "\n",
    "##### **Irregular and Lenticular Galaxies**\n",
    ">  Irregular galaxies (Irr) do not have features commonly found in elliptical or spiral galaxies. They are thought to be the result of galaxy colisions, and they are mostly found in galaxy clusters where collisions and interactions are common. Lenticular galaxies (S0 or SB0) are identified as having a central bulge but no spiral arms.  \n",
    "\n",
    "#### Classify the Galaxies Using the Hubble Tuning Fork"
   ]
  },
  {
   "cell_type": "code",
   "execution_count": null,
   "metadata": {},
   "outputs": [],
   "source": [
    "#Spiral\n",
    "\n",
    "Sra = []\n",
    "Sdec = []\n",
    "Szoom = []\n",
    "Sn = #total number of galaxies in this category\n",
    "\n",
    "for ii in range(Sn):\\\n",
    "    img = Image(url = \"http://legacysurvey.org//viewer/cutout.jpg?ra={:.6f}&dec={:.6f}&zoom={}&layer=dr8\".format(\n",
    "        Sra[ii], Sdec[ii], Szoom[ii]))\n",
    "    display(img)"
   ]
  },
  {
   "cell_type": "code",
   "execution_count": null,
   "metadata": {},
   "outputs": [],
   "source": [
    "#Elliptical\n",
    "\n",
    "Era = []\n",
    "Edec = []\n",
    "Ezoom = []\n",
    "En = #total number of galaxies in this category\n",
    "\n",
    "for ii in range(En):\\\n",
    "    img = Image(url = \"http://legacysurvey.org//viewer/cutout.jpg?ra={:.6f}&dec={:.6f}&zoom={}&layer=dr8\".format(\n",
    "        Era[ii], Edec[ii], Ezoom[ii]))\n",
    "    display(img)"
   ]
  },
  {
   "cell_type": "code",
   "execution_count": null,
   "metadata": {},
   "outputs": [],
   "source": [
    "#Irregular\n",
    "\n",
    "Ira = []\n",
    "Idec = []\n",
    "Izoom = []\n",
    "In = #total number of galaxies in this category\n",
    "\n",
    "for ii in range(In):\\\n",
    "    img = Image(url = \"http://legacysurvey.org//viewer/cutout.jpg?ra={:.6f}&dec={:.6f}&zoom={}&layer=dr8\".format(\n",
    "        Ira[ii], Idec[ii], Izoom[ii]))\n",
    "display(img)"
   ]
  },
  {
   "cell_type": "markdown",
   "metadata": {},
   "source": [
    "### Questions:"
   ]
  },
  {
   "cell_type": "markdown",
   "metadata": {},
   "source": [
    "1.) Did you notice any similarities/differences between your classifications after using the Hubble tuning fork?\n",
    ">\n",
    "\n",
    "2.) Were there any galaxies that didnt fit into any category? List them below, and discribe why you think that they didnt fit.\n",
    ">\n",
    "\n",
    "3.) Look around the viewer, and find a new galaxy. Below record the RA, Dec, Zoom and also try to classify the galaxy. After you do this pull up the image like before."
   ]
  },
  {
   "cell_type": "code",
   "execution_count": 1,
   "metadata": {},
   "outputs": [
    {
     "ename": "NameError",
     "evalue": "name 'Image' is not defined",
     "output_type": "error",
     "traceback": [
      "\u001b[0;31m---------------------------------------------------------------------------\u001b[0m",
      "\u001b[0;31mNameError\u001b[0m                                 Traceback (most recent call last)",
      "\u001b[0;32m<ipython-input-1-7f878d9dd92e>\u001b[0m in \u001b[0;36m<module>\u001b[0;34m\u001b[0m\n\u001b[1;32m      5\u001b[0m \u001b[0;34m\u001b[0m\u001b[0m\n\u001b[1;32m      6\u001b[0m \u001b[0;32mfor\u001b[0m \u001b[0mii\u001b[0m \u001b[0;32min\u001b[0m \u001b[0mrange\u001b[0m\u001b[0;34m(\u001b[0m\u001b[0;36m1\u001b[0m\u001b[0;34m)\u001b[0m\u001b[0;34m:\u001b[0m\u001b[0;31m\\\u001b[0m\u001b[0;34m\u001b[0m\u001b[0;34m\u001b[0m\u001b[0m\n\u001b[0;32m----> 7\u001b[0;31m     img = Image(url = \"http://legacysurvey.org//viewer/cutout.jpg?ra={:.6f}&dec={:.6f}&zoom={}&layer=dr8\".format(\n\u001b[0m\u001b[1;32m      8\u001b[0m         ra[ii], dec[ii], zoom[ii]))\n\u001b[1;32m      9\u001b[0m \u001b[0mdisplay\u001b[0m\u001b[0;34m(\u001b[0m\u001b[0mimg\u001b[0m\u001b[0;34m)\u001b[0m\u001b[0;34m\u001b[0m\u001b[0;34m\u001b[0m\u001b[0m\n",
      "\u001b[0;31mNameError\u001b[0m: name 'Image' is not defined"
     ]
    }
   ],
   "source": [
    "ra = []\n",
    "dec = []\n",
    "zoom = []\n",
    "# Classification: \n",
    "\n",
    "for ii in range(1):\\\n",
    "    img = Image(url = \"http://legacysurvey.org//viewer/cutout.jpg?ra={:.6f}&dec={:.6f}&zoom={}&layer=dr8\".format(\n",
    "        ra[ii], dec[ii], zoom[ii]))\n",
    "display(img)\n"
   ]
  },
  {
   "cell_type": "markdown",
   "metadata": {},
   "source": [
    "### Conclusions:\n",
    "\n",
    "Write a summary of what you learned in the lesson. \n",
    ">\n",
    ">What did you learn about galaxy characteristics and classifications?\n",
    ">\n",
    ">What are some identifying characteristics of each type of galaxy?\n",
    "\n",
    ">\n"
   ]
  },
  {
   "cell_type": "code",
   "execution_count": null,
   "metadata": {},
   "outputs": [],
   "source": []
  }
 ],
 "metadata": {
  "kernelspec": {
   "display_name": "Python 3",
   "language": "python",
   "name": "python3"
  },
  "language_info": {
   "codemirror_mode": {
    "name": "ipython",
    "version": 3
   },
   "file_extension": ".py",
   "mimetype": "text/x-python",
   "name": "python",
   "nbconvert_exporter": "python",
   "pygments_lexer": "ipython3",
   "version": "3.7.3"
  }
 },
 "nbformat": 4,
 "nbformat_minor": 4
}
