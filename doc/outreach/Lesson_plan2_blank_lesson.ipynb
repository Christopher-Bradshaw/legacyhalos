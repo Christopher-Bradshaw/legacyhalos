{
 "cells": [
  {
   "cell_type": "markdown",
   "metadata": {},
   "source": [
    "# Classifying Stars in Star Clusters"
   ]
  },
  {
   "cell_type": "markdown",
   "metadata": {},
   "source": [
    "> Just like you can classify a galaxy based on its appearance, you can classify a star based on its color, temperature and size. \n",
    "With the use of a variety of telescopes, astronomers are able map the night sky, and find a variety of star clusters in the milky way. In this lesson, you will be tasked with creating two Hertzsprung-Russell Diagrams of two different well knows star clusters. The data that you will be using comes from the National Optical Astronomy Observatory (NOAO) Data Lab and Gaia.\n",
    "##### NOAO Data Lab\n",
    "> NOAO Data Lab combines stellar datasets, collected from instruments under NOAO, with the goal of providing this data to the public. They want people to use their data in individual science peojects because they believe that it is important for scientists to engage as much as possible with the data. You can visit their website for more information [here](https://datalab.noao.edu/about.php)\n",
    "\n",
    "##### Gaia \n",
    "> Gaia is a satellite space observatory, launched by the European Space Agency (ESA) with the goal to chart a three dimensional map of the milky way galaxy. This spacecraft measures the positions, distances, and motions of the stars which is all used to create this map. The data that Gaia has collected will be available for you to use through Data lab to construct your HR diagrams."
   ]
  },
  {
   "cell_type": "markdown",
   "metadata": {},
   "source": [
    "### Initial imports"
   ]
  },
  {
   "cell_type": "code",
   "execution_count": 45,
   "metadata": {},
   "outputs": [],
   "source": [
    "import numpy as np\n",
    "import datalab as dl\n",
    "import pandas as pd\n",
    "from dl import authClient as ac, queryClient as qc\n",
    "from dl.helpers.utils import convert"
   ]
  },
  {
   "cell_type": "code",
   "execution_count": 46,
   "metadata": {},
   "outputs": [],
   "source": [
    "from astropy import utils, io, convolution, wcs\n",
    "from astropy.visualization import make_lupton_rgb\n",
    "from astropy.coordinates import name_resolve"
   ]
  },
  {
   "cell_type": "code",
   "execution_count": 3,
   "metadata": {},
   "outputs": [],
   "source": [
    "import matplotlib.pyplot as plt\n",
    "%matplotlib inline"
   ]
  },
  {
   "cell_type": "markdown",
   "metadata": {},
   "source": [
    "### The Hertzsprung-Russell Diagram\n",
    "> ![HR diagram](hrdiagram.jpeg)\n",
    ">\n",
    "> The Hertzsprung-Russell Diagram (HR Diagram) is a tool that astronomers use to show the classification of stars, while also showing the life and evolution of said stars. This diagram plots the luminosity as a function of the temperature of the star. Other HR diagrams can show the absolute magnitude as a function of the spectral type of the star. \n",
    "###### [Image Reference](https://www.thoughtco.com/hertzsprung-russell-diagram-4134689)\n",
    "#### Main Sequence Stars\n",
    "> This is the main strip of stars that starts from the upper left of the graph and goes to the lower right. The stars in the upper left represent very hot, luminous stars, where the stars in the bottom right represent cooler, dimmer stars. The main sequence is where stars spend most of their lives.\n",
    "\n",
    "#### Giant and Supergiant Stars\n",
    "> Stars become giants or supergiants towards the end of their lives. The surface temperature of the star starts to cool, and they start to grow in size making them more luminous. Stars enter this phase when they run out of hydrogen to fuse, so they start to fuse helium or heavier elements depending on the mass of the star.\n",
    "\n",
    "#### White Dwarf Stars\n",
    "> Stars in this region show the final evolutionary stage of low to intermediate mass stars; a high-mass star will not become a white dwarf star, they tend to end their lives as supernovas, or as a black hole. White dwarf stars are very hot, but they aren't very bright due to their small size.\n",
    "\n",
    "###### [Reference](http://astronomy.swin.edu.au/cosmos/H/Hertzsprung-Russell+Diagram)\n",
    " \n",
    "### Goals\n",
    ">Get comfortable with using Gaia data to create an HR Diagram.\n",
    ">\n",
    ">Be able to understand and describe the HR Diagram.\n",
    ">\n",
    ">Be able to make a scatter plot of the star data, and explain how your result is an example of an HR Diagram.\n",
    "\n"
   ]
  },
  {
   "cell_type": "markdown",
   "metadata": {},
   "source": [
    "\n",
    "\n",
    "![m67](M67_Cluster.png)\n",
    "\n",
    "\n",
    "\n",
    "> The graph above is very busy with data points, which can make it easy to lose the various locations of the HR diagram. This  is due to stars that may be in the path between Earth and M67. A good way to clean up the data is to find where the parallax angles are the most similar. The parallax effect is the apparant difference in position of an object depending on where you view the object. This effect is illustrated in the graphic below. Similar parallax angles mean that the stars are relatively close together. Finding where angles are most similar in the data, helps reduce the chance of plotting stars that are not in the cluster.\n",
    ">  \n",
    "\n",
    "\n",
    "![Parallax](parallax.png)\n",
    "\n",
    "###### [Image referance](https://socratic.org/questions/how-do-astronomers-use-parallax-to-study-stars)\n",
    ">\n",
    ">To find the parallax value you will access the Gaia database through datalab.  \n",
    ">For M67, find the max and min values of RA and Dec in the table, and then use these values to limit the search in your query.  \n",
    ">\n"
   ]
  },
  {
   "cell_type": "code",
   "execution_count": 3,
   "metadata": {},
   "outputs": [],
   "source": [
    "# Read in the .csv file for the M67 cluster using pandas\n",
    "  "
   ]
  },
  {
   "cell_type": "code",
   "execution_count": 4,
   "metadata": {},
   "outputs": [],
   "source": [
    "# Find the maximum and minimum values in the data\n",
    "# print and record the RA and Dec values\n"
   ]
  },
  {
   "cell_type": "code",
   "execution_count": 5,
   "metadata": {},
   "outputs": [],
   "source": [
    "# Define your query.\n",
    "# remember syntax: variable = \"\"\"SELECT...\n",
    "#                                FROM...\n",
    "#                                WHERE...\n",
    "#                                AND...\"\"\"\n",
    "# Before the query, set variables for Ra and Dec to limit the search. \n",
    "# amke sure that you format your query to your variables\n"
   ]
  },
  {
   "cell_type": "code",
   "execution_count": 6,
   "metadata": {},
   "outputs": [],
   "source": [
    "# Make your query with the queryClient and set it to a variable.\n"
   ]
  },
  {
   "cell_type": "code",
   "execution_count": 7,
   "metadata": {},
   "outputs": [],
   "source": [
    "# Convert your result to pandas.\n",
    "# After print your variable.\n",
    "# Do we want to keep all of this data? Explain your reasoning.\n"
   ]
  },
  {
   "cell_type": "code",
   "execution_count": 8,
   "metadata": {},
   "outputs": [],
   "source": [
    "# Get rid of any NA values that may appear in the data.\n",
    "# Print the data again and make sure that the NA values are gone.\n"
   ]
  },
  {
   "cell_type": "code",
   "execution_count": 9,
   "metadata": {},
   "outputs": [],
   "source": [
    "# Make a histogram of the parallax data to find the peak.\n",
    "# What does this peak corrispond to?\n"
   ]
  },
  {
   "cell_type": "code",
   "execution_count": 10,
   "metadata": {},
   "outputs": [],
   "source": [
    "# Limit your query with the appropriate parallax values. \n",
    "# Using the histogram plotted before, create appropriate parameters for your parallax values.\n"
   ]
  },
  {
   "cell_type": "code",
   "execution_count": 11,
   "metadata": {},
   "outputs": [],
   "source": [
    "# Make your query with the queryClient and set it to a variable.\n"
   ]
  },
  {
   "cell_type": "code",
   "execution_count": 12,
   "metadata": {},
   "outputs": [],
   "source": [
    "# Convert your result to pandas.\n",
    "# Get rid of any NA values that may appear in the data.\n"
   ]
  },
  {
   "cell_type": "code",
   "execution_count": 13,
   "metadata": {},
   "outputs": [],
   "source": [
    "# Create three RA/Dec subplots to show the stars in the cluster and the stars in the foreground\n"
   ]
  },
  {
   "cell_type": "code",
   "execution_count": 14,
   "metadata": {},
   "outputs": [],
   "source": [
    "# Convert your parallax to abs_mag\n"
   ]
  },
  {
   "cell_type": "code",
   "execution_count": 15,
   "metadata": {},
   "outputs": [],
   "source": [
    "# Make a scatter plot of your data.\n",
    "# What does this scatter plot show?\n",
    "# Make sure to label your axies and give it a title.\n"
   ]
  },
  {
   "cell_type": "code",
   "execution_count": 16,
   "metadata": {},
   "outputs": [],
   "source": [
    "# What can you tell about the age of this star cluster based on the position of the stars?\n",
    "#"
   ]
  },
  {
   "cell_type": "code",
   "execution_count": 17,
   "metadata": {},
   "outputs": [],
   "source": [
    "# Now we are going to aquire our data only from Gaia.\n",
    "# Below you are given 2 functions:\n",
    "# The first allows you to get coordinates for a cluster if you input the name into the function.\n",
    "# The second allows you create a table of all the data around the point at a certain radius.\n",
    "#\n",
    "# The second function is a very basic outline think of the data that you will need for your HR diagram. \n",
    "# In the function, use the data to create a column for the absoulte magnitude, and get rid of any Na values.\n",
    "\n",
    "def resolve_coordinates(name):\n",
    "    try:\n",
    "        coords = name_resolve.get_icrs_coordinates(name)\n",
    "    except Exception as e:\n",
    "        raise\n",
    "\n",
    "    ra = coords.ra.to('deg').value\n",
    "    dec = coords.dec.to('deg').value      \n",
    "\n",
    "    return coords, ra, dec\n",
    "\n",
    "def getData(ra,dec,radius=1,columns='*'):\n",
    "    \n",
    "    query1 =\\\n",
    "    \"\"\"SELECT {0} FROM gaia_dr2.gaia_source\n",
    "       WHERE q3c_radial_query(ra,dec,{1},{2},{3})\"\"\"\n",
    "    \n",
    "    query = query1.format(columns,ra,dec,radius)\n",
    "    \n",
    "    \n",
    "    \n",
    "    return data"
   ]
  },
  {
   "cell_type": "code",
   "execution_count": 18,
   "metadata": {},
   "outputs": [],
   "source": [
    "# Call the 'resolve_coordinates' function to get your RA and Dec values.\n"
   ]
  },
  {
   "cell_type": "code",
   "execution_count": 19,
   "metadata": {},
   "outputs": [],
   "source": [
    "# Now call the 'getData' function using the RA and Dec you just found. Also make sure that you call the correct data by \n",
    "# including the appropriate columns.\n"
   ]
  },
  {
   "cell_type": "code",
   "execution_count": 20,
   "metadata": {},
   "outputs": [],
   "source": [
    "# You are now going to analize the parallax.\n",
    "# You should notice that you get 2 peaks. Which one should you use? Justify your answer.\n"
   ]
  },
  {
   "cell_type": "code",
   "execution_count": 21,
   "metadata": {},
   "outputs": [],
   "source": [
    "# Make a function similar to 'getData', but limit your data using the parallax\n"
   ]
  },
  {
   "cell_type": "code",
   "execution_count": 22,
   "metadata": {},
   "outputs": [],
   "source": [
    "# Call your function and set it to a variable\n"
   ]
  },
  {
   "cell_type": "code",
   "execution_count": 23,
   "metadata": {},
   "outputs": [],
   "source": [
    "# Plot the three RA/Dec graphs\n"
   ]
  },
  {
   "cell_type": "code",
   "execution_count": 24,
   "metadata": {},
   "outputs": [],
   "source": [
    "# Plot the HR diagram\n"
   ]
  },
  {
   "cell_type": "markdown",
   "metadata": {},
   "source": [
    "# Analysis Questions"
   ]
  },
  {
   "cell_type": "code",
   "execution_count": 44,
   "metadata": {},
   "outputs": [],
   "source": [
    "# 1.) Which B-R values corrispond to a star that are more blue? Which values corrrispond to stars that are more red?  \n",
    "#\n",
    "# 2.) How does the color of a star corrispond to the star's age?\n",
    "#\n",
    "# 3.) How do the positions of stars on the HR diagram show the cluster's age?\n",
    "#\n",
    "# 4.) Which cluster is older M67 or Pleiades? How can you tell?"
   ]
  },
  {
   "cell_type": "markdown",
   "metadata": {},
   "source": [
    "# Conclusion\n",
    "\n",
    ">In the cell below, write what you learned about HR Diagrmas, and how they can be used to classify stars."
   ]
  },
  {
   "cell_type": "code",
   "execution_count": null,
   "metadata": {},
   "outputs": [],
   "source": []
  }
 ],
 "metadata": {
  "kernelspec": {
   "display_name": "Python 3",
   "language": "python",
   "name": "python3"
  },
  "language_info": {
   "codemirror_mode": {
    "name": "ipython",
    "version": 3
   },
   "file_extension": ".py",
   "mimetype": "text/x-python",
   "name": "python",
   "nbconvert_exporter": "python",
   "pygments_lexer": "ipython3",
   "version": "3.7.3"
  }
 },
 "nbformat": 4,
 "nbformat_minor": 4
}
