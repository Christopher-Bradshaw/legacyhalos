{
 "cells": [
  {
   "cell_type": "markdown",
   "metadata": {},
   "source": [
    "# Legacy Halos - Paper I Figures\n",
    "\n",
    "This notebook contains all the code used to generate the figures in Paper 1."
   ]
  },
  {
   "cell_type": "markdown",
   "metadata": {},
   "source": [
    "### Imports and plotting preferences"
   ]
  },
  {
   "cell_type": "code",
   "execution_count": 1,
   "metadata": {},
   "outputs": [],
   "source": [
    "import os, warnings, pdb\n",
    "import numpy as np\n",
    "import numpy.ma as ma\n",
    "\n",
    "import matplotlib.pyplot as plt\n",
    "from matplotlib import ticker"
   ]
  },
  {
   "cell_type": "code",
   "execution_count": 2,
   "metadata": {},
   "outputs": [],
   "source": [
    "import seaborn as sns\n",
    "from astropy.io import fits\n",
    "from astropy.table import Table"
   ]
  },
  {
   "cell_type": "code",
   "execution_count": 3,
   "metadata": {},
   "outputs": [],
   "source": [
    "import legacyhalos.io\n",
    "import legacyhalos.misc\n",
    "from legacyhalos.misc import lambda2mhalo, statsinbins"
   ]
  },
  {
   "cell_type": "code",
   "execution_count": 4,
   "metadata": {},
   "outputs": [],
   "source": [
    "sns, colors = legacyhalos.misc.plot_style(paper=True)\n",
    "%matplotlib inline"
   ]
  },
  {
   "cell_type": "markdown",
   "metadata": {},
   "source": [
    "### Specify which figures to (re)make"
   ]
  },
  {
   "cell_type": "code",
   "execution_count": 5,
   "metadata": {},
   "outputs": [],
   "source": [
    "remake_radec = True"
   ]
  },
  {
   "cell_type": "markdown",
   "metadata": {},
   "source": [
    "### Read the data set some paths"
   ]
  },
  {
   "cell_type": "code",
   "execution_count": 6,
   "metadata": {},
   "outputs": [],
   "source": [
    "figdir = os.path.join(legacyhalos.io.legacyhalos_dir(), 'science', 'paper1', 'figures')"
   ]
  },
  {
   "cell_type": "code",
   "execution_count": 7,
   "metadata": {},
   "outputs": [
    {
     "name": "stdout",
     "output_type": "stream",
     "text": [
      "Read galaxy indices 0 through 229492 (N=229493) from /Users/ioannis/research/projects/legacyhalos/sample/legacyhalos-sample-dr6-dr7.fits\n",
      "Read galaxy indices 0 through 229492 (N=229493) from /Users/ioannis/research/projects/legacyhalos/sample/isedfit-lsphot-dr6-dr7.fits\n",
      "Read galaxy indices 0 through 229492 (N=229493) from /Users/ioannis/research/projects/legacyhalos/sample/isedfit-sdssphot-dr14.fits\n"
     ]
    }
   ],
   "source": [
    "sample = legacyhalos.io.read_sample(verbose=True)\n",
    "isedfit_lsphot = legacyhalos.io.read_sample(isedfit_lsphot=True, verbose=True)\n",
    "isedfit_sdssphot = legacyhalos.io.read_sample(isedfit_sdssphot=True, verbose=True)"
   ]
  },
  {
   "cell_type": "code",
   "execution_count": 227,
   "metadata": {},
   "outputs": [
    {
     "data": {
      "text/html": [
       "&lt;Column name=&apos;PZBINS&apos; dtype=&apos;float32&apos; shape=(21,) length=229493&gt;\n",
       "<table>\n",
       "<tr><td>0.159875 .. 0.204921</td></tr>\n",
       "<tr><td>0.0447689 .. 0.110197</td></tr>\n",
       "<tr><td>0.327301 .. 0.484541</td></tr>\n",
       "<tr><td>0.224986 .. 0.342263</td></tr>\n",
       "<tr><td>0.319587 .. 0.454963</td></tr>\n",
       "<tr><td>0.143415 .. 0.189882</td></tr>\n",
       "<tr><td>0.148338 .. 0.194651</td></tr>\n",
       "<tr><td>0.117964 .. 0.158241</td></tr>\n",
       "<tr><td>0.313291 .. 0.453199</td></tr>\n",
       "<tr><td>0.20467 .. 0.296485</td></tr>\n",
       "<tr><td>0.198927 .. 0.36589</td></tr>\n",
       "<tr><td>0.118336 .. 0.157396</td></tr>\n",
       "<tr><td>...</td></tr>\n",
       "<tr><td>0.224449 .. 0.531326</td></tr>\n",
       "<tr><td>0.20923 .. 0.511089</td></tr>\n",
       "<tr><td>0.253935 .. 0.573168</td></tr>\n",
       "<tr><td>0.277429 .. 0.544208</td></tr>\n",
       "<tr><td>0.221449 .. 0.540875</td></tr>\n",
       "<tr><td>0.231351 .. 0.547269</td></tr>\n",
       "<tr><td>0.364391 .. 0.675456</td></tr>\n",
       "<tr><td>0.207257 .. 0.66622</td></tr>\n",
       "<tr><td>0.237533 .. 0.547657</td></tr>\n",
       "<tr><td>0.379496 .. 0.698697</td></tr>\n",
       "<tr><td>0.298016 .. 0.60583</td></tr>\n",
       "<tr><td>0.211874 .. 0.524892</td></tr>\n",
       "</table>"
      ],
      "text/plain": [
       "<Column name='PZBINS' dtype='float32' shape=(21,) length=229493>\n",
       " 0.159875 .. 0.204921\n",
       "0.0447689 .. 0.110197\n",
       " 0.327301 .. 0.484541\n",
       " 0.224986 .. 0.342263\n",
       " 0.319587 .. 0.454963\n",
       " 0.143415 .. 0.189882\n",
       " 0.148338 .. 0.194651\n",
       " 0.117964 .. 0.158241\n",
       " 0.313291 .. 0.453199\n",
       "  0.20467 .. 0.296485\n",
       "  0.198927 .. 0.36589\n",
       " 0.118336 .. 0.157396\n",
       "                  ...\n",
       " 0.224449 .. 0.531326\n",
       "  0.20923 .. 0.511089\n",
       " 0.253935 .. 0.573168\n",
       " 0.277429 .. 0.544208\n",
       " 0.221449 .. 0.540875\n",
       " 0.231351 .. 0.547269\n",
       " 0.364391 .. 0.675456\n",
       "  0.207257 .. 0.66622\n",
       " 0.237533 .. 0.547657\n",
       " 0.379496 .. 0.698697\n",
       "  0.298016 .. 0.60583\n",
       " 0.211874 .. 0.524892"
      ]
     },
     "execution_count": 227,
     "metadata": {},
     "output_type": "execute_result"
    }
   ],
   "source": [
    "import fitsio\n",
    "ff = fitsio.FITS('/Users/ioannis/research/data/redmapper/v6.3.1/dr8_run_redmapper_v6.3.1_lgt20_catalog_members.fit')\n",
    "f2 = fitsio.FITS('/Users/ioannis/research/data/redmapper/v6.3.1/dr8_run_redmapper_v6.3.1_lgt20_catalog.fit')\n",
    "f2[1]\n",
    "sample['PZBINS']"
   ]
  },
  {
   "cell_type": "markdown",
   "metadata": {},
   "source": [
    "Print some statistics:"
   ]
  },
  {
   "cell_type": "code",
   "execution_count": 8,
   "metadata": {},
   "outputs": [
    {
     "name": "stdout",
     "output_type": "stream",
     "text": [
      "0.405044 11.0945788667 7.61649102803e+13\n"
     ]
    }
   ],
   "source": [
    "medz = np.median(sample['Z'])\n",
    "medlam = 10**np.median(np.log10(sample['LAMBDA_CHISQ']))\n",
    "print(medz, medlam, lambda2mhalo(medlam, redshift=0.4))"
   ]
  },
  {
   "cell_type": "markdown",
   "metadata": {},
   "source": [
    "### Some useful functions"
   ]
  },
  {
   "cell_type": "code",
   "execution_count": 95,
   "metadata": {},
   "outputs": [],
   "source": [
    "def mstar_label():\n",
    "    return r'$\\log_{10}\\, (\\mathcal{M}_{*}\\ /\\ h^{-2}\\, \\mathcal{M}_{\\odot})$'"
   ]
  },
  {
   "cell_type": "code",
   "execution_count": 154,
   "metadata": {},
   "outputs": [],
   "source": [
    "def get_lambdabins(verbose=False):\n",
    "    \"\"\"Fixed bins of richness.\n",
    "    \n",
    "    nn = 7\n",
    "    ll = 10**np.linspace(np.log10(5), np.log10(500), nn)\n",
    "    #ll = np.linspace(5, 500, nn)\n",
    "    mh = np.log10(lambda2mhalo(ll))\n",
    "    for ii in range(nn):\n",
    "        print('{:.3f}, {:.3f}'.format(ll[ii], mh[ii]))    \n",
    "    \"\"\"\n",
    "    \n",
    "    # Roughly 13.5, 13.9, 14.2, 14.6, 15, 15.7 Msun\n",
    "    lambdabins = np.array([5, 10, 20, 40, 80, 250])\n",
    "    #lambdabins = np.array([5, 25, 50, 100, 500])\n",
    "    nlbins = len(lambdabins)\n",
    "    \n",
    "    mhalobins = np.log10(lambda2mhalo(lambdabins))\n",
    "    \n",
    "    if verbose:\n",
    "        for ii in range(nlbins - 1):\n",
    "            print('Bin {}: lambda={:03d}-{:03d}, Mhalo={:.3f}-{:.3f} Msun'.format(\n",
    "                ii, lambdabins[ii], lambdabins[ii+1], mhalobins[ii], mhalobins[ii+1]))\n",
    "    return lambdabins"
   ]
  },
  {
   "cell_type": "code",
   "execution_count": 208,
   "metadata": {},
   "outputs": [],
   "source": [
    "def get_zbins(zmin=0.05, zmax=0.6, dt=1.0, verbose=False):\n",
    "    \"\"\"Establish redshift bins which are equal in lookback time.\"\"\"\n",
    "    import astropy.units as u\n",
    "    from astropy.cosmology import z_at_value\n",
    "    \n",
    "    cosmo = legacyhalos.misc.cosmology()\n",
    "    tmin, tmax = cosmo.lookback_time([zmin, zmax])\n",
    "    if verbose:\n",
    "        print('Cosmic time spanned = {:.3f} Gyr'.format(tmax - tmin))\n",
    "    \n",
    "    ntbins = np.round( (tmax.value - tmin.value) / dt + 1 ).astype('int')\n",
    "    #tbins = np.arange(tmin.value, tmax.value, dt) * u.Gyr\n",
    "    tbins = np.linspace(tmin.value, tmax.value, ntbins) * u.Gyr\n",
    "    zbins = np.around([z_at_value(cosmo.lookback_time, tt) for tt in tbins], decimals=3)\n",
    "    tbins = tbins.value\n",
    "    \n",
    "    # Now fix the bins:\n",
    "    zbins = np.array([0.05, 0.15, 0.25, 0.35, 0.45, 0.6])\n",
    "    tbins = cosmo.lookback_time(zbins).value\n",
    "    \n",
    "    if verbose:\n",
    "        for ii in range(ntbins - 1):\n",
    "            print('Bin {}: z={:.3f}-{:.3f}, t={:.3f}-{:.3f} Gyr'.format(\n",
    "                ii, zbins[ii], zbins[ii+1], tbins[ii], tbins[ii+1]))\n",
    "    return zbins"
   ]
  },
  {
   "cell_type": "code",
   "execution_count": 209,
   "metadata": {},
   "outputs": [
    {
     "name": "stdout",
     "output_type": "stream",
     "text": [
      "Bin 0: lambda=005-010, Mhalo=13.488-13.825 Msun\n",
      "Bin 1: lambda=010-020, Mhalo=13.825-14.163 Msun\n",
      "Bin 2: lambda=020-040, Mhalo=14.163-14.500 Msun\n",
      "Bin 3: lambda=040-080, Mhalo=14.500-14.837 Msun\n",
      "Bin 4: lambda=080-250, Mhalo=14.837-15.391 Msun\n"
     ]
    }
   ],
   "source": [
    "lambdabins = get_lambdabins(verbose=True)"
   ]
  },
  {
   "cell_type": "code",
   "execution_count": 210,
   "metadata": {},
   "outputs": [
    {
     "name": "stdout",
     "output_type": "stream",
     "text": [
      "Cosmic time spanned = 5.036 Gyr Gyr\n",
      "Bin 0: z=0.050-0.150, t=0.674-1.886 Gyr\n",
      "Bin 1: z=0.150-0.250, t=1.886-2.942 Gyr\n",
      "Bin 2: z=0.250-0.350, t=2.942-3.864 Gyr\n",
      "Bin 3: z=0.350-0.450, t=3.864-4.673 Gyr\n",
      "Bin 4: z=0.450-0.600, t=4.673-5.710 Gyr\n"
     ]
    }
   ],
   "source": [
    "zbins = get_zbins(verbose=True)"
   ]
  },
  {
   "cell_type": "markdown",
   "metadata": {},
   "source": [
    "### Figure: Stellar mass function in bins of redshift and richness"
   ]
  },
  {
   "cell_type": "code",
   "execution_count": 216,
   "metadata": {},
   "outputs": [],
   "source": [
    "def smf(mstarlim=(9, 14), deltam=0.1, png=None):\n",
    "    \"\"\"Stellar mass function in bins of redshift and lambda.\n",
    "    \n",
    "    \"\"\"\n",
    "    import matplotlib.ticker as ticker\n",
    "    from scipy.stats import binned_statistic_2d, poisson\n",
    "    from astropy.modeling import models, fitting\n",
    "\n",
    "    def weighted_avg_and_std(values, weights):\n",
    "        \"\"\"https://stackoverflow.com/questions/2413522/weighted-standard-deviation-in-numpy/2415343#2415343\n",
    "        \"\"\"\n",
    "        avg = np.average(values, weights=weights)\n",
    "        variance = np.average( (values-avg)**2, weights=weights )\n",
    "        return avg, np.sqrt(variance)\n",
    "    \n",
    "    # Bin the sample by redshift and richness.\n",
    "    mstar, merr = isedfit_lsphot['MSTAR_AVG'], isedfit_lsphot['MSTAR_ERR']\n",
    "    zobj, richness = sample['Z'], sample['LAMBDA_CHISQ']\n",
    "\n",
    "    zbins = get_zbins()\n",
    "    richbins = get_lambdabins()\n",
    "\n",
    "    nzedges = len(zbins)-1\n",
    "    nredges = len(richbins)-1\n",
    "\n",
    "    count, xedges, yedges, binnumber = binned_statistic_2d(\n",
    "        zobj, richness, mstar, statistic='count', bins=(zbins[1:], richbins[1:]),\n",
    "        expand_binnumbers=True)\n",
    "    \n",
    "    # Make the plot!\n",
    "    nmstarbin = np.int( (mstarlim[1] - mstarlim[0]) / deltam )\n",
    "\n",
    "    xlim = (mstarlim[0] - 0.5, mstarlim[1] + 0.5)\n",
    "    ylim = (0, 5.5)\n",
    "    \n",
    "    fig, ax = plt.subplots(nredges, nzedges, figsize=(14, 10), \n",
    "                           sharex=True, sharey=True)\n",
    "    for iz in range(nzedges):\n",
    "        for ir in range(nredges):\n",
    "            these = (binnumber[0, :] == iz) * (binnumber[1, :] == ir)\n",
    "            if np.count_nonzero(these) > 0:\n",
    "                zz = zobj[these]\n",
    "                lam = richness[these]\n",
    "                ngal, mstarbins = np.histogram(mstar[these], bins=nmstarbin, \n",
    "                                               range=mstarlim)\n",
    "                xmstar = (mstarbins[:-1] + mstarbins[1:]) / 2\n",
    "\n",
    "                # Get the uncertainties on the points.\n",
    "                ngalconf = poisson.interval(0.95, ngal)\n",
    "                ngalerrlo = ngal - ngalconf[0]\n",
    "                ngalerrhi = ngalconf[1] - ngal\n",
    "                \n",
    "                good = ngal > 0\n",
    "                xmstar = xmstar[good]\n",
    "                ngal = ngal[good]\n",
    "                ngalerrlo = ngalerrlo[good]\n",
    "                ngalerrhi = ngalerrhi[good]\n",
    "                \n",
    "                # Take the log\n",
    "                ngalerrlo = ngalerrlo / ngal / np.log(10)\n",
    "                ngalerrhi = ngalerrhi / ngal / np.log(10)\n",
    "                ngal = np.log10(ngal)\n",
    "                \n",
    "                \n",
    "                # Finally make the plot\n",
    "                ax[ir, iz].errorbar(xmstar, ngal, yerr=[ngalerrlo, ngalerrhi], \n",
    "                                    fmt='s', markersize=5, capthick=2,\n",
    "                                    capsize=2, zorder=2)\n",
    "                \n",
    "                ax[ir, iz].set_xlim(xlim)\n",
    "                ax[ir, iz].set_ylim(ylim)\n",
    "                ax[ir, iz].margins(0)\n",
    "                ax[ir, iz].xaxis.set_major_locator(ticker.MultipleLocator(1))\n",
    "                \n",
    "                if ir == nredges-1:\n",
    "                    ax[ir, iz].set_xlabel(mstar_label())\n",
    "                if iz == 0:\n",
    "                    ax[ir, iz].set_ylabel(r'$\\log_{10}(Number)$')\n",
    "                if iz == nzedges-1:\n",
    "                    ax[ir, iz].text(0.95, 0.85, '${:d}<\\lambda<{:d}$'.format(richbins[ir], richbins[ir+1]),\n",
    "                                    fontsize=14, va='center', ha='right', transform=ax[ir, iz].transAxes)\n",
    "                if ir == 0:\n",
    "                    ax[ir, iz].set_title(r'${:.2f}<z<{:.2f}$'.format(zbins[iz], zbins[iz+1]),\n",
    "                                         fontsize=16)\n",
    "                    \n",
    "                # Fit and plot a Gaussian model!\n",
    "                if len(ngal) > 5:\n",
    "                    ginit = models.Gaussian1D(ngal.max(), mean=np.mean(mstarlim), \n",
    "                                              stddev=0.3)\n",
    "                    gfit = fitting.LevMarLSQFitter()\n",
    "                    ygauss = gfit(ginit, xmstar, ngal)\n",
    "                    xgauss = np.linspace(xlim[0], xlim[1], nmstarbin*5)\n",
    "                    ax[ir, iz].plot(xgauss, ygauss(xgauss), '-', lw=2, color='black',\n",
    "                                   zorder=20, alpha=0.6)\n",
    "                    \n",
    "                # Get the weighted mean stellar mass and standard deviation in this bin.\n",
    "                #mstaravg, mstarsig = weighted_avg_and_std(xmstar, ngal)\n",
    "                \n",
    "                #ax[iz, ir].hist(mstar[these])\n",
    "                #print(np.sum(these), zz.min(), zz.max(), lam.min(), lam.max(), mstaravg, mstarsig)\n",
    "        #print()\n",
    "    \n",
    "    fig.subplots_adjust(hspace=0.1, wspace=0.1)\n",
    "    \n",
    "    if png:\n",
    "        pngfile = os.path.join(figdir, png)\n",
    "        print('Writing {}'.format(pngfile))\n",
    "        fig.savefig(pngfile, bbox_inches='tight', pad_inches=0)    "
   ]
  },
  {
   "cell_type": "code",
   "execution_count": 217,
   "metadata": {},
   "outputs": [
    {
     "name": "stdout",
     "output_type": "stream",
     "text": [
      "Writing /Users/ioannis/research/projects/legacyhalos/science/paper1/figures/smf_redshift_richness.png\n"
     ]
    },
    {
     "data": {
      "image/png": "[encoded data removed]",
      "text/plain": [
       "<Figure size 1008x720 with 25 Axes>"
      ]
     },
     "metadata": {},
     "output_type": "display_data"
    }
   ],
   "source": [
    "smf(png='smf_redshift_richness.png')"
   ]
  },
  {
   "cell_type": "code",
   "execution_count": null,
   "metadata": {},
   "outputs": [],
   "source": [
    "stop"
   ]
  },
  {
   "cell_type": "markdown",
   "metadata": {},
   "source": [
    "### Figure: Richness vs redshift"
   ]
  },
  {
   "cell_type": "code",
   "execution_count": null,
   "metadata": {},
   "outputs": [],
   "source": [
    "def fig_lambda_redshift(png=None):\n",
    "\n",
    "    cmap = 'viridis' # 'RdYlBu'\n",
    "    xmin, xmax = 0.05, 0.6\n",
    "    ymin, ymax = np.log10(5), 2.1\n",
    "    \n",
    "    j = sns.jointplot(sample['Z'], np.log10(sample['LAMBDA_CHISQ']), kind='hex', #space=0, \n",
    "                      stat_func=None, cmap=cmap, mincnt=3, bins='log', gridsize=150,\n",
    "                      xlim=(xmin, xmax), ylim=(ymin, ymax),\n",
    "                      marginal_kws={'hist_kws': {'color': 'black'}})\n",
    "    j.set_axis_labels('Redshift', r'$\\log_{10}$ (Richness $\\lambda$)')\n",
    "    #j.ax_joint.axvline(x=0.05, color='k', lw=2, alpha=0.5)\n",
    "    #j.ax_joint.axvline(x=0.6, color='k', lw=2, alpha=0.5)\n",
    "    j.ax_joint.margins(0)\n",
    "\n",
    "    j.fig.set_figwidth(10)\n",
    "    j.fig.set_figheight(6)\n",
    "    \n",
    "    #ax.axhline(y=np.log10(5), ls='--', color='k')\n",
    "\n",
    "    cax = j.fig.add_axes([0.18, -0.08, 0.65, 0.05])\n",
    "    cb = plt.colorbar(orientation='horizontal', cax=cax)\n",
    "    cb.set_label(r'$\\log_{10}$ (Number of Centrals)')       \n",
    "\n",
    "    ax2 = j.ax_marg_y.twinx()\n",
    "    ax2.set_ylabel(r'$\\log_{10}\\, (\\mathcal{M}_{200}\\, /\\, \\mathcal{M}_{\\odot})$ at $z=0.4$')\n",
    "    ax2.set_ylim( np.log10(lambda2mhalo(10**ymin, redshift=0.4)), \n",
    "                  np.log10(lambda2mhalo(10**ymax, redshift=0.4)) )\n",
    "    #ax2.plot([],[])\n",
    "    sns.despine(ax=ax2, left=True, right=False)\n",
    "    ax2.spines['bottom'].set_color('white')\n",
    "    \n",
    "    if png:\n",
    "        pngfile = os.path.join(figdir, png)\n",
    "        print('Writing {}'.format(pngfile))\n",
    "        j.fig.savefig(pngfile, bbox_inches='tight', pad_inches=0)"
   ]
  },
  {
   "cell_type": "code",
   "execution_count": null,
   "metadata": {},
   "outputs": [],
   "source": [
    "fig_lambda_redshift(png='lambda_redshift.png')"
   ]
  },
  {
   "cell_type": "markdown",
   "metadata": {},
   "source": [
    "### Figure: Central galaxy montage\n",
    "\n",
    "Add code here!"
   ]
  },
  {
   "cell_type": "markdown",
   "metadata": {},
   "source": []
  },
  {
   "cell_type": "markdown",
   "metadata": {},
   "source": [
    "### Figure: RA, Dec of parent sample\n",
    "\n",
    "ToDo:\n",
    "* Limit the declination to ~-20 deg or so;\n",
    "* Add the DESI and/or SDSS footprint;\n",
    "* Correct for partial pixels."
   ]
  },
  {
   "cell_type": "code",
   "execution_count": null,
   "metadata": {},
   "outputs": [],
   "source": [
    "def fig_radec(png=None):\n",
    "    from legacyhalos.desiutil import init_sky, plot_sky_binned\n",
    "    fig, ax = plt.subplots(figsize=(8, 8))\n",
    "\n",
    "    with warnings.catch_warnings():\n",
    "        warnings.simplefilter('ignore')\n",
    "        basemap = init_sky(galactic_plane_color='k', ax=ax)\n",
    "        _, grid_data = plot_sky_binned(sample['RA'], sample['DEC'], #weights=data['WEIGHT'],\n",
    "                                       max_bin_area=1.0, verbose=True, clip_lo='!1', cmap='viridis',\n",
    "                                       plot_type='healpix', basemap=basemap,\n",
    "                                       label=r'$N$(Central Galaxies) (deg$^{-2}$)',\n",
    "                                       return_grid_data=True)\n",
    "    print('Median density = {:.3f}/deg2'.format(ma.median(grid_data)))\n",
    "\n",
    "    if png:\n",
    "        pngfile = os.path.join(figdir, png)\n",
    "        print('Writing {}'.format(pngfile))\n",
    "        fig.savefig(pngfile, bbox_inches='tight', pad_inches=0)"
   ]
  },
  {
   "cell_type": "code",
   "execution_count": null,
   "metadata": {},
   "outputs": [],
   "source": [
    "fig_radec(png='radec.png')"
   ]
  },
  {
   "cell_type": "code",
   "execution_count": null,
   "metadata": {},
   "outputs": [],
   "source": [
    "stop"
   ]
  },
  {
   "cell_type": "markdown",
   "metadata": {},
   "source": [
    "### Richness-redshift and halo mass-redshift relations."
   ]
  },
  {
   "cell_type": "code",
   "execution_count": null,
   "metadata": {},
   "outputs": [],
   "source": [
    "fig, ax = plt.subplots(figsize=(8, 6))\n",
    "\n",
    "hb = ax.hexbin(rm['Z'], np.log10(rm['LAMBDA_CHISQ']), mincnt=3,\n",
    "               cmap=plt.cm.get_cmap('RdYlBu'), alpha=0.5, bins='log')\n",
    "ax.set_xlabel('Redshift $z$')\n",
    "ax.set_ylabel(r'$\\log_{10}$ (Richness $\\lambda$)')\n",
    "ax.set_xlim(0, 0.6)\n",
    "ymin, ymax = np.log10(3), 2.3\n",
    "ax.set_ylim(ymin, ymax)\n",
    "ax.axhline(y=np.log10(5), ls='--', color='k')\n",
    "\n",
    "cax = fig.add_axes([0.1, 1.05, 0.8, 0.05])\n",
    "cb = plt.colorbar(hb, orientation='horizontal', cax=cax)\n",
    "cb.set_label(r'$\\log_{10}$ (Number of Galaxies)')       \n",
    "\n",
    "ax2 = ax.twinx()\n",
    "ax2.set_ylabel(r'$\\log_{10}\\, (M_{200}\\, /\\, M_{\\odot})$ at $z=0.3$')\n",
    "ax2.set_ylim( np.log10(lambda2mhalo(ymin)), np.log10(lambda2mhalo(ymax)) )\n",
    "ax2.plot([],[])"
   ]
  },
  {
   "cell_type": "markdown",
   "metadata": {},
   "source": [
    "### Compare LS/SDSS magnitudes and colors."
   ]
  },
  {
   "cell_type": "code",
   "execution_count": null,
   "metadata": {},
   "outputs": [],
   "source": [
    "def unextinct_sdssphot(phot):\n",
    "    \"\"\"Correct SDSS photometry for MW extinction and compute colors.\"\"\"\n",
    "    dtype = [('g', 'f4'), ('r', 'f4'), ('z', 'f4'), \n",
    "             ('W1', 'f4'), ('W2', 'f4'), \n",
    "             ('gr', 'f4'), ('rz', 'f4')]\n",
    "    result = np.zeros(len(phot), dtype=dtype)\n",
    "    \n",
    "    with warnings.catch_warnings():\n",
    "        warnings.simplefilter('ignore')\n",
    "        ugriz = 22.5 - 2.5 * np.log10(phot['CMODELMAGGIES']) - phot['EXTINCTION']\n",
    "    \n",
    "        result['g'] = ugriz[:, 1]\n",
    "        result['r'] = ugriz[:, 2]\n",
    "        result['z'] = ugriz[:, 4]\n",
    "        result['gr'] = result['g'] - result['r']\n",
    "        result['rz'] = result['r'] - result['z']\n",
    "        \n",
    "    return Table(result)"
   ]
  },
  {
   "cell_type": "code",
   "execution_count": null,
   "metadata": {},
   "outputs": [],
   "source": [
    "def unextinct_lsphot(phot):\n",
    "    \"\"\"Correct LS photometry for MW extinction and compute colors.\"\"\"\n",
    "    dtype = [('g', 'f4'), ('r', 'f4'), ('z', 'f4'), \n",
    "             ('W1', 'f4'), ('W2', 'f4'), \n",
    "             ('gr', 'f4'), ('rz', 'f4')]\n",
    "    result = np.zeros(len(phot), dtype=dtype)\n",
    "\n",
    "    g = phot['FLUX_G'] / phot['MW_TRANSMISSION_G']\n",
    "    r = phot['FLUX_R'] / phot['MW_TRANSMISSION_R']\n",
    "    z = phot['FLUX_Z'] / phot['MW_TRANSMISSION_Z']\n",
    "    W1 = phot['FLUX_W1'] / phot['MW_TRANSMISSION_W1']\n",
    "    W2 = phot['FLUX_W2'] / phot['MW_TRANSMISSION_W2']\n",
    "    \n",
    "    with warnings.catch_warnings():\n",
    "        warnings.simplefilter('ignore')\n",
    "        result['g'] = 22.5 - 2.5 * np.log10(g)\n",
    "        result['r'] = 22.5 - 2.5 * np.log10(r)\n",
    "        result['z'] = 22.5 - 2.5 * np.log10(z)\n",
    "        result['W1'] = 22.5 - 2.5 * np.log10(W1)\n",
    "        result['W2'] = 22.5 - 2.5 * np.log10(W2)\n",
    "        result['gr'] = result['g'] - result['r']\n",
    "        result['rz'] = result['r'] - result['z']\n",
    "        \n",
    "    return Table(result)"
   ]
  },
  {
   "cell_type": "code",
   "execution_count": null,
   "metadata": {},
   "outputs": [],
   "source": [
    "ls = unextinct_lsphot(lsphot)"
   ]
  },
  {
   "cell_type": "code",
   "execution_count": null,
   "metadata": {},
   "outputs": [],
   "source": [
    "sdss = unextinct_sdssphot(sdssphot)"
   ]
  },
  {
   "cell_type": "code",
   "execution_count": null,
   "metadata": {},
   "outputs": [],
   "source": [
    "fig, ax = plt.subplots(1, 3, figsize=(14, 4), sharey=True)\n",
    "for ii, band in enumerate(('g', 'r', 'z')):\n",
    "    hb = ax[ii].hexbin(ls[band], sdss[band], mincnt=1,\n",
    "                cmap=plt.cm.Blues_r, alpha=0.5, bins='log')\n",
    "    ax[ii].set_xlim(13, 25)\n",
    "    ax[ii].set_ylim(13, 25)\n",
    "    #ax[ii].legend(loc='upper left')\n",
    "    ax[ii].plot([10, 30], [10, 30], color='k', ls='--')\n",
    "    ax[ii].set_xlabel('mag (SDSS)')\n",
    "ax[0].set_ylabel('mag (LS)')\n",
    "cb = plt.colorbar(hb)\n",
    "cb.set_label(r'$\\log_{10}$ (Number of Galaxies)')\n",
    "fig.subplots_adjust(wspace=0.05)"
   ]
  },
  {
   "cell_type": "markdown",
   "metadata": {},
   "source": [
    "### Compare LS/UPenn magnitudes and colors."
   ]
  },
  {
   "cell_type": "code",
   "execution_count": null,
   "metadata": {},
   "outputs": [],
   "source": [
    "lsupenn = Table(fits.getdata(parentupennfile, extname='LSPHOT'))"
   ]
  },
  {
   "cell_type": "code",
   "execution_count": null,
   "metadata": {},
   "outputs": [],
   "source": [
    "sdssupenn = Table(fits.getdata(parentupennfile, extname='SDSSPHOT'))"
   ]
  },
  {
   "cell_type": "code",
   "execution_count": null,
   "metadata": {},
   "outputs": [],
   "source": [
    "upenn = Table(fits.getdata(parentupennfile, extname='UPENN'))\n",
    "upenn.colnames"
   ]
  },
  {
   "cell_type": "code",
   "execution_count": null,
   "metadata": {},
   "outputs": [],
   "source": [
    "lsupennphot = unextinct_lsphot(lsupenn)\n",
    "sdssupennphot = unextinct_sdssphot(sdssupenn)"
   ]
  },
  {
   "cell_type": "code",
   "execution_count": null,
   "metadata": {},
   "outputs": [],
   "source": [
    "minmag, maxmag = 14, 20\n",
    "fig, ax = plt.subplots(1, 2, figsize=(11, 4), sharey=True)\n",
    "for ii, band in enumerate(('g', 'r')):\n",
    "    hb = ax[ii].hexbin(upenn['{}_M_TOT'.format(band.upper())], sdssupennphot[band], \n",
    "                       mincnt=1, cmap=plt.cm.Blues_r, alpha=0.5, #bins='log',\n",
    "                       extent=(minmag, maxmag, minmag, maxmag),\n",
    "                       vmin=0, vmax=15)\n",
    "    ax[ii].set_xlim(minmag, maxmag)\n",
    "    ax[ii].set_ylim(minmag, maxmag)\n",
    "    ax[ii].plot([10, 30], [10, 30], color='k', ls='--')\n",
    "    ax[ii].set_xlabel('mag (UPenn-PhotDec)')\n",
    "cax = fig.add_axes([0.92, 0.15, 0.02, 0.72])\n",
    "cb = plt.colorbar(hb, cax=cax)\n",
    "cb.set_label('Number of Galaxies per Bin') \n",
    "ax[0].set_ylabel('mag (SDSS)')\n",
    "fig.subplots_adjust(wspace=0.05)"
   ]
  },
  {
   "cell_type": "code",
   "execution_count": null,
   "metadata": {},
   "outputs": [],
   "source": [
    "minmag, maxmag = 14, 20\n",
    "fig, ax = plt.subplots(1, 2, figsize=(11, 4), sharey=True)\n",
    "for ii, band in enumerate(('g', 'r')):\n",
    "    hb = ax[ii].hexbin(upenn['{}_M_TOT'.format(band.upper())], lsupennphot[band], \n",
    "                       mincnt=1, cmap=plt.cm.Blues_r, alpha=0.5, #bins='log',\n",
    "                       extent=(minmag, maxmag, minmag, maxmag),\n",
    "                       vmin=0, vmax=15)\n",
    "    ax[ii].set_xlim(minmag, maxmag)\n",
    "    ax[ii].set_ylim(minmag, maxmag)\n",
    "    ax[ii].plot([10, 30], [10, 30], color='k', ls='--')\n",
    "    ax[ii].set_xlabel('mag (UPenn-PhotDec)')\n",
    "cax = fig.add_axes([0.92, 0.15, 0.02, 0.72])\n",
    "cb = plt.colorbar(hb, cax=cax)\n",
    "cb.set_label('Number of Galaxies per Bin')\n",
    "#cb.set_label(r'$\\log_{10}$ (Number of Galaxies)')    \n",
    "ax[0].set_ylabel('mag (LS)')\n",
    "fig.subplots_adjust(wspace=0.05)"
   ]
  },
  {
   "cell_type": "code",
   "execution_count": null,
   "metadata": {},
   "outputs": [],
   "source": []
  }
 ],
 "metadata": {
  "kernelspec": {
   "display_name": "Python 3",
   "language": "python",
   "name": "python3"
  },
  "language_info": {
   "codemirror_mode": {
    "name": "ipython",
    "version": 3
   },
   "file_extension": ".py",
   "mimetype": "text/x-python",
   "name": "python",
   "nbconvert_exporter": "python",
   "pygments_lexer": "ipython3",
   "version": "3.6.4"
  }
 },
 "nbformat": 4,
 "nbformat_minor": 2
}
