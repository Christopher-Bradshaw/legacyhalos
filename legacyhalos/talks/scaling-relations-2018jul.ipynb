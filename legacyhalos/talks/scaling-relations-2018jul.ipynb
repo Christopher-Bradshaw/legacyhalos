{
 "cells": [
  {
   "cell_type": "markdown",
   "metadata": {},
   "source": [
    "### Figures for the scaling relations meeting at Queen's University in Kingston, ON in 2018 July."
   ]
  },
  {
   "cell_type": "code",
   "execution_count": 1,
   "metadata": {},
   "outputs": [],
   "source": [
    "import os, pdb\n",
    "import numpy as np\n",
    "import numpy.ma as ma\n",
    "import pandas as pd\n",
    "import warnings\n",
    "from scipy.stats import binned_statistic\n",
    "from matplotlib.ticker import FormatStrFormatter, MultipleLocator, ScalarFormatter\n",
    "import matplotlib.pyplot as plt"
   ]
  },
  {
   "cell_type": "code",
   "execution_count": 2,
   "metadata": {},
   "outputs": [],
   "source": [
    "from astropy.io import fits, ascii\n",
    "from astropy.table import Table"
   ]
  },
  {
   "cell_type": "code",
   "execution_count": 3,
   "metadata": {},
   "outputs": [],
   "source": [
    "import seaborn as sns\n",
    "sns.set(context='talk', style='ticks', font_scale=1.5)#, palette='deep')\n",
    "sns.set_palette('deep', 12)\n",
    "colors = sns.color_palette()"
   ]
  },
  {
   "cell_type": "code",
   "execution_count": 4,
   "metadata": {},
   "outputs": [],
   "source": [
    "import legacyhalos.io"
   ]
  },
  {
   "cell_type": "code",
   "execution_count": 5,
   "metadata": {},
   "outputs": [],
   "source": [
    "%matplotlib inline"
   ]
  },
  {
   "cell_type": "code",
   "execution_count": 6,
   "metadata": {},
   "outputs": [],
   "source": [
    "talkdir = os.path.join(os.getenv('HOME'), 'research', 'talks', \n",
    "                       'legacyhalos', 'scaling-relations-2018jul')\n",
    "hdefault = 0.7 # 0.677 # Hubble constant\n",
    "omega_b = 0.048 # from Knebe+18\n",
    "omega_m = 0.307 "
   ]
  },
  {
   "cell_type": "markdown",
   "metadata": {},
   "source": [
    "### Some utility functions."
   ]
  },
  {
   "cell_type": "code",
   "execution_count": 7,
   "metadata": {},
   "outputs": [],
   "source": [
    "def mstar_label():\n",
    "    return r'$log_{10}\\, (\\mathcal{M}_{*}\\ /\\ h^{-2}\\, \\mathcal{M}_{\\odot})$'"
   ]
  },
  {
   "cell_type": "code",
   "execution_count": 8,
   "metadata": {},
   "outputs": [],
   "source": [
    "def mhalo_label():\n",
    "    return r'$log_{10}\\, (\\mathcal{M}_{\\rm halo}\\, /\\, \\mathcal{M}_{\\odot})$'"
   ]
  },
  {
   "cell_type": "code",
   "execution_count": 9,
   "metadata": {},
   "outputs": [],
   "source": [
    "def mstar_label2():\n",
    "    return r'$log_{10}\\, (\\mathcal{M}_{*}\\ /\\ h^{-1}\\, \\mathcal{M}_{\\odot})$'"
   ]
  },
  {
   "cell_type": "code",
   "execution_count": 10,
   "metadata": {},
   "outputs": [],
   "source": [
    "def mstar_label3():\n",
    "    return r'$log_{10}\\, (\\mathcal{M}_{*}\\, /\\, \\mathcal{M}_{\\odot})$'"
   ]
  },
  {
   "cell_type": "code",
   "execution_count": 11,
   "metadata": {},
   "outputs": [],
   "source": [
    "def phi_label():\n",
    "    return r'$log_{10}\\, (\\mathcal{\\Phi}\\ /\\ h^{3}$ Mpc$^{-3}$ dex$^{-1})$'"
   ]
  },
  {
   "cell_type": "code",
   "execution_count": 12,
   "metadata": {},
   "outputs": [],
   "source": [
    "def mstar_mhalo_label():\n",
    "    return r'$log_{10}\\, (\\mathcal{M}_{*}\\ /\\ \\mathcal{M}_{\\rm halo})\\ /\\ (\\Omega_b\\ /\\ \\Omega_m)$'"
   ]
  },
  {
   "cell_type": "markdown",
   "metadata": {},
   "source": [
    "### Ellipse-fitting results"
   ]
  },
  {
   "cell_type": "code",
   "execution_count": 13,
   "metadata": {},
   "outputs": [],
   "source": [
    "from legacyhalos.io import analysis_dir, read_ellipsefit, read_multiband, read_sky_ellipsefit\n",
    "from legacyhalos.qa import display_multiband, display_ellipsefit, _display_ellipse_sbprofile"
   ]
  },
  {
   "cell_type": "code",
   "execution_count": 14,
   "metadata": {},
   "outputs": [],
   "source": [
    "objid, objdir = '0003497', os.path.join(analysis_dir(), '0003497')\n",
    "ellipsefit = read_ellipsefit(objid, objdir)\n",
    "skyellipsefit = read_sky_ellipsefit(objid, objdir)\n",
    "data = read_multiband(objid, objdir)"
   ]
  },
  {
   "cell_type": "code",
   "execution_count": 15,
   "metadata": {},
   "outputs": [
    {
     "name": "stdout",
     "output_type": "stream",
     "text": [
      "Writing /Users/ioannis/research/talks/legacyhalos/scaling-relations-2018jul/0003497-ellipse-sbprofile.png\n"
     ]
    }
   ],
   "source": [
    "sbprofilefile = os.path.join(talkdir, '{}-ellipse-sbprofile.png'.format(objid))\n",
    "_display_ellipse_sbprofile(ellipsefit, skyellipsefit=skyellipsefit, minerr=0.0,\n",
    "                           png=sbprofilefile, verbose=True, use_ylim=(18, 33))"
   ]
  },
  {
   "cell_type": "code",
   "execution_count": 16,
   "metadata": {},
   "outputs": [
    {
     "name": "stdout",
     "output_type": "stream",
     "text": [
      "Writing /Users/ioannis/research/talks/legacyhalos/scaling-relations-2018jul/0003497-ellipse-multiband.png\n"
     ]
    }
   ],
   "source": [
    "multibandfile = os.path.join(talkdir, '{}-ellipse-multiband.png'.format(objid))\n",
    "display_multiband(data, ellipsefit=ellipsefit, png=multibandfile, verbose=True, vertical=True)"
   ]
  },
  {
   "cell_type": "code",
   "execution_count": 17,
   "metadata": {},
   "outputs": [
    {
     "ename": "NameError",
     "evalue": "name 'stop' is not defined",
     "output_type": "error",
     "traceback": [
      "\u001b[0;31m---------------------------------------------------------------------------\u001b[0m",
      "\u001b[0;31mNameError\u001b[0m                                 Traceback (most recent call last)",
      "\u001b[0;32m<ipython-input-17-4f76a9dad686>\u001b[0m in \u001b[0;36m<module>\u001b[0;34m()\u001b[0m\n\u001b[0;32m----> 1\u001b[0;31m \u001b[0mstop\u001b[0m\u001b[0;34m\u001b[0m\u001b[0m\n\u001b[0m",
      "\u001b[0;31mNameError\u001b[0m: name 'stop' is not defined"
     ]
    }
   ],
   "source": [
    "stop"
   ]
  },
  {
   "cell_type": "markdown",
   "metadata": {},
   "source": [
    "### Toy stellar mass function and SMHM relation"
   ]
  },
  {
   "cell_type": "code",
   "execution_count": null,
   "metadata": {},
   "outputs": [],
   "source": [
    "def qa_smf(png=None):\n",
    "    \"\"\"A toy SMF.\"\"\"\n",
    "    \n",
    "    # Halo mass function from Tinker's code \n",
    "    #   http://cosmo.nyu.edu/~tinker/massfunction/mf.html\n",
    "    # with ./massfunction.x mf-toy.bat\n",
    "    \n",
    "    mh, dndm = np.loadtxt(os.path.join(talkdir, 'toy.dndM'), unpack=True)\n",
    "    mh, dndm = np.log10(mh), np.log10(dndm)\n",
    "    \n",
    "    # SMF\n",
    "    mstarlim = (9, 12)\n",
    "    mstar = np.linspace(8, 12, 50)\n",
    "    alpha = -1.2\n",
    "    mstar0 = 10.7\n",
    "    \n",
    "    phi = np.zeros_like(mstar)\n",
    "    phi += (alpha + 1) * (mstar - mstar0) * np.log(10)\n",
    "    phi -= pow(10, mstar - mstar0)\n",
    "    #phierr = np.polyval([0.05, 0.25], mstar-mstar0)\n",
    "    #phierr[phierr < 0.1] = 0.1\n",
    "    phierr = 0.12*np.abs(phi)\n",
    "    phierr[phierr < 0.05] = 0.05\n",
    "    \n",
    "    fig, ax = plt.subplots(figsize=(10, 7))\n",
    "    #keep = (mstar > 9.1) * (phi > -4.95)\n",
    "    #ax.fill_between(mstar[keep], phi[keep]-0.2, phi[keep]+0.2, alpha=0.7)\n",
    "    ax.fill_between(mstar, phi+phierr, phi-phierr, alpha=0.7,\n",
    "                    label='Stellar Mass Function')\n",
    "    \n",
    "    ax.plot(mh-4, dndm+19.3, color=colors[1], lw=4, ls='--',\n",
    "            label='Halo Mass Function')\n",
    "    \n",
    "    #ax.plot(mstar, phi)\n",
    "    ax.grid()\n",
    "    #ax.set_xlim(mstarlim)\n",
    "    #ax.set_ylim(-5, 1.5)\n",
    "    ax.set_xlim(9, 12)\n",
    "    ax.set_ylim(-7, 3)\n",
    "    \n",
    "    #ax.set_yscale('log')\n",
    "    \n",
    "    #ax.set_yticks([0.004, 0.01, 0.03, 0.1, 0.3])\n",
    "    #ax.get_yaxis().set_major_formatter(ScalarFormatter())\n",
    "\n",
    "    ax.set_xlabel(mstar_label3())\n",
    "    ax.set_ylabel(r'$\\log_{10}$ (Number Density) (arbitrary units)')\n",
    "    \n",
    "    ax.legend(loc='upper right')\n",
    "    \n",
    "    if png:\n",
    "        plt.savefig(os.path.join(talkdir, png))"
   ]
  },
  {
   "cell_type": "code",
   "execution_count": null,
   "metadata": {},
   "outputs": [],
   "source": [
    "qa_smf(png='toy-smf.png')"
   ]
  },
  {
   "cell_type": "code",
   "execution_count": null,
   "metadata": {},
   "outputs": [],
   "source": [
    "def qa_smhm_relation(png=None):\n",
    "    \"\"\"Data taken from Behroozi+13.\"\"\"\n",
    "    mhalo, mstar_mhalo, errlo, errup = np.loadtxt(os.path.join(\n",
    "        os.getenv('CATALOGS_DIR'), '13behroozi',  'smmr', \n",
    "        'c_smmr_z0.10_red_all_smf_m1p1s1_bolshoi_fullcosmos_ms.dat'),\n",
    "                                              unpack=True)\n",
    "    keep = mhalo > 11.2\n",
    "    mstar_mhalo = mstar_mhalo[keep]\n",
    "    mhalo = mhalo[keep]\n",
    "    errlo = errlo[keep]\n",
    "    errup = errup[keep]\n",
    "    \n",
    "    sfe = 10**(mstar_mhalo + np.log10(omega_m / omega_b))\n",
    "    sfe_up = 10**(mstar_mhalo + errup + np.log10(omega_m / omega_b))\n",
    "    sfe_lo = 10**(mstar_mhalo - errlo + np.log10(omega_m / omega_b))\n",
    "    keep = sfe > 0.004\n",
    "\n",
    "    fig, ax = plt.subplots(figsize=(10, 7))\n",
    "    ax.fill_between(mhalo[keep], sfe_lo[keep], sfe_up[keep], alpha=0.7)\n",
    "    #ax.plot(mhalo, sfe)\n",
    "    ax.grid()\n",
    "    ax.set_xlim(11, 15)\n",
    "    ax.set_ylim(0.003, 0.4)\n",
    "    ax.set_yscale('log')\n",
    "    \n",
    "    ax.set_yticks([0.004, 0.01, 0.03, 0.1, 0.3])\n",
    "    ax.get_yaxis().set_major_formatter(ScalarFormatter())\n",
    "\n",
    "    ax.set_xlabel(mhalo_label())\n",
    "    ax.set_ylabel(mstar_mhalo_label())\n",
    "    \n",
    "    ax.text(11.2, 0.006, 'Central Galaxies', va='center', \n",
    "            ha='left', fontsize=20, style='italic')\n",
    "    \n",
    "    if png:\n",
    "        plt.savefig(os.path.join(talkdir, png))    "
   ]
  },
  {
   "cell_type": "code",
   "execution_count": null,
   "metadata": {},
   "outputs": [],
   "source": [
    "qa_smhm_relation(png='toy-smhm.png')"
   ]
  },
  {
   "cell_type": "markdown",
   "metadata": {},
   "source": [
    "### Model stellar mass-halo mass relation\n",
    "\n",
    "Data taken from Knebe+18."
   ]
  },
  {
   "cell_type": "code",
   "execution_count": null,
   "metadata": {},
   "outputs": [],
   "source": [
    "def read_carnage_smhm(fullrange=False, seed=None, h=hdefault):\n",
    "    \"\"\"Data taken from Knebe+18.\"\"\"\n",
    "    \n",
    "    carnagedir = os.path.join(os.getenv('CATALOGS_DIR'), 'carnage')\n",
    "    \n",
    "    labels = ('DLB07', 'GalICS2.0', 'LGALAXIES', 'SAG', 'MICE', \n",
    "              'SAGE', 'Galform-GP14', 'MORGANA', 'ySAM')    \n",
    "    data = []\n",
    "    for model in ('DLB07-c01.txt', 'GalICS2.0-c01.txt', 'LGALAXIES-c01.txt',\n",
    "                  'SAG-c01.txt', 'MICE-c01.txt', 'SAGE-c01.txt', \n",
    "                  'Galform-GP14-c01.txt', 'MORGANA-c01.txt', 'ySAM-c01.txt'):\n",
    "        dd = ascii.read(os.path.join(carnagedir, 'Fig.11a', model), \n",
    "                        format='basic', names=('mhalo', 'mstar_mhalo', 'junk1', \n",
    "                                               'junk2', 'junk3', 'junk4'),\n",
    "                        exclude_names=('junk1', 'junk2', 'junk3', 'junk4'))\n",
    "        #good = np.where( np.isfinite(dd['phi']) * (dd['mstar'] > 0) )[0]\n",
    "        #dd = dd[good]\n",
    "        \n",
    "        dd['mhalo'] = np.log10(dd['mhalo'] / h)\n",
    "        dd['mstar_mhalo'] = dd['mstar_mhalo'] * omega_m / omega_b\n",
    "        #dd['mstar_mhalo'] = np.log10(dd['mstar_mhalo'])\n",
    "        data.append(dd)\n",
    "        \n",
    "    if fullrange:\n",
    "        rand = np.random.RandomState(seed)\n",
    "        \n",
    "        mhalo, mstar_mhalo = [], []\n",
    "        for dd in data:\n",
    "            #good = np.where( np.isfinite(dd['phi']) * (dd['mstar'] > 0) )[0]\n",
    "            mhalo.append(dd['mhalo'] + rand.normal(loc=0, scale=0.2))\n",
    "            mstar_mhalo.append(dd['mstar_mhalo'])\n",
    "        mhalo = np.hstack(mhalo)\n",
    "        mstar_mhalo = np.hstack(mstar_mhalo)\n",
    "        #print(mstar_mhalo)\n",
    "        \n",
    "        width = 0.5\n",
    "        mhalorange = (10, 15.5)\n",
    "        nbins = np.int(np.ptp(mhalorange) / width)\n",
    "        \n",
    "        mstar_mhalomin, mhalo_edges, _ = binned_statistic(mhalo, mstar_mhalo, statistic='min', \n",
    "                                                          bins=nbins, range=mhalorange)\n",
    "        mstar_mhalomax, _, _ = binned_statistic(mhalo, mstar_mhalo, statistic='max', \n",
    "                                                bins=nbins, range=mhalorange)\n",
    "        mhalo = mhalo_edges[1:] - width / 2\n",
    "        \n",
    "        good = np.isfinite(mhalo) * np.isfinite(mstar_mhalomin) * np.isfinite(mstar_mhalomax)\n",
    "        return mhalo[good], mstar_mhalomin[good], mstar_mhalomax[good]\n",
    "    \n",
    "    else:\n",
    "        return data, labels"
   ]
  },
  {
   "cell_type": "code",
   "execution_count": null,
   "metadata": {},
   "outputs": [],
   "source": [
    "def qa_carnage_smhm(individual=True, fullrange=False, png=None, ylim=None):\n",
    "    \n",
    "    fig, ax = plt.subplots(figsize=(10, 7))\n",
    "    if individual:\n",
    "        data, labels = read_carnage_smhm()\n",
    "        ls = ('-', '--', '-.', ':')\n",
    "        for dd, ll in zip(data, labels):\n",
    "            ax.plot(dd['mhalo'], dd['mstar_mhalo'], label=ll, lw=4,\n",
    "                    ls=ls[0], alpha=0.8)\n",
    "            ls = np.roll(ls, 1)\n",
    "\n",
    "    if fullrange:\n",
    "        mhalo, mstar_mhalomin, mstar_mhalomax = read_carnage_smhm(fullrange=True, seed=1)\n",
    "        #print(mhalo, mstar_mhalomin, mstar_mhalomax)\n",
    "        ax.fill_between(mhalo, mstar_mhalomin, mstar_mhalomax, alpha=0.2, color='gray',\n",
    "                       label='All CARNage Models')\n",
    "\n",
    "    ax.grid()\n",
    "    ax.set_xlim(11, 15)\n",
    "    ax.set_ylim(0.003, 0.4)\n",
    "    ax.set_yscale('log')\n",
    "    \n",
    "    ax.set_yticks([0.004, 0.01, 0.03, 0.1, 0.3])\n",
    "    ax.get_yaxis().set_major_formatter(ScalarFormatter())\n",
    "\n",
    "    ax.set_xlabel(mhalo_label())\n",
    "    ax.set_ylabel(mstar_mhalo_label())\n",
    "    ax.legend(loc='lower left', ncol=2, fontsize=16)\n",
    "    \n",
    "    plt.subplots_adjust(left=0.15, right=0.97, bottom=0.16, top=0.95)\n",
    "    \n",
    "    if png:\n",
    "        plt.savefig(os.path.join(talkdir, png))"
   ]
  },
  {
   "cell_type": "code",
   "execution_count": null,
   "metadata": {},
   "outputs": [],
   "source": [
    "qa_carnage_smhm(fullrange=True, png='smhm-carnage-fullrange.png')"
   ]
  },
  {
   "cell_type": "code",
   "execution_count": null,
   "metadata": {},
   "outputs": [],
   "source": [
    "qa_carnage_smhm(png='smhm-carnage.png')"
   ]
  },
  {
   "cell_type": "markdown",
   "metadata": {},
   "source": [
    "### Model stellar mass functions\n",
    "\n",
    "Data taken from Knebe+18."
   ]
  },
  {
   "cell_type": "code",
   "execution_count": null,
   "metadata": {},
   "outputs": [],
   "source": [
    "def read_carnage_smf(fullrange=False, seed=None, h=hdefault):\n",
    "    \"\"\"Data taken from Knebe+18.\"\"\"\n",
    "    \n",
    "    carnagedir = os.path.join(os.getenv('CATALOGS_DIR'), 'carnage')\n",
    "    \n",
    "    labels = ('DLB07', 'GalICS2.0', 'LGALAXIES', 'SAG', 'MICE', \n",
    "              'SAGE', 'Galform-GP14', 'MORGANA', 'ySAM')    \n",
    "    data = []\n",
    "    for model in ('DLB07-c01.txt', 'GalICS2.0-c01.txt', 'LGALAXIES-c01.txt',\n",
    "                  'SAG-c01.txt', 'MICE-c01.txt', 'SAGE-c01.txt', \n",
    "                  'Galform-GP14-c01.txt', 'MORGANA-c01.txt', 'ySAM-c01.txt'):\n",
    "        dd = ascii.read(os.path.join(carnagedir, 'Fig.1', model), \n",
    "                        format='basic', names=('mstar', 'phi', 'junk1', 'junk2', 'junk3'),\n",
    "                        exclude_names=('junk1', 'junk2', 'junk3'))\n",
    "        good = np.where( np.isfinite(dd['phi']) * (dd['mstar'] > 0) )[0]\n",
    "        dd = dd[good]\n",
    "        \n",
    "        dd['mstar'] = np.log10(dd['mstar'] / h)\n",
    "        dd['phi'] = np.log10(dd['phi'] * h**3)\n",
    "        data.append(dd)\n",
    "        \n",
    "    if fullrange:\n",
    "        rand = np.random.RandomState(seed)\n",
    "        \n",
    "        mstar, phi = [], []\n",
    "        for dd in data:\n",
    "            #good = np.where( np.isfinite(dd['phi']) * (dd['mstar'] > 0) )[0]\n",
    "            mstar.append(dd['mstar']+ rand.normal(loc=0, scale=0.05))\n",
    "            phi.append(dd['phi'])\n",
    "        mstar = np.hstack(mstar)\n",
    "        phi = np.hstack(phi)\n",
    "        \n",
    "        width = 0.2\n",
    "        mstarrange = (9.1, 12.5)\n",
    "        nbins = np.int(np.ptp(mstarrange) / width)\n",
    "        \n",
    "        phimin, mstar_edges, _ = binned_statistic(mstar, phi, statistic='min', bins=nbins, \n",
    "                                                  range=mstarrange)\n",
    "        phimax, _, _ = binned_statistic(mstar, phi, statistic='max', bins=nbins,\n",
    "                                                  range=mstarrange)\n",
    "        mstar = mstar_edges[1:] - width / 2\n",
    "        \n",
    "        return mstar, phimin, phimax\n",
    "    else:\n",
    "        return data, labels"
   ]
  },
  {
   "cell_type": "code",
   "execution_count": null,
   "metadata": {},
   "outputs": [],
   "source": [
    "def qa_carnage_smf(individual=True, fullrange=False, png=None, ylim=None):\n",
    "    fig, ax = plt.subplots(figsize=(10, 7))\n",
    "    if individual:\n",
    "        data, labels = read_carnage_smf()\n",
    "        ls = ('-', '--', '-.', ':')\n",
    "        for dd, ll in zip(data, labels):\n",
    "            ax.plot(dd['mstar'], dd['phi'], label=ll, lw=4,\n",
    "                    ls=ls[0], alpha=0.8)\n",
    "            ls = np.roll(ls, 1)\n",
    "\n",
    "    if fullrange:\n",
    "        mstar, phimin, phimax = read_carnage_smf(fullrange=True, seed=1)\n",
    "        ax.fill_between(mstar, phimin, phimax, alpha=0.2, color='gray',\n",
    "                       label='All CARNage Models')\n",
    "\n",
    "    ax.grid()\n",
    "    ax.set_xlim(9, 12.5)\n",
    "    if ylim:\n",
    "        ax.set_ylim(ylim)\n",
    "\n",
    "    ax.set_xlabel(mstar_label2())\n",
    "    ax.set_ylabel(phi_label())\n",
    "    ax.legend(loc='lower left', ncol=2, fontsize=16)\n",
    "    \n",
    "    if png:\n",
    "        plt.savefig(os.path.join(talkdir, png))"
   ]
  },
  {
   "cell_type": "code",
   "execution_count": null,
   "metadata": {},
   "outputs": [],
   "source": [
    "qa_carnage_smf(fullrange=True)"
   ]
  },
  {
   "cell_type": "markdown",
   "metadata": {},
   "source": [
    "### Observed stellar mass functions\n",
    "\n",
    "Data taken from Huang+18."
   ]
  },
  {
   "cell_type": "code",
   "execution_count": null,
   "metadata": {},
   "outputs": [],
   "source": [
    "def read_moustakas13(starforming=False, quiescent=False):\n",
    "    \"\"\"Read data from Moustakas+13.\"\"\"\n",
    "\n",
    "    moosedir = os.path.join(os.getenv('CATALOGS_DIR'), '13moustakas')\n",
    "    \n",
    "    suffix = 'all'\n",
    "    if starforming:\n",
    "        suffix = 'starforming'\n",
    "    if quiescent:\n",
    "        suffix = 'quiescent'\n",
    "    smffile = os.path.join(moosedir, 'smf_{}_supergrid01.txt'.format(suffix))\n",
    "\n",
    "    data = ascii.read(smffile, format='basic', names=('zlo', 'zhi', 'ngal', 'mstar', \n",
    "                                                      'limit', 'phi', 'philo', 'phihi', \n",
    "                                                      'phicv'))\n",
    "    loz = np.where( data['zhi'] <= 0.2 )[0]\n",
    "    data = data[loz]\n",
    "    \n",
    "    return data['mstar'], data['phi'], data['phi'] - data['phicv'], data['phi'] + data['phicv']"
   ]
  },
  {
   "cell_type": "code",
   "execution_count": null,
   "metadata": {},
   "outputs": [],
   "source": [
    "def read_bernardi17(h=hdefault, dustfree=True):\n",
    "    \"\"\"Read data from Bernardi+17.\"\"\"\n",
    "    moosedir = os.path.join(os.getenv('CATALOGS_DIR'), '17bernardi')\n",
    "    data = pd.read_table(os.path.join(moosedir, 'smf.txt'), \n",
    "                         delim_whitespace=True)\n",
    "\n",
    "    mstar = data['mstar'].values # - np.log10(h**2)\n",
    "    if dustfree:\n",
    "        phi = data['phi_M14_dustfree_obs'].values # + np.log10(h**3)\n",
    "        philo = phi - data['phierr_M14_dustfree'].values\n",
    "        phihi = phi + data['phierr_M14_dustfree'].values\n",
    "    else:\n",
    "        phi = data['phi_M14_dust_obs'].values # + np.log10(h**3)\n",
    "        philo = phi - data['phierr_M14_dust'].values\n",
    "        phihi = phi + data['phierr_M14_dust'].values\n",
    "    \n",
    "    return mstar, phi, philo, phihi"
   ]
  },
  {
   "cell_type": "code",
   "execution_count": null,
   "metadata": {},
   "outputs": [],
   "source": [
    "def read_huang18(cModel=False, BCG=False, total=False, h=hdefault):\n",
    "    \n",
    "    huangdir = os.path.join(os.getenv('CATALOGS_DIR'), '18huang')\n",
    "\n",
    "    if BCG:\n",
    "        censuffix = 'cenhighmh'\n",
    "    else:\n",
    "        censuffix = 'cenlowmh'\n",
    "        \n",
    "    if cModel:\n",
    "        fluxsuffix = 'cmodel'\n",
    "    else:\n",
    "        fluxsuffix = '100kpc'\n",
    "\n",
    "    if total:\n",
    "        data = Table.read(os.path.join(huangdir, 's16a_massive_{}_{}_smf.fits'.format('cenhighmh', fluxsuffix)))\n",
    "        _data = Table.read(os.path.join(huangdir, 's16a_massive_{}_{}_smf.fits'.format('cenlowmh', fluxsuffix)))\n",
    "        #print(data['logm_mean'], data['smf'].data, _data['smf'].data)\n",
    "        \n",
    "        data['smf'] += _data['smf']\n",
    "        data['smf_err'] = np.sqrt( data['smf_err']**2 + _data['smf_err']**2 )\n",
    "        data['smf_low'] = np.sqrt( data['smf_low']**2 + _data['smf_low']**2 )\n",
    "        data['smf_upp'] = np.sqrt( data['smf_upp']**2 + _data['smf_upp']**2 )\n",
    "    else:\n",
    "        smffile = os.path.join(huangdir, 's16a_massive_{}_{}_smf.fits'.format(censuffix, fluxsuffix))\n",
    "        data = Table.read(smffile)\n",
    "    \n",
    "    good = np.where( (data['logm_0'] >= 11.4) * (data['smf_err'] > 0) )[0]\n",
    "    mstar = data['logm_mean'][good] # - 2*np.log10(h)\n",
    "    phi = np.log10(data['smf'][good]) # * h**3)\n",
    "    phierr = data['smf_err'][good] / data['smf'][good] / np.log(10)\n",
    "    philo = phi - data['smf_low'][good] / data['smf'][good] / np.log(10)\n",
    "    phihi = phi + data['smf_upp'][good] / data['smf'][good] / np.log(10)\n",
    "    \n",
    "    return mstar, phi, philo, phihi"
   ]
  },
  {
   "cell_type": "code",
   "execution_count": null,
   "metadata": {},
   "outputs": [],
   "source": [
    "def double_schechter(logmass, logmstar1=10.0, logmstar2=11.0, \n",
    "                     alpha1=-1, alpha2=-1.1, phistar1=0.008, \n",
    "                     phistar2=0.001):\n",
    "    \n",
    "    mratio1 = pow(10, logmass - logmstar1)\n",
    "    mratio2 = pow(10, logmass - logmstar2)\n",
    "    model = np.log(10) * ( np.exp(-mratio1) * phistar1 * mratio1**(alpha1 + 1) + \n",
    "                           np.exp(-mratio2) * phistar2 * mratio2**(alpha2+1) )\n",
    "    \n",
    "    return model\n",
    "\n",
    "def read_dsouza15(h=hdefault):\n",
    "    logmass = np.arange(9.5, 12.5, 0.05)\n",
    "    \n",
    "    phimodel = double_schechter(logmass, logmstar1=10.615, logmstar2=10.995,\n",
    "                                alpha1=-1.082, alpha2=-1.120, \n",
    "                                phistar1=0.008579, phistar2=0.000355)\n",
    "    \n",
    "    logmass = logmass - np.log10(h**2)\n",
    "    logphi = np.log10(phimodel * h**3)\n",
    "    good = np.where(logphi > -7.6)[0]\n",
    "    \n",
    "    return logmass[good], logphi[good]"
   ]
  },
  {
   "cell_type": "code",
   "execution_count": null,
   "metadata": {},
   "outputs": [],
   "source": [
    "def qa_smf(plot_carnage=True, plot_huang=True, png=None):\n",
    "    fig, ax = plt.subplots(figsize=(10, 7))\n",
    "\n",
    "    # Model shaded region\n",
    "    if plot_carnage:\n",
    "        mstar, phimin, phimax = read_carnage_smf(fullrange=True, seed=1)\n",
    "        ax.fill_between(mstar, phimin, phimax, alpha=0.2, color='gray', \n",
    "                        label='CARNage Models (z~0)')\n",
    "\n",
    "    # Moustakas+13\n",
    "    mstar, phi, philo, phihi = read_moustakas13()\n",
    "    ax.fill_between(mstar, philo, phihi, alpha=0.3)\n",
    "    ax.plot(mstar, phi, lw=3, ls='-', label='Moustakas+13 (z~0.1)')\n",
    "    \n",
    "    # D'Souza+15\n",
    "    mstar, phi = read_dsouza15()\n",
    "    ax.fill_between(mstar, phi, phi, alpha=0.3)\n",
    "    ax.plot(mstar, phi, lw=3, ls='-', label=\"D'Souza+15 (z~0.1)\")\n",
    "    \n",
    "    # Bernardi+17\n",
    "    mstar, phi, philo, phihi = read_bernardi17(dustfree=True)\n",
    "    ax.fill_between(mstar, philo, phihi, alpha=0.3)\n",
    "    ax.plot(mstar, phi, lw=3, ls='-', label='Bernardi+17 (z~0.1)')\n",
    "    \n",
    "    # Huang+18\n",
    "    if plot_huang:\n",
    "        mstar, phi, philo, phihi = read_huang18(cModel=False, BCG=False, total=True)\n",
    "        ax.fill_between(mstar, philo, phihi, alpha=0.3)\n",
    "        ax.plot(mstar, phi, lw=3, ls='-', label='Huang+18 (z~0.4)')# (HSC, <100 kpc)')\n",
    "\n",
    "    ax.set_xlabel(mstar_label3())\n",
    "    ax.set_ylabel(phi_label())\n",
    "    \n",
    "    ax.set_ylim(-7.7, -1.5)\n",
    "    ax.set_xlim(9, 12.5)\n",
    "    \n",
    "    ax.grid()\n",
    "    hh, ll = ax.get_legend_handles_labels()\n",
    "    #handles = handles[np.array(list(1, 2, 0\n",
    "    #labels = labels[np.array([1, 2, 0])]\n",
    "    ax.legend(loc='lower left', fontsize=18)\n",
    "    #ax.legend([hh[0],hh[1],hh[2],hh[3]], [ll[0],ll[1],ll[2]], loc='lower left', fontsize=18)\n",
    "    \n",
    "    if png:\n",
    "        plt.savefig(png)    "
   ]
  },
  {
   "cell_type": "code",
   "execution_count": null,
   "metadata": {},
   "outputs": [],
   "source": [
    "qa_smf(plot_carnage=True, plot_huang=False, png=os.path.join(talkdir, 'smf-data-carnage-nohuang.png'))"
   ]
  },
  {
   "cell_type": "code",
   "execution_count": null,
   "metadata": {},
   "outputs": [],
   "source": [
    "def qa_smf_huang18(minmax=False, png=None):\n",
    "\n",
    "    def plot_huang18(ax, cModel=False, BCG=False, label=''):\n",
    "        mstar, phi, philo, phihi = read_huang18(cModel=cModel, BCG=BCG)\n",
    "        ax.fill_between(mstar, philo, phihi, alpha=0.3)\n",
    "        ax.plot(mstar, phi, label=label, lw=3, ls='-')\n",
    "    \n",
    "    fig, ax = plt.subplots(figsize=(10, 7))\n",
    "\n",
    "    # Model shaded region\n",
    "    # mstar, phimin, phimax = read_model_smf(minmax=True, seed=1)\n",
    "    # ax.fill_between(mstar, phimin, phimax, alpha=0.2, color='gray')\n",
    "\n",
    "    # Data\n",
    "    plot_huang18(ax, cModel=False, BCG=False, \n",
    "                 label=r'$\\log\\,(\\mathcal{M}_h/\\mathcal{M}_{\\odot})<14.2$')#, $R<100$ kpc')\n",
    "    #plot_huang18(ax, cModel=True, BCG=False, label=r'$\\log\\,(M_h/M_{\\odot})<14.2$, cModel')\n",
    "    plot_huang18(ax, cModel=False, BCG=True, \n",
    "                 label=r'$\\log\\,(\\mathcal{M}_h/\\mathcal{M}_{\\odot})>14.2$')#, R<100 kpc$')\n",
    "    #plot_huang18(ax, cModel=True, BCG=True, label=r'$\\log\\,(M_h/M_{\\odot})>14.2$, cModel')\n",
    "\n",
    "    ax.set_xlabel(mstar_label())\n",
    "    ax.set_ylabel(phi_label())\n",
    "    #ax.set_xlim(11.4, 12.3)\n",
    "    \n",
    "    ax.grid()\n",
    "    ax.legend(loc='upper right', ncol=1, fontsize=18)\n",
    "    \n",
    "    if png:\n",
    "        plt.savefig(png)"
   ]
  },
  {
   "cell_type": "code",
   "execution_count": null,
   "metadata": {},
   "outputs": [],
   "source": [
    "qa_smf_huang18()"
   ]
  },
  {
   "cell_type": "markdown",
   "metadata": {},
   "source": [
    "### Richness vs redshift for the full sample"
   ]
  },
  {
   "cell_type": "code",
   "execution_count": null,
   "metadata": {},
   "outputs": [],
   "source": [
    "legacyhalos_dir = os.getenv('LEGACYHALOS_DIR')\n",
    "parentfile = os.path.join(legacyhalos_dir, 'legacyhalos-parent.fits')"
   ]
  },
  {
   "cell_type": "code",
   "execution_count": null,
   "metadata": {},
   "outputs": [],
   "source": [
    "rm = Table(fits.getdata(parentfile, extname='REDMAPPER'))"
   ]
  },
  {
   "cell_type": "code",
   "execution_count": null,
   "metadata": {},
   "outputs": [],
   "source": [
    "def qa_legacyhalos_sample(png=None):\n",
    "    fig, ax = plt.subplots(figsize=(8, 6))\n",
    "\n",
    "    hb = ax.hexbin(rm['Z'], np.log10(rm['LAMBDA_CHISQ']), mincnt=3,\n",
    "                   cmap=plt.cm.get_cmap('RdYlBu'), alpha=0.5, bins='log')\n",
    "    ax.set_xlabel('Redshift $z$')\n",
    "    ax.set_ylabel(r'$\\log_{10}$ (Richness $\\lambda$)')\n",
    "    ax.set_xlim(0, 0.6)\n",
    "    ymin, ymax = np.log10(3), 2.1\n",
    "    ax.set_ylim(ymin, ymax)\n",
    "    ax.axhline(y=np.log10(5), ls='--', color='k')\n",
    "\n",
    "    cax = fig.add_axes([0.1, 1.05, 0.8, 0.05])\n",
    "    cb = plt.colorbar(hb, orientation='horizontal', cax=cax)\n",
    "    cb.set_label(r'$\\log_{10}$ (Number of Galaxies)')       \n",
    "\n",
    "    ax2 = ax.twinx()\n",
    "    ax2.set_ylabel(r'$\\log_{10}\\, (\\mathcal{M}_{200}\\, /\\, \\mathcal{M}_{\\odot})$ at $z=0.3$')\n",
    "    ax2.set_ylim( np.log10(lambda2mhalo(10**ymin, redshift=0.3)), \n",
    "                 np.log10(lambda2mhalo(10**ymax, redshift=0.3)) )\n",
    "    ax2.yaxis.set_major_formatter(FormatStrFormatter('%.1f'))    \n",
    "    ax2.plot([],[])    \n",
    "    \n",
    "    if png:\n",
    "        plt.savefig(png, bbox_inches='tight')"
   ]
  },
  {
   "cell_type": "code",
   "execution_count": null,
   "metadata": {},
   "outputs": [],
   "source": [
    "qa_legacyhalos_sample(png=os.path.join(talkdir, 'legacyhalos-sample.png'))"
   ]
  },
  {
   "cell_type": "code",
   "execution_count": null,
   "metadata": {},
   "outputs": [],
   "source": [
    "stop"
   ]
  },
  {
   "cell_type": "markdown",
   "metadata": {},
   "source": [
    "### SMHM relation"
   ]
  },
  {
   "cell_type": "code",
   "execution_count": null,
   "metadata": {},
   "outputs": [],
   "source": [
    "cat = legacyhalos.io.read_catalog(extname='LSPHOT-ISEDFIT', upenn=False, \n",
    "                                   isedfit=True, columns=('mstar_avg', 'sfr100_avg'))\n",
    "cat1 = legacyhalos.io.read_catalog(extname='REDMAPPER', upenn=False, \n",
    "                                   isedfit=False, columns=('Z', 'LAMBDA_CHISQ'))\n",
    "cat.add_columns_from(cat1)\n",
    "cat"
   ]
  },
  {
   "cell_type": "code",
   "execution_count": null,
   "metadata": {},
   "outputs": [],
   "source": [
    "mhalo = np.log10(lambda2mhalo(cat.lambda_chisq, redshift=cat.z))\n",
    "mhalo"
   ]
  },
  {
   "cell_type": "code",
   "execution_count": null,
   "metadata": {},
   "outputs": [],
   "source": [
    "bins = 35"
   ]
  },
  {
   "cell_type": "code",
   "execution_count": null,
   "metadata": {},
   "outputs": [],
   "source": [
    "mstar_med, bin_edges, _ = binned_statistic(mhalo, cat.mstar_avg, statistic='median', bins=bins)\n",
    "bin_width = (bin_edges[1] - bin_edges[0])\n",
    "mhalo_med = bin_edges[1:] - bin_width/2\n",
    "print(bin_width)"
   ]
  },
  {
   "cell_type": "code",
   "execution_count": null,
   "metadata": {},
   "outputs": [],
   "source": [
    "fig, ax = plt.subplots(figsize=(8, 6))\n",
    "\n",
    "colors = iter(sns.color_palette())\n",
    "\n",
    "rich = cat.lambda_chisq > 100\n",
    "ax.plot(mhalo_med, mstar_med, color='k', ls='-', lw=3, alpha=0.5)\n",
    "ax.plot(mhalo_med, mstar_p75, color='k', ls='--', lw=3, alpha=0.5)\n",
    "ax.plot(mhalo_med, mstar_p25, color='k', ls='--', lw=3, alpha=0.5)\n",
    "\n",
    "g = ax.errorbar(gonz['m500'], gonz['mbcg'], yerr=gonz['mbcg_err'], color=next(colors),\n",
    "                fmt='o', label='Gonzalez+13', markersize=10)\n",
    "k = ax.errorbar(krav['m500'], krav['mbcg'], yerr=krav['mbcg_err'], color=next(colors),\n",
    "                fmt='s', label='Kravtsov+14', markersize=10)\n",
    "r = ax.scatter(mhalo[rich], cat.mstar_avg[rich], alpha=0.9, color=next(colors),\n",
    "               edgecolor='k', marker='D', s=50, label=r'redMaPPer ($\\lambda>100$)')\n",
    "\n",
    "ax.text(0.12, 0.16, 'redMaPPer\\n$0.1<z<0.3$', multialignment='center',\n",
    "        transform=ax.transAxes, fontsize=14)\n",
    "m500 = np.linspace(13.55, 15.25, 50)\n",
    "ff = ax.plot(m500, np.polyval([0.33, 12.24], m500-14.5), ls='-', \n",
    "            color='k', label=r'$M_{*}\\propto M_{500}^{0.33}$')\n",
    "ax.text(0.12, 0.9, r'$M_{*}\\propto M_{500}^{0.33}$', multialignment='center',\n",
    "        transform=ax.transAxes, fontsize=16)\n",
    "ax.plot([13.55, 13.68], [12.8, 12.8], ls='-', color='k') # hack!!!\n",
    "\n",
    "#ax.xaxis.set_major_formatter(FormatStrFormatter('%.1f'))\n",
    "ax.xaxis.set_major_locator(MultipleLocator(0.5))\n",
    "\n",
    "hh = [g, k, r]\n",
    "ax.legend(hh, [H.get_label() for H in hh], loc='lower right',\n",
    "          frameon=True, fontsize=16)\n",
    "#ax.legend(ff, ff.get_label(), loc='upper left',\n",
    "#          frameon=True, fontsize=16)\n",
    "#ax.legend(loc='upper left', frameon=True, fontsize=16)\n",
    "\n",
    "ax.set_ylim(10.5, 13)\n",
    "ax.set_xlim(13.5, 15.3)\n",
    "ax.set_xlabel(r'$\\log_{10}\\, (M_{500}\\ /\\ M_{\\odot})$')\n",
    "ax.set_ylabel(r'$\\log_{10}\\, (M_{*}\\ /\\ M_{\\odot})$')"
   ]
  },
  {
   "cell_type": "code",
   "execution_count": null,
   "metadata": {},
   "outputs": [],
   "source": [
    "ff"
   ]
  },
  {
   "cell_type": "code",
   "execution_count": null,
   "metadata": {},
   "outputs": [],
   "source": [
    "stop"
   ]
  },
  {
   "cell_type": "code",
   "execution_count": null,
   "metadata": {},
   "outputs": [],
   "source": [
    "cat"
   ]
  },
  {
   "cell_type": "code",
   "execution_count": null,
   "metadata": {},
   "outputs": [],
   "source": [
    "legacyhalos_dir = os.getenv('LEGACYHALOS_DIR')"
   ]
  },
  {
   "cell_type": "code",
   "execution_count": null,
   "metadata": {},
   "outputs": [],
   "source": [
    "parentfile = os.path.join(legacyhalos_dir, 'legacyhalos-parent-isedfit.fits')"
   ]
  },
  {
   "cell_type": "code",
   "execution_count": null,
   "metadata": {},
   "outputs": [],
   "source": [
    "ls = Table(fits.getdata(parentfile, extname='LSPHOT-ISEDFIT'))\n",
    "ls"
   ]
  },
  {
   "cell_type": "code",
   "execution_count": null,
   "metadata": {},
   "outputs": [],
   "source": [
    "_ = plt.hist(ls['MSTAR_AVG'], bins=100)"
   ]
  },
  {
   "cell_type": "code",
   "execution_count": null,
   "metadata": {},
   "outputs": [],
   "source": [
    "_ = plt.hist(sdss['MSTAR_AVG'], bins=100)"
   ]
  },
  {
   "cell_type": "code",
   "execution_count": null,
   "metadata": {},
   "outputs": [],
   "source": [
    "_ = plt.hist(sdss['MSTAR_AVG'] - ls['MSTAR_AVG'], bins=200)\n",
    "plt.xlim(-0.5, 0.5)"
   ]
  },
  {
   "cell_type": "code",
   "execution_count": null,
   "metadata": {},
   "outputs": [],
   "source": [
    "sdss = Table(fits.getdata(parentfile, extname='SDSSPHOT-ISEDFIT'))\n",
    "sdss"
   ]
  },
  {
   "cell_type": "code",
   "execution_count": null,
   "metadata": {},
   "outputs": [],
   "source": [
    "data = np.vstack( (ls['MSTAR_AVG'], sdss['MSTAR_AVG'] - ls['MSTAR_AVG']))\n",
    "data.shape"
   ]
  },
  {
   "cell_type": "code",
   "execution_count": null,
   "metadata": {},
   "outputs": [],
   "source": [
    "k = kde.gaussian_kde(data.T)\n",
    "#xi, yi = np.mgrid[x.min():x.max():nbins*1j, y.min():y.max():nbins*1j]\n",
    "#zi = k(np.vstack([xi.flatten(), yi.flatten()]))"
   ]
  },
  {
   "cell_type": "code",
   "execution_count": null,
   "metadata": {},
   "outputs": [],
   "source": [
    "fig, ax = plt.subplots()\n",
    "ax.hexbin(ls['MSTAR_AVG'], sdss['MSTAR_AVG'] - ls['MSTAR_AVG'],\n",
    "          mincnt=1)"
   ]
  },
  {
   "cell_type": "code",
   "execution_count": null,
   "metadata": {},
   "outputs": [],
   "source": [
    "sns.jointplot(ls['MSTAR_AVG'], sdss['MSTAR_AVG'] - ls['MSTAR_AVG'], \n",
    "              kind=\"kde\", color=\"#4CB391\", xlim=(10, 13), ylim=(-0.5, 0.5))"
   ]
  },
  {
   "cell_type": "code",
   "execution_count": null,
   "metadata": {},
   "outputs": [],
   "source": [
    "sns.kdeplot(ls['MSTAR_AVG'], sdss['MSTAR_AVG'] - ls['MSTAR_AVG'], \n",
    "            cmap=\"Blues\", shade=True, shade_lowest=True, cbar=True,\n",
    "            cut=0,\n",
    "           )"
   ]
  },
  {
   "cell_type": "code",
   "execution_count": null,
   "metadata": {},
   "outputs": [],
   "source": [
    "help(sns.kdeplot)"
   ]
  },
  {
   "cell_type": "code",
   "execution_count": null,
   "metadata": {},
   "outputs": [],
   "source": []
  }
 ],
 "metadata": {
  "kernelspec": {
   "display_name": "Python 3",
   "language": "python",
   "name": "python3"
  },
  "language_info": {
   "codemirror_mode": {
    "name": "ipython",
    "version": 3
   },
   "file_extension": ".py",
   "mimetype": "text/x-python",
   "name": "python",
   "nbconvert_exporter": "python",
   "pygments_lexer": "ipython3",
   "version": "3.6.4"
  }
 },
 "nbformat": 4,
 "nbformat_minor": 2
}
