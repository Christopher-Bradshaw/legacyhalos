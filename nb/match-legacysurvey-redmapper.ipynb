{
 "cells": [
  {
   "cell_type": "markdown",
   "metadata": {},
   "source": [
    "# Matching a Legacy Survey Data Release to redMaPPer/dr8.\n",
    "\n",
    "This notebook documents how we match a Legacy Survey data relase (e.g., DR3) to a given version of the redMaPPer/dr8 cluster/group catalog.\n",
    "\n",
    "Eventually this matching will be obsolete as we will construct a redMaPPer catalog from the Legacy Survey imaging survey data themselves, but this is a useful starting point."
   ]
  },
  {
   "cell_type": "markdown",
   "metadata": {},
   "source": [
    "## Relevant webpages and documentation:\n",
    "\n",
    "* [redMaPPer cluster catalog](http://risa.stanford.edu/redmapper)\n",
    "* [Legacy Survey webpage](http://legacysurvey.org)"
   ]
  },
  {
   "cell_type": "markdown",
   "metadata": {},
   "source": [
    "### redMaPPer\n",
    "\n",
    "We use the non-public catalogs provided by Rykoff et al.  (Can I document the `wget` command?)  Document the input files."
   ]
  },
  {
   "cell_type": "markdown",
   "metadata": {},
   "source": [
    "### Legacy Survey sweeps\n",
    "\n",
    "Document how the tractor catalogs can be downloaded via the NERSC web-portal."
   ]
  },
  {
   "cell_type": "markdown",
   "metadata": {},
   "source": [
    "### Document the SLURM script and how we run it on NERSC.\n",
    "\n",
    "    1. Log onto NERSC/cori and cd $CSCRATCH\n",
    "    2. mkdir -p redmapper/v6.3.1\n",
    "    3. wget ..\n",
    "    ...\n",
    "    X. sbatch $CSCRATCH/legacyhalos/bin/match-legacysurvey-redmapper.slurm"
   ]
  },
  {
   "cell_type": "markdown",
   "metadata": {},
   "source": [
    "### Document the output files."
   ]
  },
  {
   "cell_type": "code",
   "execution_count": null,
   "metadata": {
    "collapsed": true
   },
   "outputs": [],
   "source": []
  }
 ],
 "metadata": {
  "kernelspec": {
   "display_name": "Python 3",
   "language": "python",
   "name": "python3"
  },
  "language_info": {
   "codemirror_mode": {
    "name": "ipython",
    "version": 3
   },
   "file_extension": ".py",
   "mimetype": "text/x-python",
   "name": "python",
   "nbconvert_exporter": "python",
   "pygments_lexer": "ipython3",
   "version": "3.6.1"
  }
 },
 "nbformat": 4,
 "nbformat_minor": 2
}
