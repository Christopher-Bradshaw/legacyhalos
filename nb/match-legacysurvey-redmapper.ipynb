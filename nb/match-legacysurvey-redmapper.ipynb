{
 "cells": [
  {
   "cell_type": "markdown",
   "metadata": {},
   "source": [
    "# Matching a Legacy Survey Data Release to redMaPPer/dr8.\n",
    "\n",
    "The goal of this notebook is to match a specified Legacy Survey data relase (e.g., DR3) to a specified version of the redMaPPer/dr8 cluster/group catalog.\n",
    "\n",
    "Eventually this matching will be obsolete as we will construct a redMaPPer catalog from the Legacy Survey imaging survey data themselves, but this is a useful starting point."
   ]
  },
  {
   "cell_type": "code",
   "execution_count": null,
   "metadata": {
    "collapsed": true
   },
   "outputs": [],
   "source": []
  }
 ],
 "metadata": {
  "kernelspec": {
   "display_name": "Python 3",
   "language": "python",
   "name": "python3"
  },
  "language_info": {
   "codemirror_mode": {
    "name": "ipython",
    "version": 3
   },
   "file_extension": ".py",
   "mimetype": "text/x-python",
   "name": "python",
   "nbconvert_exporter": "python",
   "pygments_lexer": "ipython3",
   "version": "3.6.1"
  }
 },
 "nbformat": 4,
 "nbformat_minor": 2
}
