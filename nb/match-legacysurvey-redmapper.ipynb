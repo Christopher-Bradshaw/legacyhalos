{
 "cells": [
  {
   "cell_type": "markdown",
   "metadata": {},
   "source": [
    "# Matching Legacy Survey Catalogs to a redMaPPer Catalog\n",
    "\n",
    "This notebook documents how we match the Tractor catalogs from a given Legacy Survey data relase (e.g., DR3) to a given version of the redMaPPer cluster/group catalog.\n",
    "\n",
    "Eventually this matching will be obsolete as we will construct a redMaPPer catalog from the Legacy Survey imaging survey data themselves, but this is a useful starting point.\n",
    "\n",
    "The output catalog is called *legacysurvey-dr5-redmapper-v6.3.1.fits* which is row-matched to the input *redmapper-v6.3.1-sdssWISEphot.fits* catalog."
   ]
  },
  {
   "cell_type": "markdown",
   "metadata": {},
   "source": [
    "## Relevant webpages and documentation:"
   ]
  },
  {
   "cell_type": "markdown",
   "metadata": {},
   "source": [
    "* [redMaPPer cluster catalog](http://risa.stanford.edu/redmapper)\n",
    "* [Legacy Survey webpage](http://legacysurvey.org)"
   ]
  },
  {
   "cell_type": "markdown",
   "metadata": {},
   "source": [
    "## Running the matching script at NERSC:"
   ]
  },
  {
   "cell_type": "markdown",
   "metadata": {},
   "source": [
    "* Log onto NERSC/Cori and define the catalog and data release versions to use, the location of the Tractor catalogs, the location of the \"bricks\" catalog, and the name of the environment variable which will hold the list of Tractor catalogs:\n",
    "```{bash}\n",
    "export DR=dr5\n",
    "export RMVERSION=v6.3.1\n",
    "export TRACTOR_INDIR=/global/project/projectdirs/cosmo/data/legacysurvey/${DR}/tractor\n",
    "export BRICKSFILE=/global/cscratch1/sd/desiproc/${DR}/survey-bricks.fits.gz\n",
    "export TRACTOR_FILELIST=$CSCRATCH/tractor_filelist\n",
    "```\n",
    "\n",
    "* Copy the input redMaPPer catalog to a new scratch directory:\n",
    "```{bash}\n",
    "export RMOUTDIR=$CSCRATCH/redmapper/$RMVERSION\n",
    "mkdir -p $RMOUTDIR\n",
    "wget -P $RMOUTDIR http://host/path/to/redmapper-${RMVERSION}-sdssWISEphot.fits\n",
    "```\n",
    "\n",
    "* Clone the [legacyhalos](https://github.com/moustakas/legacyhalos) and [legacypipe](https://github.com/legacysurvey/legacypipe) Github repositories and define environment variables pointing to them.\n",
    "```{bash}\n",
    "cd $CSCRATCH\n",
    "git clone https://github.com/moustakas/legacyhalos.git\n",
    "git clone https://github.com/legacysurvey/legacypipe\n",
    "export LEGACYPIPE_DIR=$CSCRATCH/legacypipe\n",
    "export LEGACYHALOS_DIR=$CSCRATCH/legacyhalos\n",
    "```\n",
    "\n",
    "* Generate the list of Tractor files for this Data Release:\n",
    "```{bash}\n",
    "time find $TRACTOR_INDIR -name 'tractor-*.fits' > $TRACTOR_FILELIST\n",
    "```\n",
    "\n",
    "* Finally, submit the matching script:\n",
    "```{bash}\n",
    "sbatch $LEGACYHALOS_DIR/bin/match-legacysurvey-redmapper.slurm\n",
    "```\n"
   ]
  }
 ],
 "metadata": {
  "kernelspec": {
   "display_name": "Python 3",
   "language": "python",
   "name": "python3"
  },
  "language_info": {
   "codemirror_mode": {
    "name": "ipython",
    "version": 3
   },
   "file_extension": ".py",
   "mimetype": "text/x-python",
   "name": "python",
   "nbconvert_exporter": "python",
   "pygments_lexer": "ipython3",
   "version": "3.6.1"
  }
 },
 "nbformat": 4,
 "nbformat_minor": 2
}
