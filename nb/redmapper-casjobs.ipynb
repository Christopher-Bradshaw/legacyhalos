{
 "cells": [
  {
   "cell_type": "markdown",
   "metadata": {},
   "source": [
    "# redMaPPer CasJobs\n",
    "\n",
    "The goal of this notebook is to document how we retrieve the complete set of updated (DR14) SDSS *ugriz* and unWISE *W1-W4* (forced) photometry for the parent sample of redMaPPer central galaxies."
   ]
  },
  {
   "cell_type": "code",
   "execution_count": 1,
   "metadata": {
    "collapsed": true
   },
   "outputs": [],
   "source": [
    "import os\n",
    "import numpy as np\n",
    "\n",
    "from astropy.table import Table, Column\n",
    "import fitsio"
   ]
  },
  {
   "cell_type": "markdown",
   "metadata": {},
   "source": [
    "### Write a simple ASCII file with redMaPPer ID and the CAS-compatible ObjID.\n",
    "\n",
    "We begin by generating a simple file which can be uploaded to CasJobs.  \n",
    "\n",
    "In the first attempt we tried to cross-match using the unique ObjID constructed from the PhotoID in the parent redMaPPer catalog, but we found that 43/396047 objects were \"missing\".  The issue turned out to be that some of the PhotoID values in the redMaPPer catalog pointed to objects in CAS with \"poor\" photometry.  Here's one example of the same object with different ObjIDs -- one \"good\" and one \"poor.\"  \n",
    "    http://skyserver.sdss.org/dr14/en/tools/explore/Summary.aspx?id=1237655109445025964  \n",
    "    http://skyserver.sdss.org/dr14/en/tools/explore/Summary.aspx?id=1237655109445091465\n",
    "\n",
    "We then experimented with using the RA,Dec coordinates to do a nearest-neighbor search.  However, this was unsatisfactory for a couple reasons.  First, uploading an ASCII catalog to CasJobs renders the Ra,Dec values single-precision, which can cause issues when matching.  And second, we were concerned that spurious matches would occur, introducing unwanted systematic problems in the redMaPPer catalog.\n",
    "\n",
    "In the end we used a nearest-neighbor search (1 arcsec search radius) to retrieve updated ObjIDs for the \"missing\" 49 objects and matched "
   ]
  },
  {
   "cell_type": "code",
   "execution_count": 2,
   "metadata": {
    "collapsed": true
   },
   "outputs": [],
   "source": [
    "def read_redmapper(rmversion='v6.3.1', index=None):\n",
    "    \"\"\"Read the parent redMaPPer catalog.\n",
    "    \n",
    "    \"\"\"\n",
    "    rmfile = os.path.join( os.getenv('REDMAPPER_DIR'), rmversion, \n",
    "                          'dr8_run_redmapper_{}_lgt5_catalog.fit'.format(rmversion) )\n",
    "    if index is not None:\n",
    "        rm = Table(fitsio.read(rmfile, ext=1, upper=True, rows=index))\n",
    "    else:\n",
    "        rm = Table(fitsio.read(rmfile, ext=1, upper=True))\n",
    "    print('Read {} objects from {}'.format(len(rm), rmfile))\n",
    "\n",
    "    return rm"
   ]
  },
  {
   "cell_type": "code",
   "execution_count": 3,
   "metadata": {
    "collapsed": true
   },
   "outputs": [],
   "source": [
    "rmversion = 'v6.3.1'"
   ]
  },
  {
   "cell_type": "code",
   "execution_count": 26,
   "metadata": {},
   "outputs": [
    {
     "name": "stdout",
     "output_type": "stream",
     "text": [
      "Read 396047 objects from /Users/ioannis/research/data/redmapper/v6.3.1/dr8_run_redmapper_v6.3.1_lgt5_catalog.fit\n"
     ]
    },
    {
     "data": {
      "text/html": [
       "&lt;Table length=396047&gt;\n",
       "<table id=\"table4871346832\" class=\"table-striped table-bordered table-condensed\">\n",
       "<thead><tr><th>MEM_MATCH_ID</th><th>RA</th><th>DEC</th><th>MODEL_MAG [5]</th><th>MODEL_MAGERR [5]</th><th>IMAG</th><th>IMAG_ERR</th><th>ZRED</th><th>ZRED_E</th><th>ZRED_CHISQ</th><th>BCG_SPEC_Z</th><th>Z_SPEC_INIT</th><th>Z_INIT</th><th>Z</th><th>LAMBDA_CHISQ</th><th>LAMBDA_CHISQ_E</th><th>LAMBDA_ZRED</th><th>LAMBDA_ZRED_E</th><th>R_LAMBDA</th><th>SCALEVAL</th><th>MASKFRAC</th><th>C_LAMBDA [4]</th><th>C_LAMBDA_ERR [4]</th><th>MAG_LAMBDA_ERR [5]</th><th>CHISQ</th><th>Z_LAMBDA</th><th>Z_LAMBDA_E</th><th>Z_LAMBDA_NITER</th><th>EBV_MEAN</th><th>PHOTOID</th><th>LNLAMLIKE</th><th>LNBCGLIKE</th><th>LNLIKE</th><th>PZBINS [21]</th><th>PZ [21]</th><th>NCROSS</th><th>RMASK</th><th>RA_ORIG</th><th>DEC_ORIG</th><th>W</th><th>DLAMBDA_DZ</th><th>DLAMBDA_DZ2</th><th>DLAMBDAVAR_DZ</th><th>DLAMBDAVAR_DZ2</th><th>LAMBDA_CHISQ_C</th><th>LAMBDA_CHISQ_CE</th><th>NCENT</th><th>NCENT_GOOD</th><th>RA_CENT [5]</th><th>DEC_CENT [5]</th><th>ID_CENT [5]</th><th>LAMBDA_CHISQ_CENT [5]</th><th>ZLAMBDA_CENT [5]</th><th>P_BCG [5]</th><th>P_CEN [5]</th><th>Q_CEN [5]</th><th>P_FG [5]</th><th>Q_MISS</th><th>P_SAT [5]</th><th>P_C [5]</th><th>BCG_ILUM</th><th>ILUM</th><th>Z_LAMBDA_RAW</th><th>Z_LAMBDA_E_RAW</th><th>LIM_EXPTIME</th><th>LIM_LIMMAG</th><th>LIM_LIMMAG_HARD</th></tr></thead>\n",
       "<thead><tr><th>int32</th><th>float64</th><th>float64</th><th>float32</th><th>float32</th><th>float32</th><th>float32</th><th>float32</th><th>float32</th><th>float32</th><th>float32</th><th>float32</th><th>float32</th><th>float32</th><th>float32</th><th>float32</th><th>float32</th><th>float32</th><th>float32</th><th>float32</th><th>float32</th><th>float32</th><th>float32</th><th>float32</th><th>float32</th><th>float32</th><th>float32</th><th>int16</th><th>float32</th><th>int64</th><th>float32</th><th>float32</th><th>float32</th><th>float32</th><th>float32</th><th>int16</th><th>float32</th><th>float64</th><th>float64</th><th>float32</th><th>float32</th><th>float32</th><th>float32</th><th>float32</th><th>float32</th><th>float32</th><th>int16</th><th>int16</th><th>float64</th><th>float64</th><th>int32</th><th>float32</th><th>float32</th><th>float32</th><th>float32</th><th>float32</th><th>float32</th><th>float32</th><th>float32</th><th>float32</th><th>float32</th><th>float32</th><th>float32</th><th>float32</th><th>float32</th><th>float32</th><th>float32</th></tr></thead>\n",
       "<tr><td>1</td><td>239.583329069</td><td>27.2334129178</td><td>17.7673 .. 13.6197</td><td>0.0495718 .. 0.00515177</td><td>13.979</td><td>0.00269815</td><td>0.0976015</td><td>0.00598646</td><td>17.5295</td><td>0.0908067</td><td>0.0908067</td><td>0.0976015</td><td>0.0995999</td><td>169.838</td><td>4.18703</td><td>167.9</td><td>3.82714</td><td>1.11175</td><td>1.01137</td><td>0.012301</td><td>1.91101 .. 0.340558</td><td>0.00478467 .. 0.00015905</td><td>0.0047196 .. 0.0</td><td>17.1603</td><td>0.0948307</td><td>0.00458178</td><td>1</td><td>0.0156272</td><td>39270301200850016</td><td>417.533</td><td>3.98176</td><td>421.515</td><td>0.0689421 .. 0.120719</td><td>6.66542e-06 .. 8.29784e-06</td><td>1</td><td>1.66762</td><td>239.583329069</td><td>27.2334129178</td><td>1.09264</td><td>22.1429</td><td>-1019.21</td><td>431.903</td><td>85493.5</td><td>169.368</td><td>1.24138</td><td>5</td><td>2</td><td>239.583329069 .. 239.559634173</td><td>27.2334129178 .. 27.2721026726</td><td>25404293 .. 25404056</td><td>169.838 .. 165.795</td><td>0.0964975 .. 0.0</td><td>1.0 .. 1.0</td><td>0.874838 .. 5.36843e-07</td><td>0.752766 .. 4.61934e-07</td><td>0.000188751 .. 0.00250284</td><td>-4.7971</td><td>0.124973 .. 0.997497</td><td>0.843622 .. 3.31047e-06</td><td>7.45976</td><td>115.15</td><td>0.0964975</td><td>0.0015025</td><td>122.966</td><td>21.1772</td><td>21.2911</td></tr>\n",
       "<tr><td>2</td><td>250.082548387</td><td>46.7115313536</td><td>19.7931 .. 15.8147</td><td>0.144956 .. 0.0193181</td><td>16.2903</td><td>0.0075439</td><td>0.263556</td><td>0.00704976</td><td>16.1534</td><td>-1.0</td><td>-1.0</td><td>0.233135</td><td>0.233327</td><td>199.539</td><td>5.29983</td><td>173.621</td><td>5.04967</td><td>1.14817</td><td>0.995171</td><td>0.0</td><td>1.80072 .. 0.32185</td><td>0.116592 .. 0.00175495</td><td>0.115213 .. 0.0</td><td>22.2347</td><td>0.232764</td><td>0.00615558</td><td>1</td><td>0.0268378</td><td>14530301500570247</td><td>382.432</td><td>1.15807</td><td>383.59</td><td>0.196232 .. 0.269297</td><td>3.38395e-07 .. 5.93477e-06</td><td>1</td><td>1.72225</td><td>250.086476355</td><td>46.7122681373</td><td>1.25965</td><td>7.30459</td><td>-56.4033</td><td>228.875</td><td>22720.9</td><td>199.594</td><td>0.463512</td><td>5</td><td>2</td><td>250.082548387 .. 250.107576522</td><td>46.7115313536 .. 46.7094645939</td><td>3352952 .. 3352965</td><td>199.539 .. 210.08</td><td>0.231425 .. 0.0</td><td>1.0 .. 1.0</td><td>0.985673 .. 3.25354e-06</td><td>0.633526 .. 2.09117e-06</td><td>0.0115227 .. 0.129715</td><td>-2.05149</td><td>0.00280448 .. 0.870282</td><td>0.639414 .. 5.85322e-06</td><td>5.72643</td><td>132.716</td><td>0.231425</td><td>0.00207641</td><td>94.0304</td><td>21.0016</td><td>21.2911</td></tr>\n",
       "<tr><td>3</td><td>197.872957171</td><td>-1.34111627953</td><td>20.4303 .. 15.0278</td><td>0.495924 .. 0.0141083</td><td>15.3854</td><td>0.00549334</td><td>0.193564</td><td>0.00764036</td><td>32.7315</td><td>-1.0</td><td>-1.0</td><td>0.165282</td><td>0.185414</td><td>164.712</td><td>4.24162</td><td>157.558</td><td>3.99728</td><td>1.10496</td><td>1.00655</td><td>0.00508906</td><td>1.83547 .. 0.321014</td><td>0.0797838 .. 0.00102912</td><td>0.0790554 .. 0.0</td><td>34.0984</td><td>0.182398</td><td>0.00393653</td><td>1</td><td>0.0221436</td><td>23340301600130074</td><td>372.586</td><td>2.67244</td><td>375.259</td><td>0.159875 .. 0.204921</td><td>8.13114e-06 .. 1.31497e-05</td><td>1</td><td>1.65743</td><td>197.876240818</td><td>-1.34142305978</td><td>1.46013</td><td>2.03778</td><td>-741.054</td><td>128.44</td><td>24408.3</td><td>164.286</td><td>0.620295</td><td>5</td><td>3</td><td>197.872957171 .. 197.886363462</td><td>-1.34111627953 .. -1.32545764765</td><td>9222531 .. 9222794</td><td>164.712 .. 160.685</td><td>0.184493 .. 0.0</td><td>1.0 .. 1.0</td><td>0.660098 .. 0.000373478</td><td>0.653537 .. 0.000369766</td><td>0.000265913 .. 0.0163708</td><td>-18.7437</td><td>0.339636 .. 0.983256</td><td>0.98502 .. 0.0358702</td><td>8.11466</td><td>118.677</td><td>0.184493</td><td>0.00164668</td><td>85.9083</td><td>20.9194</td><td>21.2911</td></tr>\n",
       "<tr><td>4</td><td>230.600091876</td><td>27.7143690526</td><td>17.7457 .. 14.1279</td><td>0.0249274 .. 0.00438643</td><td>14.449</td><td>0.00252544</td><td>0.0758894</td><td>0.00859367</td><td>3.21969</td><td>0.069041</td><td>-1.0</td><td>0.0535868</td><td>0.0786437</td><td>133.256</td><td>4.30238</td><td>133.333</td><td>3.49261</td><td>1.0591</td><td>1.0523</td><td>0.0482489</td><td>1.87192 .. 0.316875</td><td>0.00237442 .. 0.00010312</td><td>0.00233411 .. 0.0</td><td>2.20879</td><td>0.0774831</td><td>0.00579991</td><td>2</td><td>0.0156272</td><td>45120301202090548</td><td>370.72</td><td>-4.38155</td><td>366.338</td><td>0.0447689 .. 0.110197</td><td>6.85914e-06 .. 9.46644e-06</td><td>1</td><td>1.58865</td><td>230.621563557</td><td>27.7076314682</td><td>1.40803</td><td>3.62901</td><td>-1534.07</td><td>151.021</td><td>27299.1</td><td>133.096</td><td>0.85124</td><td>5</td><td>5</td><td>230.600091876 .. 230.595285265</td><td>27.7143690526 .. 27.7386539579</td><td>30536290 .. 30536278</td><td>133.256 .. 131.472</td><td>0.0783428 .. 0.0</td><td>1.0 .. 1.0</td><td>0.560429 .. 0.0102178</td><td>0.139783 .. 0.00254854</td><td>1.59914e-05 .. 7.08787e-05</td><td>-0.542032</td><td>0.439555 .. 0.989711</td><td>0.156996 .. 0.00338395</td><td>3.08971</td><td>80.195</td><td>0.0783428</td><td>0.00166772</td><td>132.958</td><td>21.2483</td><td>21.2911</td></tr>\n",
       "<tr><td>5</td><td>137.300744635</td><td>10.9735949355</td><td>26.3431 .. 16.2881</td><td>3.21732 .. 0.0284554</td><td>15.9805</td><td>0.011086</td><td>0.133522</td><td>0.0130259</td><td>94.948</td><td>-1.0</td><td>0.176272</td><td>0.197508</td><td>0.17618</td><td>174.704</td><td>4.94786</td><td>176.382</td><td>4.71189</td><td>1.11805</td><td>1.01454</td><td>0.0158416</td><td>1.84548 .. 0.332451</td><td>0.0365767 .. 0.000568848</td><td>0.0360979 .. 0.0</td><td>97.1407</td><td>0.170462</td><td>0.00360837</td><td>1</td><td>0.0155815</td><td>60040301101420280</td><td>346.72</td><td>-3.56448</td><td>343.156</td><td>0.150012 .. 0.190912</td><td>1.09958e-05 .. 1.324e-05</td><td>1</td><td>1.67707</td><td>137.303120923</td><td>10.9747469458</td><td>1.00631</td><td>9.07446</td><td>-896.769</td><td>253.205</td><td>46607.7</td><td>174.657</td><td>0.496078</td><td>5</td><td>2</td><td>137.300744635 .. 137.329398418</td><td>10.9735949355 .. 10.9856922907</td><td>45540350 .. 45540320</td><td>174.704 .. 163.049</td><td>0.171957 .. 0.0</td><td>1.0 .. 1.0</td><td>0.94704 .. 0.000216989</td><td>0.569868 .. 0.00013057</td><td>0.00126696 .. 0.00346009</td><td>-1.88759</td><td>0.0516931 .. 0.996323</td><td>0.588627 .. 0.000327741</td><td>4.02173</td><td>112.058</td><td>0.171957</td><td>0.00150331</td><td>142.391</td><td>21.2947</td><td>21.2911</td></tr>\n",
       "<tr><td>6</td><td>203.833722679</td><td>41.0011464409</td><td>19.9958 .. 15.5079</td><td>0.107985 .. 0.0112599</td><td>15.9237</td><td>0.00432367</td><td>0.260964</td><td>0.00656447</td><td>5.84998</td><td>0.228309</td><td>-1.0</td><td>0.241275</td><td>0.233512</td><td>189.181</td><td>5.61336</td><td>163.812</td><td>4.66691</td><td>1.13599</td><td>1.01004</td><td>0.0133905</td><td>1.87779 .. 0.337337</td><td>0.120441 .. 0.00195693</td><td>0.119126 .. 0.0</td><td>13.4388</td><td>0.231747</td><td>0.0060674</td><td>2</td><td>0.0156533</td><td>39190301400210138</td><td>331.742</td><td>-9.64231</td><td>322.1</td><td>0.195938 .. 0.267555</td><td>8.02359e-07 .. 5.99313e-06</td><td>1</td><td>1.70399</td><td>203.813370958</td><td>40.9941410335</td><td>1.17233</td><td>5.82817</td><td>14.4047</td><td>382.108</td><td>341055.0</td><td>189.131</td><td>0.720785</td><td>5</td><td>2</td><td>203.833722679 .. 203.838759343</td><td>41.0011464409 .. 40.9912279638</td><td>25032419 .. 25032423</td><td>189.181 .. 183.506</td><td>0.230545 .. 0.0</td><td>1.0 .. 1.0</td><td>0.981418 .. 3.65463e-05</td><td>0.282229 .. 1.05097e-05</td><td>0.0182855 .. 0.00252627</td><td>-0.644934</td><td>0.000296028 .. 0.997437</td><td>0.283745 .. 1.47518e-05</td><td>7.95666</td><td>128.979</td><td>0.230545</td><td>0.00197796</td><td>128.761</td><td>21.2879</td><td>21.2911</td></tr>\n",
       "<tr><td>7</td><td>8.03426455081</td><td>18.1070239389</td><td>21.52 .. 17.4868</td><td>0.52055 .. 0.0391219</td><td>17.9334</td><td>0.0162721</td><td>0.404378</td><td>0.0137279</td><td>3.34331</td><td>-1.0</td><td>-1.0</td><td>0.384979</td><td>0.378514</td><td>248.386</td><td>11.9954</td><td>180.867</td><td>7.50913</td><td>1.19957</td><td>1.4101</td><td>0.0667823</td><td>1.63277 .. 0.37589</td><td>1.06801 .. 0.0119162</td><td>0.927002 .. 0.0</td><td>4.11581</td><td>0.397647</td><td>0.0126341</td><td>3</td><td>0.0421637</td><td>77130301502820588</td><td>321.038</td><td>-2.43615</td><td>318.602</td><td>0.329525 .. 0.465768</td><td>5.64878e-05 .. 4.00679e-06</td><td>1</td><td>1.79935</td><td>8.04801211567</td><td>18.1312199154</td><td>1.23114</td><td>8.32701</td><td>46.0606</td><td>3558.33</td><td>166131.0</td><td>259.077</td><td>9.87816</td><td>5</td><td>5</td><td>8.03426455081 .. 8.06108516458</td><td>18.1070239389 .. 18.1079312174</td><td>48663337 .. 48663413</td><td>248.386 .. 255.922</td><td>0.383106 .. 0.0</td><td>1.0 .. 1.0</td><td>0.438078 .. 0.0202029</td><td>0.241336 .. 0.0111297</td><td>0.00323488 .. 0.0257148</td><td>-1.65378</td><td>0.558687 .. 0.954082</td><td>0.34954 .. 0.0241828</td><td>4.14895</td><td>135.335</td><td>0.383106</td><td>0.00427159</td><td>98.4443</td><td>20.8384</td><td>21.2911</td></tr>\n",
       "<tr><td>8</td><td>340.832475838</td><td>-9.59192010688</td><td>24.8378 .. 18.6921</td><td>3.23691 .. 0.0841101</td><td>18.3397</td><td>0.0318136</td><td>0.434596</td><td>0.0164086</td><td>3.90478</td><td>0.439285</td><td>0.439285</td><td>0.434596</td><td>0.434574</td><td>299.459</td><td>14.5538</td><td>199.356</td><td>8.05037</td><td>1.24528</td><td>1.46252</td><td>0.0</td><td>1.68302 .. 0.420637</td><td>1.15081 .. 0.0163903</td><td>0.922261 .. 0.0</td><td>4.0533</td><td>0.441017</td><td>0.0106461</td><td>1</td><td>0.024273</td><td>16590301202380047</td><td>313.068</td><td>3.34155</td><td>316.409</td><td>0.381702 .. 0.500332</td><td>1.10379e-05 .. 6.71135e-06</td><td>1</td><td>1.86792</td><td>340.832475838</td><td>-9.59192010688</td><td>1.13477</td><td>7.81274</td><td>-54.9106</td><td>5101.92</td><td>111513.0</td><td>299.459</td><td>0.0</td><td>5</td><td>1</td><td>340.832475838 .. 340.838760688</td><td>-9.59192010688 .. -9.58639924617</td><td>4267619 .. 4267717</td><td>299.459 .. 0.0</td><td>0.426304 .. 0.0</td><td>1.0 .. 1.0</td><td>0.9972 .. 0.000372974</td><td>0.0808632 .. 3.02446e-05</td><td>1.47293e-05 .. 0.679325</td><td>-0.0922107</td><td>0.00278574 .. 0.320302</td><td>0.0808816 .. 3.29125e-05</td><td>3.68885</td><td>162.237</td><td>0.426304</td><td>0.00370347</td><td>92.1337</td><td>20.9361</td><td>21.2911</td></tr>\n",
       "<tr><td>9</td><td>150.558906081</td><td>20.5379493669</td><td>21.5711 .. 16.8248</td><td>0.401919 .. 0.0208302</td><td>17.2187</td><td>0.0092044</td><td>0.306569</td><td>0.0114625</td><td>1.40643</td><td>0.319619</td><td>0.320468</td><td>0.295951</td><td>0.317106</td><td>151.364</td><td>5.76091</td><td>98.1242</td><td>4.6257</td><td>1.08644</td><td>0.997079</td><td>0.0</td><td>1.74573 .. 0.370654</td><td>0.417731 .. 0.00332962</td><td>0.407602 .. 0.0</td><td>0.998594</td><td>0.323677</td><td>0.0123536</td><td>3</td><td>0.0327382</td><td>51380301200690289</td><td>307.298</td><td>-0.798348</td><td>306.5</td><td>0.247393 .. 0.399961</td><td>8.58922e-09 .. 4.57415e-06</td><td>1</td><td>1.62966</td><td>150.611818763</td><td>20.5171651005</td><td>1.12414</td><td>9.12676</td><td>-79.2376</td><td>253.532</td><td>-3818.91</td><td>154.138</td><td>9.91694</td><td>5</td><td>2</td><td>150.558906081 .. 150.543315432</td><td>20.5379493669 .. 20.5236319612</td><td>39138941 .. 39138936</td><td>151.364 .. 140.136</td><td>0.310309 .. 0.0</td><td>1.0 .. 1.0</td><td>0.92111 .. 1.33771e-05</td><td>0.145202 .. 2.10875e-06</td><td>0.000286364 .. 0.0131093</td><td>-0.300226</td><td>0.0786037 .. 0.986877</td><td>0.147031 .. 2.50337e-06</td><td>4.79448</td><td>102.786</td><td>0.310309</td><td>0.00394149</td><td>127.225</td><td>21.2412</td><td>21.2911</td></tr>\n",
       "<tr><td>10</td><td>8.02057272242</td><td>18.1799054125</td><td>21.095 .. 19.1278</td><td>0.252223 .. 0.128208</td><td>19.4094</td><td>0.0498437</td><td>0.342191</td><td>0.0226911</td><td>23.0036</td><td>-1.0</td><td>-1.0</td><td>0.269057</td><td>0.380615</td><td>9.56908</td><td>3.68432</td><td>6.28926</td><td>2.3554</td><td>0.625423</td><td>1.3176</td><td>0.0</td><td>1.45648 .. 0.39679</td><td>0.92302 .. 0.0117171</td><td>0.777666 .. 0.0</td><td>24.2145</td><td>0.405921</td><td>0.014873</td><td>5</td><td>0.0421637</td><td>77130301502820537</td><td>299.29</td><td>-24.6916</td><td>274.599</td><td>0.327301 .. 0.484541</td><td>0.000402659 .. 2.62035e-06</td><td>0</td><td>0.938135</td><td>8.05546588207</td><td>18.147579677</td><td>0.838587</td><td>9.46667</td><td>798.22</td><td>342.264</td><td>35341.3</td><td>9.14993</td><td>2.7492</td><td>5</td><td>4</td><td>8.02057272242 .. 8.02780372163</td><td>18.1799054125 .. 18.1866601051</td><td>48663314 .. 48663323</td><td>9.56908 .. 10.5912</td><td>0.390323 .. 0.0</td><td>1.0 .. 1.0</td><td>0.82188 .. 0.00714501</td><td>4.44704e-06 .. 3.86603e-08</td><td>0.122698 .. 0.991276</td><td>0.170037</td><td>0.0554221 .. 0.00157866</td><td>4.44704e-06 .. 3.86605e-08</td><td>1.1127</td><td>6.07762</td><td>0.390323</td><td>0.00937553</td><td>98.4443</td><td>20.8436</td><td>21.2911</td></tr>\n",
       "<tr><td>...</td><td>...</td><td>...</td><td>...</td><td>...</td><td>...</td><td>...</td><td>...</td><td>...</td><td>...</td><td>...</td><td>...</td><td>...</td><td>...</td><td>...</td><td>...</td><td>...</td><td>...</td><td>...</td><td>...</td><td>...</td><td>...</td><td>...</td><td>...</td><td>...</td><td>...</td><td>...</td><td>...</td><td>...</td><td>...</td><td>...</td><td>...</td><td>...</td><td>...</td><td>...</td><td>...</td><td>...</td><td>...</td><td>...</td><td>...</td><td>...</td><td>...</td><td>...</td><td>...</td><td>...</td><td>...</td><td>...</td><td>...</td><td>...</td><td>...</td><td>...</td><td>...</td><td>...</td><td>...</td><td>...</td><td>...</td><td>...</td><td>...</td><td>...</td><td>...</td><td>...</td><td>...</td><td>...</td><td>...</td><td>...</td><td>...</td><td>...</td></tr>\n",
       "<tr><td>956206</td><td>235.255460399</td><td>47.8529822811</td><td>21.6564 .. 19.7507</td><td>0.336503 .. 0.242223</td><td>19.9929</td><td>0.06208</td><td>0.384489</td><td>0.0396015</td><td>17.7967</td><td>-1.0</td><td>-1.0</td><td>0.522268</td><td>0.492969</td><td>10.3013</td><td>3.727</td><td>6.12146</td><td>2.00173</td><td>0.634715</td><td>1.89648</td><td>0.013517</td><td>1.43252 .. 0.47765</td><td>0.612279 .. 0.0277297</td><td>0.553695 .. 0.0</td><td>21.9785</td><td>0.519923</td><td>0.0408844</td><td>4</td><td>0.0268378</td><td>32250301301580770</td><td>-0.649556</td><td>-3.22655</td><td>-3.87611</td><td>0.364391 .. 0.675456</td><td>0.00290907 .. 0.0769748</td><td>0</td><td>0.952072</td><td>235.27195945</td><td>47.867487924</td><td>1.39412</td><td>7.81214</td><td>352.56</td><td>212.651</td><td>12946.4</td><td>8.20308</td><td>2.95433</td><td>5</td><td>3</td><td>235.255460399 .. 235.254192175</td><td>47.8529822811 .. 47.8499017293</td><td>15688025 .. 15688084</td><td>10.3013 .. 8.73006</td><td>0.509351 .. 0.0</td><td>1.0 .. 1.0</td><td>0.641224 .. 6.92471e-05</td><td>0.00728584 .. 7.86812e-07</td><td>0.347713 .. 0.867848</td><td>0.678175</td><td>0.011063 .. 0.132082</td><td>0.00731566 .. 7.95855e-07</td><td>1.24255</td><td>4.15466</td><td>0.509351</td><td>0.0390845</td><td>127.268</td><td>21.2664</td><td>21.2911</td></tr>\n",
       "<tr><td>956255</td><td>194.237491223</td><td>45.120545605</td><td>22.5317 .. 18.476</td><td>0.378372 .. 0.03778</td><td>18.8823</td><td>0.0178937</td><td>0.401019</td><td>0.0123169</td><td>1.6258</td><td>-1.0</td><td>-1.0</td><td>0.481122</td><td>0.470156</td><td>5.06886</td><td>1.54183</td><td>4.50443</td><td>1.33954</td><td>0.550785</td><td>0.999857</td><td>0.0</td><td>1.68482 .. 0.394369</td><td>0.458651 .. 0.00665085</td><td>0.436371 .. 0.0</td><td>2.77969</td><td>0.380867</td><td>0.0251945</td><td>5</td><td>0.0156533</td><td>38180301502120900</td><td>-0.655871</td><td>1.47532</td><td>0.819444</td><td>0.261454 .. 0.500279</td><td>0.000368921 .. 1.81896e-06</td><td>0</td><td>0.826178</td><td>194.253669218</td><td>45.1197711924</td><td>1.14792</td><td>5.41851</td><td>-29.3566</td><td>22.1787</td><td>264.357</td><td>5.06886</td><td>0.0</td><td>5</td><td>1</td><td>194.237491223 .. 194.249722673</td><td>45.120545605 .. 45.1460482161</td><td>21034602 .. 21034610</td><td>5.06886 .. 0.0</td><td>0.368141 .. 0.0</td><td>0.998803 .. 0.998803</td><td>0.997952 .. 3.88747e-07</td><td>0.815582 .. 3.17705e-07</td><td>0.000518982 .. 0.952297</td><td>-2.15433</td><td>0.00152886 .. 0.0477025</td><td>0.816949 .. 1.73852e-06</td><td>1.57448</td><td>3.64084</td><td>0.368141</td><td>0.0218855</td><td>140.02</td><td>21.3312</td><td>21.2911</td></tr>\n",
       "<tr><td>956266</td><td>169.295660674</td><td>4.03044999276</td><td>21.8962 .. 20.2398</td><td>0.25455 .. 0.207321</td><td>20.2872</td><td>0.0591374</td><td>0.362664</td><td>0.0237298</td><td>20.8697</td><td>-1.0</td><td>-1.0</td><td>0.469178</td><td>0.461181</td><td>9.50806</td><td>3.1312</td><td>5.84687</td><td>2.04402</td><td>0.624624</td><td>1.75779</td><td>0.0</td><td>0.803396 .. 0.482315</td><td>0.916024 .. 0.0599631</td><td>0.681677 .. 0.0</td><td>26.1138</td><td>0.459687</td><td>0.0486812</td><td>9</td><td>0.0155815</td><td>22470301200570219</td><td>-0.657122</td><td>-2.68673</td><td>-3.34385</td><td>0.207257 .. 0.66622</td><td>0.00511647 .. 0.00753484</td><td>0</td><td>0.936935</td><td>169.305873346</td><td>4.00862099013</td><td>1.23037</td><td>8.90133</td><td>2136.03</td><td>205.332</td><td>47665.9</td><td>7.06577</td><td>2.27972</td><td>5</td><td>4</td><td>169.295660674 .. 169.31665335</td><td>4.03044999276 .. 4.02105629894</td><td>7705462 .. 7705582</td><td>9.50806 .. 8.01307</td><td>0.447516 .. 0.0</td><td>1.0 .. 1.0</td><td>0.457738 .. 0.00424669</td><td>2.65193e-05 .. 2.46035e-07</td><td>0.180851 .. 0.924462</td><td>0.44828</td><td>0.361411 .. 0.0712915</td><td>2.65202e-05 .. 2.46049e-07</td><td>0.688071</td><td>3.48134</td><td>0.447516</td><td>0.0477305</td><td>67.659</td><td>20.6794</td><td>21.2911</td></tr>\n",
       "<tr><td>956275</td><td>344.749891877</td><td>11.9550474097</td><td>27.7764 .. 18.1319</td><td>0.614349 .. 0.0728822</td><td>18.6511</td><td>0.0275269</td><td>0.40686</td><td>0.00940833</td><td>25.6034</td><td>-1.0</td><td>-1.0</td><td>0.422922</td><td>0.39337</td><td>9.44704</td><td>2.4858</td><td>6.09095</td><td>1.63436</td><td>0.62382</td><td>1.40195</td><td>0.0</td><td>2.7693 .. 0.333328</td><td>1.68775 .. 0.0593364</td><td>1.6111 .. 0.0</td><td>26.9447</td><td>0.392595</td><td>0.0444106</td><td>20</td><td>0.0426325</td><td>77870301401020390</td><td>-0.658472</td><td>-0.779612</td><td>-1.43808</td><td>0.237533 .. 0.547657</td><td>0.0744475 .. 0.0169488</td><td>0</td><td>0.93573</td><td>344.718583457</td><td>11.9524577039</td><td>1.14496</td><td>10.3606</td><td>-236.582</td><td>122.954</td><td>875.005</td><td>9.36224</td><td>0.656541</td><td>5</td><td>2</td><td>344.749891877 .. 344.724936073</td><td>11.9550474097 .. 11.9341299533</td><td>52187536 .. 52187533</td><td>9.44704 .. 2.93317</td><td>0.378713 .. 0.0</td><td>1.0 .. 1.0</td><td>0.983579 .. 8.43345e-06</td><td>0.640573 .. 5.49243e-06</td><td>0.00733134 .. 0.999485</td><td>-1.3281</td><td>0.00908938 .. 0.000506872</td><td>0.647497 .. 1.57494e-05</td><td>2.08462</td><td>4.96479</td><td>0.378713</td><td>0.0427349</td><td>58.1316</td><td>20.4473</td><td>21.2911</td></tr>\n",
       "<tr><td>956293</td><td>345.229342429</td><td>-8.08252341645</td><td>20.2858 .. 17.6519</td><td>0.145809 .. 0.0368823</td><td>17.9342</td><td>0.0169574</td><td>0.278994</td><td>0.0271301</td><td>29.8409</td><td>-1.0</td><td>-1.0</td><td>0.326528</td><td>0.312957</td><td>5.87738</td><td>1.76116</td><td>3.86372</td><td>1.21336</td><td>0.567331</td><td>0.991156</td><td>0.0</td><td>1.07809 .. 0.310442</td><td>1.05531 .. 0.0101491</td><td>0.956083 .. 0.0</td><td>33.8448</td><td>0.328293</td><td>0.0305007</td><td>3</td><td>0.024273</td><td>81000301102220196</td><td>-0.660646</td><td>2.26802</td><td>1.60737</td><td>0.166172 .. 0.490413</td><td>6.45551e-14 .. 1.42318e-05</td><td>0</td><td>0.850997</td><td>345.23449159</td><td>-8.09410232186</td><td>0.901264</td><td>6.29673</td><td>-874.557</td><td>20.9754</td><td>-1930.39</td><td>4.611</td><td>1.3474</td><td>5</td><td>2</td><td>345.229342429 .. 345.215089029</td><td>-8.08252341645 .. -8.12558487211</td><td>56257709 .. 55700520</td><td>5.87738 .. 3.57388</td><td>0.314382 .. 0.0</td><td>1.0 .. 1.0</td><td>0.530962 .. 6.23735e-06</td><td>0.437158 .. 5.13541e-06</td><td>0.348123 .. 0.842784</td><td>-3.54473</td><td>0.120915 .. 0.157209</td><td>0.712186 .. 2.90674e-05</td><td>2.5648</td><td>6.13782</td><td>0.314382</td><td>0.0280675</td><td>72.7345</td><td>20.7564</td><td>21.2911</td></tr>\n",
       "<tr><td>956305</td><td>158.802751689</td><td>26.9330305478</td><td>23.3661 .. 20.1705</td><td>0.721704 .. 0.153923</td><td>20.2919</td><td>0.0719058</td><td>0.451288</td><td>0.0433965</td><td>4.57206</td><td>-1.0</td><td>-1.0</td><td>0.496745</td><td>0.500571</td><td>12.2845</td><td>4.88584</td><td>4.15357</td><td>1.61577</td><td>0.657463</td><td>2.2778</td><td>0.00356325</td><td>1.77623 .. 0.448935</td><td>1.03358 .. 0.0210547</td><td>0.960095 .. 0.0</td><td>6.4094</td><td>0.539097</td><td>0.0380452</td><td>3</td><td>0.0327382</td><td>50710301202920665</td><td>-0.662946</td><td>-6.57804</td><td>-7.24099</td><td>0.379496 .. 0.698697</td><td>5.25518e-05 .. 0.0500295</td><td>0</td><td>0.986194</td><td>158.775711899</td><td>26.9176281611</td><td>1.53915</td><td>5.29827</td><td>615.081</td><td>478.927</td><td>44983.9</td><td>12.109</td><td>0.994775</td><td>5</td><td>3</td><td>158.802751689 .. 158.755518623</td><td>26.9330305478 .. 26.8870390032</td><td>37320991 .. 37320947</td><td>12.2845 .. -1.0</td><td>0.528692 .. 0.0</td><td>0.983872 .. 0.983872</td><td>0.968019 .. 0.000688279</td><td>0.0142055 .. 1.01004e-05</td><td>0.0249961 .. 0.940087</td><td>0.557052</td><td>0.00698538 .. 0.0592243</td><td>0.0142122 .. 1.02507e-05</td><td>1.03909</td><td>5.39083</td><td>0.528692</td><td>0.035459</td><td>107.209</td><td>21.1083</td><td>21.2911</td></tr>\n",
       "<tr><td>956378</td><td>180.214380101</td><td>11.1018056425</td><td>21.2241 .. 19.066</td><td>0.229656 .. 0.127483</td><td>19.2941</td><td>0.0740532</td><td>0.340572</td><td>0.0193766</td><td>19.9556</td><td>-1.0</td><td>-1.0</td><td>0.406489</td><td>0.386191</td><td>9.91995</td><td>3.03124</td><td>8.2419</td><td>2.26543</td><td>0.629944</td><td>1.72751</td><td>0.0</td><td>1.05408 .. 0.398445</td><td>0.40553 .. 0.0498304</td><td>0.317754 .. 0.0</td><td>25.675</td><td>0.451923</td><td>0.0397044</td><td>10</td><td>0.0370162</td><td>35250301601680444</td><td>-0.676155</td><td>-3.13625</td><td>-3.81241</td><td>0.298016 .. 0.60583</td><td>0.000565355 .. 0.0804928</td><td>0</td><td>0.944916</td><td>180.197265613</td><td>11.1055748107</td><td>1.07696</td><td>7.54463</td><td>-118.444</td><td>146.801</td><td>187.253</td><td>9.60499</td><td>1.08209</td><td>5</td><td>3</td><td>180.214380101 .. 180.180126508</td><td>11.1018056425 .. 11.1216928373</td><td>16469203 .. 16469233</td><td>9.91995 .. 3.1925</td><td>0.438896 .. 0.0</td><td>1.0 .. 1.0</td><td>0.921388 .. 7.73726e-06</td><td>0.087804 .. 7.37324e-07</td><td>0.0620157 .. 0.845622</td><td>0.577949</td><td>0.0165962 .. 0.15437</td><td>0.0884667 .. 8.14988e-07</td><td>1.64067</td><td>4.95571</td><td>0.438896</td><td>0.0385088</td><td>55.5885</td><td>20.5753</td><td>21.2911</td></tr>\n",
       "<tr><td>956448</td><td>213.925081111</td><td>27.8063164475</td><td>21.9253 .. 19.2423</td><td>0.397137 .. 0.12629</td><td>19.7182</td><td>0.049696</td><td>0.395954</td><td>0.0230188</td><td>3.66695</td><td>-1.0</td><td>-1.0</td><td>0.427942</td><td>0.410041</td><td>11.5827</td><td>2.84564</td><td>4.33663</td><td>1.55934</td><td>0.649774</td><td>1.20785</td><td>0.0</td><td>0.775758 .. 0.393736</td><td>0.513527 .. 0.0244896</td><td>0.45061 .. 0.0</td><td>3.65576</td><td>0.408991</td><td>0.0239458</td><td>6</td><td>0.020082</td><td>46490301601950375</td><td>-0.696838</td><td>1.78839</td><td>1.09155</td><td>0.28595 .. 0.532032</td><td>0.00176735 .. 1.92393e-06</td><td>0</td><td>0.974661</td><td>213.89558015</td><td>27.7783593211</td><td>0.83904</td><td>17.0957</td><td>23.5599</td><td>200.1</td><td>5027.21</td><td>9.72526</td><td>3.08635</td><td>5</td><td>4</td><td>213.925081111 .. 213.909684053</td><td>27.8063164475 .. 27.8117919109</td><td>33928605 .. 33928597</td><td>11.5827 .. 10.6369</td><td>0.393052 .. 0.0</td><td>1.0 .. 1.0</td><td>0.670093 .. 8.84908e-05</td><td>0.00164521 .. 2.17263e-07</td><td>0.172632 .. 0.748238</td><td>0.786111</td><td>0.157276 .. 0.251674</td><td>0.00164655 .. 2.17797e-07</td><td>0.851367</td><td>5.33276</td><td>0.393052</td><td>0.0210526</td><td>81.8004</td><td>20.9102</td><td>21.2911</td></tr>\n",
       "<tr><td>956452</td><td>229.607215359</td><td>59.4948957146</td><td>25.3697 .. 19.7594</td><td>1.11913 .. 0.110731</td><td>19.9888</td><td>0.0500628</td><td>0.393402</td><td>0.0236445</td><td>2.41744</td><td>-1.0</td><td>-1.0</td><td>0.4562</td><td>0.436894</td><td>6.91472</td><td>1.93308</td><td>6.38079</td><td>1.67758</td><td>0.586077</td><td>1.15024</td><td>0.00441623</td><td>1.42018 .. 0.385877</td><td>0.576595 .. 0.0146371</td><td>0.530878 .. 0.0</td><td>2.39683</td><td>0.406475</td><td>0.0311062</td><td>6</td><td>0.0173393</td><td>61220301600360777</td><td>-0.698302</td><td>1.57818</td><td>0.879882</td><td>0.245824 .. 0.567126</td><td>0.000104292 .. 1.78018e-06</td><td>0</td><td>0.879116</td><td>229.58421469</td><td>59.5210749208</td><td>1.25159</td><td>9.25207</td><td>90.7281</td><td>58.0584</td><td>1047.41</td><td>6.54551</td><td>1.11316</td><td>5</td><td>5</td><td>229.607215359 .. 229.512341838</td><td>59.4948957146 .. 59.5167504509</td><td>46032132 .. 46032108</td><td>6.91472 .. 2.39924</td><td>0.39081 .. 0.0</td><td>1.0 .. 1.0</td><td>0.469965 .. 0.0194081</td><td>0.0049333 .. 0.00020373</td><td>0.263526 .. 0.660307</td><td>0.927261</td><td>0.266509 .. 0.320285</td><td>0.00496091 .. 0.000205849</td><td>0.654503</td><td>3.39689</td><td>0.39081</td><td>0.0288936</td><td>102.352</td><td>21.0871</td><td>21.2911</td></tr>\n",
       "<tr><td>956456</td><td>135.169108815</td><td>1.12124855434</td><td>26.2193 .. 19.6254</td><td>0.569591 .. 0.100157</td><td>19.9566</td><td>0.044439</td><td>0.410762</td><td>0.0191772</td><td>9.90843</td><td>-1.0</td><td>-1.0</td><td>0.50145</td><td>0.434651</td><td>5.83161</td><td>1.6812</td><td>1.31614</td><td>0.502018</td><td>0.566445</td><td>1.05607</td><td>0.0</td><td>1.40842 .. 0.378822</td><td>0.865125 .. 0.0239285</td><td>0.728657 .. 0.0</td><td>12.0973</td><td>0.368383</td><td>0.0422805</td><td>20</td><td>0.0155815</td><td>7560301601290688</td><td>-0.699264</td><td>-13.9183</td><td>-14.6176</td><td>0.211874 .. 0.524892</td><td>0.0386118 .. 1.25661e-05</td><td>0</td><td>0.849667</td><td>135.181714569</td><td>1.14368844441</td><td>1.15978</td><td>19.3326</td><td>-1109.0</td><td>87.1805</td><td>-1316.67</td><td>4.195</td><td>2.20624</td><td>5</td><td>2</td><td>135.169108815 .. 135.173187661</td><td>1.12124855434 .. 1.1040473549</td><td>912354 .. 912360</td><td>5.83161 .. 4.59596</td><td>0.355678 .. 0.0</td><td>1.0 .. 1.0</td><td>0.641456 .. 0.0014811</td><td>9.71939e-05 .. 2.24417e-07</td><td>0.303986 .. 0.998515</td><td>0.443424</td><td>0.0545571 .. 3.9817e-06</td><td>9.71992e-05 .. 2.24451e-07</td><td>0.538929</td><td>2.53671</td><td>0.355678</td><td>0.0403029</td><td>85.6844</td><td>20.8651</td><td>21.2911</td></tr>\n",
       "</table>"
      ],
      "text/plain": [
       "<Table length=396047>\n",
       "MEM_MATCH_ID       RA           DEC       ... LIM_LIMMAG LIM_LIMMAG_HARD\n",
       "   int32        float64       float64     ...  float32       float32    \n",
       "------------ ------------- -------------- ... ---------- ---------------\n",
       "           1 239.583329069  27.2334129178 ...    21.1772         21.2911\n",
       "           2 250.082548387  46.7115313536 ...    21.0016         21.2911\n",
       "           3 197.872957171 -1.34111627953 ...    20.9194         21.2911\n",
       "           4 230.600091876  27.7143690526 ...    21.2483         21.2911\n",
       "           5 137.300744635  10.9735949355 ...    21.2947         21.2911\n",
       "           6 203.833722679  41.0011464409 ...    21.2879         21.2911\n",
       "           7 8.03426455081  18.1070239389 ...    20.8384         21.2911\n",
       "           8 340.832475838 -9.59192010688 ...    20.9361         21.2911\n",
       "           9 150.558906081  20.5379493669 ...    21.2412         21.2911\n",
       "          10 8.02057272242  18.1799054125 ...    20.8436         21.2911\n",
       "         ...           ...            ... ...        ...             ...\n",
       "      956206 235.255460399  47.8529822811 ...    21.2664         21.2911\n",
       "      956255 194.237491223   45.120545605 ...    21.3312         21.2911\n",
       "      956266 169.295660674  4.03044999276 ...    20.6794         21.2911\n",
       "      956275 344.749891877  11.9550474097 ...    20.4473         21.2911\n",
       "      956293 345.229342429 -8.08252341645 ...    20.7564         21.2911\n",
       "      956305 158.802751689  26.9330305478 ...    21.1083         21.2911\n",
       "      956378 180.214380101  11.1018056425 ...    20.5753         21.2911\n",
       "      956448 213.925081111  27.8063164475 ...    20.9102         21.2911\n",
       "      956452 229.607215359  59.4948957146 ...    21.0871         21.2911\n",
       "      956456 135.169108815  1.12124855434 ...    20.8651         21.2911"
      ]
     },
     "execution_count": 26,
     "metadata": {},
     "output_type": "execute_result"
    }
   ],
   "source": [
    "rm = read_redmapper(rmversion=rmversion)\n",
    "nobj = len(rm)\n",
    "rm"
   ]
  },
  {
   "cell_type": "markdown",
   "metadata": {},
   "source": [
    "#### Convert the PhotoID in the redMaPPer catalog to ObjID using utilities written by Erin Sheldon."
   ]
  },
  {
   "cell_type": "code",
   "execution_count": 5,
   "metadata": {
    "collapsed": true
   },
   "outputs": [],
   "source": [
    "def unpack_photoid(photoid):\n",
    "    \"\"\"Unpack the SDSS photoID into run, rerun, camcol, field, and id.\n",
    "    \n",
    "    The heart of this code is adopted from Erin Sheldon's \n",
    "    sdsspy.util.photoid_extract.\n",
    "\n",
    "    \"\"\"    \n",
    "    import numpy as np\n",
    "    \n",
    "    pvals = [13,9,8,4,0]\n",
    "\n",
    "    ten = np.array(10, dtype='i8')\n",
    "\n",
    "    run = photoid // ten**pvals[0]\n",
    "    rerun = photoid // ten**pvals[1] - run*ten**(pvals[0]-pvals[1])\n",
    "\n",
    "    camcol = \\\n",
    "        photoid // ten**pvals[2] - \\\n",
    "        run * ten**(pvals[0]-pvals[2]) - \\\n",
    "        rerun * ten**(pvals[1]-pvals[2])\n",
    "\n",
    "    field = \\\n",
    "        photoid // ten**pvals[3] - \\\n",
    "        run * ten**(pvals[0]-pvals[3]) - \\\n",
    "        rerun * ten**(pvals[1]-pvals[3]) - \\\n",
    "        camcol * ten**(pvals[2]-pvals[3])\n",
    "\n",
    "    id = \\\n",
    "        photoid // ten**pvals[4] - \\\n",
    "        run * ten**(pvals[0]-pvals[4]) - \\\n",
    "        rerun * ten**(pvals[1]-pvals[4]) - \\\n",
    "        camcol * ten**(pvals[2]-pvals[4]) - \\\n",
    "        field * ten**(pvals[3]-pvals[4])\n",
    "\n",
    "    return run, rerun, camcol, field, id"
   ]
  },
  {
   "cell_type": "code",
   "execution_count": 34,
   "metadata": {
    "collapsed": true
   },
   "outputs": [],
   "source": [
    "def unpack_objid(objid, everything=False):\n",
    "    \"\"\"Unpack the SDSS ObjID into run, rerun, camcol, field, and id.\n",
    "    \n",
    "    The heart of this code is adopted from Erin Sheldon's \n",
    "    sdsspy.util.objid_extract.\n",
    "\n",
    "    \"\"\"    \n",
    "    masks = {\n",
    "        'sky_version': 0x7800000000000000,\n",
    "        'rerun': 0x07FF000000000000,\n",
    "        'run': 0x0000FFFF00000000,\n",
    "        'camcol': 0x00000000E0000000,\n",
    "        'first_field': 0x0000000010000000,\n",
    "        'field': 0x000000000FFF0000,\n",
    "        'id': 0x000000000000FFFF\n",
    "    }\n",
    "\n",
    "    run = (objid & masks['run']) >> 32\n",
    "    rerun = (objid & masks['rerun']) >> 48\n",
    "    camcol = (objid & masks['camcol']) >> 29\n",
    "    field = (objid & masks['field']) >> 16\n",
    "    id = (objid & masks['id']) >> 0\n",
    "    sky_version = (objid & masks['sky_version']) >> 59\n",
    "    first_field = (objid & masks['first_field']) >> 28\n",
    "    \n",
    "    if everything:\n",
    "        return run, rerun, camcol, field, id, first_field, sky_version\n",
    "    else:\n",
    "        return run, rerun, camcol, field, id"
   ]
  },
  {
   "cell_type": "code",
   "execution_count": 6,
   "metadata": {
    "collapsed": true
   },
   "outputs": [],
   "source": [
    "def get_objid(run, rerun, camcol, field, id, skyversion=2):\n",
    "    \"\"\"Convert run, rerun, camcol, field, and id to an ObjID used \n",
    "    by the SDSS CAS.\n",
    "    \n",
    "    The heart of this code is adopted from Erin Sheldon's \n",
    "    sdsspy.util.get_odjid.\n",
    "\n",
    "    \"\"\"    \n",
    "    import numpy as np\n",
    "    \n",
    "    dt = 'i8'\n",
    "    sky    = np.array(skyversion, ndmin=1, dtype=dt, copy=False)\n",
    "    run    = np.array(run, ndmin=1, dtype=dt, copy=False)\n",
    "    rerun  = np.array(rerun, ndmin=1, dtype=dt, copy=False)\n",
    "    camcol = np.array(camcol, ndmin=1, dtype=dt, copy=False)\n",
    "    field  = np.array(field, ndmin=1, dtype=dt, copy=False)\n",
    "    id     = np.array(id, ndmin=1, dtype=dt, copy=False)\n",
    "    \n",
    "    objid = np.zeros(run.size, dtype=dt)\n",
    "\n",
    "    first_field = np.zeros(run.size, dtype=dt)\n",
    "    objid = (objid\n",
    "             | (sky << 59)\n",
    "             | (rerun << 48)\n",
    "             | (run << 32)\n",
    "             | (camcol << 29)\n",
    "             | (first_field << 28)\n",
    "             | (field << 16)\n",
    "             | (id << 0) )\n",
    "\n",
    "    return objid    "
   ]
  },
  {
   "cell_type": "code",
   "execution_count": 7,
   "metadata": {
    "collapsed": true
   },
   "outputs": [],
   "source": [
    "photoid = rm['PHOTOID'].data\n",
    "run, rerun, camcol, field, id = unpack_photoid(photoid)\n",
    "objid = get_objid(run, rerun, camcol, field, id)"
   ]
  },
  {
   "cell_type": "markdown",
   "metadata": {},
   "source": [
    "#### [1] Match using the original ObjID.\n",
    "\n",
    "Write out an ASCII file with the original ObjID, upload it to CasJobs (naming the table \"redmapper_originalobjid_in\", execute the following SQL query (using the DR14 Context), and download the resulting table, \"redmapper_originalobjid_out\".\n",
    "\n",
    "```SQL\n",
    "SELECT\n",
    "  m.redmapper_id,\n",
    "  m.redmapper_objid,\n",
    "  p.objid,\n",
    "  p.ra,\n",
    "  p.dec,\n",
    "  p.run,\n",
    "  p.rerun,\n",
    "  p.camcol\n",
    "INTO mydb.redmapper_originalobjid_out FROM mydb.redmapper_originalobjid_in AS m\n",
    "  JOIN dr14.PhotoObj AS p ON m.redmapper_objid=p.objid\n",
    "ORDER BY m.redmapper_id\n",
    "```"
   ]
  },
  {
   "cell_type": "code",
   "execution_count": 8,
   "metadata": {},
   "outputs": [
    {
     "name": "stdout",
     "output_type": "stream",
     "text": [
      "CasJobs file /Users/ioannis/research/data/redmapper/v6.3.1/casjobs/redmapper_originalobjid_in.txt exists.\n"
     ]
    }
   ],
   "source": [
    "casfile = os.path.join( os.getenv('REDMAPPER_DIR'), rmversion, 'casjobs', \n",
    "                       'redmapper_originalobjid_in.txt'.format(rmversion) )\n",
    "if os.path.isfile(casfile):\n",
    "    print('CasJobs file {} exists.'.format(casfile))\n",
    "else:\n",
    "    print('Writing {}'.format(casfile))\n",
    "    np.savetxt( casfile, np.vstack( [ [rm['MEM_MATCH_ID']], [objid] ] ).T, \n",
    "               header='redmapper_id redmapper_objid', fmt=('%i', '%i') )"
   ]
  },
  {
   "cell_type": "markdown",
   "metadata": {},
   "source": [
    "#### [2] Gather photometry of missing objects.\n",
    "\n",
    "Read the output of the previous step and determine which objects are missing.  Then write out and upload a new CasJobs file with the RA,Dec coordinates of the missing objects (calling the table \"redmapper_missing_in\"), execute the following SQL query (again using the DR14 Context), and download the resulting table, \"redmapper_missing_out\".\n",
    "\n",
    "Note that we write out an XML table because CasJobs does not maintain the double precision of the RA,Dec coordinates in the ASCII file.\n",
    "\n",
    "Also note that we use a generous 5 arcsec search radius.\n",
    "\n",
    "```SQL\n",
    "SELECT\n",
    "  m.redmapper_id,\n",
    "  m.redmapper_objid,\n",
    "  m.redmapper_ra,\n",
    "  m.redmapper_dec,\n",
    "  p.objid,\n",
    "  p.ra,\n",
    "  p.dec,\n",
    "  p.run,\n",
    "  p.rerun,\n",
    "  p.camcol\n",
    "INTO mydb.redmapper_missing_out FROM mydb.redmapper_missing_in AS m\n",
    "  OUTER APPLY dbo.fGetNearestObjEq( m.redmapper_ra, m.redmapper_dec, 0.01666) AS n \n",
    "  LEFT JOIN dr14.PhotoObj AS p ON n.objid=p.objid\n",
    "ORDER BY m.redmapper_id\n",
    "```"
   ]
  },
  {
   "cell_type": "code",
   "execution_count": 9,
   "metadata": {},
   "outputs": [
    {
     "name": "stdout",
     "output_type": "stream",
     "text": [
      "Read 396004 objects from /Users/ioannis/research/data/redmapper/v6.3.1/casjobs/redmapper_originalobjid_out.fits\n"
     ]
    }
   ],
   "source": [
    "originalfile = os.path.join( os.getenv('REDMAPPER_DIR'), rmversion, 'casjobs',\n",
    "                            'redmapper_originalobjid_out.fits' )\n",
    "oo = Table(fitsio.read(originalfile, ext=1, upper=True))\n",
    "print('Read {} objects from {}'.format(len(oo), originalfile))"
   ]
  },
  {
   "cell_type": "code",
   "execution_count": 10,
   "metadata": {},
   "outputs": [
    {
     "name": "stdout",
     "output_type": "stream",
     "text": [
      "The following 43 objects did not match on their original ObjID:\n"
     ]
    },
    {
     "data": {
      "text/html": [
       "&lt;Table length=43&gt;\n",
       "<table id=\"table4596776800\" class=\"table-striped table-bordered table-condensed\">\n",
       "<thead><tr><th>MEM_MATCH_ID</th><th>RA</th><th>DEC</th><th>MODEL_MAG [5]</th><th>MODEL_MAGERR [5]</th><th>IMAG</th><th>IMAG_ERR</th><th>ZRED</th><th>ZRED_E</th><th>ZRED_CHISQ</th><th>BCG_SPEC_Z</th><th>Z_SPEC_INIT</th><th>Z_INIT</th><th>Z</th><th>LAMBDA_CHISQ</th><th>LAMBDA_CHISQ_E</th><th>LAMBDA_ZRED</th><th>LAMBDA_ZRED_E</th><th>R_LAMBDA</th><th>SCALEVAL</th><th>MASKFRAC</th><th>C_LAMBDA [4]</th><th>C_LAMBDA_ERR [4]</th><th>MAG_LAMBDA_ERR [5]</th><th>CHISQ</th><th>Z_LAMBDA</th><th>Z_LAMBDA_E</th><th>Z_LAMBDA_NITER</th><th>EBV_MEAN</th><th>PHOTOID</th><th>LNLAMLIKE</th><th>LNBCGLIKE</th><th>LNLIKE</th><th>PZBINS [21]</th><th>PZ [21]</th><th>NCROSS</th><th>RMASK</th><th>RA_ORIG</th><th>DEC_ORIG</th><th>W</th><th>DLAMBDA_DZ</th><th>DLAMBDA_DZ2</th><th>DLAMBDAVAR_DZ</th><th>DLAMBDAVAR_DZ2</th><th>LAMBDA_CHISQ_C</th><th>LAMBDA_CHISQ_CE</th><th>NCENT</th><th>NCENT_GOOD</th><th>RA_CENT [5]</th><th>DEC_CENT [5]</th><th>ID_CENT [5]</th><th>LAMBDA_CHISQ_CENT [5]</th><th>ZLAMBDA_CENT [5]</th><th>P_BCG [5]</th><th>P_CEN [5]</th><th>Q_CEN [5]</th><th>P_FG [5]</th><th>Q_MISS</th><th>P_SAT [5]</th><th>P_C [5]</th><th>BCG_ILUM</th><th>ILUM</th><th>Z_LAMBDA_RAW</th><th>Z_LAMBDA_E_RAW</th><th>LIM_EXPTIME</th><th>LIM_LIMMAG</th><th>LIM_LIMMAG_HARD</th></tr></thead>\n",
       "<thead><tr><th>int32</th><th>float64</th><th>float64</th><th>float32</th><th>float32</th><th>float32</th><th>float32</th><th>float32</th><th>float32</th><th>float32</th><th>float32</th><th>float32</th><th>float32</th><th>float32</th><th>float32</th><th>float32</th><th>float32</th><th>float32</th><th>float32</th><th>float32</th><th>float32</th><th>float32</th><th>float32</th><th>float32</th><th>float32</th><th>float32</th><th>float32</th><th>int16</th><th>float32</th><th>int64</th><th>float32</th><th>float32</th><th>float32</th><th>float32</th><th>float32</th><th>int16</th><th>float32</th><th>float64</th><th>float64</th><th>float32</th><th>float32</th><th>float32</th><th>float32</th><th>float32</th><th>float32</th><th>float32</th><th>int16</th><th>int16</th><th>float64</th><th>float64</th><th>int32</th><th>float32</th><th>float32</th><th>float32</th><th>float32</th><th>float32</th><th>float32</th><th>float32</th><th>float32</th><th>float32</th><th>float32</th><th>float32</th><th>float32</th><th>float32</th><th>float32</th><th>float32</th><th>float32</th></tr></thead>\n",
       "<tr><td>22471</td><td>155.76300038</td><td>57.5615379001</td><td>22.7153 .. 17.4953</td><td>0.880832 .. 0.0297911</td><td>17.8287</td><td>0.0128143</td><td>0.317341</td><td>0.0148829</td><td>1.73192</td><td>0.334343</td><td>0.334343</td><td>0.317341</td><td>0.340901</td><td>22.2765</td><td>2.50593</td><td>13.4133</td><td>1.9087</td><td>0.740575</td><td>0.99349</td><td>0.0</td><td>1.5387 .. 0.359179</td><td>0.568845 .. 0.00645501</td><td>0.54381 .. 0.0</td><td>1.31372</td><td>0.349267</td><td>0.0179885</td><td>1</td><td>0.137114</td><td>22430301602360137</td><td>22.8763</td><td>-0.565203</td><td>22.3111</td><td>0.255227 .. 0.443307</td><td>3.93495e-07 .. 2.60973e-06</td><td>1</td><td>1.11086</td><td>155.76300038</td><td>57.5615379001</td><td>1.43552</td><td>8.17327</td><td>-258.758</td><td>53.0877</td><td>-1491.2</td><td>22.2765</td><td>0.0</td><td>5</td><td>1</td><td>155.76300038 .. 155.746162377</td><td>57.5615379001 .. 57.589205812</td><td>7638018 .. 7638050</td><td>22.2765 .. 0.0</td><td>0.334937 .. 0.0</td><td>1.0 .. 1.0</td><td>0.998829 .. 1.11465e-06</td><td>0.791207 .. 8.82951e-07</td><td>8.18993e-05 .. 0.487252</td><td>-2.90574</td><td>0.00108945 .. 0.512747</td><td>0.791942 .. 4.24769e-06</td><td>3.30616</td><td>14.6403</td><td>0.334937</td><td>0.012719</td><td>109.83</td><td>21.1386</td><td>21.2911</td></tr>\n",
       "<tr><td>30043</td><td>224.46574546</td><td>56.9384951721</td><td>23.0463 .. 18.2324</td><td>0.552041 .. 0.0325983</td><td>18.4954</td><td>0.0148845</td><td>0.385174</td><td>0.0133786</td><td>1.61488</td><td>-1.0</td><td>-1.0</td><td>0.385174</td><td>0.357582</td><td>26.5784</td><td>3.0714</td><td>13.7795</td><td>2.26598</td><td>0.767195</td><td>1.00871</td><td>0.0130764</td><td>1.23034 .. 0.380735</td><td>0.24375 .. 0.0063605</td><td>0.227909 .. 0.0</td><td>2.95253</td><td>0.364688</td><td>0.0166829</td><td>1</td><td>0.00991823</td><td>61220301500120272</td><td>19.3478</td><td>0.656011</td><td>20.0038</td><td>0.282366 .. 0.44701</td><td>4.21125e-05 .. 2.415e-06</td><td>1</td><td>1.15079</td><td>224.46574546</td><td>56.9384951721</td><td>1.07564</td><td>10.7551</td><td>-1062.49</td><td>39.5108</td><td>-7499.6</td><td>26.4808</td><td>0.417877</td><td>5</td><td>3</td><td>224.46574546 .. 224.497742729</td><td>56.9384951721 .. 56.9477772031</td><td>46017769 .. 46017813</td><td>26.5784 .. 21.651</td><td>0.351733 .. 0.0</td><td>1.0 .. 1.0</td><td>0.910682 .. 0.00399157</td><td>0.078888 .. 0.00034577</td><td>0.0349133 .. 0.298359</td><td>0.0610055</td><td>0.0544051 .. 0.69765</td><td>0.0795031 .. 0.00037842</td><td>2.01451</td><td>17.6802</td><td>0.351733</td><td>0.0106678</td><td>117.391</td><td>21.2009</td><td>21.2911</td></tr>\n",
       "<tr><td>54556</td><td>131.248874873</td><td>57.0979488789</td><td>21.6514 .. 18.1365</td><td>0.423332 .. 0.0593842</td><td>18.5615</td><td>0.0242982</td><td>0.469142</td><td>0.0118804</td><td>7.31877</td><td>0.463189</td><td>0.463189</td><td>0.469142</td><td>0.442732</td><td>32.8329</td><td>7.27363</td><td>26.0139</td><td>4.38038</td><td>0.800317</td><td>1.91532</td><td>0.0748722</td><td>2.57605 .. 0.37638</td><td>1.20851 .. 0.0329465</td><td>1.0851 .. 0.0</td><td>9.62118</td><td>0.451084</td><td>0.0161992</td><td>2</td><td>0.137114</td><td>42080301101820335</td><td>13.3664</td><td>1.84391</td><td>15.2104</td><td>0.351004 .. 0.551164</td><td>3.6402e-06 .. 2.85553e-06</td><td>2</td><td>1.20048</td><td>131.248874873</td><td>57.0979488789</td><td>1.32246</td><td>4.51707</td><td>-187.842</td><td>671.52</td><td>-47052.4</td><td>32.8329</td><td>0.0</td><td>5</td><td>1</td><td>131.248874873 .. 131.262179008</td><td>57.0979488789 .. 57.0860657396</td><td>27659406 .. 27659226</td><td>32.8329 .. 0.0</td><td>0.437941 .. 0.0</td><td>1.0 .. 1.0</td><td>0.995089 .. 0.00019121</td><td>0.716645 .. 0.000137706</td><td>0.00179335 .. 0.236449</td><td>-1.84476</td><td>0.00311772 .. 0.76336</td><td>0.719189 .. 0.000491884</td><td>3.2059</td><td>16.2029</td><td>0.437941</td><td>0.0129837</td><td>76.6538</td><td>20.6913</td><td>21.2911</td></tr>\n",
       "<tr><td>63828</td><td>229.866575853</td><td>11.6052448738</td><td>25.1007 .. 18.0913</td><td>2.10731 .. 0.0474661</td><td>18.5117</td><td>0.0217141</td><td>0.413849</td><td>0.0107661</td><td>3.3345</td><td>0.435419</td><td>-1.0</td><td>0.456392</td><td>0.441699</td><td>16.8152</td><td>3.06125</td><td>6.28926</td><td>1.77933</td><td>0.700068</td><td>1.11486</td><td>0.0</td><td>1.47034 .. 0.394161</td><td>0.5954 .. 0.0163549</td><td>0.543426 .. 0.0</td><td>5.36831</td><td>0.394102</td><td>0.0211677</td><td>7</td><td>0.0248643</td><td>39960301501700546</td><td>12.0433</td><td>-3.62422</td><td>8.41905</td><td>0.296741 .. 0.491462</td><td>0.0149743 .. 2.31223e-06</td><td>1</td><td>1.0501</td><td>229.84459098</td><td>11.5762725259</td><td>0.930732</td><td>15.4394</td><td>-638.312</td><td>240.369</td><td>5849.37</td><td>16.5215</td><td>1.56762</td><td>5</td><td>2</td><td>229.866575853 .. 229.85888821</td><td>11.6052448738 .. 11.6069871273</td><td>26352762 .. 26352684</td><td>16.8152 .. 17.9441</td><td>0.380029 .. 0.0</td><td>1.0 .. 1.0</td><td>0.958632 .. 0.000323312</td><td>0.00899151 .. 3.03251e-06</td><td>0.00709544 .. 0.213884</td><td>0.151141</td><td>0.0342721 .. 0.785792</td><td>0.008995 .. 3.06121e-06</td><td>2.38939</td><td>9.12899</td><td>0.380029</td><td>0.0174185</td><td>118.092</td><td>21.158</td><td>21.2911</td></tr>\n",
       "<tr><td>85666</td><td>20.2430974665</td><td>11.6518175043</td><td>28.9412 .. 18.9605</td><td>1.34791 .. 1.30521</td><td>18.5657</td><td>0.24981</td><td>0.482413</td><td>0.0275817</td><td>6.91822</td><td>-1.0</td><td>0.472336</td><td>0.478491</td><td>0.448222</td><td>14.9693</td><td>3.99515</td><td>11.1709</td><td>2.97541</td><td>0.683976</td><td>1.66052</td><td>0.0</td><td>2.93283 .. 0.429477</td><td>1.16929 .. 0.0194709</td><td>1.06861 .. 0.0</td><td>7.95343</td><td>0.46514</td><td>0.0212997</td><td>4</td><td>0.0426325</td><td>77870301303340040</td><td>9.78693</td><td>-0.289085</td><td>9.49785</td><td>0.298036 .. 0.632245</td><td>1.01594e-09 .. 9.79361e-05</td><td>0</td><td>1.02596</td><td>20.2555379532</td><td>11.6321298723</td><td>1.22336</td><td>7.26457</td><td>-338.615</td><td>239.595</td><td>-15136.3</td><td>15.5051</td><td>2.04528</td><td>5</td><td>2</td><td>20.2430974665 .. 20.2617839503</td><td>11.6518175043 .. 11.6343684514</td><td>52169357 .. 50753613</td><td>14.9693 .. 24.8698</td><td>0.453349 .. 0.0</td><td>1.0 .. 1.0</td><td>0.935584 .. 3.2745e-06</td><td>0.722486 .. 2.52867e-06</td><td>0.0119381 .. 0.345522</td><td>-2.30713</td><td>0.0524781 .. 0.654475</td><td>0.760307 .. 1.11017e-05</td><td>3.46355</td><td>9.47139</td><td>0.453349</td><td>0.0190286</td><td>87.0291</td><td>20.8895</td><td>21.2911</td></tr>\n",
       "<tr><td>103992</td><td>172.125800358</td><td>52.9486696844</td><td>22.9775 .. 19.592</td><td>0.497221 .. 0.0930158</td><td>19.9695</td><td>0.0347911</td><td>0.444353</td><td>0.0179911</td><td>1.2234</td><td>-1.0</td><td>-1.0</td><td>0.50379</td><td>0.47154</td><td>5.99942</td><td>2.15938</td><td>3.05521</td><td>1.43962</td><td>0.569668</td><td>1.16955</td><td>0.0</td><td>1.33111 .. 0.364673</td><td>0.668993 .. 0.0120133</td><td>0.579616 .. 0.0</td><td>4.01966</td><td>0.404517</td><td>0.0287916</td><td>13</td><td>0.137114</td><td>28830301601500286</td><td>8.46692</td><td>-10.1663</td><td>-1.69934</td><td>0.241458 .. 0.567575</td><td>9.23265e-05 .. 4.06882e-06</td><td>0</td><td>0.854502</td><td>172.124166238</td><td>52.9270003348</td><td>1.01469</td><td>13.4473</td><td>-1410.62</td><td>104.0</td><td>-2297.74</td><td>5.74651</td><td>0.846285</td><td>5</td><td>4</td><td>172.125800358 .. 172.164395793</td><td>52.9486696844 .. 52.914444579</td><td>12290172 .. 12290186</td><td>5.99942 .. 1.07206</td><td>0.389085 .. 0.0</td><td>0.583071 .. 0.583071</td><td>0.826167 .. 0.00971969</td><td>0.00136214 .. 1.60253e-05</td><td>0.131775 .. 0.426187</td><td>0.423475</td><td>0.0420582 .. 0.564094</td><td>0.00136253 .. 1.60515e-05</td><td>0.659533</td><td>3.28333</td><td>0.389085</td><td>0.0263484</td><td>87.6058</td><td>20.9642</td><td>21.2911</td></tr>\n",
       "<tr><td>130002</td><td>138.661523896</td><td>51.9250405699</td><td>26.0224 .. 19.5402</td><td>0.846245 .. 0.112207</td><td>20.0629</td><td>0.0497976</td><td>0.523187</td><td>0.0258891</td><td>7.19711</td><td>-1.0</td><td>-1.0</td><td>0.523187</td><td>0.574243</td><td>25.0376</td><td>10.0413</td><td>8.56225</td><td>4.35153</td><td>0.758086</td><td>2.96868</td><td>0.0</td><td>2.26236 .. 0.493019</td><td>0.935227 .. 0.011175</td><td>0.626812 .. 0.0</td><td>7.43852</td><td>0.587197</td><td>0.0340737</td><td>1</td><td>0.137114</td><td>20740301201290360</td><td>7.08151</td><td>-2.10108</td><td>4.98043</td><td>0.405591 .. 0.768802</td><td>1.3985e-14 .. 0.108134</td><td>1</td><td>1.13713</td><td>138.661523896</td><td>51.9250405699</td><td>1.70232</td><td>6.80332</td><td>-1945.23</td><td>2087.54</td><td>-402454.0</td><td>23.9674</td><td>2.00012</td><td>5</td><td>3</td><td>138.661523896 .. 138.644632868</td><td>51.9250405699 .. 51.9125724327</td><td>5547462 .. 5547392</td><td>25.0376 .. 23.3596</td><td>0.574258 .. 0.0</td><td>0.998686 .. 0.998686</td><td>0.775819 .. 6.04641e-08</td><td>0.026277 .. 2.04792e-09</td><td>0.123408 .. 0.998536</td><td>0.174972</td><td>0.100773 .. 0.00146389</td><td>0.0264781 .. 2.11972e-09</td><td>1.58573</td><td>14.0709</td><td>0.574258</td><td>0.0280033</td><td>96.1552</td><td>21.0355</td><td>21.2911</td></tr>\n",
       "<tr><td>145282</td><td>221.771688092</td><td>54.2201103797</td><td>22.655 .. 18.1493</td><td>0.662051 .. 0.0590375</td><td>18.32</td><td>0.0160526</td><td>0.245771</td><td>0.0153045</td><td>13.9776</td><td>-1.0</td><td>-1.0</td><td>0.245771</td><td>0.275375</td><td>5.03835</td><td>1.73412</td><td>4.47392</td><td>1.50139</td><td>0.55012</td><td>0.999122</td><td>0.0</td><td>1.61573 .. 0.394865</td><td>0.478714 .. 0.00901556</td><td>0.470293 .. 0.0</td><td>14.6395</td><td>0.281309</td><td>0.0193688</td><td>1</td><td>0.00991823</td><td>31840301400310233</td><td>6.4507</td><td>-0.519817</td><td>5.93088</td><td>0.11262 .. 0.449998</td><td>6.75676e-37 .. 3.08025e-05</td><td>0</td><td>0.825181</td><td>221.771688092</td><td>54.2201103797</td><td>1.04158</td><td>20.2634</td><td>-47.3946</td><td>51.5857</td><td>-3095.63</td><td>5.03835</td><td>0.0</td><td>5</td><td>1</td><td>221.771688092 .. 221.765515081</td><td>54.2201103797 .. 54.2481146212</td><td>15285884 .. 15285951</td><td>5.03835 .. 0.0</td><td>0.274261 .. 0.0</td><td>0.972319 .. 0.972319</td><td>0.999809 .. 3.72263e-07</td><td>0.184955 .. 6.88649e-08</td><td>0.000118212 .. 0.994474</td><td>0.143892</td><td>7.28807e-05 .. 0.00552521</td><td>0.184961 .. 8.44958e-08</td><td>1.3079</td><td>2.9463</td><td>0.274261</td><td>0.0171295</td><td>90.6786</td><td>20.9963</td><td>21.2911</td></tr>\n",
       "<tr><td>163434</td><td>176.835810591</td><td>60.0896418644</td><td>22.2368 .. 18.5376</td><td>0.399775 .. 0.0541156</td><td>18.8159</td><td>0.022977</td><td>0.249187</td><td>0.0134562</td><td>3.21974</td><td>-1.0</td><td>-1.0</td><td>0.249187</td><td>0.246375</td><td>7.83002</td><td>2.04763</td><td>6.16722</td><td>1.73449</td><td>0.600831</td><td>0.995514</td><td>0.0</td><td>1.57595 .. 0.325052</td><td>0.146977 .. 0.00251958</td><td>0.145253 .. 0.0</td><td>3.21707</td><td>0.249919</td><td>0.0128881</td><td>1</td><td>0.137114</td><td>29890301400141006</td><td>5.81729</td><td>-5.83177</td><td>-0.0144801</td><td>0.154553 .. 0.345284</td><td>1.12187e-22 .. 3.72539e-06</td><td>0</td><td>0.901247</td><td>176.835810591</td><td>60.0896418644</td><td>0.76257</td><td>4.64052</td><td>599.497</td><td>30.9297</td><td>630.111</td><td>7.47288</td><td>1.20896</td><td>5</td><td>4</td><td>176.835810591 .. 176.834019434</td><td>60.0896418644 .. 60.0492263882</td><td>13517239 .. 13517020</td><td>7.83002 .. 4.82479</td><td>0.246298 .. 0.0</td><td>1.0 .. 1.0</td><td>0.910229 .. 0.00726195</td><td>0.000173825 .. 1.3868e-06</td><td>0.0138979 .. 0.992729</td><td>0.63074</td><td>0.0758728 .. 8.67116e-06</td><td>0.000173828 .. 1.38706e-06</td><td>0.645358</td><td>4.63187</td><td>0.246298</td><td>0.0109177</td><td>110.476</td><td>21.1021</td><td>21.2911</td></tr>\n",
       "<tr><td>163552</td><td>241.79566768</td><td>39.8825210251</td><td>24.6321 .. 18.0636</td><td>2.44016 .. 0.0504298</td><td>18.5555</td><td>0.0214026</td><td>0.507775</td><td>0.0133529</td><td>1.06788</td><td>0.514347</td><td>0.514347</td><td>0.507775</td><td>0.495157</td><td>18.2187</td><td>6.71404</td><td>15.0609</td><td>3.01045</td><td>0.711383</td><td>2.19404</td><td>0.0844595</td><td>1.96568 .. 0.449425</td><td>0.907377 .. 0.00865882</td><td>0.781044 .. 0.0</td><td>1.21687</td><td>0.507694</td><td>0.0182675</td><td>2</td><td>0.0268378</td><td>37050301202620452</td><td>5.814</td><td>3.18017</td><td>8.99417</td><td>0.350523 .. 0.664866</td><td>5.05195e-20 .. 2.56585e-06</td><td>0</td><td>1.06707</td><td>241.79566768</td><td>39.8825210251</td><td>1.01669</td><td>12.9454</td><td>-368.677</td><td>1359.37</td><td>35613.0</td><td>18.1517</td><td>0.526258</td><td>5</td><td>2</td><td>241.79566768 .. 241.807649041</td><td>39.8825210251 .. 39.8841930635</td><td>19002436 .. 19002549</td><td>18.2187 .. 17.0593</td><td>0.496757 .. 0.0</td><td>1.0 .. 1.0</td><td>0.965878 .. 0.000670507</td><td>0.885857 .. 0.000614957</td><td>0.00665479 .. 0.272732</td><td>-3.86198</td><td>0.0274674 .. 0.726597</td><td>0.914476 .. 0.00736804</td><td>4.37154</td><td>14.1672</td><td>0.496757</td><td>0.0145238</td><td>86.285</td><td>20.955</td><td>21.2911</td></tr>\n",
       "<tr><td>...</td><td>...</td><td>...</td><td>...</td><td>...</td><td>...</td><td>...</td><td>...</td><td>...</td><td>...</td><td>...</td><td>...</td><td>...</td><td>...</td><td>...</td><td>...</td><td>...</td><td>...</td><td>...</td><td>...</td><td>...</td><td>...</td><td>...</td><td>...</td><td>...</td><td>...</td><td>...</td><td>...</td><td>...</td><td>...</td><td>...</td><td>...</td><td>...</td><td>...</td><td>...</td><td>...</td><td>...</td><td>...</td><td>...</td><td>...</td><td>...</td><td>...</td><td>...</td><td>...</td><td>...</td><td>...</td><td>...</td><td>...</td><td>...</td><td>...</td><td>...</td><td>...</td><td>...</td><td>...</td><td>...</td><td>...</td><td>...</td><td>...</td><td>...</td><td>...</td><td>...</td><td>...</td><td>...</td><td>...</td><td>...</td><td>...</td><td>...</td></tr>\n",
       "<tr><td>402444</td><td>131.332648574</td><td>50.9933014586</td><td>26.33 .. 18.8529</td><td>0.632899 .. 0.0636351</td><td>19.326</td><td>0.0277106</td><td>0.482924</td><td>0.0169391</td><td>5.42409</td><td>0.506303</td><td>0.506303</td><td>0.482924</td><td>0.498499</td><td>12.6353</td><td>4.21428</td><td>14.2981</td><td>3.14691</td><td>0.661176</td><td>1.97271</td><td>0.0</td><td>2.05955 .. 0.510747</td><td>0.906121 .. 0.018413</td><td>0.826778 .. 0.0</td><td>5.61521</td><td>0.509375</td><td>0.0303254</td><td>1</td><td>0.137114</td><td>13450301201590507</td><td>2.11241</td><td>2.76634</td><td>4.87875</td><td>0.348696 .. 0.670053</td><td>2.10125e-09 .. 0.0134859</td><td>0</td><td>0.991765</td><td>131.332648574</td><td>50.9933014586</td><td>1.18782</td><td>8.83711</td><td>-1343.65</td><td>347.045</td><td>-51432.9</td><td>12.5203</td><td>0.466924</td><td>5</td><td>2</td><td>131.332648574 .. 131.314741544</td><td>50.9933014586 .. 50.9932798461</td><td>2115669 .. 2115601</td><td>12.6353 .. 9.69112</td><td>0.498489 .. 0.0</td><td>1.0 .. 1.0</td><td>0.902577 .. 1.80922e-05</td><td>0.63701 .. 1.27689e-05</td><td>0.0218009 .. 0.513654</td><td>-1.42023</td><td>0.0756223 .. 0.486328</td><td>0.684044 .. 4.33956e-05</td><td>2.16901</td><td>6.46941</td><td>0.498489</td><td>0.0281839</td><td>97.5451</td><td>21.0326</td><td>21.2911</td></tr>\n",
       "<tr><td>415539</td><td>181.167056336</td><td>48.1933589386</td><td>23.1021 .. 17.9071</td><td>1.04841 .. 0.0381551</td><td>18.4307</td><td>0.0198138</td><td>0.432575</td><td>0.0122545</td><td>3.353</td><td>-1.0</td><td>-1.0</td><td>0.432575</td><td>0.446666</td><td>8.37919</td><td>2.52627</td><td>5.34345</td><td>1.60563</td><td>0.609032</td><td>1.48342</td><td>0.0</td><td>1.98231 .. 0.420336</td><td>0.341854 .. 0.0061056</td><td>0.317116 .. 0.0</td><td>3.53678</td><td>0.458918</td><td>0.0175739</td><td>1</td><td>0.0156533</td><td>37160301500220411</td><td>2.01225</td><td>2.04508</td><td>4.05733</td><td>0.300825 .. 0.61701</td><td>2.52925e-08 .. 2.9578e-06</td><td>0</td><td>0.913549</td><td>181.167056336</td><td>48.1933589386</td><td>1.67271</td><td>10.0859</td><td>-613.076</td><td>115.706</td><td>-3374.03</td><td>8.61919</td><td>0.266084</td><td>5</td><td>2</td><td>181.167056336 .. 181.131835207</td><td>48.1933589386 .. 48.18974373</td><td>19621703 .. 19621591</td><td>8.37919 .. 10.82</td><td>0.446678 .. 0.0</td><td>1.0 .. 1.0</td><td>0.550379 .. 8.66963e-08</td><td>0.509511 .. 8.02587e-08</td><td>0.154271 .. 0.811653</td><td>-6.29751</td><td>0.29535 .. 0.188347</td><td>0.872801 .. 1.08086e-06</td><td>3.78804</td><td>9.07562</td><td>0.446678</td><td>0.0147339</td><td>108.999</td><td>21.1162</td><td>21.2911</td></tr>\n",
       "<tr><td>423387</td><td>202.177242725</td><td>0.62241670881</td><td>22.4531 .. 18.977</td><td>0.511432 .. 0.0862424</td><td>19.6857</td><td>0.0385995</td><td>0.525808</td><td>0.0192287</td><td>0.454656</td><td>0.527643</td><td>0.527643</td><td>0.525808</td><td>0.521961</td><td>12.4218</td><td>4.38768</td><td>11.7811</td><td>2.68238</td><td>0.658926</td><td>2.20186</td><td>0.0</td><td>1.48738 .. 0.473094</td><td>0.59481 .. 0.015977</td><td>0.530245 .. 0.0</td><td>0.430129</td><td>0.532361</td><td>0.0297916</td><td>1</td><td>0.0370162</td><td>7520301503920400</td><td>1.95494</td><td>2.21536</td><td>4.17031</td><td>0.366759 .. 0.697963</td><td>5.0419e-09 .. 0.00280108</td><td>0</td><td>0.988389</td><td>202.177242725</td><td>0.62241670881</td><td>1.06036</td><td>6.9969</td><td>1411.35</td><td>430.914</td><td>52000.3</td><td>12.4218</td><td>0.0</td><td>5</td><td>1</td><td>202.177242725 .. 202.172112659</td><td>0.62241670881 .. 0.638557901317</td><td>262539 .. 877172</td><td>12.4218 .. 0.0</td><td>0.521988 .. 0.0</td><td>1.0 .. 1.0</td><td>0.995301 .. 2.49787e-05</td><td>0.411372 .. 1.03241e-05</td><td>0.000962918 .. 0.120439</td><td>-0.0710061</td><td>0.00373572 .. 0.879536</td><td>0.412173 .. 1.7597e-05</td><td>1.75896</td><td>5.79717</td><td>0.521988</td><td>0.0267482</td><td>103.488</td><td>21.0679</td><td>21.2911</td></tr>\n",
       "<tr><td>425203</td><td>191.338957026</td><td>51.911202363</td><td>22.5023 .. 19.1332</td><td>0.404755 .. 0.0743548</td><td>19.4558</td><td>0.0284903</td><td>0.509315</td><td>0.0161592</td><td>0.373432</td><td>-1.0</td><td>-1.0</td><td>0.483773</td><td>0.492613</td><td>9.66061</td><td>3.86326</td><td>13.1235</td><td>2.74449</td><td>0.626615</td><td>1.90033</td><td>0.0535714</td><td>1.3206 .. 0.435412</td><td>0.506542 .. 0.0145307</td><td>0.46631 .. 0.0</td><td>0.596071</td><td>0.503748</td><td>0.0244829</td><td>1</td><td>0.00991823</td><td>28300301304460471</td><td>1.94177</td><td>1.62872</td><td>3.57049</td><td>0.337253 .. 0.670243</td><td>6.25194e-09 .. 0.000819168</td><td>0</td><td>0.939923</td><td>191.337939298</td><td>51.9134889789</td><td>1.68097</td><td>17.0884</td><td>1210.08</td><td>533.905</td><td>53945.4</td><td>9.86006</td><td>0.398859</td><td>5</td><td>3</td><td>191.338957026 .. 191.325373687</td><td>51.911202363 .. 51.9178786124</td><td>11387680 .. 11387676</td><td>9.66061 .. 11.6285</td><td>0.492694 .. 0.0</td><td>1.0 .. 1.0</td><td>0.614492 .. 0.00013493</td><td>0.425863 .. 9.35107e-05</td><td>0.0914623 .. 0.435546</td><td>-1.54338</td><td>0.294045 .. 0.564319</td><td>0.581121 .. 0.000304535</td><td>1.8672</td><td>5.44258</td><td>0.492694</td><td>0.0219582</td><td>104.849</td><td>21.1118</td><td>21.2911</td></tr>\n",
       "<tr><td>449638</td><td>143.398803604</td><td>61.8151494188</td><td>24.196 .. 18.6944</td><td>2.03795 .. 0.0781759</td><td>19.2634</td><td>0.0337442</td><td>0.352911</td><td>0.0212159</td><td>1.23231</td><td>-1.0</td><td>-1.0</td><td>0.352911</td><td>0.393159</td><td>9.6301</td><td>2.57129</td><td>6.45707</td><td>1.89766</td><td>0.626219</td><td>1.26078</td><td>0.00393908</td><td>1.21107 .. 0.394976</td><td>0.670493 .. 0.0153621</td><td>0.61851 .. 0.0</td><td>2.19497</td><td>0.409135</td><td>0.0245891</td><td>1</td><td>0.137114</td><td>14120301500470551</td><td>1.77269</td><td>-2.25837</td><td>-0.485677</td><td>0.280863 .. 0.537408</td><td>0.000666354 .. 2.01772e-06</td><td>0</td><td>0.939328</td><td>143.398803604</td><td>61.8151494188</td><td>0.781151</td><td>5.26625</td><td>-600.046</td><td>79.1308</td><td>-3434.12</td><td>9.67629</td><td>0.767566</td><td>5</td><td>5</td><td>143.398803604 .. 143.353806902</td><td>61.8151494188 .. 61.8270010409</td><td>3200222 .. 3200214</td><td>9.6301 .. 3.92474</td><td>0.393182 .. 0.0</td><td>1.0 .. 1.0</td><td>0.812895 .. 0.0132324</td><td>0.0136829 .. 0.000222733</td><td>0.117672 .. 0.864789</td><td>0.47531</td><td>0.0694333 .. 0.121979</td><td>0.0137262 .. 0.000226495</td><td>1.295</td><td>5.92038</td><td>0.393182</td><td>0.0217849</td><td>88.424</td><td>20.9193</td><td>21.2911</td></tr>\n",
       "<tr><td>469002</td><td>141.661187499</td><td>-0.515480572129</td><td>20.1582 .. 19.1041</td><td>0.658407 .. 1.03646</td><td>18.5186</td><td>0.155272</td><td>0.334426</td><td>0.0892017</td><td>12.4853</td><td>-1.0</td><td>-1.0</td><td>0.334426</td><td>0.40708</td><td>10.0267</td><td>2.78024</td><td>14.2066</td><td>2.32068</td><td>0.631294</td><td>1.3515</td><td>0.0260892</td><td>2.18238 .. 0.389672</td><td>0.892606 .. 0.0167278</td><td>0.817955 .. 0.0</td><td>7.34168</td><td>0.423719</td><td>0.0253403</td><td>1</td><td>0.0427885</td><td>7560301201730005</td><td>1.64877</td><td>0.797255</td><td>2.44602</td><td>0.258953 .. 0.588486</td><td>1.09931e-05 .. 1.21465e-05</td><td>0</td><td>0.946941</td><td>141.661187499</td><td>-0.515480572129</td><td>0.907239</td><td>7.47554</td><td>-238.651</td><td>114.225</td><td>4408.96</td><td>10.0267</td><td>0.0</td><td>5</td><td>1</td><td>141.661187499 .. 141.691932472</td><td>-0.515480572129 .. -0.517752270886</td><td>470431 .. 470479</td><td>10.0267 .. 0.0</td><td>0.407146 .. 0.0</td><td>1.0 .. 1.0</td><td>0.99017 .. 9.2141e-05</td><td>0.420557 .. 3.91352e-05</td><td>0.00733365 .. 0.475222</td><td>-0.490169</td><td>0.00249617 .. 0.524686</td><td>0.42232 .. 6.8025e-05</td><td>2.79659</td><td>7.10708</td><td>0.407146</td><td>0.0229524</td><td>83.3988</td><td>20.8906</td><td>21.2911</td></tr>\n",
       "<tr><td>495576</td><td>127.294888237</td><td>52.8868771168</td><td>21.3552 .. 18.5178</td><td>0.173589 .. 0.045816</td><td>18.752</td><td>0.0204713</td><td>0.333882</td><td>0.0178309</td><td>10.4219</td><td>-1.0</td><td>-1.0</td><td>0.333882</td><td>0.333756</td><td>7.31135</td><td>1.90989</td><td>2.23144</td><td>0.905373</td><td>0.592652</td><td>1.00656</td><td>0.0</td><td>0.989877 .. 0.378633</td><td>0.692062 .. 0.0221336</td><td>0.616758 .. 0.0</td><td>10.3764</td><td>0.348182</td><td>0.0295938</td><td>1</td><td>0.137114</td><td>13500301501640338</td><td>1.48801</td><td>1.61732</td><td>3.10532</td><td>0.183025 .. 0.513338</td><td>8.45335e-13 .. 1.04685e-05</td><td>0</td><td>0.888977</td><td>127.294888237</td><td>52.8868771168</td><td>0.922903</td><td>13.3734</td><td>-178.714</td><td>52.1448</td><td>-228.641</td><td>7.31135</td><td>0.0</td><td>5</td><td>1</td><td>127.294888237 .. 127.330148829</td><td>52.8868771168 .. 52.8964237944</td><td>2738655 .. 3303746</td><td>7.31135 .. 0.0</td><td>0.333781 .. 0.0</td><td>1.0 .. 1.0</td><td>0.999999 .. 6.7352e-08</td><td>0.172878 .. 1.16437e-08</td><td>2.62776e-07 .. 0.998859</td><td>0.0610566</td><td>1.10813e-06 .. 0.00114114</td><td>0.172878 .. 1.40774e-08</td><td>1.40135</td><td>3.82026</td><td>0.333781</td><td>0.0267323</td><td>74.5509</td><td>20.7738</td><td>21.2911</td></tr>\n",
       "<tr><td>517809</td><td>342.850957144</td><td>28.549646032</td><td>22.8875 .. 19.7043</td><td>0.539477 .. 0.14266</td><td>19.8064</td><td>0.0495935</td><td>0.505329</td><td>0.0204215</td><td>2.36485</td><td>-1.0</td><td>-1.0</td><td>0.505329</td><td>0.505283</td><td>11.4454</td><td>4.41626</td><td>10.6064</td><td>2.71589</td><td>0.648226</td><td>2.09392</td><td>0.0</td><td>1.74645 .. 0.445085</td><td>0.760862 .. 0.0228084</td><td>0.698366 .. 0.0</td><td>2.28856</td><td>0.515867</td><td>0.0341595</td><td>1</td><td>0.0421637</td><td>81620301401460680</td><td>1.3642</td><td>1.16077</td><td>2.52497</td><td>0.356967 .. 0.674768</td><td>2.42979e-05 .. 0.0265891</td><td>0</td><td>0.972339</td><td>342.850957144</td><td>28.549646032</td><td>1.01133</td><td>9.89747</td><td>-311.459</td><td>460.867</td><td>4250.4</td><td>11.3664</td><td>0.809584</td><td>5</td><td>4</td><td>342.850957144 .. 342.832076865</td><td>28.549646032 .. 28.529856342</td><td>58349486 .. 58349482</td><td>11.4454 .. 4.26035</td><td>0.505181 .. 0.0</td><td>1.0 .. 1.0</td><td>0.943216 .. 0.00254648</td><td>0.167119 .. 0.000451185</td><td>0.013712 .. 0.613059</td><td>0.277406</td><td>0.0430723 .. 0.384394</td><td>0.168818 .. 0.000548039</td><td>1.44327</td><td>5.51794</td><td>0.505181</td><td>0.0321039</td><td>116.934</td><td>21.0967</td><td>21.2911</td></tr>\n",
       "<tr><td>549179</td><td>190.480737695</td><td>57.5718021671</td><td>22.9899 .. 18.7763</td><td>0.764751 .. 0.0681749</td><td>19.1744</td><td>0.0219829</td><td>0.460977</td><td>0.0464788</td><td>15.003</td><td>-1.0</td><td>-1.0</td><td>0.460977</td><td>0.500401</td><td>12.254</td><td>4.64384</td><td>6.36554</td><td>2.22254</td><td>0.657136</td><td>1.96784</td><td>0.0213795</td><td>1.09078 .. 0.46905</td><td>0.628273 .. 0.0202578</td><td>0.559888 .. 0.0</td><td>15.9472</td><td>0.511285</td><td>0.0243155</td><td>1</td><td>0.00991823</td><td>37120301401080745</td><td>1.20265</td><td>1.46236</td><td>2.665</td><td>0.342518 .. 0.680053</td><td>1.44662e-08 .. 6.51905e-05</td><td>0</td><td>0.985704</td><td>190.480737695</td><td>57.5718021671</td><td>0.920968</td><td>9.43304</td><td>209.271</td><td>286.591</td><td>-46054.9</td><td>11.8527</td><td>1.19906</td><td>5</td><td>2</td><td>190.480737695 .. 190.527076325</td><td>57.5718021671 .. 57.5421817984</td><td>19356086 .. 19356181</td><td>12.254 .. 8.8521</td><td>0.500459 .. 0.0</td><td>1.0 .. 1.0</td><td>0.899232 .. 8.45394e-07</td><td>0.494371 .. 4.64772e-07</td><td>0.0552264 .. 0.999874</td><td>-1.07272</td><td>0.0455413 .. 0.000125145</td><td>0.523364 .. 1.0323e-06</td><td>2.52031</td><td>8.59649</td><td>0.500459</td><td>0.0215156</td><td>97.6038</td><td>21.0644</td><td>21.2911</td></tr>\n",
       "<tr><td>612883</td><td>190.749212949</td><td>35.0137135778</td><td>24.0088 .. 18.5333</td><td>1.23472 .. 0.0461694</td><td>18.8618</td><td>0.0163088</td><td>0.330918</td><td>0.01692</td><td>1.20123</td><td>-1.0</td><td>-1.0</td><td>0.330918</td><td>0.335717</td><td>5.20616</td><td>1.72203</td><td>1.86532</td><td>0.701486</td><td>0.553737</td><td>1.03233</td><td>0.0387486</td><td>1.18843 .. 0.364641</td><td>0.423622 .. 0.00571362</td><td>0.406332 .. 0.0</td><td>1.06998</td><td>0.349967</td><td>0.0288731</td><td>2</td><td>0.0156533</td><td>45760301404800207</td><td>0.906132</td><td>0.596704</td><td>1.50284</td><td>0.212092 .. 0.487842</td><td>1.12863e-08 .. 1.65894e-06</td><td>0</td><td>0.830605</td><td>190.749212949</td><td>35.0137135778</td><td>0.767557</td><td>6.52516</td><td>-985.765</td><td>20.5336</td><td>-4213.5</td><td>5.20616</td><td>0.0</td><td>5</td><td>1</td><td>190.749212949 .. 190.72873605</td><td>35.0137135778 .. 35.013096333</td><td>32091935 .. 32091866</td><td>5.20616 .. 0.0</td><td>0.335684 .. 0.0</td><td>0.924376 .. 0.924376</td><td>0.99866 .. 1.00126e-05</td><td>0.177556 .. 1.78019e-06</td><td>0.000384519 .. 0.999704</td><td>0.0253058</td><td>0.000955632 .. 0.000286313</td><td>0.177598 .. 2.16513e-06</td><td>1.28412</td><td>3.76362</td><td>0.335684</td><td>0.0259122</td><td>113.608</td><td>21.1733</td><td>21.2911</td></tr>\n",
       "</table>"
      ],
      "text/plain": [
       "<Table length=43>\n",
       "MEM_MATCH_ID       RA            DEC       ... LIM_LIMMAG LIM_LIMMAG_HARD\n",
       "   int32        float64        float64     ...  float32       float32    \n",
       "------------ ------------- --------------- ... ---------- ---------------\n",
       "       22471  155.76300038   57.5615379001 ...    21.1386         21.2911\n",
       "       30043  224.46574546   56.9384951721 ...    21.2009         21.2911\n",
       "       54556 131.248874873   57.0979488789 ...    20.6913         21.2911\n",
       "       63828 229.866575853   11.6052448738 ...     21.158         21.2911\n",
       "       85666 20.2430974665   11.6518175043 ...    20.8895         21.2911\n",
       "      103992 172.125800358   52.9486696844 ...    20.9642         21.2911\n",
       "      130002 138.661523896   51.9250405699 ...    21.0355         21.2911\n",
       "      145282 221.771688092   54.2201103797 ...    20.9963         21.2911\n",
       "      163434 176.835810591   60.0896418644 ...    21.1021         21.2911\n",
       "      163552  241.79566768   39.8825210251 ...     20.955         21.2911\n",
       "         ...           ...             ... ...        ...             ...\n",
       "      402444 131.332648574   50.9933014586 ...    21.0326         21.2911\n",
       "      415539 181.167056336   48.1933589386 ...    21.1162         21.2911\n",
       "      423387 202.177242725   0.62241670881 ...    21.0679         21.2911\n",
       "      425203 191.338957026    51.911202363 ...    21.1118         21.2911\n",
       "      449638 143.398803604   61.8151494188 ...    20.9193         21.2911\n",
       "      469002 141.661187499 -0.515480572129 ...    20.8906         21.2911\n",
       "      495576 127.294888237   52.8868771168 ...    20.7738         21.2911\n",
       "      517809 342.850957144    28.549646032 ...    21.0967         21.2911\n",
       "      549179 190.480737695   57.5718021671 ...    21.0644         21.2911\n",
       "      612883 190.749212949   35.0137135778 ...    21.1733         21.2911"
      ]
     },
     "execution_count": 10,
     "metadata": {},
     "output_type": "execute_result"
    }
   ],
   "source": [
    "notmissing = np.where(np.in1d(rm['MEM_MATCH_ID'], oo['REDMAPPER_ID']))[0]\n",
    "missing = np.where(~np.in1d(rm['MEM_MATCH_ID'], oo['REDMAPPER_ID']))[0]\n",
    "print('The following {} objects did not match on their original ObjID:'.format(len(missing)))\n",
    "rm[missing]"
   ]
  },
  {
   "cell_type": "code",
   "execution_count": 11,
   "metadata": {},
   "outputs": [
    {
     "name": "stdout",
     "output_type": "stream",
     "text": [
      "For the record, the missing ObjIDs are:\n",
      "[1237655109445091465 1237671769071681808 1237663546367934799\n",
      " 1237662637981565474 1237678919139590184 1237657858218524958\n",
      " 1237654381441122664 1237659149922140393 1237658312402404334\n",
      " 1237661386541498820 1237679454922866959 1237659133280059619\n",
      " 1237655369292448339 1237651714797535660 1237678860072453257\n",
      " 1237661150302765337 1237663787424940393 1237651537650254379\n",
      " 1237662198821815431 1237658609294246073 1237654398081237216\n",
      " 1237671766925377740 1237667536402907288 1237667916489490609\n",
      " 1237651495224410309 1237667141793153337 1237651191363404083\n",
      " 1237657770172416324 1237651271366607031 1237653613183631782\n",
      " 1237668365315540259 1237663547439448844 1237651271887618529\n",
      " 1237651250411930107 1237661435381023131 1237648705122206096\n",
      " 1237657628994044375 1237651539778011687 1237648720677109765\n",
      " 1237651273497706834 1237680530276876968 1237661417669919465\n",
      " 1237665128546042063]\n"
     ]
    }
   ],
   "source": [
    "print('For the record, the missing ObjIDs are:')\n",
    "print(objid[missing])"
   ]
  },
  {
   "cell_type": "code",
   "execution_count": 12,
   "metadata": {
    "collapsed": true
   },
   "outputs": [],
   "source": [
    "xml = True\n",
    "if xml:\n",
    "    suffix = 'xml'\n",
    "else:\n",
    "    suffix = 'txt'"
   ]
  },
  {
   "cell_type": "code",
   "execution_count": 13,
   "metadata": {},
   "outputs": [
    {
     "name": "stdout",
     "output_type": "stream",
     "text": [
      "CasJobs file /Users/ioannis/research/data/redmapper/v6.3.1/casjobs/redmapper_missing_in.xml exists.\n"
     ]
    }
   ],
   "source": [
    "missingfile = os.path.join( os.getenv('REDMAPPER_DIR'), rmversion, 'casjobs',\n",
    "                           'redmapper_missing_in.{}'.format(suffix) )\n",
    "if os.path.isfile(missingfile):\n",
    "    print('CasJobs file {} exists.'.format(missingfile))\n",
    "else:\n",
    "    print('Writing {}'.format(missingfile))\n",
    "    if xml:\n",
    "        from astropy.io import votable\n",
    "        out = Table()\n",
    "        out.add_column(Column(data=rm['MEM_MATCH_ID'][missing], name='redmapper_id'))\n",
    "        out.add_column(Column(data=objid[missing], name='redmapper_objid'))\n",
    "        out.add_column(Column(data=rm['RA'][missing], name='redmapper_ra'))\n",
    "        out.add_column(Column(data=rm['DEC'][missing], name='redmapper_dec'))\n",
    "        out_votable = votable.from_table(out)\n",
    "        votable.writeto(out_votable, missingfile)\n",
    "    else:\n",
    "        np.savetxt( missingfile, np.vstack( [ [rm['MEM_MATCH_ID'][missing]], [objid[missing]], \n",
    "                                             [rm['RA'][missing]], [rm['DEC'][missing]] ] ).T, \n",
    "                   header='redmapper_id redmapper_objid redmapper_ra redmapper_dec', \n",
    "                   fmt=('%i', '%i', '%16.10f', '%16.10f') )"
   ]
  },
  {
   "cell_type": "markdown",
   "metadata": {},
   "source": [
    "#### [3] Attempt to do a by-hand search for the last few missing objects.\n",
    "\n",
    "At this point we are still missing photometry for 8/43 objects, so we use [Navigate](http://skyserver.sdss.org/dr14/en/tools/chart/navi.aspx) to try to find them.  Although we find that we can recover ObjIDs for all of them, 4 have a *\"WARNING: This object's photometry may be unreliable. See the photometric flags below.\"*, and so these objects will not be matched when we execute our final SQL query in step [4].\n",
    "\n",
    "At the end of this step we gather all the updated ObjIDs."
   ]
  },
  {
   "cell_type": "code",
   "execution_count": 14,
   "metadata": {},
   "outputs": [
    {
     "name": "stdout",
     "output_type": "stream",
     "text": [
      "Read 43 objects from /Users/ioannis/research/data/redmapper/v6.3.1/casjobs/redmapper_missing_out.fits\n"
     ]
    }
   ],
   "source": [
    "missingoutfile = os.path.join( os.getenv('REDMAPPER_DIR'), rmversion, 'casjobs', \n",
    "                              'redmapper_missing_out.fits' )\n",
    "mm = Table(fitsio.read(missingoutfile, ext=1, upper=True))\n",
    "print('Read {} objects from {}'.format(len(mm), missingoutfile))"
   ]
  },
  {
   "cell_type": "code",
   "execution_count": 15,
   "metadata": {},
   "outputs": [
    {
     "name": "stdout",
     "output_type": "stream",
     "text": [
      "The following 8 objects are still missing ObjIDs:\n"
     ]
    },
    {
     "data": {
      "text/html": [
       "&lt;Table length=8&gt;\n",
       "<table id=\"table4654629776\" class=\"table-striped table-bordered table-condensed\">\n",
       "<thead><tr><th>REDMAPPER_ID</th><th>REDMAPPER_OBJID</th><th>REDMAPPER_RA</th><th>REDMAPPER_DEC</th><th>OBJID</th><th>RA</th><th>DEC</th><th>RUN</th><th>RERUN</th><th>CAMCOL</th></tr></thead>\n",
       "<thead><tr><th>int32</th><th>int64</th><th>float64</th><th>float64</th><th>int64</th><th>float64</th><th>float64</th><th>int16</th><th>int16</th><th>uint8</th></tr></thead>\n",
       "<tr><td>85666</td><td>1237678919139590184</td><td>20.2430974665</td><td>11.6518175043</td><td>-9223372036854775808</td><td>nan</td><td>nan</td><td>-32768</td><td>-32768</td><td>128</td></tr>\n",
       "<tr><td>145282</td><td>1237659149922140393</td><td>221.771688092</td><td>54.2201103797</td><td>-9223372036854775808</td><td>nan</td><td>nan</td><td>-32768</td><td>-32768</td><td>128</td></tr>\n",
       "<tr><td>163434</td><td>1237658312402404334</td><td>176.835810591</td><td>60.0896418644</td><td>-9223372036854775808</td><td>nan</td><td>nan</td><td>-32768</td><td>-32768</td><td>128</td></tr>\n",
       "<tr><td>202893</td><td>1237651537650254379</td><td>236.566132652</td><td>54.9171156958</td><td>-9223372036854775808</td><td>nan</td><td>nan</td><td>-32768</td><td>-32768</td><td>128</td></tr>\n",
       "<tr><td>365649</td><td>1237651271366607031</td><td>201.20658089</td><td>65.5829127834</td><td>-9223372036854775808</td><td>nan</td><td>nan</td><td>-32768</td><td>-32768</td><td>128</td></tr>\n",
       "<tr><td>398209</td><td>1237651271887618529</td><td>130.075945026</td><td>52.9345376097</td><td>-9223372036854775808</td><td>nan</td><td>nan</td><td>-32768</td><td>-32768</td><td>128</td></tr>\n",
       "<tr><td>425203</td><td>1237657628994044375</td><td>191.338957026</td><td>51.911202363</td><td>-9223372036854775808</td><td>nan</td><td>nan</td><td>-32768</td><td>-32768</td><td>128</td></tr>\n",
       "<tr><td>469002</td><td>1237648720677109765</td><td>141.661187499</td><td>-0.515480572129</td><td>-9223372036854775808</td><td>nan</td><td>nan</td><td>-32768</td><td>-32768</td><td>128</td></tr>\n",
       "</table>"
      ],
      "text/plain": [
       "<Table length=8>\n",
       "REDMAPPER_ID   REDMAPPER_OBJID    REDMAPPER_RA ...  RUN   RERUN  CAMCOL\n",
       "   int32            int64           float64    ... int16  int16  uint8 \n",
       "------------ ------------------- ------------- ... ------ ------ ------\n",
       "       85666 1237678919139590184 20.2430974665 ... -32768 -32768    128\n",
       "      145282 1237659149922140393 221.771688092 ... -32768 -32768    128\n",
       "      163434 1237658312402404334 176.835810591 ... -32768 -32768    128\n",
       "      202893 1237651537650254379 236.566132652 ... -32768 -32768    128\n",
       "      365649 1237651271366607031  201.20658089 ... -32768 -32768    128\n",
       "      398209 1237651271887618529 130.075945026 ... -32768 -32768    128\n",
       "      425203 1237657628994044375 191.338957026 ... -32768 -32768    128\n",
       "      469002 1237648720677109765 141.661187499 ... -32768 -32768    128"
      ]
     },
     "execution_count": 15,
     "metadata": {},
     "output_type": "execute_result"
    }
   ],
   "source": [
    "stillnotmissing = np.where(mm['OBJID'] > 0)[0]\n",
    "stillmissing = np.where(mm['OBJID'] < 0)[0]\n",
    "print('The following {} objects are still missing ObjIDs:'.format(len(stillmissing)))\n",
    "mm[stillmissing]"
   ]
  },
  {
   "cell_type": "markdown",
   "metadata": {},
   "source": [
    "The original (\"old\") and updated (\"new\") ObjIDs were found by doing a nearest search query using Navigate.  The objects flagged \"BAD\" have a \"this object's photometry may be unreliable\" warning."
   ]
  },
  {
   "cell_type": "code",
   "execution_count": 16,
   "metadata": {
    "collapsed": true
   },
   "outputs": [],
   "source": [
    "oldandnew = [ \n",
    "    (1237678919139590184, 1237678858480255092, 'OK'),\n",
    "    (1237659149922140393, 1237659149922140394, 'BAD'),\n",
    "    (1237658312402404334, 1237658312402404326, 'OK'),\n",
    "    (1237651537650254379, 1237651537650254378, 'OK'),\n",
    "    (1237651271366607031, 1237651271366607032, 'BAD'),\n",
    "    (1237651271887618529, 1237651700840923446, 'BAD'),\n",
    "    (1237657628994044375, 1237657628994044078, 'OK'),\n",
    "    (1237648720677109765, 1237648720677044442, 'BAD')\n",
    "]             "
   ]
  },
  {
   "cell_type": "code",
   "execution_count": 17,
   "metadata": {
    "collapsed": true
   },
   "outputs": [],
   "source": [
    "newobjid = np.zeros_like(objid)\n",
    "newobjid[notmissing] = objid[notmissing]\n",
    "newobjid[missing[stillnotmissing]] = mm['OBJID'][stillnotmissing].data\n",
    "for indx, oandn in zip( missing[stillmissing], oldandnew ):\n",
    "    newobjid[indx] = oandn[1]\n",
    "assert(np.sum(newobjid == 0) == 0)"
   ]
  },
  {
   "cell_type": "markdown",
   "metadata": {},
   "source": [
    "#### [4] Gather the final SDSS + unWISE photometry.\n",
    "\n",
    "Finally, we construct one more CasJobs input file with the updated ObjIDs and request the full set of SDSS (*ugriz*) and unWISE (*W1W2*) forced photometry by executing the following query.  We call the input table \"redmapper_newobjid\" and the output (FITS) table \"redmapper_sdssWisephot.fits\".\n",
    "\n",
    "In the final step we read the output FITS table, collect all the photometry (converted into *sdsswise_maggies* and *sdsswise_ivarmaggies*), and write out the final photometric table.\n",
    "\n",
    "```SQL\n",
    "SELECT\n",
    "  m.redmapper_id,\n",
    "  m.redmapper_objid,\n",
    "  p.objid,\n",
    "  p.ra,\n",
    "  p.dec,\n",
    "  p.run,\n",
    "  p.rerun,\n",
    "  p.camcol,\n",
    "  p.field,\n",
    "  p.type,\n",
    "  p.petromag_u,\n",
    "  p.petromag_g,\n",
    "  p.petromag_r,\n",
    "  p.petromag_i,\n",
    "  p.petromag_z,\n",
    "  p.petromagerr_u,\n",
    "  p.petromagerr_g,\n",
    "  p.petromagerr_r,\n",
    "  p.petromagerr_i,\n",
    "  p.petromagerr_z,\n",
    "  p.modelmag_u,\n",
    "  p.modelmag_g,\n",
    "  p.modelmag_r,\n",
    "  p.modelmag_i,\n",
    "  p.modelmag_z,\n",
    "  p.modelmagerr_u,\n",
    "  p.modelmagerr_g,\n",
    "  p.modelmagerr_r,\n",
    "  p.modelmagerr_i,\n",
    "  p.modelmagerr_z,\n",
    "  p.cmodelmag_u,\n",
    "  p.cmodelmag_g,\n",
    "  p.cmodelmag_r,\n",
    "  p.cmodelmag_i,\n",
    "  p.cmodelmag_z,\n",
    "  p.cmodelmagerr_u,\n",
    "  p.cmodelmagerr_g,\n",
    "  p.cmodelmagerr_r,\n",
    "  p.cmodelmagerr_i,\n",
    "  p.cmodelmagerr_z,\n",
    "  p.extinction_u,\n",
    "  p.extinction_g,\n",
    "  p.extinction_r,\n",
    "  p.extinction_i,\n",
    "  p.extinction_z,\n",
    "  p.petroR50_u,\n",
    "  p.petroR50_g,\n",
    "  p.petroR50_r,\n",
    "  p.petroR50_i,\n",
    "  p.petroR50_z,\n",
    "  f.w1_nanomaggies,\n",
    "  f.w1_nanomaggies_ivar,\n",
    "  f.w2_nanomaggies,\n",
    "  f.w2_nanomaggies_ivar\n",
    "INTO mydb.redmapper_sdssWISEphot from mydb.redmapper_newobjid as m\n",
    "  JOIN dr14.PhotoObj AS p ON m.redmapper_objid=p.objid\n",
    "  JOIN dr14.wiseForcedTarget AS f ON m.redmapper_objid=f.objid\n",
    "ORDER BY m.redmapper_id\n",
    "```"
   ]
  },
  {
   "cell_type": "code",
   "execution_count": 18,
   "metadata": {},
   "outputs": [
    {
     "name": "stdout",
     "output_type": "stream",
     "text": [
      "CasJobs file /Users/ioannis/research/data/redmapper/v6.3.1/casjobs/redmapper_newobjid.txt exists.\n"
     ]
    }
   ],
   "source": [
    "finalcasfile = os.path.join( os.getenv('REDMAPPER_DIR'), rmversion, 'casjobs', \n",
    "                       'redmapper_newobjid.txt'.format(rmversion) )\n",
    "if os.path.isfile(finalcasfile):\n",
    "    print('CasJobs file {} exists.'.format(finalcasfile))\n",
    "else:\n",
    "    print('Writing {}'.format(finalcasfile))\n",
    "    np.savetxt( finalcasfile, np.vstack( [ [rm['MEM_MATCH_ID']], [newobjid] ] ).T, \n",
    "               header='redmapper_id redmapper_objid', fmt=('%i', '%i') )"
   ]
  },
  {
   "cell_type": "code",
   "execution_count": 28,
   "metadata": {},
   "outputs": [
    {
     "data": {
      "text/html": [
       "&lt;Table length=3&gt;\n",
       "<table id=\"table4654626688\" class=\"table-striped table-bordered table-condensed\">\n",
       "<thead><tr><th>REDMAPPER_ID</th><th>REDMAPPER_OBJID</th><th>OBJID</th><th>RA</th><th>DEC</th><th>RUN</th><th>RERUN</th><th>CAMCOL</th><th>FIELD</th><th>TYPE</th><th>PETROMAG_U</th><th>PETROMAG_G</th><th>PETROMAG_R</th><th>PETROMAG_I</th><th>PETROMAG_Z</th><th>PETROMAGERR_U</th><th>PETROMAGERR_G</th><th>PETROMAGERR_R</th><th>PETROMAGERR_I</th><th>PETROMAGERR_Z</th><th>MODELMAG_U</th><th>MODELMAG_G</th><th>MODELMAG_R</th><th>MODELMAG_I</th><th>MODELMAG_Z</th><th>MODELMAGERR_U</th><th>MODELMAGERR_G</th><th>MODELMAGERR_R</th><th>MODELMAGERR_I</th><th>MODELMAGERR_Z</th><th>CMODELMAG_U</th><th>CMODELMAG_G</th><th>CMODELMAG_R</th><th>CMODELMAG_I</th><th>CMODELMAG_Z</th><th>CMODELMAGERR_U</th><th>CMODELMAGERR_G</th><th>CMODELMAGERR_R</th><th>CMODELMAGERR_I</th><th>CMODELMAGERR_Z</th><th>EXTINCTION_U</th><th>EXTINCTION_G</th><th>EXTINCTION_R</th><th>EXTINCTION_I</th><th>EXTINCTION_Z</th><th>PETROR50_U</th><th>PETROR50_G</th><th>PETROR50_R</th><th>PETROR50_I</th><th>PETROR50_Z</th><th>W1_NANOMAGGIES</th><th>W1_NANOMAGGIES_IVAR</th><th>W2_NANOMAGGIES</th><th>W2_NANOMAGGIES_IVAR</th></tr></thead>\n",
       "<thead><tr><th>int32</th><th>int64</th><th>int64</th><th>float64</th><th>float64</th><th>int16</th><th>int16</th><th>uint8</th><th>int16</th><th>int16</th><th>float32</th><th>float32</th><th>float32</th><th>float32</th><th>float32</th><th>float32</th><th>float32</th><th>float32</th><th>float32</th><th>float32</th><th>float32</th><th>float32</th><th>float32</th><th>float32</th><th>float32</th><th>float32</th><th>float32</th><th>float32</th><th>float32</th><th>float32</th><th>float32</th><th>float32</th><th>float32</th><th>float32</th><th>float32</th><th>float32</th><th>float32</th><th>float32</th><th>float32</th><th>float32</th><th>float32</th><th>float32</th><th>float32</th><th>float32</th><th>float32</th><th>float32</th><th>float32</th><th>float32</th><th>float32</th><th>float32</th><th>float32</th><th>float32</th><th>float32</th><th>float32</th></tr></thead>\n",
       "<tr><td>1</td><td>1237662340012638224</td><td>1237662340012638224</td><td>239.583335437</td><td>27.2334095464</td><td>3927</td><td>301</td><td>2</td><td>85</td><td>3</td><td>17.5465</td><td>15.6517</td><td>14.3831</td><td>14.0365</td><td>13.4203</td><td>0.44279</td><td>0.504623</td><td>0.291299</td><td>0.34572</td><td>0.198605</td><td>18.0029</td><td>15.5808</td><td>14.5237</td><td>14.0696</td><td>13.6932</td><td>0.0495716</td><td>0.00378445</td><td>0.00272018</td><td>0.00269827</td><td>0.00515177</td><td>18.8245</td><td>15.6245</td><td>14.5237</td><td>14.0704</td><td>13.732</td><td>0.0504125</td><td>0.00378317</td><td>0.00272018</td><td>0.00269815</td><td>0.00514835</td><td>0.187233</td><td>0.145891</td><td>0.100927</td><td>0.0749992</td><td>0.0557857</td><td>101.315</td><td>14.1118</td><td>19.4193</td><td>16.3806</td><td>25.6271</td><td>39647.6</td><td>0.000414198</td><td>42470.3</td><td>4.17227e-05</td></tr>\n",
       "<tr><td>2</td><td>1237651715872325879</td><td>1237651715872325879</td><td>250.082552977</td><td>46.7114748935</td><td>1453</td><td>301</td><td>5</td><td>57</td><td>3</td><td>19.2839</td><td>18.5895</td><td>16.9755</td><td>16.5143</td><td>16.7465</td><td>0.206395</td><td>0.0760255</td><td>0.0436355</td><td>0.0530121</td><td>0.184338</td><td>19.9227</td><td>18.065</td><td>16.6064</td><td>16.096</td><td>15.8425</td><td>0.144945</td><td>0.0142664</td><td>0.00695238</td><td>0.00729464</td><td>0.0193181</td><td>18.7568</td><td>18.3783</td><td>16.8196</td><td>16.3372</td><td>16.4022</td><td>0.12663</td><td>0.0147585</td><td>0.00719107</td><td>0.0075439</td><td>0.0197254</td><td>0.102034</td><td>0.0795039</td><td>0.0550005</td><td>0.0408712</td><td>0.0304007</td><td>10.4942</td><td>3.68733</td><td>4.49805</td><td>4.2099</td><td>2.44081</td><td>7234.43</td><td>0.00300798</td><td>8665.86</td><td>0.000288756</td></tr>\n",
       "<tr><td>3</td><td>1237655500272500810</td><td>1237655500272500810</td><td>197.872956459</td><td>-1.3411176982</td><td>2334</td><td>301</td><td>6</td><td>13</td><td>3</td><td>30.0147</td><td>17.3442</td><td>16.0537</td><td>15.5904</td><td>17.4143</td><td>0.591237</td><td>0.677505</td><td>0.479361</td><td>0.355125</td><td>1.58031</td><td>20.5783</td><td>17.005</td><td>15.7668</td><td>15.3216</td><td>15.09</td><td>0.495789</td><td>0.0101349</td><td>0.00550487</td><td>0.00531618</td><td>0.0141083</td><td>21.8224</td><td>17.1378</td><td>15.8484</td><td>15.458</td><td>15.8316</td><td>0.420521</td><td>0.0104665</td><td>0.00561052</td><td>0.00549334</td><td>0.0143531</td><td>0.114984</td><td>0.0895949</td><td>0.0619813</td><td>0.0460588</td><td>0.0342593</td><td>-9999.0</td><td>6.99923</td><td>7.68177</td><td>7.68803</td><td>1.21615</td><td>12584.4</td><td>0.000359241</td><td>14754.4</td><td>3.38049e-05</td></tr>\n",
       "</table>"
      ],
      "text/plain": [
       "<Table length=3>\n",
       "REDMAPPER_ID   REDMAPPER_OBJID   ... W2_NANOMAGGIES W2_NANOMAGGIES_IVAR\n",
       "   int32            int64        ...    float32           float32      \n",
       "------------ ------------------- ... -------------- -------------------\n",
       "           1 1237662340012638224 ...        42470.3         4.17227e-05\n",
       "           2 1237651715872325879 ...        8665.86         0.000288756\n",
       "           3 1237655500272500810 ...        14754.4         3.38049e-05"
      ]
     },
     "execution_count": 28,
     "metadata": {},
     "output_type": "execute_result"
    }
   ],
   "source": [
    "inphotfile = os.path.join( os.getenv('REDMAPPER_DIR'), rmversion, 'casjobs',\n",
    "                          'redmapper_sdssWISEphot.fits' )\n",
    "inphot = Table(fitsio.read(inphotfile, ext=1, upper=True))\n",
    "inphot[:3]"
   ]
  },
  {
   "cell_type": "code",
   "execution_count": 42,
   "metadata": {
    "collapsed": true
   },
   "outputs": [],
   "source": [
    "match = np.in1d(rm['MEM_MATCH_ID'], inphot['REDMAPPER_ID'])\n",
    "matchindx = np.where(match)[0]\n",
    "missindx = np.where(~match)[0]"
   ]
  },
  {
   "cell_type": "code",
   "execution_count": 65,
   "metadata": {},
   "outputs": [
    {
     "name": "stdout",
     "output_type": "stream",
     "text": [
      "1237665550497087574 1237665550497087574\n",
      "11.201680771\n"
     ]
    },
    {
     "data": {
      "text/html": [
       "&lt;Row index=288&gt;\n",
       "<table id=\"table4871346832\">\n",
       "<thead><tr><th>MEM_MATCH_ID</th><th>RA</th><th>DEC</th><th>MODEL_MAG [5]</th><th>MODEL_MAGERR [5]</th><th>IMAG</th><th>IMAG_ERR</th><th>ZRED</th><th>ZRED_E</th><th>ZRED_CHISQ</th><th>BCG_SPEC_Z</th><th>Z_SPEC_INIT</th><th>Z_INIT</th><th>Z</th><th>LAMBDA_CHISQ</th><th>LAMBDA_CHISQ_E</th><th>LAMBDA_ZRED</th><th>LAMBDA_ZRED_E</th><th>R_LAMBDA</th><th>SCALEVAL</th><th>MASKFRAC</th><th>C_LAMBDA [4]</th><th>C_LAMBDA_ERR [4]</th><th>MAG_LAMBDA_ERR [5]</th><th>CHISQ</th><th>Z_LAMBDA</th><th>Z_LAMBDA_E</th><th>Z_LAMBDA_NITER</th><th>EBV_MEAN</th><th>PHOTOID</th><th>LNLAMLIKE</th><th>LNBCGLIKE</th><th>LNLIKE</th><th>PZBINS [21]</th><th>PZ [21]</th><th>NCROSS</th><th>RMASK</th><th>RA_ORIG</th><th>DEC_ORIG</th><th>W</th><th>DLAMBDA_DZ</th><th>DLAMBDA_DZ2</th><th>DLAMBDAVAR_DZ</th><th>DLAMBDAVAR_DZ2</th><th>LAMBDA_CHISQ_C</th><th>LAMBDA_CHISQ_CE</th><th>NCENT</th><th>NCENT_GOOD</th><th>RA_CENT [5]</th><th>DEC_CENT [5]</th><th>ID_CENT [5]</th><th>LAMBDA_CHISQ_CENT [5]</th><th>ZLAMBDA_CENT [5]</th><th>P_BCG [5]</th><th>P_CEN [5]</th><th>Q_CEN [5]</th><th>P_FG [5]</th><th>Q_MISS</th><th>P_SAT [5]</th><th>P_C [5]</th><th>BCG_ILUM</th><th>ILUM</th><th>Z_LAMBDA_RAW</th><th>Z_LAMBDA_E_RAW</th><th>LIM_EXPTIME</th><th>LIM_LIMMAG</th><th>LIM_LIMMAG_HARD</th></tr></thead>\n",
       "<thead><tr><th>int32</th><th>float64</th><th>float64</th><th>float32</th><th>float32</th><th>float32</th><th>float32</th><th>float32</th><th>float32</th><th>float32</th><th>float32</th><th>float32</th><th>float32</th><th>float32</th><th>float32</th><th>float32</th><th>float32</th><th>float32</th><th>float32</th><th>float32</th><th>float32</th><th>float32</th><th>float32</th><th>float32</th><th>float32</th><th>float32</th><th>float32</th><th>int16</th><th>float32</th><th>int64</th><th>float32</th><th>float32</th><th>float32</th><th>float32</th><th>float32</th><th>int16</th><th>float32</th><th>float64</th><th>float64</th><th>float32</th><th>float32</th><th>float32</th><th>float32</th><th>float32</th><th>float32</th><th>float32</th><th>int16</th><th>int16</th><th>float64</th><th>float64</th><th>int32</th><th>float32</th><th>float32</th><th>float32</th><th>float32</th><th>float32</th><th>float32</th><th>float32</th><th>float32</th><th>float32</th><th>float32</th><th>float32</th><th>float32</th><th>float32</th><th>float32</th><th>float32</th><th>float32</th></tr></thead>\n",
       "<tr><td>323</td><td>207.222021057</td><td>26.6037312594</td><td>24.1261 .. 24.3606</td><td>46.3856 .. 15.6893</td><td>13.0528</td><td>0.00295695</td><td>0.0419619</td><td>0.00512851</td><td>40.2777</td><td>-1.0</td><td>-1.0</td><td>0.0684658</td><td>0.0677752</td><td>65.3718</td><td>3.09624</td><td>56.9358</td><td>2.52719</td><td>0.918498</td><td>1.02909</td><td>0.0290002</td><td>1.82962 .. 0.30581</td><td>0.00165642 .. 9.3163e-05</td><td>0.00162599 .. 0.0</td><td>39.0813</td><td>0.0674913</td><td>0.00681548</td><td>1</td><td>0.020082</td><td>46740301600300086</td><td>135.39</td><td>-9.77649</td><td>125.614</td><td>0.0285449 .. 0.106438</td><td>3.72293e-06 .. 7.29338e-06</td><td>1</td><td>1.37775</td><td>207.2458751</td><td>26.5603041002</td><td>1.00809</td><td>31.2637</td><td>-1029.49</td><td>258.214</td><td>19356.0</td><td>65.3718</td><td>0.0</td><td>5</td><td>1</td><td>207.222021057 .. 207.231327411</td><td>26.6037312594 .. 26.6167576479</td><td>34539220 .. 34539211</td><td>65.3718 .. 0.0</td><td>0.066543 .. 0.0</td><td>1.0 .. 1.0</td><td>0.990908 .. 0.000928412</td><td>0.000201754 .. 1.8903e-07</td><td>0.00909182 .. 0.208153</td><td>0.113354</td><td>3.32868e-07 .. 0.790919</td><td>0.000201755 .. 1.89068e-07</td><td>7.96529</td><td>40.7377</td><td>0.066543</td><td>0.00237463</td><td>101.604</td><td>21.0892</td><td>21.2911</td></tr>\n",
       "</table>"
      ],
      "text/plain": [
       "<Row index=288>\n",
       "MEM_MATCH_ID       RA           DEC        MODEL_MAG [5]     MODEL_MAGERR [5]    IMAG   IMAG_ERR     ZRED     ZRED_E   ZRED_CHISQ BCG_SPEC_Z Z_SPEC_INIT   Z_INIT      Z     LAMBDA_CHISQ LAMBDA_CHISQ_E LAMBDA_ZRED LAMBDA_ZRED_E R_LAMBDA SCALEVAL  MASKFRAC    C_LAMBDA [4]        C_LAMBDA_ERR [4]     MAG_LAMBDA_ERR [5]  CHISQ   Z_LAMBDA Z_LAMBDA_E Z_LAMBDA_NITER EBV_MEAN      PHOTOID      LNLAMLIKE LNBCGLIKE  LNLIKE      PZBINS [21]               PZ [21]           NCROSS  RMASK    RA_ORIG      DEC_ORIG      W    DLAMBDA_DZ DLAMBDA_DZ2 DLAMBDAVAR_DZ DLAMBDAVAR_DZ2 LAMBDA_CHISQ_C LAMBDA_CHISQ_CE NCENT NCENT_GOOD          RA_CENT [5]                    DEC_CENT [5]              ID_CENT [5]      LAMBDA_CHISQ_CENT [5] ZLAMBDA_CENT [5] P_BCG [5]         P_CEN [5]                Q_CEN [5]                P_FG [5]         Q_MISS         P_SAT [5]                 P_C [5]           BCG_ILUM   ILUM  Z_LAMBDA_RAW Z_LAMBDA_E_RAW LIM_EXPTIME LIM_LIMMAG LIM_LIMMAG_HARD\n",
       "   int32        float64       float64         float32            float32       float32  float32    float32   float32    float32    float32     float32    float32   float32    float32       float32       float32      float32    float32  float32   float32       float32               float32               float32       float32  float32   float32       int16      float32        int64        float32   float32  float32        float32                 float32           int16  float32   float64      float64    float32  float32     float32      float32       float32        float32         float32     int16   int16               float64                        float64                    int32                float32            float32       float32           float32                  float32                 float32         float32          float32                  float32           float32  float32   float32       float32       float32    float32       float32    \n",
       "------------ ------------- ------------- ------------------ ------------------ ------- ---------- --------- ---------- ---------- ---------- ----------- --------- --------- ------------ -------------- ----------- ------------- -------- -------- --------- ------------------ ------------------------ ------------------ ------- --------- ---------- -------------- -------- ----------------- --------- --------- ------- --------------------- -------------------------- ------ ------- ----------- ------------- ------- ---------- ----------- ------------- -------------- -------------- --------------- ----- ---------- ------------------------------ ------------------------------ -------------------- --------------------- ---------------- ---------- ----------------------- ------------------------- ---------------------- -------- ----------------------- -------------------------- -------- ------- ------------ -------------- ----------- ---------- ---------------\n",
       "         323 207.222021057 26.6037312594 24.1261 .. 24.3606 46.3856 .. 15.6893 13.0528 0.00295695 0.0419619 0.00512851    40.2777       -1.0        -1.0 0.0684658 0.0677752      65.3718        3.09624     56.9358       2.52719 0.918498  1.02909 0.0290002 1.82962 .. 0.30581 0.00165642 .. 9.3163e-05  0.00162599 .. 0.0 39.0813 0.0674913 0.00681548              1 0.020082 46740301600300086    135.39  -9.77649 125.614 0.0285449 .. 0.106438 3.72293e-06 .. 7.29338e-06      1 1.37775 207.2458751 26.5603041002 1.00809    31.2637    -1029.49       258.214        19356.0        65.3718             0.0     5          1 207.222021057 .. 207.231327411 26.6037312594 .. 26.6167576479 34539220 .. 34539211        65.3718 .. 0.0  0.066543 .. 0.0 1.0 .. 1.0 0.990908 .. 0.000928412 0.000201754 .. 1.8903e-07 0.00909182 .. 0.208153 0.113354 3.32868e-07 .. 0.790919 0.000201755 .. 1.89068e-07  7.96529 40.7377     0.066543     0.00237463     101.604    21.0892         21.2911"
      ]
     },
     "execution_count": 65,
     "metadata": {},
     "output_type": "execute_result"
    }
   ],
   "source": [
    "big = np.where( np.abs(3600 * (inphot['RA'] - rm['RA'][matchindx])) > 2 )[0]\n",
    "print(newobjid[matchindx[big[0]]], objid[matchindx[big[0]]])\n",
    "print(3600 * (rm['RA'][matchindx[big[0]]] - inphot['RA'][big[0]]))\n",
    "rm[matchindx[big[0]]]"
   ]
  },
  {
   "cell_type": "code",
   "execution_count": 66,
   "metadata": {},
   "outputs": [
    {
     "data": {
      "text/html": [
       "&lt;Row index=288&gt;\n",
       "<table id=\"table5664169656\">\n",
       "<thead><tr><th>REDMAPPER_ID</th><th>REDMAPPER_OBJID</th><th>OBJID</th><th>RA</th><th>DEC</th><th>RUN</th><th>RERUN</th><th>CAMCOL</th><th>FIELD</th><th>TYPE</th><th>PETROMAG_U</th><th>PETROMAG_G</th><th>PETROMAG_R</th><th>PETROMAG_I</th><th>PETROMAG_Z</th><th>PETROMAGERR_U</th><th>PETROMAGERR_G</th><th>PETROMAGERR_R</th><th>PETROMAGERR_I</th><th>PETROMAGERR_Z</th><th>MODELMAG_U</th><th>MODELMAG_G</th><th>MODELMAG_R</th><th>MODELMAG_I</th><th>MODELMAG_Z</th><th>MODELMAGERR_U</th><th>MODELMAGERR_G</th><th>MODELMAGERR_R</th><th>MODELMAGERR_I</th><th>MODELMAGERR_Z</th><th>CMODELMAG_U</th><th>CMODELMAG_G</th><th>CMODELMAG_R</th><th>CMODELMAG_I</th><th>CMODELMAG_Z</th><th>CMODELMAGERR_U</th><th>CMODELMAGERR_G</th><th>CMODELMAGERR_R</th><th>CMODELMAGERR_I</th><th>CMODELMAGERR_Z</th><th>EXTINCTION_U</th><th>EXTINCTION_G</th><th>EXTINCTION_R</th><th>EXTINCTION_I</th><th>EXTINCTION_Z</th><th>PETROR50_U</th><th>PETROR50_G</th><th>PETROR50_R</th><th>PETROR50_I</th><th>PETROR50_Z</th><th>W1_NANOMAGGIES</th><th>W1_NANOMAGGIES_IVAR</th><th>W2_NANOMAGGIES</th><th>W2_NANOMAGGIES_IVAR</th></tr></thead>\n",
       "<thead><tr><th>int32</th><th>int64</th><th>int64</th><th>float64</th><th>float64</th><th>int16</th><th>int16</th><th>uint8</th><th>int16</th><th>int16</th><th>float32</th><th>float32</th><th>float32</th><th>float32</th><th>float32</th><th>float32</th><th>float32</th><th>float32</th><th>float32</th><th>float32</th><th>float32</th><th>float32</th><th>float32</th><th>float32</th><th>float32</th><th>float32</th><th>float32</th><th>float32</th><th>float32</th><th>float32</th><th>float32</th><th>float32</th><th>float32</th><th>float32</th><th>float32</th><th>float32</th><th>float32</th><th>float32</th><th>float32</th><th>float32</th><th>float32</th><th>float32</th><th>float32</th><th>float32</th><th>float32</th><th>float32</th><th>float32</th><th>float32</th><th>float32</th><th>float32</th><th>float32</th><th>float32</th><th>float32</th><th>float32</th></tr></thead>\n",
       "<tr><td>323</td><td>1237665550497087574</td><td>1237665550497087574</td><td>207.218909479</td><td>26.596988347</td><td>4674</td><td>301</td><td>6</td><td>30</td><td>3</td><td>32.289</td><td>13.9279</td><td>13.3176</td><td>13.0647</td><td>30.9783</td><td>0.914105</td><td>0.118291</td><td>0.17754</td><td>0.0717011</td><td>0.877412</td><td>24.1605</td><td>13.8832</td><td>13.1921</td><td>12.8984</td><td>24.3415</td><td>43.6296</td><td>0.0030278</td><td>0.00271604</td><td>0.00294035</td><td>15.6225</td><td>24.3993</td><td>13.8372</td><td>13.1921</td><td>13.079</td><td>22.8269</td><td>18.1162</td><td>0.00302547</td><td>0.00271604</td><td>0.00295695</td><td>8.79525</td><td>0.0558673</td><td>0.0435314</td><td>0.0301148</td><td>0.0223785</td><td>0.0166455</td><td>-9999.0</td><td>30.2289</td><td>26.4058</td><td>25.1929</td><td>-9999.0</td><td>70458.5</td><td>3.62012e-06</td><td>74077.8</td><td>6.35559e-06</td></tr>\n",
       "</table>"
      ],
      "text/plain": [
       "<Row index=288>\n",
       "REDMAPPER_ID   REDMAPPER_OBJID          OBJID              RA          DEC       RUN  RERUN CAMCOL FIELD  TYPE PETROMAG_U PETROMAG_G PETROMAG_R PETROMAG_I PETROMAG_Z PETROMAGERR_U PETROMAGERR_G PETROMAGERR_R PETROMAGERR_I PETROMAGERR_Z MODELMAG_U MODELMAG_G MODELMAG_R MODELMAG_I MODELMAG_Z MODELMAGERR_U MODELMAGERR_G MODELMAGERR_R MODELMAGERR_I MODELMAGERR_Z CMODELMAG_U CMODELMAG_G CMODELMAG_R CMODELMAG_I CMODELMAG_Z CMODELMAGERR_U CMODELMAGERR_G CMODELMAGERR_R CMODELMAGERR_I CMODELMAGERR_Z EXTINCTION_U EXTINCTION_G EXTINCTION_R EXTINCTION_I EXTINCTION_Z PETROR50_U PETROR50_G PETROR50_R PETROR50_I PETROR50_Z W1_NANOMAGGIES W1_NANOMAGGIES_IVAR W2_NANOMAGGIES W2_NANOMAGGIES_IVAR\n",
       "   int32            int64               int64           float64      float64    int16 int16 uint8  int16 int16  float32    float32    float32    float32    float32      float32       float32       float32       float32       float32     float32    float32    float32    float32    float32      float32       float32       float32       float32       float32      float32     float32     float32     float32     float32      float32        float32        float32        float32        float32       float32      float32      float32      float32      float32     float32    float32    float32    float32    float32      float32           float32          float32           float32      \n",
       "------------ ------------------- ------------------- ------------- ------------ ----- ----- ------ ----- ----- ---------- ---------- ---------- ---------- ---------- ------------- ------------- ------------- ------------- ------------- ---------- ---------- ---------- ---------- ---------- ------------- ------------- ------------- ------------- ------------- ----------- ----------- ----------- ----------- ----------- -------------- -------------- -------------- -------------- -------------- ------------ ------------ ------------ ------------ ------------ ---------- ---------- ---------- ---------- ---------- -------------- ------------------- -------------- -------------------\n",
       "         323 1237665550497087574 1237665550497087574 207.218909479 26.596988347  4674   301      6    30     3     32.289    13.9279    13.3176    13.0647    30.9783      0.914105      0.118291       0.17754     0.0717011      0.877412    24.1605    13.8832    13.1921    12.8984    24.3415       43.6296     0.0030278    0.00271604    0.00294035       15.6225     24.3993     13.8372     13.1921      13.079     22.8269        18.1162     0.00302547     0.00271604     0.00295695        8.79525    0.0558673    0.0435314    0.0301148    0.0223785    0.0166455    -9999.0    30.2289    26.4058    25.1929    -9999.0        70458.5         3.62012e-06        74077.8         6.35559e-06"
      ]
     },
     "execution_count": 66,
     "metadata": {},
     "output_type": "execute_result"
    }
   ],
   "source": [
    "inphot[big[0]]"
   ]
  },
  {
   "cell_type": "code",
   "execution_count": 50,
   "metadata": {},
   "outputs": [
    {
     "data": {
      "image/png": "[encoded data removed]",
      "text/plain": [
       "<matplotlib.figure.Figure at 0x11af29e48>"
      ]
     },
     "metadata": {},
     "output_type": "display_data"
    }
   ],
   "source": [
    "import matplotlib.pyplot as plt\n",
    "plt.hist(3600 * (inphot['RA'] - rm['RA'][matchindx]), bins=100, range=(-1,1))\n",
    "plt.show()"
   ]
  },
  {
   "cell_type": "code",
   "execution_count": 25,
   "metadata": {},
   "outputs": [
    {
     "data": {
      "text/html": [
       "&lt;Table length=396047&gt;\n",
       "<table id=\"table4871347784\" class=\"table-striped table-bordered table-condensed\">\n",
       "<thead><tr><th>MEM_MATCH_ID</th><th>RA</th><th>DEC</th><th>OBJID</th><th>MAGGIES [7]</th><th>IVARMAGGIES [7]</th></tr></thead>\n",
       "<thead><tr><th>int32</th><th>float64</th><th>float64</th><th>int64</th><th>float32</th><th>float32</th></tr></thead>\n",
       "<tr><td>1</td><td>239.583329069</td><td>27.2334129178</td><td>1237662340012638224</td><td>0.0 .. 0.0</td><td>0.0 .. 0.0</td></tr>\n",
       "<tr><td>2</td><td>250.082548387</td><td>46.7115313536</td><td>1237651715872325879</td><td>0.0 .. 0.0</td><td>0.0 .. 0.0</td></tr>\n",
       "<tr><td>3</td><td>197.872957171</td><td>-1.34111627953</td><td>1237655500272500810</td><td>0.0 .. 0.0</td><td>0.0 .. 0.0</td></tr>\n",
       "<tr><td>4</td><td>230.600091876</td><td>27.7143690526</td><td>1237664852576633380</td><td>0.0 .. 0.0</td><td>0.0 .. 0.0</td></tr>\n",
       "<tr><td>5</td><td>137.300744635</td><td>10.9735949355</td><td>1237671260126576920</td><td>0.0 .. 0.0</td><td>0.0 .. 0.0</td></tr>\n",
       "<tr><td>6</td><td>203.833722679</td><td>41.0011464409</td><td>1237662306722447498</td><td>0.0 .. 0.0</td><td>0.0 .. 0.0</td></tr>\n",
       "<tr><td>7</td><td>8.03426455081</td><td>18.1070239389</td><td>1237678602382344780</td><td>0.0 .. 0.0</td><td>0.0 .. 0.0</td></tr>\n",
       "<tr><td>8</td><td>340.832475838</td><td>-9.59192010688</td><td>1237652599036837935</td><td>0.0 .. 0.0</td><td>0.0 .. 0.0</td></tr>\n",
       "<tr><td>9</td><td>150.558906081</td><td>20.5379493669</td><td>1237667541216985377</td><td>0.0 .. 0.0</td><td>0.0 .. 0.0</td></tr>\n",
       "<tr><td>10</td><td>8.02057272242</td><td>18.1799054125</td><td>1237678602382344729</td><td>0.0 .. 0.0</td><td>0.0 .. 0.0</td></tr>\n",
       "<tr><td>...</td><td>...</td><td>...</td><td>...</td><td>...</td><td>...</td></tr>\n",
       "<tr><td>956206</td><td>235.255460399</td><td>47.8529822811</td><td>1237659325487252226</td><td>0.0 .. 0.0</td><td>0.0 .. 0.0</td></tr>\n",
       "<tr><td>956255</td><td>194.237491223</td><td>45.120545605</td><td>1237661873480139652</td><td>0.0 .. 0.0</td><td>0.0 .. 0.0</td></tr>\n",
       "<tr><td>956266</td><td>169.295660674</td><td>4.03044999276</td><td>1237655124465746139</td><td>0.0 .. 0.0</td><td>0.0 .. 0.0</td></tr>\n",
       "<tr><td>956275</td><td>344.749891877</td><td>11.9550474097</td><td>1237678919661257094</td><td>0.0 .. 0.0</td><td>0.0 .. 0.0</td></tr>\n",
       "<tr><td>956293</td><td>345.229342429</td><td>-8.08252341645</td><td>1237680262383272132</td><td>0.0 .. 0.0</td><td>0.0 .. 0.0</td></tr>\n",
       "<tr><td>956305</td><td>158.802751689</td><td>26.9330305478</td><td>1237667253468791449</td><td>0.0 .. 0.0</td><td>0.0 .. 0.0</td></tr>\n",
       "<tr><td>956378</td><td>180.214380101</td><td>11.1018056425</td><td>1237660615588708796</td><td>0.0 .. 0.0</td><td>0.0 .. 0.0</td></tr>\n",
       "<tr><td>956448</td><td>213.925081111</td><td>27.8063164475</td><td>1237665443133718903</td><td>0.0 .. 0.0</td><td>0.0 .. 0.0</td></tr>\n",
       "<tr><td>956452</td><td>229.607215359</td><td>59.4948957146</td><td>1237671769610126089</td><td>0.0 .. 0.0</td><td>0.0 .. 0.0</td></tr>\n",
       "<tr><td>956456</td><td>135.169108815</td><td>1.12124855434</td><td>1237648722821710512</td><td>0.0 .. 0.0</td><td>0.0 .. 0.0</td></tr>\n",
       "</table>"
      ],
      "text/plain": [
       "<Table length=396047>\n",
       "MEM_MATCH_ID       RA           DEC       ... MAGGIES [7] IVARMAGGIES [7]\n",
       "   int32        float64       float64     ...   float32       float32    \n",
       "------------ ------------- -------------- ... ----------- ---------------\n",
       "           1 239.583329069  27.2334129178 ...  0.0 .. 0.0      0.0 .. 0.0\n",
       "           2 250.082548387  46.7115313536 ...  0.0 .. 0.0      0.0 .. 0.0\n",
       "           3 197.872957171 -1.34111627953 ...  0.0 .. 0.0      0.0 .. 0.0\n",
       "           4 230.600091876  27.7143690526 ...  0.0 .. 0.0      0.0 .. 0.0\n",
       "           5 137.300744635  10.9735949355 ...  0.0 .. 0.0      0.0 .. 0.0\n",
       "           6 203.833722679  41.0011464409 ...  0.0 .. 0.0      0.0 .. 0.0\n",
       "           7 8.03426455081  18.1070239389 ...  0.0 .. 0.0      0.0 .. 0.0\n",
       "           8 340.832475838 -9.59192010688 ...  0.0 .. 0.0      0.0 .. 0.0\n",
       "           9 150.558906081  20.5379493669 ...  0.0 .. 0.0      0.0 .. 0.0\n",
       "          10 8.02057272242  18.1799054125 ...  0.0 .. 0.0      0.0 .. 0.0\n",
       "         ...           ...            ... ...         ...             ...\n",
       "      956206 235.255460399  47.8529822811 ...  0.0 .. 0.0      0.0 .. 0.0\n",
       "      956255 194.237491223   45.120545605 ...  0.0 .. 0.0      0.0 .. 0.0\n",
       "      956266 169.295660674  4.03044999276 ...  0.0 .. 0.0      0.0 .. 0.0\n",
       "      956275 344.749891877  11.9550474097 ...  0.0 .. 0.0      0.0 .. 0.0\n",
       "      956293 345.229342429 -8.08252341645 ...  0.0 .. 0.0      0.0 .. 0.0\n",
       "      956305 158.802751689  26.9330305478 ...  0.0 .. 0.0      0.0 .. 0.0\n",
       "      956378 180.214380101  11.1018056425 ...  0.0 .. 0.0      0.0 .. 0.0\n",
       "      956448 213.925081111  27.8063164475 ...  0.0 .. 0.0      0.0 .. 0.0\n",
       "      956452 229.607215359  59.4948957146 ...  0.0 .. 0.0      0.0 .. 0.0\n",
       "      956456 135.169108815  1.12124855434 ...  0.0 .. 0.0      0.0 .. 0.0"
      ]
     },
     "execution_count": 25,
     "metadata": {},
     "output_type": "execute_result"
    }
   ],
   "source": [
    "outtable = Table()\n",
    "outtable.add_column(Column(data=rm['MEM_MATCH_ID']))\n",
    "outtable.add_column(Column(data=rm['RA']))\n",
    "outtable.add_column(Column(data=rm['DEC']))\n",
    "outtable.add_column(Column(data=objid, name='REDMAPPER_OBJID'))\n",
    "outtable.add_column(Column(data=newobjid, name='OBJID'))\n",
    "\n",
    "outtable.add_column(Column(name=, name='OBJID'))\n",
    "\n",
    "\n",
    "\n",
    "outtable.add_column(Column(name='MAGGIES', dtype='f4', shape=(7,), length=nobj))\n",
    "outtable.add_column(Column(name='IVARMAGGIES', dtype='f4', shape=(7,), length=nobj))\n",
    "#outtable"
   ]
  },
  {
   "cell_type": "code",
   "execution_count": 40,
   "metadata": {},
   "outputs": [
    {
     "data": {
      "text/plain": [
       "0"
      ]
     },
     "execution_count": 40,
     "metadata": {},
     "output_type": "execute_result"
    }
   ],
   "source": [
    "_run, _rerun, _camcol, _field, _id = unpack_objid(newobjid[indx])\n",
    "(_field - inphot['FIELD']).max()"
   ]
  },
  {
   "cell_type": "code",
   "execution_count": null,
   "metadata": {
    "collapsed": true
   },
   "outputs": [],
   "source": []
  },
  {
   "cell_type": "code",
   "execution_count": 27,
   "metadata": {},
   "outputs": [
    {
     "data": {
      "text/plain": [
       "dtype('uint8')"
      ]
     },
     "execution_count": 27,
     "metadata": {},
     "output_type": "execute_result"
    }
   ],
   "source": [
    "inphot['CAMCOL'].dtype"
   ]
  },
  {
   "cell_type": "code",
   "execution_count": null,
   "metadata": {
    "collapsed": true
   },
   "outputs": [],
   "source": [
    "outtable['']"
   ]
  },
  {
   "cell_type": "code",
   "execution_count": null,
   "metadata": {},
   "outputs": [],
   "source": [
    "outphotfile = os.path.join( os.getenv('REDMAPPER_DIR'), rmversion, \n",
    "                           'redmapper-{}-sdssWISEphot.fits'.format(rmversion) )\n",
    "if os.path.isfile(outphotfile):\n",
    "    print('Output photometry file {} exists.'.format(outphotfile))\n",
    "else:\n",
    "    print('Writing {}'.format(outphotfile))\n",
    "    Table.write(outphotfile)"
   ]
  },
  {
   "cell_type": "code",
   "execution_count": null,
   "metadata": {
    "collapsed": true
   },
   "outputs": [],
   "source": [
    "1237678858480255092"
   ]
  }
 ],
 "metadata": {
  "kernelspec": {
   "display_name": "Python 3",
   "language": "python",
   "name": "python3"
  },
  "language_info": {
   "codemirror_mode": {
    "name": "ipython",
    "version": 3
   },
   "file_extension": ".py",
   "mimetype": "text/x-python",
   "name": "python",
   "nbconvert_exporter": "python",
   "pygments_lexer": "ipython3",
   "version": "3.6.1"
  }
 },
 "nbformat": 4,
 "nbformat_minor": 2
}
